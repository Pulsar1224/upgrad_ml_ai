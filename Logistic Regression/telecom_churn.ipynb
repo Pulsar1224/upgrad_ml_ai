{
 "cells": [
  {
   "cell_type": "markdown",
   "metadata": {},
   "source": [
    "### Logistic Regression"
   ]
  },
  {
   "cell_type": "markdown",
   "metadata": {},
   "source": [
    "  "
   ]
  },
  {
   "cell_type": "markdown",
   "metadata": {},
   "source": [
    "### Telecom customer churn"
   ]
  },
  {
   "cell_type": "markdown",
   "metadata": {},
   "source": [
    " "
   ]
  },
  {
   "cell_type": "code",
   "execution_count": 94,
   "metadata": {},
   "outputs": [],
   "source": [
    "import pandas as pd\n",
    "import numpy as np\n",
    "import seaborn as sns\n",
    "import matplotlib.pyplot as plt\n",
    "from sklearn.model_selection import train_test_split\n",
    "import statsmodels.api as sm \n",
    "from sklearn import metrics\n",
    "from statsmodels.stats.outliers_influence import variance_inflation_factor"
   ]
  },
  {
   "cell_type": "code",
   "execution_count": 2,
   "metadata": {},
   "outputs": [],
   "source": [
    "churn_data = pd.read_csv('https://cdn.upgrad.com/UpGrad/temp/9b593e11-856c-4ab9-982d-931c4548aea2/churn_data.csv')\n",
    "internet_usage = pd.read_csv('https://cdn.upgrad.com/UpGrad/temp/c62c0489-fc52-4b8a-a464-b1f5c94304af/internet_data.csv')\n",
    "customer_data = pd.read_csv('https://cdn.upgrad.com/UpGrad/temp/f9ff4b35-a538-4910-9655-de03027f10b4/customer_data.csv')"
   ]
  },
  {
   "cell_type": "code",
   "execution_count": 3,
   "metadata": {},
   "outputs": [
    {
     "data": {
      "text/html": [
       "<div>\n",
       "<style scoped>\n",
       "    .dataframe tbody tr th:only-of-type {\n",
       "        vertical-align: middle;\n",
       "    }\n",
       "\n",
       "    .dataframe tbody tr th {\n",
       "        vertical-align: top;\n",
       "    }\n",
       "\n",
       "    .dataframe thead th {\n",
       "        text-align: right;\n",
       "    }\n",
       "</style>\n",
       "<table border=\"1\" class=\"dataframe\">\n",
       "  <thead>\n",
       "    <tr style=\"text-align: right;\">\n",
       "      <th></th>\n",
       "      <th>customerID</th>\n",
       "      <th>tenure</th>\n",
       "      <th>PhoneService</th>\n",
       "      <th>Contract</th>\n",
       "      <th>PaperlessBilling</th>\n",
       "      <th>PaymentMethod</th>\n",
       "      <th>MonthlyCharges</th>\n",
       "      <th>TotalCharges</th>\n",
       "      <th>Churn</th>\n",
       "    </tr>\n",
       "  </thead>\n",
       "  <tbody>\n",
       "    <tr>\n",
       "      <th>0</th>\n",
       "      <td>7590-VHVEG</td>\n",
       "      <td>1</td>\n",
       "      <td>No</td>\n",
       "      <td>Month-to-month</td>\n",
       "      <td>Yes</td>\n",
       "      <td>Electronic check</td>\n",
       "      <td>29.85</td>\n",
       "      <td>29.85</td>\n",
       "      <td>No</td>\n",
       "    </tr>\n",
       "    <tr>\n",
       "      <th>1</th>\n",
       "      <td>5575-GNVDE</td>\n",
       "      <td>34</td>\n",
       "      <td>Yes</td>\n",
       "      <td>One year</td>\n",
       "      <td>No</td>\n",
       "      <td>Mailed check</td>\n",
       "      <td>56.95</td>\n",
       "      <td>1889.5</td>\n",
       "      <td>No</td>\n",
       "    </tr>\n",
       "    <tr>\n",
       "      <th>2</th>\n",
       "      <td>3668-QPYBK</td>\n",
       "      <td>2</td>\n",
       "      <td>Yes</td>\n",
       "      <td>Month-to-month</td>\n",
       "      <td>Yes</td>\n",
       "      <td>Mailed check</td>\n",
       "      <td>53.85</td>\n",
       "      <td>108.15</td>\n",
       "      <td>Yes</td>\n",
       "    </tr>\n",
       "    <tr>\n",
       "      <th>3</th>\n",
       "      <td>7795-CFOCW</td>\n",
       "      <td>45</td>\n",
       "      <td>No</td>\n",
       "      <td>One year</td>\n",
       "      <td>No</td>\n",
       "      <td>Bank transfer (automatic)</td>\n",
       "      <td>42.30</td>\n",
       "      <td>1840.75</td>\n",
       "      <td>No</td>\n",
       "    </tr>\n",
       "    <tr>\n",
       "      <th>4</th>\n",
       "      <td>9237-HQITU</td>\n",
       "      <td>2</td>\n",
       "      <td>Yes</td>\n",
       "      <td>Month-to-month</td>\n",
       "      <td>Yes</td>\n",
       "      <td>Electronic check</td>\n",
       "      <td>70.70</td>\n",
       "      <td>151.65</td>\n",
       "      <td>Yes</td>\n",
       "    </tr>\n",
       "  </tbody>\n",
       "</table>\n",
       "</div>"
      ],
      "text/plain": [
       "   customerID  tenure PhoneService        Contract PaperlessBilling  \\\n",
       "0  7590-VHVEG       1           No  Month-to-month              Yes   \n",
       "1  5575-GNVDE      34          Yes        One year               No   \n",
       "2  3668-QPYBK       2          Yes  Month-to-month              Yes   \n",
       "3  7795-CFOCW      45           No        One year               No   \n",
       "4  9237-HQITU       2          Yes  Month-to-month              Yes   \n",
       "\n",
       "               PaymentMethod  MonthlyCharges TotalCharges Churn  \n",
       "0           Electronic check           29.85        29.85    No  \n",
       "1               Mailed check           56.95       1889.5    No  \n",
       "2               Mailed check           53.85       108.15   Yes  \n",
       "3  Bank transfer (automatic)           42.30      1840.75    No  \n",
       "4           Electronic check           70.70       151.65   Yes  "
      ]
     },
     "execution_count": 3,
     "metadata": {},
     "output_type": "execute_result"
    }
   ],
   "source": [
    "churn_data.head()"
   ]
  },
  {
   "cell_type": "code",
   "execution_count": 4,
   "metadata": {},
   "outputs": [
    {
     "data": {
      "text/html": [
       "<div>\n",
       "<style scoped>\n",
       "    .dataframe tbody tr th:only-of-type {\n",
       "        vertical-align: middle;\n",
       "    }\n",
       "\n",
       "    .dataframe tbody tr th {\n",
       "        vertical-align: top;\n",
       "    }\n",
       "\n",
       "    .dataframe thead th {\n",
       "        text-align: right;\n",
       "    }\n",
       "</style>\n",
       "<table border=\"1\" class=\"dataframe\">\n",
       "  <thead>\n",
       "    <tr style=\"text-align: right;\">\n",
       "      <th></th>\n",
       "      <th>customerID</th>\n",
       "      <th>MultipleLines</th>\n",
       "      <th>InternetService</th>\n",
       "      <th>OnlineSecurity</th>\n",
       "      <th>OnlineBackup</th>\n",
       "      <th>DeviceProtection</th>\n",
       "      <th>TechSupport</th>\n",
       "      <th>StreamingTV</th>\n",
       "      <th>StreamingMovies</th>\n",
       "    </tr>\n",
       "  </thead>\n",
       "  <tbody>\n",
       "    <tr>\n",
       "      <th>0</th>\n",
       "      <td>7590-VHVEG</td>\n",
       "      <td>No phone service</td>\n",
       "      <td>DSL</td>\n",
       "      <td>No</td>\n",
       "      <td>Yes</td>\n",
       "      <td>No</td>\n",
       "      <td>No</td>\n",
       "      <td>No</td>\n",
       "      <td>No</td>\n",
       "    </tr>\n",
       "    <tr>\n",
       "      <th>1</th>\n",
       "      <td>5575-GNVDE</td>\n",
       "      <td>No</td>\n",
       "      <td>DSL</td>\n",
       "      <td>Yes</td>\n",
       "      <td>No</td>\n",
       "      <td>Yes</td>\n",
       "      <td>No</td>\n",
       "      <td>No</td>\n",
       "      <td>No</td>\n",
       "    </tr>\n",
       "    <tr>\n",
       "      <th>2</th>\n",
       "      <td>3668-QPYBK</td>\n",
       "      <td>No</td>\n",
       "      <td>DSL</td>\n",
       "      <td>Yes</td>\n",
       "      <td>Yes</td>\n",
       "      <td>No</td>\n",
       "      <td>No</td>\n",
       "      <td>No</td>\n",
       "      <td>No</td>\n",
       "    </tr>\n",
       "    <tr>\n",
       "      <th>3</th>\n",
       "      <td>7795-CFOCW</td>\n",
       "      <td>No phone service</td>\n",
       "      <td>DSL</td>\n",
       "      <td>Yes</td>\n",
       "      <td>No</td>\n",
       "      <td>Yes</td>\n",
       "      <td>Yes</td>\n",
       "      <td>No</td>\n",
       "      <td>No</td>\n",
       "    </tr>\n",
       "    <tr>\n",
       "      <th>4</th>\n",
       "      <td>9237-HQITU</td>\n",
       "      <td>No</td>\n",
       "      <td>Fiber optic</td>\n",
       "      <td>No</td>\n",
       "      <td>No</td>\n",
       "      <td>No</td>\n",
       "      <td>No</td>\n",
       "      <td>No</td>\n",
       "      <td>No</td>\n",
       "    </tr>\n",
       "  </tbody>\n",
       "</table>\n",
       "</div>"
      ],
      "text/plain": [
       "   customerID     MultipleLines InternetService OnlineSecurity OnlineBackup  \\\n",
       "0  7590-VHVEG  No phone service             DSL             No          Yes   \n",
       "1  5575-GNVDE                No             DSL            Yes           No   \n",
       "2  3668-QPYBK                No             DSL            Yes          Yes   \n",
       "3  7795-CFOCW  No phone service             DSL            Yes           No   \n",
       "4  9237-HQITU                No     Fiber optic             No           No   \n",
       "\n",
       "  DeviceProtection TechSupport StreamingTV StreamingMovies  \n",
       "0               No          No          No              No  \n",
       "1              Yes          No          No              No  \n",
       "2               No          No          No              No  \n",
       "3              Yes         Yes          No              No  \n",
       "4               No          No          No              No  "
      ]
     },
     "execution_count": 4,
     "metadata": {},
     "output_type": "execute_result"
    }
   ],
   "source": [
    "internet_usage.head()"
   ]
  },
  {
   "cell_type": "code",
   "execution_count": 5,
   "metadata": {},
   "outputs": [
    {
     "data": {
      "text/html": [
       "<div>\n",
       "<style scoped>\n",
       "    .dataframe tbody tr th:only-of-type {\n",
       "        vertical-align: middle;\n",
       "    }\n",
       "\n",
       "    .dataframe tbody tr th {\n",
       "        vertical-align: top;\n",
       "    }\n",
       "\n",
       "    .dataframe thead th {\n",
       "        text-align: right;\n",
       "    }\n",
       "</style>\n",
       "<table border=\"1\" class=\"dataframe\">\n",
       "  <thead>\n",
       "    <tr style=\"text-align: right;\">\n",
       "      <th></th>\n",
       "      <th>customerID</th>\n",
       "      <th>gender</th>\n",
       "      <th>SeniorCitizen</th>\n",
       "      <th>Partner</th>\n",
       "      <th>Dependents</th>\n",
       "    </tr>\n",
       "  </thead>\n",
       "  <tbody>\n",
       "    <tr>\n",
       "      <th>0</th>\n",
       "      <td>7590-VHVEG</td>\n",
       "      <td>Female</td>\n",
       "      <td>0</td>\n",
       "      <td>Yes</td>\n",
       "      <td>No</td>\n",
       "    </tr>\n",
       "    <tr>\n",
       "      <th>1</th>\n",
       "      <td>5575-GNVDE</td>\n",
       "      <td>Male</td>\n",
       "      <td>0</td>\n",
       "      <td>No</td>\n",
       "      <td>No</td>\n",
       "    </tr>\n",
       "    <tr>\n",
       "      <th>2</th>\n",
       "      <td>3668-QPYBK</td>\n",
       "      <td>Male</td>\n",
       "      <td>0</td>\n",
       "      <td>No</td>\n",
       "      <td>No</td>\n",
       "    </tr>\n",
       "    <tr>\n",
       "      <th>3</th>\n",
       "      <td>7795-CFOCW</td>\n",
       "      <td>Male</td>\n",
       "      <td>0</td>\n",
       "      <td>No</td>\n",
       "      <td>No</td>\n",
       "    </tr>\n",
       "    <tr>\n",
       "      <th>4</th>\n",
       "      <td>9237-HQITU</td>\n",
       "      <td>Female</td>\n",
       "      <td>0</td>\n",
       "      <td>No</td>\n",
       "      <td>No</td>\n",
       "    </tr>\n",
       "  </tbody>\n",
       "</table>\n",
       "</div>"
      ],
      "text/plain": [
       "   customerID  gender  SeniorCitizen Partner Dependents\n",
       "0  7590-VHVEG  Female              0     Yes         No\n",
       "1  5575-GNVDE    Male              0      No         No\n",
       "2  3668-QPYBK    Male              0      No         No\n",
       "3  7795-CFOCW    Male              0      No         No\n",
       "4  9237-HQITU  Female              0      No         No"
      ]
     },
     "execution_count": 5,
     "metadata": {},
     "output_type": "execute_result"
    }
   ],
   "source": [
    "customer_data.head()"
   ]
  },
  {
   "cell_type": "code",
   "execution_count": 6,
   "metadata": {},
   "outputs": [],
   "source": [
    "telecom_data = pd.merge(churn_data, internet_usage, how='inner', on='customerID')"
   ]
  },
  {
   "cell_type": "code",
   "execution_count": 7,
   "metadata": {},
   "outputs": [],
   "source": [
    "telecom_data = pd.merge(telecom_data, customer_data, how='inner', on='customerID')"
   ]
  },
  {
   "cell_type": "code",
   "execution_count": 8,
   "metadata": {},
   "outputs": [
    {
     "data": {
      "text/plain": [
       "No                     3088\n",
       "Yes                    2429\n",
       "No internet service    1526\n",
       "Name: OnlineBackup, dtype: int64"
      ]
     },
     "execution_count": 8,
     "metadata": {},
     "output_type": "execute_result"
    }
   ],
   "source": [
    "telecom_data.OnlineBackup.astype('category').value_counts()"
   ]
  },
  {
   "cell_type": "code",
   "execution_count": 9,
   "metadata": {},
   "outputs": [
    {
     "data": {
      "text/html": [
       "<div>\n",
       "<style scoped>\n",
       "    .dataframe tbody tr th:only-of-type {\n",
       "        vertical-align: middle;\n",
       "    }\n",
       "\n",
       "    .dataframe tbody tr th {\n",
       "        vertical-align: top;\n",
       "    }\n",
       "\n",
       "    .dataframe thead th {\n",
       "        text-align: right;\n",
       "    }\n",
       "</style>\n",
       "<table border=\"1\" class=\"dataframe\">\n",
       "  <thead>\n",
       "    <tr style=\"text-align: right;\">\n",
       "      <th></th>\n",
       "      <th>customerID</th>\n",
       "      <th>tenure</th>\n",
       "      <th>PhoneService</th>\n",
       "      <th>Contract</th>\n",
       "      <th>PaperlessBilling</th>\n",
       "      <th>PaymentMethod</th>\n",
       "      <th>MonthlyCharges</th>\n",
       "      <th>TotalCharges</th>\n",
       "      <th>Churn</th>\n",
       "      <th>MultipleLines</th>\n",
       "      <th>...</th>\n",
       "      <th>OnlineSecurity</th>\n",
       "      <th>OnlineBackup</th>\n",
       "      <th>DeviceProtection</th>\n",
       "      <th>TechSupport</th>\n",
       "      <th>StreamingTV</th>\n",
       "      <th>StreamingMovies</th>\n",
       "      <th>gender</th>\n",
       "      <th>SeniorCitizen</th>\n",
       "      <th>Partner</th>\n",
       "      <th>Dependents</th>\n",
       "    </tr>\n",
       "  </thead>\n",
       "  <tbody>\n",
       "    <tr>\n",
       "      <th>0</th>\n",
       "      <td>7590-VHVEG</td>\n",
       "      <td>1</td>\n",
       "      <td>No</td>\n",
       "      <td>Month-to-month</td>\n",
       "      <td>Yes</td>\n",
       "      <td>Electronic check</td>\n",
       "      <td>29.85</td>\n",
       "      <td>29.85</td>\n",
       "      <td>No</td>\n",
       "      <td>No phone service</td>\n",
       "      <td>...</td>\n",
       "      <td>No</td>\n",
       "      <td>Yes</td>\n",
       "      <td>No</td>\n",
       "      <td>No</td>\n",
       "      <td>No</td>\n",
       "      <td>No</td>\n",
       "      <td>Female</td>\n",
       "      <td>0</td>\n",
       "      <td>Yes</td>\n",
       "      <td>No</td>\n",
       "    </tr>\n",
       "    <tr>\n",
       "      <th>1</th>\n",
       "      <td>5575-GNVDE</td>\n",
       "      <td>34</td>\n",
       "      <td>Yes</td>\n",
       "      <td>One year</td>\n",
       "      <td>No</td>\n",
       "      <td>Mailed check</td>\n",
       "      <td>56.95</td>\n",
       "      <td>1889.5</td>\n",
       "      <td>No</td>\n",
       "      <td>No</td>\n",
       "      <td>...</td>\n",
       "      <td>Yes</td>\n",
       "      <td>No</td>\n",
       "      <td>Yes</td>\n",
       "      <td>No</td>\n",
       "      <td>No</td>\n",
       "      <td>No</td>\n",
       "      <td>Male</td>\n",
       "      <td>0</td>\n",
       "      <td>No</td>\n",
       "      <td>No</td>\n",
       "    </tr>\n",
       "    <tr>\n",
       "      <th>2</th>\n",
       "      <td>3668-QPYBK</td>\n",
       "      <td>2</td>\n",
       "      <td>Yes</td>\n",
       "      <td>Month-to-month</td>\n",
       "      <td>Yes</td>\n",
       "      <td>Mailed check</td>\n",
       "      <td>53.85</td>\n",
       "      <td>108.15</td>\n",
       "      <td>Yes</td>\n",
       "      <td>No</td>\n",
       "      <td>...</td>\n",
       "      <td>Yes</td>\n",
       "      <td>Yes</td>\n",
       "      <td>No</td>\n",
       "      <td>No</td>\n",
       "      <td>No</td>\n",
       "      <td>No</td>\n",
       "      <td>Male</td>\n",
       "      <td>0</td>\n",
       "      <td>No</td>\n",
       "      <td>No</td>\n",
       "    </tr>\n",
       "    <tr>\n",
       "      <th>3</th>\n",
       "      <td>7795-CFOCW</td>\n",
       "      <td>45</td>\n",
       "      <td>No</td>\n",
       "      <td>One year</td>\n",
       "      <td>No</td>\n",
       "      <td>Bank transfer (automatic)</td>\n",
       "      <td>42.30</td>\n",
       "      <td>1840.75</td>\n",
       "      <td>No</td>\n",
       "      <td>No phone service</td>\n",
       "      <td>...</td>\n",
       "      <td>Yes</td>\n",
       "      <td>No</td>\n",
       "      <td>Yes</td>\n",
       "      <td>Yes</td>\n",
       "      <td>No</td>\n",
       "      <td>No</td>\n",
       "      <td>Male</td>\n",
       "      <td>0</td>\n",
       "      <td>No</td>\n",
       "      <td>No</td>\n",
       "    </tr>\n",
       "    <tr>\n",
       "      <th>4</th>\n",
       "      <td>9237-HQITU</td>\n",
       "      <td>2</td>\n",
       "      <td>Yes</td>\n",
       "      <td>Month-to-month</td>\n",
       "      <td>Yes</td>\n",
       "      <td>Electronic check</td>\n",
       "      <td>70.70</td>\n",
       "      <td>151.65</td>\n",
       "      <td>Yes</td>\n",
       "      <td>No</td>\n",
       "      <td>...</td>\n",
       "      <td>No</td>\n",
       "      <td>No</td>\n",
       "      <td>No</td>\n",
       "      <td>No</td>\n",
       "      <td>No</td>\n",
       "      <td>No</td>\n",
       "      <td>Female</td>\n",
       "      <td>0</td>\n",
       "      <td>No</td>\n",
       "      <td>No</td>\n",
       "    </tr>\n",
       "  </tbody>\n",
       "</table>\n",
       "<p>5 rows × 21 columns</p>\n",
       "</div>"
      ],
      "text/plain": [
       "   customerID  tenure PhoneService        Contract PaperlessBilling  \\\n",
       "0  7590-VHVEG       1           No  Month-to-month              Yes   \n",
       "1  5575-GNVDE      34          Yes        One year               No   \n",
       "2  3668-QPYBK       2          Yes  Month-to-month              Yes   \n",
       "3  7795-CFOCW      45           No        One year               No   \n",
       "4  9237-HQITU       2          Yes  Month-to-month              Yes   \n",
       "\n",
       "               PaymentMethod  MonthlyCharges TotalCharges Churn  \\\n",
       "0           Electronic check           29.85        29.85    No   \n",
       "1               Mailed check           56.95       1889.5    No   \n",
       "2               Mailed check           53.85       108.15   Yes   \n",
       "3  Bank transfer (automatic)           42.30      1840.75    No   \n",
       "4           Electronic check           70.70       151.65   Yes   \n",
       "\n",
       "      MultipleLines    ...     OnlineSecurity OnlineBackup DeviceProtection  \\\n",
       "0  No phone service    ...                 No          Yes               No   \n",
       "1                No    ...                Yes           No              Yes   \n",
       "2                No    ...                Yes          Yes               No   \n",
       "3  No phone service    ...                Yes           No              Yes   \n",
       "4                No    ...                 No           No               No   \n",
       "\n",
       "  TechSupport StreamingTV StreamingMovies  gender SeniorCitizen  Partner  \\\n",
       "0          No          No              No  Female             0      Yes   \n",
       "1          No          No              No    Male             0       No   \n",
       "2          No          No              No    Male             0       No   \n",
       "3         Yes          No              No    Male             0       No   \n",
       "4          No          No              No  Female             0       No   \n",
       "\n",
       "  Dependents  \n",
       "0         No  \n",
       "1         No  \n",
       "2         No  \n",
       "3         No  \n",
       "4         No  \n",
       "\n",
       "[5 rows x 21 columns]"
      ]
     },
     "execution_count": 9,
     "metadata": {},
     "output_type": "execute_result"
    }
   ],
   "source": [
    "telecom_data.head()"
   ]
  },
  {
   "cell_type": "code",
   "execution_count": 10,
   "metadata": {},
   "outputs": [
    {
     "name": "stdout",
     "output_type": "stream",
     "text": [
      "<class 'pandas.core.frame.DataFrame'>\n",
      "Int64Index: 7043 entries, 0 to 7042\n",
      "Data columns (total 21 columns):\n",
      "customerID          7043 non-null object\n",
      "tenure              7043 non-null int64\n",
      "PhoneService        7043 non-null object\n",
      "Contract            7043 non-null object\n",
      "PaperlessBilling    7043 non-null object\n",
      "PaymentMethod       7043 non-null object\n",
      "MonthlyCharges      7043 non-null float64\n",
      "TotalCharges        7043 non-null object\n",
      "Churn               7043 non-null object\n",
      "MultipleLines       7043 non-null object\n",
      "InternetService     7043 non-null object\n",
      "OnlineSecurity      7043 non-null object\n",
      "OnlineBackup        7043 non-null object\n",
      "DeviceProtection    7043 non-null object\n",
      "TechSupport         7043 non-null object\n",
      "StreamingTV         7043 non-null object\n",
      "StreamingMovies     7043 non-null object\n",
      "gender              7043 non-null object\n",
      "SeniorCitizen       7043 non-null int64\n",
      "Partner             7043 non-null object\n",
      "Dependents          7043 non-null object\n",
      "dtypes: float64(1), int64(2), object(18)\n",
      "memory usage: 1.2+ MB\n"
     ]
    }
   ],
   "source": [
    "telecom_data.info()"
   ]
  },
  {
   "cell_type": "code",
   "execution_count": 11,
   "metadata": {},
   "outputs": [
    {
     "data": {
      "text/html": [
       "<div>\n",
       "<style scoped>\n",
       "    .dataframe tbody tr th:only-of-type {\n",
       "        vertical-align: middle;\n",
       "    }\n",
       "\n",
       "    .dataframe tbody tr th {\n",
       "        vertical-align: top;\n",
       "    }\n",
       "\n",
       "    .dataframe thead th {\n",
       "        text-align: right;\n",
       "    }\n",
       "</style>\n",
       "<table border=\"1\" class=\"dataframe\">\n",
       "  <thead>\n",
       "    <tr style=\"text-align: right;\">\n",
       "      <th></th>\n",
       "      <th>tenure</th>\n",
       "      <th>MonthlyCharges</th>\n",
       "      <th>SeniorCitizen</th>\n",
       "    </tr>\n",
       "  </thead>\n",
       "  <tbody>\n",
       "    <tr>\n",
       "      <th>count</th>\n",
       "      <td>7043.000000</td>\n",
       "      <td>7043.000000</td>\n",
       "      <td>7043.000000</td>\n",
       "    </tr>\n",
       "    <tr>\n",
       "      <th>mean</th>\n",
       "      <td>32.371149</td>\n",
       "      <td>64.761692</td>\n",
       "      <td>0.162147</td>\n",
       "    </tr>\n",
       "    <tr>\n",
       "      <th>std</th>\n",
       "      <td>24.559481</td>\n",
       "      <td>30.090047</td>\n",
       "      <td>0.368612</td>\n",
       "    </tr>\n",
       "    <tr>\n",
       "      <th>min</th>\n",
       "      <td>0.000000</td>\n",
       "      <td>18.250000</td>\n",
       "      <td>0.000000</td>\n",
       "    </tr>\n",
       "    <tr>\n",
       "      <th>25%</th>\n",
       "      <td>9.000000</td>\n",
       "      <td>35.500000</td>\n",
       "      <td>0.000000</td>\n",
       "    </tr>\n",
       "    <tr>\n",
       "      <th>50%</th>\n",
       "      <td>29.000000</td>\n",
       "      <td>70.350000</td>\n",
       "      <td>0.000000</td>\n",
       "    </tr>\n",
       "    <tr>\n",
       "      <th>75%</th>\n",
       "      <td>55.000000</td>\n",
       "      <td>89.850000</td>\n",
       "      <td>0.000000</td>\n",
       "    </tr>\n",
       "    <tr>\n",
       "      <th>max</th>\n",
       "      <td>72.000000</td>\n",
       "      <td>118.750000</td>\n",
       "      <td>1.000000</td>\n",
       "    </tr>\n",
       "  </tbody>\n",
       "</table>\n",
       "</div>"
      ],
      "text/plain": [
       "            tenure  MonthlyCharges  SeniorCitizen\n",
       "count  7043.000000     7043.000000    7043.000000\n",
       "mean     32.371149       64.761692       0.162147\n",
       "std      24.559481       30.090047       0.368612\n",
       "min       0.000000       18.250000       0.000000\n",
       "25%       9.000000       35.500000       0.000000\n",
       "50%      29.000000       70.350000       0.000000\n",
       "75%      55.000000       89.850000       0.000000\n",
       "max      72.000000      118.750000       1.000000"
      ]
     },
     "execution_count": 11,
     "metadata": {},
     "output_type": "execute_result"
    }
   ],
   "source": [
    "telecom_data.describe()"
   ]
  },
  {
   "cell_type": "code",
   "execution_count": 12,
   "metadata": {},
   "outputs": [
    {
     "data": {
      "text/plain": [
       "Index(['customerID', 'tenure', 'PhoneService', 'Contract', 'PaperlessBilling',\n",
       "       'PaymentMethod', 'MonthlyCharges', 'TotalCharges', 'Churn',\n",
       "       'MultipleLines', 'InternetService', 'OnlineSecurity', 'OnlineBackup',\n",
       "       'DeviceProtection', 'TechSupport', 'StreamingTV', 'StreamingMovies',\n",
       "       'gender', 'SeniorCitizen', 'Partner', 'Dependents'],\n",
       "      dtype='object')"
      ]
     },
     "execution_count": 12,
     "metadata": {},
     "output_type": "execute_result"
    }
   ],
   "source": [
    "telecom_data.columns"
   ]
  },
  {
   "cell_type": "code",
   "execution_count": 13,
   "metadata": {},
   "outputs": [
    {
     "data": {
      "text/plain": [
       "array(['No', 'Yes'], dtype=object)"
      ]
     },
     "execution_count": 13,
     "metadata": {},
     "output_type": "execute_result"
    }
   ],
   "source": [
    "telecom_data.PhoneService.unique()"
   ]
  },
  {
   "cell_type": "code",
   "execution_count": 14,
   "metadata": {},
   "outputs": [
    {
     "data": {
      "text/plain": [
       "array(['Yes', 'No'], dtype=object)"
      ]
     },
     "execution_count": 14,
     "metadata": {},
     "output_type": "execute_result"
    }
   ],
   "source": [
    "telecom_data.PaperlessBilling.unique()"
   ]
  },
  {
   "cell_type": "code",
   "execution_count": 15,
   "metadata": {},
   "outputs": [
    {
     "data": {
      "text/plain": [
       "array(['Electronic check', 'Mailed check', 'Bank transfer (automatic)',\n",
       "       'Credit card (automatic)'], dtype=object)"
      ]
     },
     "execution_count": 15,
     "metadata": {},
     "output_type": "execute_result"
    }
   ],
   "source": [
    "telecom_data.PaymentMethod.unique()"
   ]
  },
  {
   "cell_type": "code",
   "execution_count": 16,
   "metadata": {},
   "outputs": [
    {
     "data": {
      "text/plain": [
       "array(['No', 'Yes'], dtype=object)"
      ]
     },
     "execution_count": 16,
     "metadata": {},
     "output_type": "execute_result"
    }
   ],
   "source": [
    "telecom_data.Churn.unique()"
   ]
  },
  {
   "cell_type": "code",
   "execution_count": 17,
   "metadata": {},
   "outputs": [
    {
     "data": {
      "text/plain": [
       "array(['No phone service', 'No', 'Yes'], dtype=object)"
      ]
     },
     "execution_count": 17,
     "metadata": {},
     "output_type": "execute_result"
    }
   ],
   "source": [
    "telecom_data.MultipleLines.unique()"
   ]
  },
  {
   "cell_type": "code",
   "execution_count": 18,
   "metadata": {},
   "outputs": [
    {
     "data": {
      "text/plain": [
       "array(['No', 'Yes', 'No internet service'], dtype=object)"
      ]
     },
     "execution_count": 18,
     "metadata": {},
     "output_type": "execute_result"
    }
   ],
   "source": [
    "telecom_data.OnlineSecurity.unique()"
   ]
  },
  {
   "cell_type": "code",
   "execution_count": 19,
   "metadata": {},
   "outputs": [
    {
     "data": {
      "text/plain": [
       "array(['Yes', 'No', 'No internet service'], dtype=object)"
      ]
     },
     "execution_count": 19,
     "metadata": {},
     "output_type": "execute_result"
    }
   ],
   "source": [
    "telecom_data.OnlineBackup.unique()"
   ]
  },
  {
   "cell_type": "code",
   "execution_count": 20,
   "metadata": {},
   "outputs": [
    {
     "data": {
      "text/plain": [
       "array(['No', 'Yes', 'No internet service'], dtype=object)"
      ]
     },
     "execution_count": 20,
     "metadata": {},
     "output_type": "execute_result"
    }
   ],
   "source": [
    "telecom_data.DeviceProtection.unique()"
   ]
  },
  {
   "cell_type": "code",
   "execution_count": 21,
   "metadata": {},
   "outputs": [
    {
     "data": {
      "text/plain": [
       "array(['No', 'Yes', 'No internet service'], dtype=object)"
      ]
     },
     "execution_count": 21,
     "metadata": {},
     "output_type": "execute_result"
    }
   ],
   "source": [
    "telecom_data.TechSupport.unique()"
   ]
  },
  {
   "cell_type": "code",
   "execution_count": 22,
   "metadata": {},
   "outputs": [
    {
     "data": {
      "text/plain": [
       "array(['No', 'Yes', 'No internet service'], dtype=object)"
      ]
     },
     "execution_count": 22,
     "metadata": {},
     "output_type": "execute_result"
    }
   ],
   "source": [
    "telecom_data.StreamingTV.unique()"
   ]
  },
  {
   "cell_type": "code",
   "execution_count": 23,
   "metadata": {},
   "outputs": [
    {
     "data": {
      "text/plain": [
       "array(['No', 'Yes', 'No internet service'], dtype=object)"
      ]
     },
     "execution_count": 23,
     "metadata": {},
     "output_type": "execute_result"
    }
   ],
   "source": [
    "telecom_data.StreamingMovies.unique()"
   ]
  },
  {
   "cell_type": "code",
   "execution_count": 24,
   "metadata": {},
   "outputs": [
    {
     "data": {
      "text/plain": [
       "array([0, 1])"
      ]
     },
     "execution_count": 24,
     "metadata": {},
     "output_type": "execute_result"
    }
   ],
   "source": [
    "telecom_data.SeniorCitizen.unique()"
   ]
  },
  {
   "cell_type": "code",
   "execution_count": 25,
   "metadata": {},
   "outputs": [
    {
     "data": {
      "text/plain": [
       "array(['Yes', 'No'], dtype=object)"
      ]
     },
     "execution_count": 25,
     "metadata": {},
     "output_type": "execute_result"
    }
   ],
   "source": [
    "telecom_data.Partner.unique()"
   ]
  },
  {
   "cell_type": "code",
   "execution_count": 26,
   "metadata": {},
   "outputs": [
    {
     "data": {
      "text/plain": [
       "array(['No', 'Yes'], dtype=object)"
      ]
     },
     "execution_count": 26,
     "metadata": {},
     "output_type": "execute_result"
    }
   ],
   "source": [
    "telecom_data.Dependents.unique()"
   ]
  },
  {
   "cell_type": "markdown",
   "metadata": {},
   "source": [
    "  "
   ]
  },
  {
   "cell_type": "markdown",
   "metadata": {},
   "source": [
    "### Data Cleaning"
   ]
  },
  {
   "cell_type": "code",
   "execution_count": 27,
   "metadata": {},
   "outputs": [],
   "source": [
    "def map_boolean(x):\n",
    "    return x.map({'Yes': 1, 'No': 0})\n",
    "\n",
    "bool_columns = ['PhoneService', 'PaperlessBilling', 'Churn', 'Partner', 'Dependents']\n",
    "telecom_data[bool_columns] = telecom_data[bool_columns].apply(map_boolean)"
   ]
  },
  {
   "cell_type": "code",
   "execution_count": 28,
   "metadata": {},
   "outputs": [],
   "source": [
    "def create_dummies(_data, _columns):\n",
    "    for _column in _columns:\n",
    "        _dummy_data = pd.get_dummies(_data[_column], drop_first=True, prefix=_column)\n",
    "        _data = pd.concat([_data, _dummy_data], axis=1)\n",
    "        _data.drop(columns=[_column], inplace=True, axis=1)\n",
    "    return _data\n"
   ]
  },
  {
   "cell_type": "code",
   "execution_count": 29,
   "metadata": {},
   "outputs": [],
   "source": [
    "first_dummy_variables = ['PaymentMethod', 'Contract', 'InternetService', 'gender']\n",
    "telecom_data = create_dummies(telecom_data, first_dummy_variables)"
   ]
  },
  {
   "cell_type": "code",
   "execution_count": 30,
   "metadata": {},
   "outputs": [
    {
     "data": {
      "text/plain": [
       "Index(['customerID', 'tenure', 'PhoneService', 'PaperlessBilling',\n",
       "       'MonthlyCharges', 'TotalCharges', 'Churn', 'MultipleLines',\n",
       "       'OnlineSecurity', 'OnlineBackup', 'DeviceProtection', 'TechSupport',\n",
       "       'StreamingTV', 'StreamingMovies', 'SeniorCitizen', 'Partner',\n",
       "       'Dependents', 'PaymentMethod_Credit card (automatic)',\n",
       "       'PaymentMethod_Electronic check', 'PaymentMethod_Mailed check',\n",
       "       'Contract_One year', 'Contract_Two year', 'InternetService_Fiber optic',\n",
       "       'InternetService_No', 'gender_Male'],\n",
       "      dtype='object')"
      ]
     },
     "execution_count": 30,
     "metadata": {},
     "output_type": "execute_result"
    }
   ],
   "source": [
    "telecom_data.columns"
   ]
  },
  {
   "cell_type": "code",
   "execution_count": 31,
   "metadata": {},
   "outputs": [
    {
     "data": {
      "text/html": [
       "<div>\n",
       "<style scoped>\n",
       "    .dataframe tbody tr th:only-of-type {\n",
       "        vertical-align: middle;\n",
       "    }\n",
       "\n",
       "    .dataframe tbody tr th {\n",
       "        vertical-align: top;\n",
       "    }\n",
       "\n",
       "    .dataframe thead th {\n",
       "        text-align: right;\n",
       "    }\n",
       "</style>\n",
       "<table border=\"1\" class=\"dataframe\">\n",
       "  <thead>\n",
       "    <tr style=\"text-align: right;\">\n",
       "      <th></th>\n",
       "      <th>customerID</th>\n",
       "      <th>tenure</th>\n",
       "      <th>PhoneService</th>\n",
       "      <th>PaperlessBilling</th>\n",
       "      <th>MonthlyCharges</th>\n",
       "      <th>TotalCharges</th>\n",
       "      <th>Churn</th>\n",
       "      <th>SeniorCitizen</th>\n",
       "      <th>Partner</th>\n",
       "      <th>Dependents</th>\n",
       "      <th>...</th>\n",
       "      <th>OnlineBackup_No</th>\n",
       "      <th>OnlineBackup_Yes</th>\n",
       "      <th>DeviceProtection_No</th>\n",
       "      <th>DeviceProtection_Yes</th>\n",
       "      <th>TechSupport_No</th>\n",
       "      <th>TechSupport_Yes</th>\n",
       "      <th>StreamingTV_No</th>\n",
       "      <th>StreamingTV_Yes</th>\n",
       "      <th>StreamingMovies_No</th>\n",
       "      <th>StreamingMovies_Yes</th>\n",
       "    </tr>\n",
       "  </thead>\n",
       "  <tbody>\n",
       "    <tr>\n",
       "      <th>0</th>\n",
       "      <td>7590-VHVEG</td>\n",
       "      <td>1</td>\n",
       "      <td>0</td>\n",
       "      <td>1</td>\n",
       "      <td>29.85</td>\n",
       "      <td>29.85</td>\n",
       "      <td>0</td>\n",
       "      <td>0</td>\n",
       "      <td>1</td>\n",
       "      <td>0</td>\n",
       "      <td>...</td>\n",
       "      <td>0</td>\n",
       "      <td>1</td>\n",
       "      <td>1</td>\n",
       "      <td>0</td>\n",
       "      <td>1</td>\n",
       "      <td>0</td>\n",
       "      <td>1</td>\n",
       "      <td>0</td>\n",
       "      <td>1</td>\n",
       "      <td>0</td>\n",
       "    </tr>\n",
       "    <tr>\n",
       "      <th>1</th>\n",
       "      <td>5575-GNVDE</td>\n",
       "      <td>34</td>\n",
       "      <td>1</td>\n",
       "      <td>0</td>\n",
       "      <td>56.95</td>\n",
       "      <td>1889.5</td>\n",
       "      <td>0</td>\n",
       "      <td>0</td>\n",
       "      <td>0</td>\n",
       "      <td>0</td>\n",
       "      <td>...</td>\n",
       "      <td>1</td>\n",
       "      <td>0</td>\n",
       "      <td>0</td>\n",
       "      <td>1</td>\n",
       "      <td>1</td>\n",
       "      <td>0</td>\n",
       "      <td>1</td>\n",
       "      <td>0</td>\n",
       "      <td>1</td>\n",
       "      <td>0</td>\n",
       "    </tr>\n",
       "    <tr>\n",
       "      <th>2</th>\n",
       "      <td>3668-QPYBK</td>\n",
       "      <td>2</td>\n",
       "      <td>1</td>\n",
       "      <td>1</td>\n",
       "      <td>53.85</td>\n",
       "      <td>108.15</td>\n",
       "      <td>1</td>\n",
       "      <td>0</td>\n",
       "      <td>0</td>\n",
       "      <td>0</td>\n",
       "      <td>...</td>\n",
       "      <td>0</td>\n",
       "      <td>1</td>\n",
       "      <td>1</td>\n",
       "      <td>0</td>\n",
       "      <td>1</td>\n",
       "      <td>0</td>\n",
       "      <td>1</td>\n",
       "      <td>0</td>\n",
       "      <td>1</td>\n",
       "      <td>0</td>\n",
       "    </tr>\n",
       "    <tr>\n",
       "      <th>3</th>\n",
       "      <td>7795-CFOCW</td>\n",
       "      <td>45</td>\n",
       "      <td>0</td>\n",
       "      <td>0</td>\n",
       "      <td>42.30</td>\n",
       "      <td>1840.75</td>\n",
       "      <td>0</td>\n",
       "      <td>0</td>\n",
       "      <td>0</td>\n",
       "      <td>0</td>\n",
       "      <td>...</td>\n",
       "      <td>1</td>\n",
       "      <td>0</td>\n",
       "      <td>0</td>\n",
       "      <td>1</td>\n",
       "      <td>0</td>\n",
       "      <td>1</td>\n",
       "      <td>1</td>\n",
       "      <td>0</td>\n",
       "      <td>1</td>\n",
       "      <td>0</td>\n",
       "    </tr>\n",
       "    <tr>\n",
       "      <th>4</th>\n",
       "      <td>9237-HQITU</td>\n",
       "      <td>2</td>\n",
       "      <td>1</td>\n",
       "      <td>1</td>\n",
       "      <td>70.70</td>\n",
       "      <td>151.65</td>\n",
       "      <td>1</td>\n",
       "      <td>0</td>\n",
       "      <td>0</td>\n",
       "      <td>0</td>\n",
       "      <td>...</td>\n",
       "      <td>1</td>\n",
       "      <td>0</td>\n",
       "      <td>1</td>\n",
       "      <td>0</td>\n",
       "      <td>1</td>\n",
       "      <td>0</td>\n",
       "      <td>1</td>\n",
       "      <td>0</td>\n",
       "      <td>1</td>\n",
       "      <td>0</td>\n",
       "    </tr>\n",
       "  </tbody>\n",
       "</table>\n",
       "<p>5 rows × 32 columns</p>\n",
       "</div>"
      ],
      "text/plain": [
       "   customerID  tenure  PhoneService  PaperlessBilling  MonthlyCharges  \\\n",
       "0  7590-VHVEG       1             0                 1           29.85   \n",
       "1  5575-GNVDE      34             1                 0           56.95   \n",
       "2  3668-QPYBK       2             1                 1           53.85   \n",
       "3  7795-CFOCW      45             0                 0           42.30   \n",
       "4  9237-HQITU       2             1                 1           70.70   \n",
       "\n",
       "  TotalCharges  Churn  SeniorCitizen  Partner  Dependents  \\\n",
       "0        29.85      0              0        1           0   \n",
       "1       1889.5      0              0        0           0   \n",
       "2       108.15      1              0        0           0   \n",
       "3      1840.75      0              0        0           0   \n",
       "4       151.65      1              0        0           0   \n",
       "\n",
       "          ...           OnlineBackup_No  OnlineBackup_Yes  \\\n",
       "0         ...                         0                 1   \n",
       "1         ...                         1                 0   \n",
       "2         ...                         0                 1   \n",
       "3         ...                         1                 0   \n",
       "4         ...                         1                 0   \n",
       "\n",
       "   DeviceProtection_No  DeviceProtection_Yes  TechSupport_No  TechSupport_Yes  \\\n",
       "0                    1                     0               1                0   \n",
       "1                    0                     1               1                0   \n",
       "2                    1                     0               1                0   \n",
       "3                    0                     1               0                1   \n",
       "4                    1                     0               1                0   \n",
       "\n",
       "   StreamingTV_No  StreamingTV_Yes  StreamingMovies_No  StreamingMovies_Yes  \n",
       "0               1                0                   1                    0  \n",
       "1               1                0                   1                    0  \n",
       "2               1                0                   1                    0  \n",
       "3               1                0                   1                    0  \n",
       "4               1                0                   1                    0  \n",
       "\n",
       "[5 rows x 32 columns]"
      ]
     },
     "execution_count": 31,
     "metadata": {},
     "output_type": "execute_result"
    }
   ],
   "source": [
    "extra_dummies = pd.get_dummies(telecom_data['MultipleLines'], prefix='MultipleLines')\n",
    "extra_dummies.drop('MultipleLines_No phone service', inplace=True, axis=1)\n",
    "telecom_data.drop('MultipleLines', axis=1, inplace=True)\n",
    "telecom_data = pd.concat([telecom_data, extra_dummies], axis=1)\n",
    "\n",
    "extra_dummies = pd.get_dummies(telecom_data['OnlineSecurity'], prefix='OnlineSecurity')\n",
    "extra_dummies.drop('OnlineSecurity_No internet service', inplace=True, axis=1)\n",
    "telecom_data.drop('OnlineSecurity', axis=1, inplace=True)\n",
    "telecom_data = pd.concat([telecom_data, extra_dummies], axis=1)\n",
    "\n",
    "extra_dummies = pd.get_dummies(telecom_data['OnlineBackup'], prefix='OnlineBackup')\n",
    "extra_dummies.drop('OnlineBackup_No internet service', inplace=True, axis=1)\n",
    "telecom_data.drop('OnlineBackup', axis=1, inplace=True)\n",
    "telecom_data = pd.concat([telecom_data, extra_dummies], axis=1)\n",
    "\n",
    "extra_dummies = pd.get_dummies(telecom_data['DeviceProtection'], prefix='DeviceProtection')\n",
    "extra_dummies.drop('DeviceProtection_No internet service', inplace=True, axis=1)\n",
    "telecom_data.drop('DeviceProtection', axis=1, inplace=True)\n",
    "telecom_data = pd.concat([telecom_data, extra_dummies], axis=1)\n",
    "\n",
    "\n",
    "extra_dummies = pd.get_dummies(telecom_data['TechSupport'], prefix='TechSupport')\n",
    "extra_dummies.drop('TechSupport_No internet service', inplace=True, axis=1)\n",
    "telecom_data.drop('TechSupport', axis=1, inplace=True)\n",
    "telecom_data = pd.concat([telecom_data, extra_dummies], axis=1)\n",
    "\n",
    "extra_dummies = pd.get_dummies(telecom_data['StreamingTV'], prefix='StreamingTV')\n",
    "extra_dummies.drop('StreamingTV_No internet service', inplace=True, axis=1)\n",
    "telecom_data.drop('StreamingTV', axis=1, inplace=True)\n",
    "telecom_data = pd.concat([telecom_data, extra_dummies], axis=1)\n",
    "\n",
    "extra_dummies = pd.get_dummies(telecom_data['StreamingMovies'], prefix='StreamingMovies')\n",
    "extra_dummies.drop('StreamingMovies_No internet service', inplace=True, axis=1)\n",
    "telecom_data.drop('StreamingMovies', axis=1, inplace=True)\n",
    "telecom_data = pd.concat([telecom_data, extra_dummies], axis=1)\n",
    "telecom_data.head()"
   ]
  },
  {
   "cell_type": "code",
   "execution_count": 32,
   "metadata": {},
   "outputs": [
    {
     "name": "stderr",
     "output_type": "stream",
     "text": [
      "/anaconda3/lib/python3.7/site-packages/ipykernel_launcher.py:1: FutureWarning: convert_objects is deprecated.  To re-infer data dtypes for object columns, use Series.infer_objects()\n",
      "For all other conversions use the data-type specific converters pd.to_datetime, pd.to_timedelta and pd.to_numeric.\n",
      "  \"\"\"Entry point for launching an IPython kernel.\n"
     ]
    }
   ],
   "source": [
    "telecom_data.TotalCharges = telecom_data.TotalCharges.convert_objects(convert_numeric=True)"
   ]
  },
  {
   "cell_type": "code",
   "execution_count": 33,
   "metadata": {},
   "outputs": [
    {
     "name": "stdout",
     "output_type": "stream",
     "text": [
      "<class 'pandas.core.frame.DataFrame'>\n",
      "Int64Index: 7043 entries, 0 to 7042\n",
      "Data columns (total 32 columns):\n",
      "customerID                               7043 non-null object\n",
      "tenure                                   7043 non-null int64\n",
      "PhoneService                             7043 non-null int64\n",
      "PaperlessBilling                         7043 non-null int64\n",
      "MonthlyCharges                           7043 non-null float64\n",
      "TotalCharges                             7032 non-null float64\n",
      "Churn                                    7043 non-null int64\n",
      "SeniorCitizen                            7043 non-null int64\n",
      "Partner                                  7043 non-null int64\n",
      "Dependents                               7043 non-null int64\n",
      "PaymentMethod_Credit card (automatic)    7043 non-null uint8\n",
      "PaymentMethod_Electronic check           7043 non-null uint8\n",
      "PaymentMethod_Mailed check               7043 non-null uint8\n",
      "Contract_One year                        7043 non-null uint8\n",
      "Contract_Two year                        7043 non-null uint8\n",
      "InternetService_Fiber optic              7043 non-null uint8\n",
      "InternetService_No                       7043 non-null uint8\n",
      "gender_Male                              7043 non-null uint8\n",
      "MultipleLines_No                         7043 non-null uint8\n",
      "MultipleLines_Yes                        7043 non-null uint8\n",
      "OnlineSecurity_No                        7043 non-null uint8\n",
      "OnlineSecurity_Yes                       7043 non-null uint8\n",
      "OnlineBackup_No                          7043 non-null uint8\n",
      "OnlineBackup_Yes                         7043 non-null uint8\n",
      "DeviceProtection_No                      7043 non-null uint8\n",
      "DeviceProtection_Yes                     7043 non-null uint8\n",
      "TechSupport_No                           7043 non-null uint8\n",
      "TechSupport_Yes                          7043 non-null uint8\n",
      "StreamingTV_No                           7043 non-null uint8\n",
      "StreamingTV_Yes                          7043 non-null uint8\n",
      "StreamingMovies_No                       7043 non-null uint8\n",
      "StreamingMovies_Yes                      7043 non-null uint8\n",
      "dtypes: float64(2), int64(7), object(1), uint8(22)\n",
      "memory usage: 756.6+ KB\n"
     ]
    }
   ],
   "source": [
    "telecom_data.info()"
   ]
  },
  {
   "cell_type": "code",
   "execution_count": 34,
   "metadata": {},
   "outputs": [
    {
     "data": {
      "text/plain": [
       "Index(['customerID', 'tenure', 'PhoneService', 'PaperlessBilling',\n",
       "       'MonthlyCharges', 'TotalCharges', 'Churn', 'SeniorCitizen', 'Partner',\n",
       "       'Dependents', 'PaymentMethod_Credit card (automatic)',\n",
       "       'PaymentMethod_Electronic check', 'PaymentMethod_Mailed check',\n",
       "       'Contract_One year', 'Contract_Two year', 'InternetService_Fiber optic',\n",
       "       'InternetService_No', 'gender_Male', 'MultipleLines_No',\n",
       "       'MultipleLines_Yes', 'OnlineSecurity_No', 'OnlineSecurity_Yes',\n",
       "       'OnlineBackup_No', 'OnlineBackup_Yes', 'DeviceProtection_No',\n",
       "       'DeviceProtection_Yes', 'TechSupport_No', 'TechSupport_Yes',\n",
       "       'StreamingTV_No', 'StreamingTV_Yes', 'StreamingMovies_No',\n",
       "       'StreamingMovies_Yes'],\n",
       "      dtype='object')"
      ]
     },
     "execution_count": 34,
     "metadata": {},
     "output_type": "execute_result"
    }
   ],
   "source": [
    "telecom_data.columns"
   ]
  },
  {
   "cell_type": "code",
   "execution_count": 35,
   "metadata": {},
   "outputs": [
    {
     "data": {
      "text/html": [
       "<div>\n",
       "<style scoped>\n",
       "    .dataframe tbody tr th:only-of-type {\n",
       "        vertical-align: middle;\n",
       "    }\n",
       "\n",
       "    .dataframe tbody tr th {\n",
       "        vertical-align: top;\n",
       "    }\n",
       "\n",
       "    .dataframe thead th {\n",
       "        text-align: right;\n",
       "    }\n",
       "</style>\n",
       "<table border=\"1\" class=\"dataframe\">\n",
       "  <thead>\n",
       "    <tr style=\"text-align: right;\">\n",
       "      <th></th>\n",
       "      <th>tenure</th>\n",
       "      <th>MonthlyCharges</th>\n",
       "      <th>SeniorCitizen</th>\n",
       "      <th>TotalCharges</th>\n",
       "    </tr>\n",
       "  </thead>\n",
       "  <tbody>\n",
       "    <tr>\n",
       "      <th>count</th>\n",
       "      <td>7043.000000</td>\n",
       "      <td>7043.000000</td>\n",
       "      <td>7043.000000</td>\n",
       "      <td>7032.000000</td>\n",
       "    </tr>\n",
       "    <tr>\n",
       "      <th>mean</th>\n",
       "      <td>32.371149</td>\n",
       "      <td>64.761692</td>\n",
       "      <td>0.162147</td>\n",
       "      <td>2283.300441</td>\n",
       "    </tr>\n",
       "    <tr>\n",
       "      <th>std</th>\n",
       "      <td>24.559481</td>\n",
       "      <td>30.090047</td>\n",
       "      <td>0.368612</td>\n",
       "      <td>2266.771362</td>\n",
       "    </tr>\n",
       "    <tr>\n",
       "      <th>min</th>\n",
       "      <td>0.000000</td>\n",
       "      <td>18.250000</td>\n",
       "      <td>0.000000</td>\n",
       "      <td>18.800000</td>\n",
       "    </tr>\n",
       "    <tr>\n",
       "      <th>25%</th>\n",
       "      <td>9.000000</td>\n",
       "      <td>35.500000</td>\n",
       "      <td>0.000000</td>\n",
       "      <td>401.450000</td>\n",
       "    </tr>\n",
       "    <tr>\n",
       "      <th>50%</th>\n",
       "      <td>29.000000</td>\n",
       "      <td>70.350000</td>\n",
       "      <td>0.000000</td>\n",
       "      <td>1397.475000</td>\n",
       "    </tr>\n",
       "    <tr>\n",
       "      <th>75%</th>\n",
       "      <td>55.000000</td>\n",
       "      <td>89.850000</td>\n",
       "      <td>0.000000</td>\n",
       "      <td>3794.737500</td>\n",
       "    </tr>\n",
       "    <tr>\n",
       "      <th>90%</th>\n",
       "      <td>69.000000</td>\n",
       "      <td>102.600000</td>\n",
       "      <td>1.000000</td>\n",
       "      <td>5976.640000</td>\n",
       "    </tr>\n",
       "    <tr>\n",
       "      <th>95%</th>\n",
       "      <td>72.000000</td>\n",
       "      <td>107.400000</td>\n",
       "      <td>1.000000</td>\n",
       "      <td>6923.590000</td>\n",
       "    </tr>\n",
       "    <tr>\n",
       "      <th>max</th>\n",
       "      <td>72.000000</td>\n",
       "      <td>118.750000</td>\n",
       "      <td>1.000000</td>\n",
       "      <td>8684.800000</td>\n",
       "    </tr>\n",
       "  </tbody>\n",
       "</table>\n",
       "</div>"
      ],
      "text/plain": [
       "            tenure  MonthlyCharges  SeniorCitizen  TotalCharges\n",
       "count  7043.000000     7043.000000    7043.000000   7032.000000\n",
       "mean     32.371149       64.761692       0.162147   2283.300441\n",
       "std      24.559481       30.090047       0.368612   2266.771362\n",
       "min       0.000000       18.250000       0.000000     18.800000\n",
       "25%       9.000000       35.500000       0.000000    401.450000\n",
       "50%      29.000000       70.350000       0.000000   1397.475000\n",
       "75%      55.000000       89.850000       0.000000   3794.737500\n",
       "90%      69.000000      102.600000       1.000000   5976.640000\n",
       "95%      72.000000      107.400000       1.000000   6923.590000\n",
       "max      72.000000      118.750000       1.000000   8684.800000"
      ]
     },
     "execution_count": 35,
     "metadata": {},
     "output_type": "execute_result"
    }
   ],
   "source": [
    "telecom_data[['tenure', 'MonthlyCharges', 'SeniorCitizen', 'TotalCharges']].describe(percentiles=[0.25, 0.5, 0.75, 0.9, 0.95])"
   ]
  },
  {
   "cell_type": "code",
   "execution_count": 36,
   "metadata": {},
   "outputs": [
    {
     "data": {
      "text/plain": [
       "customerID                                0\n",
       "tenure                                    0\n",
       "PhoneService                              0\n",
       "PaperlessBilling                          0\n",
       "MonthlyCharges                            0\n",
       "TotalCharges                             11\n",
       "Churn                                     0\n",
       "SeniorCitizen                             0\n",
       "Partner                                   0\n",
       "Dependents                                0\n",
       "PaymentMethod_Credit card (automatic)     0\n",
       "PaymentMethod_Electronic check            0\n",
       "PaymentMethod_Mailed check                0\n",
       "Contract_One year                         0\n",
       "Contract_Two year                         0\n",
       "InternetService_Fiber optic               0\n",
       "InternetService_No                        0\n",
       "gender_Male                               0\n",
       "MultipleLines_No                          0\n",
       "MultipleLines_Yes                         0\n",
       "OnlineSecurity_No                         0\n",
       "OnlineSecurity_Yes                        0\n",
       "OnlineBackup_No                           0\n",
       "OnlineBackup_Yes                          0\n",
       "DeviceProtection_No                       0\n",
       "DeviceProtection_Yes                      0\n",
       "TechSupport_No                            0\n",
       "TechSupport_Yes                           0\n",
       "StreamingTV_No                            0\n",
       "StreamingTV_Yes                           0\n",
       "StreamingMovies_No                        0\n",
       "StreamingMovies_Yes                       0\n",
       "dtype: int64"
      ]
     },
     "execution_count": 36,
     "metadata": {},
     "output_type": "execute_result"
    }
   ],
   "source": [
    "telecom_data.isnull().sum()"
   ]
  },
  {
   "cell_type": "code",
   "execution_count": 37,
   "metadata": {},
   "outputs": [
    {
     "data": {
      "text/plain": [
       "customerID                               0.00\n",
       "tenure                                   0.00\n",
       "PhoneService                             0.00\n",
       "PaperlessBilling                         0.00\n",
       "MonthlyCharges                           0.00\n",
       "TotalCharges                             0.16\n",
       "Churn                                    0.00\n",
       "SeniorCitizen                            0.00\n",
       "Partner                                  0.00\n",
       "Dependents                               0.00\n",
       "PaymentMethod_Credit card (automatic)    0.00\n",
       "PaymentMethod_Electronic check           0.00\n",
       "PaymentMethod_Mailed check               0.00\n",
       "Contract_One year                        0.00\n",
       "Contract_Two year                        0.00\n",
       "InternetService_Fiber optic              0.00\n",
       "InternetService_No                       0.00\n",
       "gender_Male                              0.00\n",
       "MultipleLines_No                         0.00\n",
       "MultipleLines_Yes                        0.00\n",
       "OnlineSecurity_No                        0.00\n",
       "OnlineSecurity_Yes                       0.00\n",
       "OnlineBackup_No                          0.00\n",
       "OnlineBackup_Yes                         0.00\n",
       "DeviceProtection_No                      0.00\n",
       "DeviceProtection_Yes                     0.00\n",
       "TechSupport_No                           0.00\n",
       "TechSupport_Yes                          0.00\n",
       "StreamingTV_No                           0.00\n",
       "StreamingTV_Yes                          0.00\n",
       "StreamingMovies_No                       0.00\n",
       "StreamingMovies_Yes                      0.00\n",
       "dtype: float64"
      ]
     },
     "execution_count": 37,
     "metadata": {},
     "output_type": "execute_result"
    }
   ],
   "source": [
    "round((100 * (telecom_data.isnull().sum() / len(telecom_data.index))), 2)"
   ]
  },
  {
   "cell_type": "code",
   "execution_count": 38,
   "metadata": {},
   "outputs": [],
   "source": [
    "telecom_data = telecom_data[~np.isnan(telecom_data.TotalCharges)]"
   ]
  },
  {
   "cell_type": "code",
   "execution_count": 39,
   "metadata": {},
   "outputs": [
    {
     "data": {
      "text/plain": [
       "customerID                               0.0\n",
       "tenure                                   0.0\n",
       "PhoneService                             0.0\n",
       "PaperlessBilling                         0.0\n",
       "MonthlyCharges                           0.0\n",
       "TotalCharges                             0.0\n",
       "Churn                                    0.0\n",
       "SeniorCitizen                            0.0\n",
       "Partner                                  0.0\n",
       "Dependents                               0.0\n",
       "PaymentMethod_Credit card (automatic)    0.0\n",
       "PaymentMethod_Electronic check           0.0\n",
       "PaymentMethod_Mailed check               0.0\n",
       "Contract_One year                        0.0\n",
       "Contract_Two year                        0.0\n",
       "InternetService_Fiber optic              0.0\n",
       "InternetService_No                       0.0\n",
       "gender_Male                              0.0\n",
       "MultipleLines_No                         0.0\n",
       "MultipleLines_Yes                        0.0\n",
       "OnlineSecurity_No                        0.0\n",
       "OnlineSecurity_Yes                       0.0\n",
       "OnlineBackup_No                          0.0\n",
       "OnlineBackup_Yes                         0.0\n",
       "DeviceProtection_No                      0.0\n",
       "DeviceProtection_Yes                     0.0\n",
       "TechSupport_No                           0.0\n",
       "TechSupport_Yes                          0.0\n",
       "StreamingTV_No                           0.0\n",
       "StreamingTV_Yes                          0.0\n",
       "StreamingMovies_No                       0.0\n",
       "StreamingMovies_Yes                      0.0\n",
       "dtype: float64"
      ]
     },
     "execution_count": 39,
     "metadata": {},
     "output_type": "execute_result"
    }
   ],
   "source": [
    "round((100 * (telecom_data.isnull().sum() / len(telecom_data.index))), 2)"
   ]
  },
  {
   "cell_type": "markdown",
   "metadata": {},
   "source": [
    "### Spliting the data"
   ]
  },
  {
   "cell_type": "code",
   "execution_count": 40,
   "metadata": {},
   "outputs": [],
   "source": [
    "from sklearn.model_selection import train_test_split"
   ]
  },
  {
   "cell_type": "code",
   "execution_count": 41,
   "metadata": {},
   "outputs": [
    {
     "data": {
      "text/plain": [
       "Index(['tenure', 'PhoneService', 'PaperlessBilling', 'MonthlyCharges',\n",
       "       'TotalCharges', 'SeniorCitizen', 'Partner', 'Dependents',\n",
       "       'PaymentMethod_Credit card (automatic)',\n",
       "       'PaymentMethod_Electronic check', 'PaymentMethod_Mailed check',\n",
       "       'Contract_One year', 'Contract_Two year', 'InternetService_Fiber optic',\n",
       "       'InternetService_No', 'gender_Male', 'MultipleLines_No',\n",
       "       'MultipleLines_Yes', 'OnlineSecurity_No', 'OnlineSecurity_Yes',\n",
       "       'OnlineBackup_No', 'OnlineBackup_Yes', 'DeviceProtection_No',\n",
       "       'DeviceProtection_Yes', 'TechSupport_No', 'TechSupport_Yes',\n",
       "       'StreamingTV_No', 'StreamingTV_Yes', 'StreamingMovies_No',\n",
       "       'StreamingMovies_Yes'],\n",
       "      dtype='object')"
      ]
     },
     "execution_count": 41,
     "metadata": {},
     "output_type": "execute_result"
    }
   ],
   "source": [
    "churn_data = telecom_data.Churn\n",
    "telecom_data.drop(['customerID', 'Churn'], axis=1, inplace=True)\n",
    "telecom_data.columns"
   ]
  },
  {
   "cell_type": "code",
   "execution_count": 42,
   "metadata": {},
   "outputs": [],
   "source": [
    "x_train, x_test, y_train, y_test = train_test_split(telecom_data, churn_data, train_size=0.7, test_size=0.3, random_state=100)"
   ]
  },
  {
   "cell_type": "code",
   "execution_count": 43,
   "metadata": {},
   "outputs": [
    {
     "data": {
      "text/plain": [
       "(4922,)"
      ]
     },
     "execution_count": 43,
     "metadata": {},
     "output_type": "execute_result"
    }
   ],
   "source": [
    "y_train.shape"
   ]
  },
  {
   "cell_type": "code",
   "execution_count": 44,
   "metadata": {},
   "outputs": [
    {
     "data": {
      "text/plain": [
       "(2110,)"
      ]
     },
     "execution_count": 44,
     "metadata": {},
     "output_type": "execute_result"
    }
   ],
   "source": [
    "y_test.shape"
   ]
  },
  {
   "cell_type": "code",
   "execution_count": 45,
   "metadata": {},
   "outputs": [
    {
     "data": {
      "text/plain": [
       "(4922, 30)"
      ]
     },
     "execution_count": 45,
     "metadata": {},
     "output_type": "execute_result"
    }
   ],
   "source": [
    "x_train.shape"
   ]
  },
  {
   "cell_type": "code",
   "execution_count": 46,
   "metadata": {},
   "outputs": [
    {
     "data": {
      "text/plain": [
       "(2110, 30)"
      ]
     },
     "execution_count": 46,
     "metadata": {},
     "output_type": "execute_result"
    }
   ],
   "source": [
    "x_test.shape"
   ]
  },
  {
   "cell_type": "code",
   "execution_count": 47,
   "metadata": {},
   "outputs": [],
   "source": [
    "from sklearn.preprocessing import StandardScaler"
   ]
  },
  {
   "cell_type": "code",
   "execution_count": 48,
   "metadata": {},
   "outputs": [
    {
     "name": "stderr",
     "output_type": "stream",
     "text": [
      "/anaconda3/lib/python3.7/site-packages/sklearn/preprocessing/data.py:625: DataConversionWarning: Data with input dtype int64, float64 were all converted to float64 by StandardScaler.\n",
      "  return self.partial_fit(X, y)\n",
      "/anaconda3/lib/python3.7/site-packages/sklearn/base.py:462: DataConversionWarning: Data with input dtype int64, float64 were all converted to float64 by StandardScaler.\n",
      "  return self.fit(X, **fit_params).transform(X)\n",
      "/anaconda3/lib/python3.7/site-packages/ipykernel_launcher.py:2: SettingWithCopyWarning: \n",
      "A value is trying to be set on a copy of a slice from a DataFrame.\n",
      "Try using .loc[row_indexer,col_indexer] = value instead\n",
      "\n",
      "See the caveats in the documentation: http://pandas.pydata.org/pandas-docs/stable/indexing.html#indexing-view-versus-copy\n",
      "  \n",
      "/anaconda3/lib/python3.7/site-packages/pandas/core/indexing.py:543: SettingWithCopyWarning: \n",
      "A value is trying to be set on a copy of a slice from a DataFrame.\n",
      "Try using .loc[row_indexer,col_indexer] = value instead\n",
      "\n",
      "See the caveats in the documentation: http://pandas.pydata.org/pandas-docs/stable/indexing.html#indexing-view-versus-copy\n",
      "  self.obj[item] = s\n"
     ]
    }
   ],
   "source": [
    "scaler = StandardScaler()\n",
    "x_train[['tenure', 'MonthlyCharges', 'TotalCharges']] = scaler.fit_transform(x_train[['tenure', 'MonthlyCharges', 'TotalCharges']])"
   ]
  },
  {
   "cell_type": "code",
   "execution_count": 49,
   "metadata": {},
   "outputs": [
    {
     "data": {
      "text/html": [
       "<div>\n",
       "<style scoped>\n",
       "    .dataframe tbody tr th:only-of-type {\n",
       "        vertical-align: middle;\n",
       "    }\n",
       "\n",
       "    .dataframe tbody tr th {\n",
       "        vertical-align: top;\n",
       "    }\n",
       "\n",
       "    .dataframe thead th {\n",
       "        text-align: right;\n",
       "    }\n",
       "</style>\n",
       "<table border=\"1\" class=\"dataframe\">\n",
       "  <thead>\n",
       "    <tr style=\"text-align: right;\">\n",
       "      <th></th>\n",
       "      <th>tenure</th>\n",
       "      <th>PhoneService</th>\n",
       "      <th>PaperlessBilling</th>\n",
       "      <th>MonthlyCharges</th>\n",
       "      <th>TotalCharges</th>\n",
       "      <th>SeniorCitizen</th>\n",
       "      <th>Partner</th>\n",
       "      <th>Dependents</th>\n",
       "      <th>PaymentMethod_Credit card (automatic)</th>\n",
       "      <th>PaymentMethod_Electronic check</th>\n",
       "      <th>...</th>\n",
       "      <th>OnlineBackup_No</th>\n",
       "      <th>OnlineBackup_Yes</th>\n",
       "      <th>DeviceProtection_No</th>\n",
       "      <th>DeviceProtection_Yes</th>\n",
       "      <th>TechSupport_No</th>\n",
       "      <th>TechSupport_Yes</th>\n",
       "      <th>StreamingTV_No</th>\n",
       "      <th>StreamingTV_Yes</th>\n",
       "      <th>StreamingMovies_No</th>\n",
       "      <th>StreamingMovies_Yes</th>\n",
       "    </tr>\n",
       "  </thead>\n",
       "  <tbody>\n",
       "    <tr>\n",
       "      <th>879</th>\n",
       "      <td>0.019693</td>\n",
       "      <td>1</td>\n",
       "      <td>1</td>\n",
       "      <td>-0.338074</td>\n",
       "      <td>-0.276449</td>\n",
       "      <td>0</td>\n",
       "      <td>0</td>\n",
       "      <td>0</td>\n",
       "      <td>0</td>\n",
       "      <td>0</td>\n",
       "      <td>...</td>\n",
       "      <td>0</td>\n",
       "      <td>1</td>\n",
       "      <td>1</td>\n",
       "      <td>0</td>\n",
       "      <td>1</td>\n",
       "      <td>0</td>\n",
       "      <td>1</td>\n",
       "      <td>0</td>\n",
       "      <td>1</td>\n",
       "      <td>0</td>\n",
       "    </tr>\n",
       "    <tr>\n",
       "      <th>5790</th>\n",
       "      <td>0.305384</td>\n",
       "      <td>0</td>\n",
       "      <td>1</td>\n",
       "      <td>-0.464443</td>\n",
       "      <td>-0.112702</td>\n",
       "      <td>0</td>\n",
       "      <td>1</td>\n",
       "      <td>1</td>\n",
       "      <td>0</td>\n",
       "      <td>1</td>\n",
       "      <td>...</td>\n",
       "      <td>0</td>\n",
       "      <td>1</td>\n",
       "      <td>1</td>\n",
       "      <td>0</td>\n",
       "      <td>1</td>\n",
       "      <td>0</td>\n",
       "      <td>0</td>\n",
       "      <td>1</td>\n",
       "      <td>0</td>\n",
       "      <td>1</td>\n",
       "    </tr>\n",
       "    <tr>\n",
       "      <th>6498</th>\n",
       "      <td>-1.286319</td>\n",
       "      <td>1</td>\n",
       "      <td>1</td>\n",
       "      <td>0.581425</td>\n",
       "      <td>-0.974430</td>\n",
       "      <td>0</td>\n",
       "      <td>0</td>\n",
       "      <td>0</td>\n",
       "      <td>0</td>\n",
       "      <td>1</td>\n",
       "      <td>...</td>\n",
       "      <td>0</td>\n",
       "      <td>1</td>\n",
       "      <td>0</td>\n",
       "      <td>1</td>\n",
       "      <td>1</td>\n",
       "      <td>0</td>\n",
       "      <td>1</td>\n",
       "      <td>0</td>\n",
       "      <td>1</td>\n",
       "      <td>0</td>\n",
       "    </tr>\n",
       "    <tr>\n",
       "      <th>880</th>\n",
       "      <td>-0.919003</td>\n",
       "      <td>1</td>\n",
       "      <td>1</td>\n",
       "      <td>1.505913</td>\n",
       "      <td>-0.550676</td>\n",
       "      <td>0</td>\n",
       "      <td>0</td>\n",
       "      <td>0</td>\n",
       "      <td>0</td>\n",
       "      <td>1</td>\n",
       "      <td>...</td>\n",
       "      <td>0</td>\n",
       "      <td>1</td>\n",
       "      <td>0</td>\n",
       "      <td>1</td>\n",
       "      <td>0</td>\n",
       "      <td>1</td>\n",
       "      <td>0</td>\n",
       "      <td>1</td>\n",
       "      <td>0</td>\n",
       "      <td>1</td>\n",
       "    </tr>\n",
       "    <tr>\n",
       "      <th>2784</th>\n",
       "      <td>-1.163880</td>\n",
       "      <td>1</td>\n",
       "      <td>1</td>\n",
       "      <td>1.106854</td>\n",
       "      <td>-0.835971</td>\n",
       "      <td>0</td>\n",
       "      <td>0</td>\n",
       "      <td>1</td>\n",
       "      <td>0</td>\n",
       "      <td>0</td>\n",
       "      <td>...</td>\n",
       "      <td>1</td>\n",
       "      <td>0</td>\n",
       "      <td>0</td>\n",
       "      <td>1</td>\n",
       "      <td>0</td>\n",
       "      <td>1</td>\n",
       "      <td>0</td>\n",
       "      <td>1</td>\n",
       "      <td>0</td>\n",
       "      <td>1</td>\n",
       "    </tr>\n",
       "  </tbody>\n",
       "</table>\n",
       "<p>5 rows × 30 columns</p>\n",
       "</div>"
      ],
      "text/plain": [
       "        tenure  PhoneService  PaperlessBilling  MonthlyCharges  TotalCharges  \\\n",
       "879   0.019693             1                 1       -0.338074     -0.276449   \n",
       "5790  0.305384             0                 1       -0.464443     -0.112702   \n",
       "6498 -1.286319             1                 1        0.581425     -0.974430   \n",
       "880  -0.919003             1                 1        1.505913     -0.550676   \n",
       "2784 -1.163880             1                 1        1.106854     -0.835971   \n",
       "\n",
       "      SeniorCitizen  Partner  Dependents  \\\n",
       "879               0        0           0   \n",
       "5790              0        1           1   \n",
       "6498              0        0           0   \n",
       "880               0        0           0   \n",
       "2784              0        0           1   \n",
       "\n",
       "      PaymentMethod_Credit card (automatic)  PaymentMethod_Electronic check  \\\n",
       "879                                       0                               0   \n",
       "5790                                      0                               1   \n",
       "6498                                      0                               1   \n",
       "880                                       0                               1   \n",
       "2784                                      0                               0   \n",
       "\n",
       "             ...           OnlineBackup_No  OnlineBackup_Yes  \\\n",
       "879          ...                         0                 1   \n",
       "5790         ...                         0                 1   \n",
       "6498         ...                         0                 1   \n",
       "880          ...                         0                 1   \n",
       "2784         ...                         1                 0   \n",
       "\n",
       "      DeviceProtection_No  DeviceProtection_Yes  TechSupport_No  \\\n",
       "879                     1                     0               1   \n",
       "5790                    1                     0               1   \n",
       "6498                    0                     1               1   \n",
       "880                     0                     1               0   \n",
       "2784                    0                     1               0   \n",
       "\n",
       "      TechSupport_Yes  StreamingTV_No  StreamingTV_Yes  StreamingMovies_No  \\\n",
       "879                 0               1                0                   1   \n",
       "5790                0               0                1                   0   \n",
       "6498                0               1                0                   1   \n",
       "880                 1               0                1                   0   \n",
       "2784                1               0                1                   0   \n",
       "\n",
       "      StreamingMovies_Yes  \n",
       "879                     0  \n",
       "5790                    1  \n",
       "6498                    0  \n",
       "880                     1  \n",
       "2784                    1  \n",
       "\n",
       "[5 rows x 30 columns]"
      ]
     },
     "execution_count": 49,
     "metadata": {},
     "output_type": "execute_result"
    }
   ],
   "source": [
    "x_train.head()"
   ]
  },
  {
   "cell_type": "code",
   "execution_count": 53,
   "metadata": {},
   "outputs": [
    {
     "name": "stdout",
     "output_type": "stream",
     "text": [
      "                                         tenure  PhoneService  \\\n",
      "tenure                                 1.000000      0.007877   \n",
      "PhoneService                           0.007877      1.000000   \n",
      "PaperlessBilling                       0.004823      0.016696   \n",
      "MonthlyCharges                         0.246862      0.248033   \n",
      "TotalCharges                           0.825880      0.113008   \n",
      "SeniorCitizen                          0.015683      0.008392   \n",
      "Partner                                0.381912      0.018397   \n",
      "Dependents                             0.163386     -0.001078   \n",
      "PaymentMethod_Credit card (automatic)  0.232800     -0.006916   \n",
      "PaymentMethod_Electronic check        -0.210197      0.002747   \n",
      "PaymentMethod_Mailed check            -0.232181     -0.004463   \n",
      "Contract_One year                      0.202338     -0.003142   \n",
      "Contract_Two year                      0.563801      0.004442   \n",
      "InternetService_Fiber optic            0.017930      0.290183   \n",
      "InternetService_No                    -0.037529      0.171817   \n",
      "gender_Male                            0.005285     -0.007515   \n",
      "MultipleLines_No                      -0.323891      0.315218   \n",
      "MultipleLines_Yes                      0.332399      0.279530   \n",
      "OnlineSecurity_No                     -0.265987     -0.058546   \n",
      "OnlineSecurity_Yes                     0.328297     -0.091676   \n",
      "OnlineBackup_No                       -0.314769     -0.092579   \n",
      "OnlineBackup_Yes                       0.361138     -0.052133   \n",
      "DeviceProtection_No                   -0.314820     -0.075421   \n",
      "DeviceProtection_Yes                   0.361520     -0.070076   \n",
      "TechSupport_No                        -0.264363     -0.055102   \n",
      "TechSupport_Yes                        0.325288     -0.095138   \n",
      "StreamingTV_No                        -0.246814     -0.123159   \n",
      "StreamingTV_Yes                        0.280264     -0.021383   \n",
      "StreamingMovies_No                    -0.252890     -0.111273   \n",
      "StreamingMovies_Yes                    0.285402     -0.033477   \n",
      "\n",
      "                                       PaperlessBilling  MonthlyCharges  \\\n",
      "tenure                                         0.004823        0.246862   \n",
      "PhoneService                                   0.016696        0.248033   \n",
      "PaperlessBilling                               1.000000        0.351930   \n",
      "MonthlyCharges                                 0.351930        1.000000   \n",
      "TotalCharges                                   0.157830        0.651065   \n",
      "SeniorCitizen                                  0.156258        0.219874   \n",
      "Partner                                       -0.013957        0.097825   \n",
      "Dependents                                    -0.110131       -0.112343   \n",
      "PaymentMethod_Credit card (automatic)         -0.013726        0.030055   \n",
      "PaymentMethod_Electronic check                 0.208427        0.271117   \n",
      "PaymentMethod_Mailed check                    -0.203981       -0.376568   \n",
      "Contract_One year                             -0.052278        0.004810   \n",
      "Contract_Two year                             -0.146281       -0.073256   \n",
      "InternetService_Fiber optic                    0.326470        0.787195   \n",
      "InternetService_No                            -0.320592       -0.763191   \n",
      "gender_Male                                   -0.011902       -0.013779   \n",
      "MultipleLines_No                              -0.151974       -0.338514   \n",
      "MultipleLines_Yes                              0.163746        0.490912   \n",
      "OnlineSecurity_No                              0.267592        0.360220   \n",
      "OnlineSecurity_Yes                            -0.004051        0.296447   \n",
      "OnlineBackup_No                                0.144218        0.210126   \n",
      "OnlineBackup_Yes                               0.127056        0.441529   \n",
      "DeviceProtection_No                            0.166253        0.171057   \n",
      "DeviceProtection_Yes                           0.104079        0.482607   \n",
      "TechSupport_No                                 0.229875        0.321267   \n",
      "TechSupport_Yes                                0.037536        0.338301   \n",
      "StreamingTV_No                                 0.046715        0.016015   \n",
      "StreamingTV_Yes                                0.224241        0.629668   \n",
      "StreamingMovies_No                             0.058987        0.017271   \n",
      "StreamingMovies_Yes                            0.211583        0.627235   \n",
      "\n",
      "                                       TotalCharges  SeniorCitizen   Partner  \\\n",
      "tenure                                     0.825880       0.015683  0.381912   \n",
      "PhoneService                               0.113008       0.008392  0.018397   \n",
      "PaperlessBilling                           0.157830       0.156258 -0.013957   \n",
      "MonthlyCharges                             0.651065       0.219874  0.097825   \n",
      "TotalCharges                               1.000000       0.102411  0.319072   \n",
      "SeniorCitizen                              0.102411       1.000000  0.016957   \n",
      "Partner                                    0.319072       0.016957  1.000000   \n",
      "Dependents                                 0.064653      -0.210550  0.452269   \n",
      "PaymentMethod_Credit card (automatic)      0.182663      -0.024359  0.082327   \n",
      "PaymentMethod_Electronic check            -0.060436       0.171322 -0.083207   \n",
      "PaymentMethod_Mailed check                -0.294708      -0.152987 -0.096948   \n",
      "Contract_One year                          0.170569      -0.046491  0.083067   \n",
      "Contract_Two year                          0.358036      -0.116205  0.247334   \n",
      "InternetService_Fiber optic                0.360769       0.254923  0.001235   \n",
      "InternetService_No                        -0.374878      -0.182519 -0.000286   \n",
      "gender_Male                                0.000048      -0.001819 -0.001379   \n",
      "MultipleLines_No                          -0.396765      -0.136377 -0.130028   \n",
      "MultipleLines_Yes                          0.469042       0.142996  0.142561   \n",
      "OnlineSecurity_No                         -0.064515       0.185145 -0.129394   \n",
      "OnlineSecurity_Yes                         0.412619      -0.038576  0.143346   \n",
      "OnlineBackup_No                           -0.177633       0.087539 -0.135626   \n",
      "OnlineBackup_Yes                           0.510100       0.066663  0.141849   \n",
      "DeviceProtection_No                       -0.189485       0.094403 -0.146702   \n",
      "DeviceProtection_Yes                       0.522881       0.059514  0.153556   \n",
      "TechSupport_No                            -0.084270       0.205254 -0.108875   \n",
      "TechSupport_Yes                            0.432868      -0.060577  0.120206   \n",
      "StreamingTV_No                            -0.197144       0.048664 -0.123394   \n",
      "StreamingTV_Yes                            0.515709       0.105445  0.124483   \n",
      "StreamingMovies_No                        -0.202605       0.034196 -0.117488   \n",
      "StreamingMovies_Yes                        0.519867       0.119842  0.118108   \n",
      "\n",
      "                                       Dependents  \\\n",
      "tenure                                   0.163386   \n",
      "PhoneService                            -0.001078   \n",
      "PaperlessBilling                        -0.110131   \n",
      "MonthlyCharges                          -0.112343   \n",
      "TotalCharges                             0.064653   \n",
      "SeniorCitizen                           -0.210550   \n",
      "Partner                                  0.452269   \n",
      "Dependents                               1.000000   \n",
      "PaymentMethod_Credit card (automatic)    0.061134   \n",
      "PaymentMethod_Electronic check          -0.149274   \n",
      "PaymentMethod_Mailed check               0.056448   \n",
      "Contract_One year                        0.069222   \n",
      "Contract_Two year                        0.201699   \n",
      "InternetService_Fiber optic             -0.164101   \n",
      "InternetService_No                       0.138383   \n",
      "gender_Male                              0.010349   \n",
      "MultipleLines_No                         0.023388   \n",
      "MultipleLines_Yes                       -0.024307   \n",
      "OnlineSecurity_No                       -0.186979   \n",
      "OnlineSecurity_Yes                       0.080786   \n",
      "OnlineBackup_No                         -0.137421   \n",
      "OnlineBackup_Yes                         0.023639   \n",
      "DeviceProtection_No                     -0.128053   \n",
      "DeviceProtection_Yes                     0.013900   \n",
      "TechSupport_No                          -0.171164   \n",
      "TechSupport_Yes                          0.063053   \n",
      "StreamingTV_No                          -0.099912   \n",
      "StreamingTV_Yes                         -0.016499   \n",
      "StreamingMovies_No                      -0.078245   \n",
      "StreamingMovies_Yes                     -0.038375   \n",
      "\n",
      "                                       PaymentMethod_Credit card (automatic)  \\\n",
      "tenure                                                              0.232800   \n",
      "PhoneService                                                       -0.006916   \n",
      "PaperlessBilling                                                   -0.013726   \n",
      "MonthlyCharges                                                      0.030055   \n",
      "TotalCharges                                                        0.182663   \n",
      "SeniorCitizen                                                      -0.024359   \n",
      "Partner                                                             0.082327   \n",
      "Dependents                                                          0.061134   \n",
      "PaymentMethod_Credit card (automatic)                               1.000000   \n",
      "PaymentMethod_Electronic check                                     -0.373978   \n",
      "PaymentMethod_Mailed check                                         -0.285583   \n",
      "Contract_One year                                                   0.067590   \n",
      "Contract_Two year                                                   0.174410   \n",
      "InternetService_Fiber optic                                        -0.050552   \n",
      "InternetService_No                                                  0.001870   \n",
      "gender_Male                                                         0.001632   \n",
      "MultipleLines_No                                                   -0.063712   \n",
      "MultipleLines_Yes                                                   0.060319   \n",
      "OnlineSecurity_No                                                  -0.105963   \n",
      "OnlineSecurity_Yes                                                  0.115473   \n",
      "OnlineBackup_No                                                    -0.088189   \n",
      "OnlineBackup_Yes                                                    0.090455   \n",
      "DeviceProtection_No                                                -0.108008   \n",
      "DeviceProtection_Yes                                                0.111252   \n",
      "TechSupport_No                                                     -0.107761   \n",
      "TechSupport_Yes                                                     0.117024   \n",
      "StreamingTV_No                                                     -0.041309   \n",
      "StreamingTV_Yes                                                     0.040010   \n",
      "StreamingMovies_No                                                 -0.049817   \n",
      "StreamingMovies_Yes                                                 0.048398   \n",
      "\n",
      "                                       PaymentMethod_Electronic check  \\\n",
      "tenure                                                      -0.210197   \n",
      "PhoneService                                                 0.002747   \n",
      "PaperlessBilling                                             0.208427   \n",
      "MonthlyCharges                                               0.271117   \n",
      "TotalCharges                                                -0.060436   \n",
      "SeniorCitizen                                                0.171322   \n",
      "Partner                                                     -0.083207   \n",
      "Dependents                                                  -0.149274   \n",
      "PaymentMethod_Credit card (automatic)                       -0.373978   \n",
      "PaymentMethod_Electronic check                               1.000000   \n",
      "PaymentMethod_Mailed check                                  -0.386971   \n",
      "Contract_One year                                           -0.109546   \n",
      "Contract_Two year                                           -0.281147   \n",
      "InternetService_Fiber optic                                  0.335763   \n",
      "InternetService_No                                          -0.284608   \n",
      "gender_Male                                                  0.000844   \n",
      "MultipleLines_No                                            -0.080990   \n",
      "MultipleLines_Yes                                            0.083583   \n",
      "OnlineSecurity_No                                            0.335854   \n",
      "OnlineSecurity_Yes                                          -0.112295   \n",
      "OnlineBackup_No                                              0.236414   \n",
      "OnlineBackup_Yes                                            -0.000364   \n",
      "DeviceProtection_No                                          0.239173   \n",
      "DeviceProtection_Yes                                        -0.003308   \n",
      "TechSupport_No                                               0.338529   \n",
      "TechSupport_Yes                                             -0.114807   \n",
      "StreamingTV_No                                               0.095426   \n",
      "StreamingTV_Yes                                              0.144747   \n",
      "StreamingMovies_No                                           0.102617   \n",
      "StreamingMovies_Yes                                          0.137420   \n",
      "\n",
      "                                              ...           OnlineBackup_No  \\\n",
      "tenure                                        ...                 -0.314769   \n",
      "PhoneService                                  ...                 -0.092579   \n",
      "PaperlessBilling                              ...                  0.144218   \n",
      "MonthlyCharges                                ...                  0.210126   \n",
      "TotalCharges                                  ...                 -0.177633   \n",
      "SeniorCitizen                                 ...                  0.087539   \n",
      "Partner                                       ...                 -0.135626   \n",
      "Dependents                                    ...                 -0.137421   \n",
      "PaymentMethod_Credit card (automatic)         ...                 -0.088189   \n",
      "PaymentMethod_Electronic check                ...                  0.236414   \n",
      "PaymentMethod_Mailed check                    ...                 -0.098438   \n",
      "Contract_One year                             ...                 -0.112133   \n",
      "Contract_Two year                             ...                 -0.287128   \n",
      "InternetService_Fiber optic                   ...                  0.227363   \n",
      "InternetService_No                            ...                 -0.464528   \n",
      "gender_Male                                   ...                  0.008605   \n",
      "MultipleLines_No                              ...                 -0.036126   \n",
      "MultipleLines_Yes                             ...                 -0.018853   \n",
      "OnlineSecurity_No                             ...                  0.378167   \n",
      "OnlineSecurity_Yes                            ...                  0.004708   \n",
      "OnlineBackup_No                               ...                  1.000000   \n",
      "OnlineBackup_Yes                              ...                 -0.641788   \n",
      "DeviceProtection_No                           ...                  0.361238   \n",
      "DeviceProtection_Yes                          ...                  0.025045   \n",
      "TechSupport_No                                ...                  0.385055   \n",
      "TechSupport_Yes                               ...                 -0.002871   \n",
      "StreamingTV_No                                ...                  0.316440   \n",
      "StreamingTV_Yes                               ...                  0.074460   \n",
      "StreamingMovies_No                            ...                  0.307188   \n",
      "StreamingMovies_Yes                           ...                  0.084142   \n",
      "\n",
      "                                       OnlineBackup_Yes  DeviceProtection_No  \\\n",
      "tenure                                         0.361138            -0.314820   \n",
      "PhoneService                                  -0.052133            -0.075421   \n",
      "PaperlessBilling                               0.127056             0.166253   \n",
      "MonthlyCharges                                 0.441529             0.171057   \n",
      "TotalCharges                                   0.510100            -0.189485   \n",
      "SeniorCitizen                                  0.066663             0.094403   \n",
      "Partner                                        0.141849            -0.146702   \n",
      "Dependents                                     0.023639            -0.128053   \n",
      "PaymentMethod_Credit card (automatic)          0.090455            -0.108008   \n",
      "PaymentMethod_Electronic check                -0.000364             0.239173   \n",
      "PaymentMethod_Mailed check                    -0.174075            -0.085850   \n",
      "Contract_One year                              0.084113            -0.130038   \n",
      "Contract_Two year                              0.111391            -0.338520   \n",
      "InternetService_Fiber optic                    0.165940             0.217449   \n",
      "InternetService_No                            -0.380990            -0.465468   \n",
      "gender_Male                                   -0.013093            -0.003163   \n",
      "MultipleLines_No                              -0.230724            -0.026582   \n",
      "MultipleLines_Yes                              0.202228            -0.018242   \n",
      "OnlineSecurity_No                              0.057475             0.371496   \n",
      "OnlineSecurity_Yes                             0.283285             0.012940   \n",
      "OnlineBackup_No                               -0.641788             0.361238   \n",
      "OnlineBackup_Yes                               1.000000             0.025934   \n",
      "DeviceProtection_No                            0.025934             1.000000   \n",
      "DeviceProtection_Yes                           0.303058            -0.641670   \n",
      "TechSupport_No                                 0.047079             0.419653   \n",
      "TechSupport_Yes                                0.293705            -0.040135   \n",
      "StreamingTV_No                                 0.040505             0.420013   \n",
      "StreamingTV_Yes                                0.281601            -0.029028   \n",
      "StreamingMovies_No                             0.047094             0.429705   \n",
      "StreamingMovies_Yes                            0.274523            -0.037978   \n",
      "\n",
      "                                       DeviceProtection_Yes  TechSupport_No  \\\n",
      "tenure                                             0.361520       -0.264363   \n",
      "PhoneService                                      -0.070076       -0.055102   \n",
      "PaperlessBilling                                   0.104079        0.229875   \n",
      "MonthlyCharges                                     0.482607        0.321267   \n",
      "TotalCharges                                       0.522881       -0.084270   \n",
      "SeniorCitizen                                      0.059514        0.205254   \n",
      "Partner                                            0.153556       -0.108875   \n",
      "Dependents                                         0.013900       -0.171164   \n",
      "PaymentMethod_Credit card (automatic)              0.111252       -0.107761   \n",
      "PaymentMethod_Electronic check                    -0.003308        0.338529   \n",
      "PaymentMethod_Mailed check                        -0.187325       -0.186388   \n",
      "Contract_One year                                  0.102911       -0.118709   \n",
      "Contract_Two year                                  0.165248       -0.397788   \n",
      "InternetService_Fiber optic                        0.176356        0.401869   \n",
      "InternetService_No                                -0.380151       -0.518599   \n",
      "gender_Male                                       -0.000807        0.003815   \n",
      "MultipleLines_No                                  -0.240847       -0.114036   \n",
      "MultipleLines_Yes                                  0.201733        0.082396   \n",
      "OnlineSecurity_No                                  0.064389        0.470113   \n",
      "OnlineSecurity_Yes                                 0.274875       -0.047742   \n",
      "OnlineBackup_No                                    0.025045        0.385055   \n",
      "OnlineBackup_Yes                                   0.303058        0.047079   \n",
      "DeviceProtection_No                               -0.641670        0.419653   \n",
      "DeviceProtection_Yes                               1.000000        0.010856   \n",
      "TechSupport_No                                     0.010856        1.000000   \n",
      "TechSupport_Yes                                    0.332850       -0.631310   \n",
      "StreamingTV_No                                    -0.067785        0.346743   \n",
      "StreamingTV_Yes                                    0.389924        0.089703   \n",
      "StreamingMovies_No                                -0.080986        0.346651   \n",
      "StreamingMovies_Yes                                0.402309        0.090218   \n",
      "\n",
      "                                       TechSupport_Yes  StreamingTV_No  \\\n",
      "tenure                                        0.325288       -0.246814   \n",
      "PhoneService                                 -0.095138       -0.123159   \n",
      "PaperlessBilling                              0.037536        0.046715   \n",
      "MonthlyCharges                                0.338301        0.016015   \n",
      "TotalCharges                                  0.432868       -0.197144   \n",
      "SeniorCitizen                                -0.060577        0.048664   \n",
      "Partner                                       0.120206       -0.123394   \n",
      "Dependents                                    0.063053       -0.099912   \n",
      "PaymentMethod_Credit card (automatic)         0.117024       -0.041309   \n",
      "PaymentMethod_Electronic check               -0.114807        0.095426   \n",
      "PaymentMethod_Mailed check                   -0.084631       -0.022650   \n",
      "Contract_One year                             0.096258       -0.093495   \n",
      "Contract_Two year                             0.240924       -0.254456   \n",
      "InternetService_Fiber optic                  -0.020299        0.063911   \n",
      "InternetService_No                           -0.335695       -0.428285   \n",
      "gender_Male                                  -0.008507        0.003088   \n",
      "MultipleLines_No                             -0.155534        0.005131   \n",
      "MultipleLines_Yes                             0.100421       -0.078894   \n",
      "OnlineSecurity_No                            -0.044177        0.257301   \n",
      "OnlineSecurity_Yes                            0.354458        0.105369   \n",
      "OnlineBackup_No                              -0.002871        0.316440   \n",
      "OnlineBackup_Yes                              0.293705        0.040505   \n",
      "DeviceProtection_No                          -0.040135        0.420013   \n",
      "DeviceProtection_Yes                          0.332850       -0.067785   \n",
      "TechSupport_No                               -0.631310        0.346743   \n",
      "TechSupport_Yes                               1.000000        0.006463   \n",
      "StreamingTV_No                                0.006463        1.000000   \n",
      "StreamingTV_Yes                               0.277549       -0.644458   \n",
      "StreamingMovies_No                            0.003349        0.538052   \n",
      "StreamingMovies_Yes                           0.280155       -0.178077   \n",
      "\n",
      "                                       StreamingTV_Yes  StreamingMovies_No  \\\n",
      "tenure                                        0.280264           -0.252890   \n",
      "PhoneService                                 -0.021383           -0.111273   \n",
      "PaperlessBilling                              0.224241            0.058987   \n",
      "MonthlyCharges                                0.629668            0.017271   \n",
      "TotalCharges                                  0.515709           -0.202605   \n",
      "SeniorCitizen                                 0.105445            0.034196   \n",
      "Partner                                       0.124483           -0.117488   \n",
      "Dependents                                   -0.016499           -0.078245   \n",
      "PaymentMethod_Credit card (automatic)         0.040010           -0.049817   \n",
      "PaymentMethod_Electronic check                0.144747            0.102617   \n",
      "PaymentMethod_Mailed check                   -0.247712           -0.019648   \n",
      "Contract_One year                             0.061930           -0.096613   \n",
      "Contract_Two year                             0.072124           -0.258495   \n",
      "InternetService_Fiber optic                   0.329744            0.070657   \n",
      "InternetService_No                           -0.414951           -0.424739   \n",
      "gender_Male                                  -0.007124            0.006078   \n",
      "MultipleLines_No                             -0.267466            0.014149   \n",
      "MultipleLines_Yes                             0.257804           -0.080905   \n",
      "OnlineSecurity_No                             0.182890            0.265258   \n",
      "OnlineSecurity_Yes                            0.175514            0.093342   \n",
      "OnlineBackup_No                               0.074460            0.307188   \n",
      "OnlineBackup_Yes                              0.281601            0.047094   \n",
      "DeviceProtection_No                          -0.029028            0.429705   \n",
      "DeviceProtection_Yes                          0.389924           -0.080986   \n",
      "TechSupport_No                                0.089703            0.346651   \n",
      "TechSupport_Yes                               0.277549            0.003349   \n",
      "StreamingTV_No                               -0.644458            0.538052   \n",
      "StreamingTV_Yes                               1.000000           -0.182340   \n",
      "StreamingMovies_No                           -0.182340            1.000000   \n",
      "StreamingMovies_Yes                           0.533380           -0.644512   \n",
      "\n",
      "                                       StreamingMovies_Yes  \n",
      "tenure                                            0.285402  \n",
      "PhoneService                                     -0.033477  \n",
      "PaperlessBilling                                  0.211583  \n",
      "MonthlyCharges                                    0.627235  \n",
      "TotalCharges                                      0.519867  \n",
      "SeniorCitizen                                     0.119842  \n",
      "Partner                                           0.118108  \n",
      "Dependents                                       -0.038375  \n",
      "PaymentMethod_Credit card (automatic)             0.048398  \n",
      "PaymentMethod_Electronic check                    0.137420  \n",
      "PaymentMethod_Mailed check                       -0.250290  \n",
      "Contract_One year                                 0.064780  \n",
      "Contract_Two year                                 0.075603  \n",
      "InternetService_Fiber optic                       0.322457  \n",
      "InternetService_No                               -0.418450  \n",
      "gender_Male                                      -0.010105  \n",
      "MultipleLines_No                                 -0.275995  \n",
      "MultipleLines_Yes                                 0.259194  \n",
      "OnlineSecurity_No                                 0.174999  \n",
      "OnlineSecurity_Yes                                0.187426  \n",
      "OnlineBackup_No                                   0.084142  \n",
      "OnlineBackup_Yes                                  0.274523  \n",
      "DeviceProtection_No                              -0.037978  \n",
      "DeviceProtection_Yes                              0.402309  \n",
      "TechSupport_No                                    0.090218  \n",
      "TechSupport_Yes                                   0.280155  \n",
      "StreamingTV_No                                   -0.178077  \n",
      "StreamingTV_Yes                                   0.533380  \n",
      "StreamingMovies_No                               -0.644512  \n",
      "StreamingMovies_Yes                               1.000000  \n",
      "\n",
      "[30 rows x 30 columns]\n"
     ]
    }
   ],
   "source": [
    "print(telecom_data.corr())"
   ]
  },
  {
   "cell_type": "markdown",
   "metadata": {},
   "source": [
    "**Remove highly co-related variables:**"
   ]
  },
  {
   "cell_type": "code",
   "execution_count": 54,
   "metadata": {},
   "outputs": [
    {
     "name": "stderr",
     "output_type": "stream",
     "text": [
      "/anaconda3/lib/python3.7/site-packages/pandas/core/frame.py:3697: SettingWithCopyWarning: \n",
      "A value is trying to be set on a copy of a slice from a DataFrame\n",
      "\n",
      "See the caveats in the documentation: http://pandas.pydata.org/pandas-docs/stable/indexing.html#indexing-view-versus-copy\n",
      "  errors=errors)\n"
     ]
    }
   ],
   "source": [
    "_col = ['MultipleLines_No', 'OnlineSecurity_No', 'OnlineBackup_No', 'DeviceProtection_No', 'TechSupport_No', 'StreamingTV_No', 'StreamingMovies_No']\n",
    "x_train.drop(_col, axis=1, inplace=True)"
   ]
  },
  {
   "cell_type": "code",
   "execution_count": 55,
   "metadata": {},
   "outputs": [
    {
     "name": "stderr",
     "output_type": "stream",
     "text": [
      "/anaconda3/lib/python3.7/site-packages/pandas/core/frame.py:3697: SettingWithCopyWarning: \n",
      "A value is trying to be set on a copy of a slice from a DataFrame\n",
      "\n",
      "See the caveats in the documentation: http://pandas.pydata.org/pandas-docs/stable/indexing.html#indexing-view-versus-copy\n",
      "  errors=errors)\n"
     ]
    }
   ],
   "source": [
    "x_test.drop(_col, axis=1, inplace=True)"
   ]
  },
  {
   "cell_type": "code",
   "execution_count": 56,
   "metadata": {},
   "outputs": [
    {
     "data": {
      "text/plain": [
       "Index(['tenure', 'PhoneService', 'PaperlessBilling', 'MonthlyCharges',\n",
       "       'TotalCharges', 'SeniorCitizen', 'Partner', 'Dependents',\n",
       "       'PaymentMethod_Credit card (automatic)',\n",
       "       'PaymentMethod_Electronic check', 'PaymentMethod_Mailed check',\n",
       "       'Contract_One year', 'Contract_Two year', 'InternetService_Fiber optic',\n",
       "       'InternetService_No', 'gender_Male', 'MultipleLines_Yes',\n",
       "       'OnlineSecurity_Yes', 'OnlineBackup_Yes', 'DeviceProtection_Yes',\n",
       "       'TechSupport_Yes', 'StreamingTV_Yes', 'StreamingMovies_Yes'],\n",
       "      dtype='object')"
      ]
     },
     "execution_count": 56,
     "metadata": {},
     "output_type": "execute_result"
    }
   ],
   "source": [
    "x_train.columns"
   ]
  },
  {
   "cell_type": "markdown",
   "metadata": {},
   "source": [
    "### Build Model:"
   ]
  },
  {
   "cell_type": "code",
   "execution_count": 64,
   "metadata": {},
   "outputs": [],
   "source": [
    "churn_model = sm.GLM(y_train, sm.add_constant(x_train), family=sm.families.Binomial()).fit()"
   ]
  },
  {
   "cell_type": "code",
   "execution_count": 66,
   "metadata": {},
   "outputs": [
    {
     "name": "stdout",
     "output_type": "stream",
     "text": [
      "                 Generalized Linear Model Regression Results                  \n",
      "==============================================================================\n",
      "Dep. Variable:                  Churn   No. Observations:                 4922\n",
      "Model:                            GLM   Df Residuals:                     4898\n",
      "Model Family:                Binomial   Df Model:                           23\n",
      "Link Function:                  logit   Scale:                          1.0000\n",
      "Method:                          IRLS   Log-Likelihood:                -2004.7\n",
      "Date:                Wed, 29 May 2019   Deviance:                       4009.4\n",
      "Time:                        11:05:31   Pearson chi2:                 6.07e+03\n",
      "No. Iterations:                     7   Covariance Type:             nonrobust\n",
      "=========================================================================================================\n",
      "                                            coef    std err          z      P>|z|      [0.025      0.975]\n",
      "---------------------------------------------------------------------------------------------------------\n",
      "const                                    -3.9382      1.546     -2.547      0.011      -6.969      -0.908\n",
      "tenure                                   -1.5172      0.189     -8.015      0.000      -1.888      -1.146\n",
      "PhoneService                              0.9507      0.789      1.205      0.228      -0.595       2.497\n",
      "PaperlessBilling                          0.3254      0.090      3.614      0.000       0.149       0.502\n",
      "MonthlyCharges                           -2.1806      1.160     -1.880      0.060      -4.454       0.092\n",
      "TotalCharges                              0.7332      0.198      3.705      0.000       0.345       1.121\n",
      "SeniorCitizen                             0.3984      0.102      3.924      0.000       0.199       0.597\n",
      "Partner                                   0.0374      0.094      0.399      0.690      -0.146       0.221\n",
      "Dependents                               -0.1430      0.107     -1.332      0.183      -0.353       0.067\n",
      "PaymentMethod_Credit card (automatic)    -0.2577      0.137     -1.883      0.060      -0.526       0.011\n",
      "PaymentMethod_Electronic check            0.1615      0.113      1.434      0.152      -0.059       0.382\n",
      "PaymentMethod_Mailed check               -0.2536      0.137     -1.845      0.065      -0.523       0.016\n",
      "Contract_One year                        -0.6578      0.129     -5.106      0.000      -0.910      -0.405\n",
      "Contract_Two year                        -1.2455      0.212     -5.874      0.000      -1.661      -0.830\n",
      "InternetService_Fiber optic               2.5124      0.967      2.599      0.009       0.618       4.407\n",
      "InternetService_No                       -2.7792      0.982     -2.831      0.005      -4.703      -0.855\n",
      "gender_Male                              -0.0346      0.078     -0.442      0.658      -0.188       0.119\n",
      "MultipleLines_Yes                         0.5623      0.214      2.628      0.009       0.143       0.982\n",
      "OnlineSecurity_Yes                       -0.0245      0.216     -0.113      0.910      -0.448       0.399\n",
      "OnlineBackup_Yes                          0.1740      0.212      0.822      0.411      -0.241       0.589\n",
      "DeviceProtection_Yes                      0.3229      0.215      1.501      0.133      -0.099       0.744\n",
      "TechSupport_Yes                          -0.0305      0.216     -0.141      0.888      -0.455       0.394\n",
      "StreamingTV_Yes                           0.9598      0.396      2.423      0.015       0.183       1.736\n",
      "StreamingMovies_Yes                       0.8484      0.396      2.143      0.032       0.072       1.624\n",
      "=========================================================================================================\n"
     ]
    }
   ],
   "source": [
    "print(churn_model.summary())"
   ]
  },
  {
   "cell_type": "markdown",
   "metadata": {},
   "source": [
    " "
   ]
  },
  {
   "cell_type": "markdown",
   "metadata": {},
   "source": [
    "#### Use RFE "
   ]
  },
  {
   "cell_type": "code",
   "execution_count": 67,
   "metadata": {},
   "outputs": [],
   "source": [
    "from sklearn.linear_model import LogisticRegression\n",
    "from sklearn.feature_selection import RFE"
   ]
  },
  {
   "cell_type": "code",
   "execution_count": 68,
   "metadata": {},
   "outputs": [
    {
     "name": "stderr",
     "output_type": "stream",
     "text": [
      "/anaconda3/lib/python3.7/site-packages/sklearn/linear_model/logistic.py:433: FutureWarning: Default solver will be changed to 'lbfgs' in 0.22. Specify a solver to silence this warning.\n",
      "  FutureWarning)\n",
      "/anaconda3/lib/python3.7/site-packages/sklearn/linear_model/logistic.py:433: FutureWarning: Default solver will be changed to 'lbfgs' in 0.22. Specify a solver to silence this warning.\n",
      "  FutureWarning)\n",
      "/anaconda3/lib/python3.7/site-packages/sklearn/linear_model/logistic.py:433: FutureWarning: Default solver will be changed to 'lbfgs' in 0.22. Specify a solver to silence this warning.\n",
      "  FutureWarning)\n",
      "/anaconda3/lib/python3.7/site-packages/sklearn/linear_model/logistic.py:433: FutureWarning: Default solver will be changed to 'lbfgs' in 0.22. Specify a solver to silence this warning.\n",
      "  FutureWarning)\n",
      "/anaconda3/lib/python3.7/site-packages/sklearn/linear_model/logistic.py:433: FutureWarning: Default solver will be changed to 'lbfgs' in 0.22. Specify a solver to silence this warning.\n",
      "  FutureWarning)\n",
      "/anaconda3/lib/python3.7/site-packages/sklearn/linear_model/logistic.py:433: FutureWarning: Default solver will be changed to 'lbfgs' in 0.22. Specify a solver to silence this warning.\n",
      "  FutureWarning)\n",
      "/anaconda3/lib/python3.7/site-packages/sklearn/linear_model/logistic.py:433: FutureWarning: Default solver will be changed to 'lbfgs' in 0.22. Specify a solver to silence this warning.\n",
      "  FutureWarning)\n",
      "/anaconda3/lib/python3.7/site-packages/sklearn/linear_model/logistic.py:433: FutureWarning: Default solver will be changed to 'lbfgs' in 0.22. Specify a solver to silence this warning.\n",
      "  FutureWarning)\n",
      "/anaconda3/lib/python3.7/site-packages/sklearn/linear_model/logistic.py:433: FutureWarning: Default solver will be changed to 'lbfgs' in 0.22. Specify a solver to silence this warning.\n",
      "  FutureWarning)\n"
     ]
    }
   ],
   "source": [
    "logistic = LogisticRegression()\n",
    "rfe = RFE(logistic, 15)\n",
    "rfe = rfe.fit(x_train, y_train)"
   ]
  },
  {
   "cell_type": "code",
   "execution_count": 71,
   "metadata": {},
   "outputs": [
    {
     "data": {
      "text/plain": [
       "array([1, 1, 1, 6, 1, 1, 8, 4, 1, 3, 1, 1, 1, 1, 1, 9, 1, 1, 2, 7, 1, 1,\n",
       "       5])"
      ]
     },
     "execution_count": 71,
     "metadata": {},
     "output_type": "execute_result"
    }
   ],
   "source": [
    "rfe.ranking_"
   ]
  },
  {
   "cell_type": "code",
   "execution_count": 72,
   "metadata": {},
   "outputs": [
    {
     "data": {
      "text/plain": [
       "[('tenure', True, 1),\n",
       " ('PhoneService', True, 1),\n",
       " ('PaperlessBilling', True, 1),\n",
       " ('MonthlyCharges', False, 6),\n",
       " ('TotalCharges', True, 1),\n",
       " ('SeniorCitizen', True, 1),\n",
       " ('Partner', False, 8),\n",
       " ('Dependents', False, 4),\n",
       " ('PaymentMethod_Credit card (automatic)', True, 1),\n",
       " ('PaymentMethod_Electronic check', False, 3),\n",
       " ('PaymentMethod_Mailed check', True, 1),\n",
       " ('Contract_One year', True, 1),\n",
       " ('Contract_Two year', True, 1),\n",
       " ('InternetService_Fiber optic', True, 1),\n",
       " ('InternetService_No', True, 1),\n",
       " ('gender_Male', False, 9),\n",
       " ('MultipleLines_Yes', True, 1),\n",
       " ('OnlineSecurity_Yes', True, 1),\n",
       " ('OnlineBackup_Yes', False, 2),\n",
       " ('DeviceProtection_Yes', False, 7),\n",
       " ('TechSupport_Yes', True, 1),\n",
       " ('StreamingTV_Yes', True, 1),\n",
       " ('StreamingMovies_Yes', False, 5)]"
      ]
     },
     "execution_count": 72,
     "metadata": {},
     "output_type": "execute_result"
    }
   ],
   "source": [
    "list(zip(x_train.columns, rfe.support_, rfe.ranking_))"
   ]
  },
  {
   "cell_type": "markdown",
   "metadata": {},
   "source": [
    "### Predict the model: "
   ]
  },
  {
   "cell_type": "code",
   "execution_count": 78,
   "metadata": {},
   "outputs": [
    {
     "name": "stdout",
     "output_type": "stream",
     "text": [
      "                 Generalized Linear Model Regression Results                  \n",
      "==============================================================================\n",
      "Dep. Variable:                  Churn   No. Observations:                 4922\n",
      "Model:                            GLM   Df Residuals:                     4906\n",
      "Model Family:                Gaussian   Df Model:                           15\n",
      "Link Function:               identity   Scale:                         0.13805\n",
      "Method:                          IRLS   Log-Likelihood:                -2102.8\n",
      "Date:                Wed, 29 May 2019   Deviance:                       677.26\n",
      "Time:                        12:23:35   Pearson chi2:                     677.\n",
      "No. Iterations:                     3   Covariance Type:             nonrobust\n",
      "=========================================================================================================\n",
      "                                            coef    std err          z      P>|z|      [0.025      0.975]\n",
      "---------------------------------------------------------------------------------------------------------\n",
      "const                                     0.2327      0.025      9.462      0.000       0.185       0.281\n",
      "tenure                                   -0.0523      0.014     -3.698      0.000      -0.080      -0.025\n",
      "PhoneService                             -0.0140      0.021     -0.659      0.510      -0.056       0.028\n",
      "PaperlessBilling                          0.0444      0.012      3.755      0.000       0.021       0.068\n",
      "TotalCharges                             -0.1079      0.016     -6.776      0.000      -0.139      -0.077\n",
      "SeniorCitizen                             0.0822      0.015      5.399      0.000       0.052       0.112\n",
      "PaymentMethod_Credit card (automatic)    -0.0503      0.014     -3.623      0.000      -0.077      -0.023\n",
      "PaymentMethod_Mailed check               -0.0581      0.015     -3.922      0.000      -0.087      -0.029\n",
      "Contract_One year                        -0.1051      0.016     -6.448      0.000      -0.137      -0.073\n",
      "Contract_Two year                        -0.0575      0.020     -2.869      0.004      -0.097      -0.018\n",
      "InternetService_Fiber optic               0.1841      0.016     11.264      0.000       0.152       0.216\n",
      "InternetService_No                       -0.1733      0.020     -8.457      0.000      -0.213      -0.133\n",
      "MultipleLines_Yes                         0.0476      0.013      3.662      0.000       0.022       0.073\n",
      "OnlineSecurity_Yes                       -0.0487      0.014     -3.416      0.001      -0.077      -0.021\n",
      "TechSupport_Yes                          -0.0529      0.014     -3.676      0.000      -0.081      -0.025\n",
      "StreamingTV_Yes                           0.0754      0.014      5.479      0.000       0.048       0.102\n",
      "=========================================================================================================\n"
     ]
    }
   ],
   "source": [
    "_col = x_train.columns[rfe.support_]\n",
    "x_train_const = sm.add_constant(x_train[_col])\n",
    "model = sm.GLM(y_train, x_train_const).fit()\n",
    "print(model.summary())"
   ]
  },
  {
   "cell_type": "code",
   "execution_count": 80,
   "metadata": {},
   "outputs": [],
   "source": [
    "y_train_predicted = model.predict(x_train_const)"
   ]
  },
  {
   "cell_type": "code",
   "execution_count": 81,
   "metadata": {},
   "outputs": [
    {
     "data": {
      "text/plain": [
       "879     0.339574\n",
       "5790    0.348783\n",
       "6498    0.619603\n",
       "880     0.528543\n",
       "2784    0.620833\n",
       "3874    0.403066\n",
       "5387    0.344147\n",
       "6623    0.749730\n",
       "4465    0.287340\n",
       "5364    0.508613\n",
       "dtype: float64"
      ]
     },
     "execution_count": 81,
     "metadata": {},
     "output_type": "execute_result"
    }
   ],
   "source": [
    "y_train_predicted[:10]"
   ]
  },
  {
   "cell_type": "code",
   "execution_count": 85,
   "metadata": {},
   "outputs": [
    {
     "data": {
      "text/plain": [
       "array([0.33957385, 0.34878327, 0.61960273, 0.52854265, 0.62083262,\n",
       "       0.40306597, 0.34414659, 0.74972964, 0.2873396 , 0.50861313])"
      ]
     },
     "execution_count": 85,
     "metadata": {},
     "output_type": "execute_result"
    }
   ],
   "source": [
    "y_train_predicted = y_train_predicted.values.reshape(-1)\n",
    "y_train_predicted[:10]"
   ]
  },
  {
   "cell_type": "markdown",
   "metadata": {},
   "source": [
    "#### Assess the model:"
   ]
  },
  {
   "cell_type": "code",
   "execution_count": 87,
   "metadata": {},
   "outputs": [
    {
     "data": {
      "text/html": [
       "<div>\n",
       "<style scoped>\n",
       "    .dataframe tbody tr th:only-of-type {\n",
       "        vertical-align: middle;\n",
       "    }\n",
       "\n",
       "    .dataframe tbody tr th {\n",
       "        vertical-align: top;\n",
       "    }\n",
       "\n",
       "    .dataframe thead th {\n",
       "        text-align: right;\n",
       "    }\n",
       "</style>\n",
       "<table border=\"1\" class=\"dataframe\">\n",
       "  <thead>\n",
       "    <tr style=\"text-align: right;\">\n",
       "      <th></th>\n",
       "      <th>Churn</th>\n",
       "      <th>Churn_Probability</th>\n",
       "      <th>predicted</th>\n",
       "    </tr>\n",
       "  </thead>\n",
       "  <tbody>\n",
       "    <tr>\n",
       "      <th>879</th>\n",
       "      <td>0</td>\n",
       "      <td>0.339574</td>\n",
       "      <td>0</td>\n",
       "    </tr>\n",
       "    <tr>\n",
       "      <th>5790</th>\n",
       "      <td>0</td>\n",
       "      <td>0.348783</td>\n",
       "      <td>0</td>\n",
       "    </tr>\n",
       "    <tr>\n",
       "      <th>6498</th>\n",
       "      <td>1</td>\n",
       "      <td>0.619603</td>\n",
       "      <td>1</td>\n",
       "    </tr>\n",
       "    <tr>\n",
       "      <th>880</th>\n",
       "      <td>1</td>\n",
       "      <td>0.528543</td>\n",
       "      <td>1</td>\n",
       "    </tr>\n",
       "    <tr>\n",
       "      <th>2784</th>\n",
       "      <td>1</td>\n",
       "      <td>0.620833</td>\n",
       "      <td>1</td>\n",
       "    </tr>\n",
       "  </tbody>\n",
       "</table>\n",
       "</div>"
      ],
      "text/plain": [
       "      Churn  Churn_Probability  predicted\n",
       "879       0           0.339574          0\n",
       "5790      0           0.348783          0\n",
       "6498      1           0.619603          1\n",
       "880       1           0.528543          1\n",
       "2784      1           0.620833          1"
      ]
     },
     "execution_count": 87,
     "metadata": {},
     "output_type": "execute_result"
    }
   ],
   "source": [
    "churn_predicted = pd.DataFrame({'Churn': y_train, 'Churn_Probability': y_train_predicted})\n",
    "churn_predicted['predicted'] = churn_predicted.Churn_Probability.map(lambda x: 1 if x > 0.5 else 0)\n",
    "churn_predicted.head()"
   ]
  },
  {
   "cell_type": "code",
   "execution_count": 91,
   "metadata": {},
   "outputs": [
    {
     "data": {
      "text/plain": [
       "array([[3298,  337],\n",
       "       [ 633,  654]])"
      ]
     },
     "execution_count": 91,
     "metadata": {},
     "output_type": "execute_result"
    }
   ],
   "source": [
    "metrics.confusion_matrix(churn_predicted.Churn, churn_predicted.predicted)"
   ]
  },
  {
   "cell_type": "code",
   "execution_count": 92,
   "metadata": {},
   "outputs": [
    {
     "name": "stdout",
     "output_type": "stream",
     "text": [
      "0.8029256399837464\n"
     ]
    }
   ],
   "source": [
    "print(metrics.accuracy_score(churn_predicted.Churn, churn_predicted.predicted))"
   ]
  },
  {
   "cell_type": "markdown",
   "metadata": {},
   "source": [
    "#### Calculate VFI"
   ]
  },
  {
   "cell_type": "code",
   "execution_count": 104,
   "metadata": {},
   "outputs": [
    {
     "data": {
      "text/html": [
       "<div>\n",
       "<style scoped>\n",
       "    .dataframe tbody tr th:only-of-type {\n",
       "        vertical-align: middle;\n",
       "    }\n",
       "\n",
       "    .dataframe tbody tr th {\n",
       "        vertical-align: top;\n",
       "    }\n",
       "\n",
       "    .dataframe thead th {\n",
       "        text-align: right;\n",
       "    }\n",
       "</style>\n",
       "<table border=\"1\" class=\"dataframe\">\n",
       "  <thead>\n",
       "    <tr style=\"text-align: right;\">\n",
       "      <th></th>\n",
       "      <th>columns</th>\n",
       "      <th>VFI_VALUE</th>\n",
       "    </tr>\n",
       "  </thead>\n",
       "  <tbody>\n",
       "    <tr>\n",
       "      <th>1</th>\n",
       "      <td>PhoneService</td>\n",
       "      <td>8.86</td>\n",
       "    </tr>\n",
       "    <tr>\n",
       "      <th>3</th>\n",
       "      <td>TotalCharges</td>\n",
       "      <td>7.37</td>\n",
       "    </tr>\n",
       "    <tr>\n",
       "      <th>0</th>\n",
       "      <td>tenure</td>\n",
       "      <td>6.88</td>\n",
       "    </tr>\n",
       "    <tr>\n",
       "      <th>9</th>\n",
       "      <td>InternetService_Fiber optic</td>\n",
       "      <td>3.97</td>\n",
       "    </tr>\n",
       "    <tr>\n",
       "      <th>8</th>\n",
       "      <td>Contract_Two year</td>\n",
       "      <td>3.28</td>\n",
       "    </tr>\n",
       "    <tr>\n",
       "      <th>10</th>\n",
       "      <td>InternetService_No</td>\n",
       "      <td>3.25</td>\n",
       "    </tr>\n",
       "    <tr>\n",
       "      <th>2</th>\n",
       "      <td>PaperlessBilling</td>\n",
       "      <td>2.68</td>\n",
       "    </tr>\n",
       "    <tr>\n",
       "      <th>11</th>\n",
       "      <td>MultipleLines_Yes</td>\n",
       "      <td>2.53</td>\n",
       "    </tr>\n",
       "    <tr>\n",
       "      <th>14</th>\n",
       "      <td>StreamingTV_Yes</td>\n",
       "      <td>2.34</td>\n",
       "    </tr>\n",
       "    <tr>\n",
       "      <th>13</th>\n",
       "      <td>TechSupport_Yes</td>\n",
       "      <td>2.08</td>\n",
       "    </tr>\n",
       "    <tr>\n",
       "      <th>7</th>\n",
       "      <td>Contract_One year</td>\n",
       "      <td>1.93</td>\n",
       "    </tr>\n",
       "    <tr>\n",
       "      <th>12</th>\n",
       "      <td>OnlineSecurity_Yes</td>\n",
       "      <td>1.90</td>\n",
       "    </tr>\n",
       "    <tr>\n",
       "      <th>6</th>\n",
       "      <td>PaymentMethod_Mailed check</td>\n",
       "      <td>1.72</td>\n",
       "    </tr>\n",
       "    <tr>\n",
       "      <th>5</th>\n",
       "      <td>PaymentMethod_Credit card (automatic)</td>\n",
       "      <td>1.46</td>\n",
       "    </tr>\n",
       "    <tr>\n",
       "      <th>4</th>\n",
       "      <td>SeniorCitizen</td>\n",
       "      <td>1.31</td>\n",
       "    </tr>\n",
       "  </tbody>\n",
       "</table>\n",
       "</div>"
      ],
      "text/plain": [
       "                                  columns  VFI_VALUE\n",
       "1                            PhoneService       8.86\n",
       "3                            TotalCharges       7.37\n",
       "0                                  tenure       6.88\n",
       "9             InternetService_Fiber optic       3.97\n",
       "8                       Contract_Two year       3.28\n",
       "10                     InternetService_No       3.25\n",
       "2                        PaperlessBilling       2.68\n",
       "11                      MultipleLines_Yes       2.53\n",
       "14                        StreamingTV_Yes       2.34\n",
       "13                        TechSupport_Yes       2.08\n",
       "7                       Contract_One year       1.93\n",
       "12                     OnlineSecurity_Yes       1.90\n",
       "6              PaymentMethod_Mailed check       1.72\n",
       "5   PaymentMethod_Credit card (automatic)       1.46\n",
       "4                           SeniorCitizen       1.31"
      ]
     },
     "execution_count": 104,
     "metadata": {},
     "output_type": "execute_result"
    }
   ],
   "source": [
    "vfi = pd.DataFrame({\"columns\": _col})\n",
    "vfi['VFI_VALUE'] = [variance_inflation_factor(x_train[_col].values, i) for i in range(x_train[_col].shape[1])]\n",
    "vfi['VFI_VALUE'] = round(vfi['VFI_VALUE'], 2)\n",
    "vfi = vfi.sort_values(by='VFI_VALUE', ascending=False)\n",
    "vfi"
   ]
  },
  {
   "cell_type": "code",
   "execution_count": 110,
   "metadata": {},
   "outputs": [
    {
     "data": {
      "text/plain": [
       "['tenure',\n",
       " 'PaperlessBilling',\n",
       " 'TotalCharges',\n",
       " 'SeniorCitizen',\n",
       " 'PaymentMethod_Credit card (automatic)',\n",
       " 'PaymentMethod_Mailed check',\n",
       " 'Contract_One year',\n",
       " 'Contract_Two year',\n",
       " 'InternetService_Fiber optic',\n",
       " 'InternetService_No',\n",
       " 'MultipleLines_Yes',\n",
       " 'OnlineSecurity_Yes',\n",
       " 'TechSupport_Yes',\n",
       " 'StreamingTV_Yes']"
      ]
     },
     "execution_count": 110,
     "metadata": {},
     "output_type": "execute_result"
    }
   ],
   "source": [
    "_col = _col.tolist() \n",
    "_col.remove('PhoneService')\n",
    "_col"
   ]
  },
  {
   "cell_type": "code",
   "execution_count": 113,
   "metadata": {},
   "outputs": [
    {
     "name": "stdout",
     "output_type": "stream",
     "text": [
      "                 Generalized Linear Model Regression Results                  \n",
      "==============================================================================\n",
      "Dep. Variable:                  Churn   No. Observations:                 4922\n",
      "Model:                            GLM   Df Residuals:                     4907\n",
      "Model Family:                Gaussian   Df Model:                           14\n",
      "Link Function:               identity   Scale:                         0.13803\n",
      "Method:                          IRLS   Log-Likelihood:                -2103.0\n",
      "Date:                Thu, 30 May 2019   Deviance:                       677.32\n",
      "Time:                        10:08:26   Pearson chi2:                     677.\n",
      "No. Iterations:                     3   Covariance Type:             nonrobust\n",
      "=========================================================================================================\n",
      "                                            coef    std err          z      P>|z|      [0.025      0.975]\n",
      "---------------------------------------------------------------------------------------------------------\n",
      "const                                     0.2226      0.019     11.617      0.000       0.185       0.260\n",
      "tenure                                   -0.0504      0.014     -3.640      0.000      -0.078      -0.023\n",
      "PaperlessBilling                          0.0445      0.012      3.763      0.000       0.021       0.068\n",
      "TotalCharges                             -0.1100      0.016     -7.047      0.000      -0.141      -0.079\n",
      "SeniorCitizen                             0.0826      0.015      5.428      0.000       0.053       0.112\n",
      "PaymentMethod_Credit card (automatic)    -0.0503      0.014     -3.622      0.000      -0.077      -0.023\n",
      "PaymentMethod_Mailed check               -0.0580      0.015     -3.918      0.000      -0.087      -0.029\n",
      "Contract_One year                        -0.1053      0.016     -6.464      0.000      -0.137      -0.073\n",
      "Contract_Two year                        -0.0578      0.020     -2.883      0.004      -0.097      -0.018\n",
      "InternetService_Fiber optic               0.1815      0.016     11.447      0.000       0.150       0.213\n",
      "InternetService_No                       -0.1780      0.019     -9.267      0.000      -0.216      -0.140\n",
      "MultipleLines_Yes                         0.0459      0.013      3.604      0.000       0.021       0.071\n",
      "OnlineSecurity_Yes                       -0.0487      0.014     -3.413      0.001      -0.077      -0.021\n",
      "TechSupport_Yes                          -0.0529      0.014     -3.677      0.000      -0.081      -0.025\n",
      "StreamingTV_Yes                           0.0764      0.014      5.586      0.000       0.050       0.103\n",
      "=========================================================================================================\n"
     ]
    }
   ],
   "source": [
    "x_train_const = sm.add_constant(x_train[_col])\n",
    "model2 = sm.GLM(y_train, x_train_const).fit()\n",
    "print(model2.summary())"
   ]
  },
  {
   "cell_type": "markdown",
   "metadata": {},
   "source": [
    "#### calculate VFI:"
   ]
  },
  {
   "cell_type": "code",
   "execution_count": 119,
   "metadata": {},
   "outputs": [
    {
     "data": {
      "text/html": [
       "<div>\n",
       "<style scoped>\n",
       "    .dataframe tbody tr th:only-of-type {\n",
       "        vertical-align: middle;\n",
       "    }\n",
       "\n",
       "    .dataframe tbody tr th {\n",
       "        vertical-align: top;\n",
       "    }\n",
       "\n",
       "    .dataframe thead th {\n",
       "        text-align: right;\n",
       "    }\n",
       "</style>\n",
       "<table border=\"1\" class=\"dataframe\">\n",
       "  <thead>\n",
       "    <tr style=\"text-align: right;\">\n",
       "      <th></th>\n",
       "      <th>column</th>\n",
       "      <th>VFI_VALUE</th>\n",
       "    </tr>\n",
       "  </thead>\n",
       "  <tbody>\n",
       "    <tr>\n",
       "      <th>2</th>\n",
       "      <td>TotalCharges</td>\n",
       "      <td>7.30</td>\n",
       "    </tr>\n",
       "    <tr>\n",
       "      <th>0</th>\n",
       "      <td>tenure</td>\n",
       "      <td>6.79</td>\n",
       "    </tr>\n",
       "    <tr>\n",
       "      <th>7</th>\n",
       "      <td>Contract_Two year</td>\n",
       "      <td>3.16</td>\n",
       "    </tr>\n",
       "    <tr>\n",
       "      <th>8</th>\n",
       "      <td>InternetService_Fiber optic</td>\n",
       "      <td>2.94</td>\n",
       "    </tr>\n",
       "    <tr>\n",
       "      <th>9</th>\n",
       "      <td>InternetService_No</td>\n",
       "      <td>2.53</td>\n",
       "    </tr>\n",
       "    <tr>\n",
       "      <th>1</th>\n",
       "      <td>PaperlessBilling</td>\n",
       "      <td>2.52</td>\n",
       "    </tr>\n",
       "    <tr>\n",
       "      <th>13</th>\n",
       "      <td>StreamingTV_Yes</td>\n",
       "      <td>2.31</td>\n",
       "    </tr>\n",
       "    <tr>\n",
       "      <th>10</th>\n",
       "      <td>MultipleLines_Yes</td>\n",
       "      <td>2.27</td>\n",
       "    </tr>\n",
       "    <tr>\n",
       "      <th>12</th>\n",
       "      <td>TechSupport_Yes</td>\n",
       "      <td>2.00</td>\n",
       "    </tr>\n",
       "    <tr>\n",
       "      <th>6</th>\n",
       "      <td>Contract_One year</td>\n",
       "      <td>1.83</td>\n",
       "    </tr>\n",
       "    <tr>\n",
       "      <th>11</th>\n",
       "      <td>OnlineSecurity_Yes</td>\n",
       "      <td>1.80</td>\n",
       "    </tr>\n",
       "    <tr>\n",
       "      <th>5</th>\n",
       "      <td>PaymentMethod_Mailed check</td>\n",
       "      <td>1.66</td>\n",
       "    </tr>\n",
       "    <tr>\n",
       "      <th>4</th>\n",
       "      <td>PaymentMethod_Credit card (automatic)</td>\n",
       "      <td>1.44</td>\n",
       "    </tr>\n",
       "    <tr>\n",
       "      <th>3</th>\n",
       "      <td>SeniorCitizen</td>\n",
       "      <td>1.31</td>\n",
       "    </tr>\n",
       "  </tbody>\n",
       "</table>\n",
       "</div>"
      ],
      "text/plain": [
       "                                   column  VFI_VALUE\n",
       "2                            TotalCharges       7.30\n",
       "0                                  tenure       6.79\n",
       "7                       Contract_Two year       3.16\n",
       "8             InternetService_Fiber optic       2.94\n",
       "9                      InternetService_No       2.53\n",
       "1                        PaperlessBilling       2.52\n",
       "13                        StreamingTV_Yes       2.31\n",
       "10                      MultipleLines_Yes       2.27\n",
       "12                        TechSupport_Yes       2.00\n",
       "6                       Contract_One year       1.83\n",
       "11                     OnlineSecurity_Yes       1.80\n",
       "5              PaymentMethod_Mailed check       1.66\n",
       "4   PaymentMethod_Credit card (automatic)       1.44\n",
       "3                           SeniorCitizen       1.31"
      ]
     },
     "execution_count": 119,
     "metadata": {},
     "output_type": "execute_result"
    }
   ],
   "source": [
    "vfi = pd.DataFrame({\"column\": _col})\n",
    "vfi['VFI_VALUE'] = [variance_inflation_factor(x_train[_col].values, i) for i in range(x_train[_col].shape[1])]\n",
    "vfi['VFI_VALUE'] = round(vfi['VFI_VALUE'], 2)\n",
    "vfi = vfi.sort_values(by='VFI_VALUE', ascending=False)\n",
    "vfi"
   ]
  },
  {
   "cell_type": "markdown",
   "metadata": {},
   "source": [
    "#### Assess the model: "
   ]
  },
  {
   "cell_type": "code",
   "execution_count": 121,
   "metadata": {},
   "outputs": [],
   "source": [
    "y_train_predicted = model2.predict(x_train_const)"
   ]
  },
  {
   "cell_type": "code",
   "execution_count": 123,
   "metadata": {},
   "outputs": [
    {
     "data": {
      "text/plain": [
       "array([0.34234778, 0.34052028, 0.6205252 , ..., 0.05165175, 0.12514006,\n",
       "       0.06424628])"
      ]
     },
     "execution_count": 123,
     "metadata": {},
     "output_type": "execute_result"
    }
   ],
   "source": [
    "y_train_predicted = y_train_predicted.values.reshape(-1)\n",
    "y_train_predicted"
   ]
  },
  {
   "cell_type": "code",
   "execution_count": 126,
   "metadata": {},
   "outputs": [
    {
     "data": {
      "text/html": [
       "<div>\n",
       "<style scoped>\n",
       "    .dataframe tbody tr th:only-of-type {\n",
       "        vertical-align: middle;\n",
       "    }\n",
       "\n",
       "    .dataframe tbody tr th {\n",
       "        vertical-align: top;\n",
       "    }\n",
       "\n",
       "    .dataframe thead th {\n",
       "        text-align: right;\n",
       "    }\n",
       "</style>\n",
       "<table border=\"1\" class=\"dataframe\">\n",
       "  <thead>\n",
       "    <tr style=\"text-align: right;\">\n",
       "      <th></th>\n",
       "      <th>ChurnProbability</th>\n",
       "      <th>y_train</th>\n",
       "      <th>ChurnPredicted</th>\n",
       "    </tr>\n",
       "  </thead>\n",
       "  <tbody>\n",
       "    <tr>\n",
       "      <th>879</th>\n",
       "      <td>0.342348</td>\n",
       "      <td>0</td>\n",
       "      <td>0</td>\n",
       "    </tr>\n",
       "    <tr>\n",
       "      <th>5790</th>\n",
       "      <td>0.340520</td>\n",
       "      <td>0</td>\n",
       "      <td>0</td>\n",
       "    </tr>\n",
       "    <tr>\n",
       "      <th>6498</th>\n",
       "      <td>0.620525</td>\n",
       "      <td>1</td>\n",
       "      <td>1</td>\n",
       "    </tr>\n",
       "    <tr>\n",
       "      <th>880</th>\n",
       "      <td>0.530313</td>\n",
       "      <td>1</td>\n",
       "      <td>1</td>\n",
       "    </tr>\n",
       "    <tr>\n",
       "      <th>2784</th>\n",
       "      <td>0.622691</td>\n",
       "      <td>1</td>\n",
       "      <td>1</td>\n",
       "    </tr>\n",
       "  </tbody>\n",
       "</table>\n",
       "</div>"
      ],
      "text/plain": [
       "      ChurnProbability  y_train  ChurnPredicted\n",
       "879           0.342348        0               0\n",
       "5790          0.340520        0               0\n",
       "6498          0.620525        1               1\n",
       "880           0.530313        1               1\n",
       "2784          0.622691        1               1"
      ]
     },
     "execution_count": 126,
     "metadata": {},
     "output_type": "execute_result"
    }
   ],
   "source": [
    "churn_predicted = pd.DataFrame({'ChurnProbability': y_train_predicted, 'y_train': y_train})\n",
    "churn_predicted['ChurnPredicted'] = churn_predicted['ChurnProbability'].map(lambda x: 1 if x > 0.5 else 0)\n",
    "churn_predicted.head()"
   ]
  },
  {
   "cell_type": "code",
   "execution_count": 133,
   "metadata": {},
   "outputs": [
    {
     "data": {
      "text/plain": [
       "array([[3297,  338],\n",
       "       [ 631,  656]])"
      ]
     },
     "execution_count": 133,
     "metadata": {},
     "output_type": "execute_result"
    }
   ],
   "source": [
    "confusion_matrix = metrics.confusion_matrix(churn_predicted.y_train, churn_predicted.ChurnPredicted)\n",
    "confusion_matrix"
   ]
  },
  {
   "cell_type": "code",
   "execution_count": 132,
   "metadata": {},
   "outputs": [
    {
     "data": {
      "text/plain": [
       "0.803"
      ]
     },
     "execution_count": 132,
     "metadata": {},
     "output_type": "execute_result"
    }
   ],
   "source": [
    "round(metrics.accuracy_score(churn_predicted.y_train, churn_predicted.ChurnPredicted), 3)"
   ]
  },
  {
   "cell_type": "code",
   "execution_count": 136,
   "metadata": {},
   "outputs": [],
   "source": [
    "TN = confusion_matrix[0, 0] # True negative\n",
    "FP = confusion_matrix[0, 1] # False positive\n",
    "FN = confusion_matrix[1, 0] # False negatives\n",
    "TP = confusion_matrix[1, 1] # True positive"
   ]
  },
  {
   "cell_type": "code",
   "execution_count": 137,
   "metadata": {},
   "outputs": [
    {
     "data": {
      "text/plain": [
       "3297"
      ]
     },
     "execution_count": 137,
     "metadata": {},
     "output_type": "execute_result"
    }
   ],
   "source": [
    "TN"
   ]
  },
  {
   "cell_type": "code",
   "execution_count": 138,
   "metadata": {},
   "outputs": [
    {
     "data": {
      "text/plain": [
       "0.51"
      ]
     },
     "execution_count": 138,
     "metadata": {},
     "output_type": "execute_result"
    }
   ],
   "source": [
    "def sensitivity(tp, fn):\n",
    "    return round(tp/(tp+fn), 2)\n",
    "\n",
    "sensitivity(TP, FN)"
   ]
  },
  {
   "cell_type": "code",
   "execution_count": 139,
   "metadata": {},
   "outputs": [
    {
     "data": {
      "text/plain": [
       "0.91"
      ]
     },
     "execution_count": 139,
     "metadata": {},
     "output_type": "execute_result"
    }
   ],
   "source": [
    "def specificity(tn, fp):\n",
    "    return round(tn/(tn+fp), 2)\n",
    "specificity(TN, FP)"
   ]
  },
  {
   "cell_type": "code",
   "execution_count": 140,
   "metadata": {},
   "outputs": [
    {
     "data": {
      "text/html": [
       "<div>\n",
       "<style scoped>\n",
       "    .dataframe tbody tr th:only-of-type {\n",
       "        vertical-align: middle;\n",
       "    }\n",
       "\n",
       "    .dataframe tbody tr th {\n",
       "        vertical-align: top;\n",
       "    }\n",
       "\n",
       "    .dataframe thead th {\n",
       "        text-align: right;\n",
       "    }\n",
       "</style>\n",
       "<table border=\"1\" class=\"dataframe\">\n",
       "  <thead>\n",
       "    <tr style=\"text-align: right;\">\n",
       "      <th></th>\n",
       "      <th>columns</th>\n",
       "      <th>VFI_VALUE</th>\n",
       "    </tr>\n",
       "  </thead>\n",
       "  <tbody>\n",
       "    <tr>\n",
       "      <th>2</th>\n",
       "      <td>TotalCharges</td>\n",
       "      <td>7.30</td>\n",
       "    </tr>\n",
       "    <tr>\n",
       "      <th>0</th>\n",
       "      <td>tenure</td>\n",
       "      <td>6.79</td>\n",
       "    </tr>\n",
       "    <tr>\n",
       "      <th>7</th>\n",
       "      <td>Contract_Two year</td>\n",
       "      <td>3.16</td>\n",
       "    </tr>\n",
       "    <tr>\n",
       "      <th>8</th>\n",
       "      <td>InternetService_Fiber optic</td>\n",
       "      <td>2.94</td>\n",
       "    </tr>\n",
       "    <tr>\n",
       "      <th>9</th>\n",
       "      <td>InternetService_No</td>\n",
       "      <td>2.53</td>\n",
       "    </tr>\n",
       "    <tr>\n",
       "      <th>1</th>\n",
       "      <td>PaperlessBilling</td>\n",
       "      <td>2.52</td>\n",
       "    </tr>\n",
       "    <tr>\n",
       "      <th>13</th>\n",
       "      <td>StreamingTV_Yes</td>\n",
       "      <td>2.31</td>\n",
       "    </tr>\n",
       "    <tr>\n",
       "      <th>10</th>\n",
       "      <td>MultipleLines_Yes</td>\n",
       "      <td>2.27</td>\n",
       "    </tr>\n",
       "    <tr>\n",
       "      <th>12</th>\n",
       "      <td>TechSupport_Yes</td>\n",
       "      <td>2.00</td>\n",
       "    </tr>\n",
       "    <tr>\n",
       "      <th>6</th>\n",
       "      <td>Contract_One year</td>\n",
       "      <td>1.83</td>\n",
       "    </tr>\n",
       "    <tr>\n",
       "      <th>11</th>\n",
       "      <td>OnlineSecurity_Yes</td>\n",
       "      <td>1.80</td>\n",
       "    </tr>\n",
       "    <tr>\n",
       "      <th>5</th>\n",
       "      <td>PaymentMethod_Mailed check</td>\n",
       "      <td>1.66</td>\n",
       "    </tr>\n",
       "    <tr>\n",
       "      <th>4</th>\n",
       "      <td>PaymentMethod_Credit card (automatic)</td>\n",
       "      <td>1.44</td>\n",
       "    </tr>\n",
       "    <tr>\n",
       "      <th>3</th>\n",
       "      <td>SeniorCitizen</td>\n",
       "      <td>1.31</td>\n",
       "    </tr>\n",
       "  </tbody>\n",
       "</table>\n",
       "</div>"
      ],
      "text/plain": [
       "                                  columns  VFI_VALUE\n",
       "2                            TotalCharges       7.30\n",
       "0                                  tenure       6.79\n",
       "7                       Contract_Two year       3.16\n",
       "8             InternetService_Fiber optic       2.94\n",
       "9                      InternetService_No       2.53\n",
       "1                        PaperlessBilling       2.52\n",
       "13                        StreamingTV_Yes       2.31\n",
       "10                      MultipleLines_Yes       2.27\n",
       "12                        TechSupport_Yes       2.00\n",
       "6                       Contract_One year       1.83\n",
       "11                     OnlineSecurity_Yes       1.80\n",
       "5              PaymentMethod_Mailed check       1.66\n",
       "4   PaymentMethod_Credit card (automatic)       1.44\n",
       "3                           SeniorCitizen       1.31"
      ]
     },
     "execution_count": 140,
     "metadata": {},
     "output_type": "execute_result"
    }
   ],
   "source": [
    "vfi = pd.DataFrame({\"columns\": _col})\n",
    "vfi['VFI_VALUE'] = [variance_inflation_factor(x_train[_col].values, i) for i in range(x_train[_col].shape[1])]\n",
    "vfi['VFI_VALUE'] = round(vfi['VFI_VALUE'], 2)\n",
    "vfi = vfi.sort_values(by='VFI_VALUE', ascending=False)\n",
    "vfi"
   ]
  },
  {
   "cell_type": "code",
   "execution_count": 142,
   "metadata": {},
   "outputs": [
    {
     "data": {
      "text/plain": [
       "['tenure',\n",
       " 'PaperlessBilling',\n",
       " 'SeniorCitizen',\n",
       " 'PaymentMethod_Credit card (automatic)',\n",
       " 'PaymentMethod_Mailed check',\n",
       " 'Contract_One year',\n",
       " 'Contract_Two year',\n",
       " 'InternetService_Fiber optic',\n",
       " 'InternetService_No',\n",
       " 'MultipleLines_Yes',\n",
       " 'OnlineSecurity_Yes',\n",
       " 'TechSupport_Yes',\n",
       " 'StreamingTV_Yes']"
      ]
     },
     "execution_count": 142,
     "metadata": {},
     "output_type": "execute_result"
    }
   ],
   "source": [
    "_col.remove('TotalCharges')\n",
    "_col"
   ]
  },
  {
   "cell_type": "code",
   "execution_count": 143,
   "metadata": {},
   "outputs": [
    {
     "name": "stdout",
     "output_type": "stream",
     "text": [
      "                 Generalized Linear Model Regression Results                  \n",
      "==============================================================================\n",
      "Dep. Variable:                  Churn   No. Observations:                 4922\n",
      "Model:                            GLM   Df Residuals:                     4908\n",
      "Model Family:                Gaussian   Df Model:                           13\n",
      "Link Function:               identity   Scale:                         0.13940\n",
      "Method:                          IRLS   Log-Likelihood:                -2127.8\n",
      "Date:                Thu, 30 May 2019   Deviance:                       684.18\n",
      "Time:                        11:32:48   Pearson chi2:                     684.\n",
      "No. Iterations:                     3   Covariance Type:             nonrobust\n",
      "=========================================================================================================\n",
      "                                            coef    std err          z      P>|z|      [0.025      0.975]\n",
      "---------------------------------------------------------------------------------------------------------\n",
      "const                                     0.2765      0.018     15.661      0.000       0.242       0.311\n",
      "tenure                                   -0.1280      0.008    -15.172      0.000      -0.144      -0.111\n",
      "PaperlessBilling                          0.0445      0.012      3.743      0.000       0.021       0.068\n",
      "SeniorCitizen                             0.0823      0.015      5.381      0.000       0.052       0.112\n",
      "PaymentMethod_Credit card (automatic)    -0.0536      0.014     -3.849      0.000      -0.081      -0.026\n",
      "PaymentMethod_Mailed check               -0.0712      0.015     -4.829      0.000      -0.100      -0.042\n",
      "Contract_One year                        -0.1104      0.016     -6.750      0.000      -0.142      -0.078\n",
      "Contract_Two year                        -0.0522      0.020     -2.594      0.009      -0.092      -0.013\n",
      "InternetService_Fiber optic               0.1291      0.014      9.174      0.000       0.102       0.157\n",
      "InternetService_No                       -0.1496      0.019     -7.927      0.000      -0.187      -0.113\n",
      "MultipleLines_Yes                         0.0267      0.012      2.135      0.033       0.002       0.051\n",
      "OnlineSecurity_Yes                       -0.0704      0.014     -5.030      0.000      -0.098      -0.043\n",
      "TechSupport_Yes                          -0.0753      0.014     -5.342      0.000      -0.103      -0.048\n",
      "StreamingTV_Yes                           0.0438      0.013      3.385      0.001       0.018       0.069\n",
      "=========================================================================================================\n"
     ]
    }
   ],
   "source": [
    "x_train_const = sm.add_constant(x_train[_col])\n",
    "model2 = sm.GLM(y_train, x_train_const).fit()\n",
    "print(model2.summary())"
   ]
  },
  {
   "cell_type": "code",
   "execution_count": 144,
   "metadata": {},
   "outputs": [
    {
     "data": {
      "text/html": [
       "<div>\n",
       "<style scoped>\n",
       "    .dataframe tbody tr th:only-of-type {\n",
       "        vertical-align: middle;\n",
       "    }\n",
       "\n",
       "    .dataframe tbody tr th {\n",
       "        vertical-align: top;\n",
       "    }\n",
       "\n",
       "    .dataframe thead th {\n",
       "        text-align: right;\n",
       "    }\n",
       "</style>\n",
       "<table border=\"1\" class=\"dataframe\">\n",
       "  <thead>\n",
       "    <tr style=\"text-align: right;\">\n",
       "      <th></th>\n",
       "      <th>columns</th>\n",
       "      <th>VFI_VALUE</th>\n",
       "    </tr>\n",
       "  </thead>\n",
       "  <tbody>\n",
       "    <tr>\n",
       "      <th>6</th>\n",
       "      <td>Contract_Two year</td>\n",
       "      <td>3.07</td>\n",
       "    </tr>\n",
       "    <tr>\n",
       "      <th>7</th>\n",
       "      <td>InternetService_Fiber optic</td>\n",
       "      <td>2.60</td>\n",
       "    </tr>\n",
       "    <tr>\n",
       "      <th>1</th>\n",
       "      <td>PaperlessBilling</td>\n",
       "      <td>2.44</td>\n",
       "    </tr>\n",
       "    <tr>\n",
       "      <th>9</th>\n",
       "      <td>MultipleLines_Yes</td>\n",
       "      <td>2.24</td>\n",
       "    </tr>\n",
       "    <tr>\n",
       "      <th>12</th>\n",
       "      <td>StreamingTV_Yes</td>\n",
       "      <td>2.17</td>\n",
       "    </tr>\n",
       "    <tr>\n",
       "      <th>8</th>\n",
       "      <td>InternetService_No</td>\n",
       "      <td>2.12</td>\n",
       "    </tr>\n",
       "    <tr>\n",
       "      <th>0</th>\n",
       "      <td>tenure</td>\n",
       "      <td>2.04</td>\n",
       "    </tr>\n",
       "    <tr>\n",
       "      <th>11</th>\n",
       "      <td>TechSupport_Yes</td>\n",
       "      <td>1.98</td>\n",
       "    </tr>\n",
       "    <tr>\n",
       "      <th>5</th>\n",
       "      <td>Contract_One year</td>\n",
       "      <td>1.82</td>\n",
       "    </tr>\n",
       "    <tr>\n",
       "      <th>10</th>\n",
       "      <td>OnlineSecurity_Yes</td>\n",
       "      <td>1.78</td>\n",
       "    </tr>\n",
       "    <tr>\n",
       "      <th>4</th>\n",
       "      <td>PaymentMethod_Mailed check</td>\n",
       "      <td>1.66</td>\n",
       "    </tr>\n",
       "    <tr>\n",
       "      <th>3</th>\n",
       "      <td>PaymentMethod_Credit card (automatic)</td>\n",
       "      <td>1.44</td>\n",
       "    </tr>\n",
       "    <tr>\n",
       "      <th>2</th>\n",
       "      <td>SeniorCitizen</td>\n",
       "      <td>1.31</td>\n",
       "    </tr>\n",
       "  </tbody>\n",
       "</table>\n",
       "</div>"
      ],
      "text/plain": [
       "                                  columns  VFI_VALUE\n",
       "6                       Contract_Two year       3.07\n",
       "7             InternetService_Fiber optic       2.60\n",
       "1                        PaperlessBilling       2.44\n",
       "9                       MultipleLines_Yes       2.24\n",
       "12                        StreamingTV_Yes       2.17\n",
       "8                      InternetService_No       2.12\n",
       "0                                  tenure       2.04\n",
       "11                        TechSupport_Yes       1.98\n",
       "5                       Contract_One year       1.82\n",
       "10                     OnlineSecurity_Yes       1.78\n",
       "4              PaymentMethod_Mailed check       1.66\n",
       "3   PaymentMethod_Credit card (automatic)       1.44\n",
       "2                           SeniorCitizen       1.31"
      ]
     },
     "execution_count": 144,
     "metadata": {},
     "output_type": "execute_result"
    }
   ],
   "source": [
    "vfi = pd.DataFrame({\"columns\": _col})\n",
    "vfi['VFI_VALUE'] = [variance_inflation_factor(x_train[_col].values, i) for i in range(x_train[_col].shape[1])]\n",
    "vfi['VFI_VALUE'] = round(vfi['VFI_VALUE'], 2)\n",
    "vfi = vfi.sort_values(by='VFI_VALUE', ascending=False)\n",
    "vfi"
   ]
  },
  {
   "cell_type": "code",
   "execution_count": 145,
   "metadata": {},
   "outputs": [],
   "source": [
    "y_train_predicted = model2.predict(x_train_const)\n",
    "y_train_predicted = y_train_predicted.values.reshape(-1)\n"
   ]
  },
  {
   "cell_type": "code",
   "execution_count": 146,
   "metadata": {},
   "outputs": [
    {
     "data": {
      "text/plain": [
       "0.803"
      ]
     },
     "execution_count": 146,
     "metadata": {},
     "output_type": "execute_result"
    }
   ],
   "source": [
    "round(metrics.accuracy_score(churn_predicted.y_train, churn_predicted.ChurnPredicted), 3)"
   ]
  },
  {
   "cell_type": "code",
   "execution_count": 148,
   "metadata": {},
   "outputs": [
    {
     "data": {
      "text/html": [
       "<div>\n",
       "<style scoped>\n",
       "    .dataframe tbody tr th:only-of-type {\n",
       "        vertical-align: middle;\n",
       "    }\n",
       "\n",
       "    .dataframe tbody tr th {\n",
       "        vertical-align: top;\n",
       "    }\n",
       "\n",
       "    .dataframe thead th {\n",
       "        text-align: right;\n",
       "    }\n",
       "</style>\n",
       "<table border=\"1\" class=\"dataframe\">\n",
       "  <thead>\n",
       "    <tr style=\"text-align: right;\">\n",
       "      <th></th>\n",
       "      <th>ChurnProbability</th>\n",
       "      <th>y_train</th>\n",
       "      <th>ChurnPredicted</th>\n",
       "    </tr>\n",
       "  </thead>\n",
       "  <tbody>\n",
       "    <tr>\n",
       "      <th>879</th>\n",
       "      <td>0.345116</td>\n",
       "      <td>0</td>\n",
       "      <td>0</td>\n",
       "    </tr>\n",
       "    <tr>\n",
       "      <th>5790</th>\n",
       "      <td>0.325688</td>\n",
       "      <td>0</td>\n",
       "      <td>0</td>\n",
       "    </tr>\n",
       "    <tr>\n",
       "      <th>6498</th>\n",
       "      <td>0.614704</td>\n",
       "      <td>1</td>\n",
       "      <td>1</td>\n",
       "    </tr>\n",
       "    <tr>\n",
       "      <th>880</th>\n",
       "      <td>0.465858</td>\n",
       "      <td>1</td>\n",
       "      <td>0</td>\n",
       "    </tr>\n",
       "    <tr>\n",
       "      <th>2784</th>\n",
       "      <td>0.567556</td>\n",
       "      <td>1</td>\n",
       "      <td>1</td>\n",
       "    </tr>\n",
       "  </tbody>\n",
       "</table>\n",
       "</div>"
      ],
      "text/plain": [
       "      ChurnProbability  y_train  ChurnPredicted\n",
       "879           0.345116        0               0\n",
       "5790          0.325688        0               0\n",
       "6498          0.614704        1               1\n",
       "880           0.465858        1               0\n",
       "2784          0.567556        1               1"
      ]
     },
     "execution_count": 148,
     "metadata": {},
     "output_type": "execute_result"
    }
   ],
   "source": [
    "churn_predicted = pd.DataFrame({'ChurnProbability': y_train_predicted, 'y_train': y_train})\n",
    "churn_predicted['ChurnPredicted'] = churn_predicted['ChurnProbability'].map(lambda x: 1 if x > 0.5 else 0)\n",
    "churn_predicted.head()"
   ]
  },
  {
   "cell_type": "code",
   "execution_count": 149,
   "metadata": {},
   "outputs": [
    {
     "data": {
      "text/plain": [
       "array([[3319,  659],\n",
       "       [ 316,  628]])"
      ]
     },
     "execution_count": 149,
     "metadata": {},
     "output_type": "execute_result"
    }
   ],
   "source": [
    "metrics.confusion_matrix(churn_predicted.ChurnPredicted, churn_predicted.y_train)"
   ]
  },
  {
   "cell_type": "code",
   "execution_count": 150,
   "metadata": {},
   "outputs": [],
   "source": [
    "TN = confusion_matrix[0, 0] # True negative\n",
    "FP = confusion_matrix[0, 1] # False positive\n",
    "FN = confusion_matrix[1, 0] # False negatives\n",
    "TP = confusion_matrix[1, 1] # True positive"
   ]
  },
  {
   "cell_type": "code",
   "execution_count": 151,
   "metadata": {},
   "outputs": [
    {
     "data": {
      "text/plain": [
       "0.51"
      ]
     },
     "execution_count": 151,
     "metadata": {},
     "output_type": "execute_result"
    }
   ],
   "source": [
    "sensitivity(TP, FN)"
   ]
  },
  {
   "cell_type": "code",
   "execution_count": 152,
   "metadata": {},
   "outputs": [
    {
     "data": {
      "text/plain": [
       "0.91"
      ]
     },
     "execution_count": 152,
     "metadata": {},
     "output_type": "execute_result"
    }
   ],
   "source": [
    "specificity(TN, FP)"
   ]
  },
  {
   "cell_type": "code",
   "execution_count": 154,
   "metadata": {},
   "outputs": [],
   "source": [
    "churn_predicted.to_csv(\"predicted_churn.csv\")"
   ]
  },
  {
   "cell_type": "code",
   "execution_count": null,
   "metadata": {},
   "outputs": [],
   "source": []
  },
  {
   "cell_type": "markdown",
   "metadata": {},
   "source": [
    "### ROC Curve:"
   ]
  },
  {
   "cell_type": "markdown",
   "metadata": {},
   "source": [
    " "
   ]
  },
  {
   "cell_type": "code",
   "execution_count": 165,
   "metadata": {},
   "outputs": [
    {
     "data": {
      "image/png": "[encoded data removed]",
      "text/plain": [
       "<Figure size 432x288 with 1 Axes>"
      ]
     },
     "metadata": {
      "needs_background": "light"
     },
     "output_type": "display_data"
    }
   ],
   "source": [
    "def draw_roc(actual, probability):\n",
    "    fpr, tpr, thershoulds = metrics.roc_curve(actual, probability, drop_intermediate=False)\n",
    "    auc = metrics.roc_auc_score(actual, probability)\n",
    "    plt.plot(fpr, tpr, label='ROC curve (area = %0.2f)' % auc)\n",
    "    plt.plot([0,1], [0,1], 'k--')\n",
    "    plt.xlim([0.0, 1.0])\n",
    "    plt.ylim([0.0, 1.05])\n",
    "    plt.xlabel('False Positive Rate or [1 - True Negative Rate]')\n",
    "    plt.ylabel('True Positive Rate')\n",
    "    plt.title('Receiver operating characteristic example')\n",
    "    plt.legend(loc=\"lower right\")\n",
    "    plt.show()\n",
    "    return None\n",
    "\n",
    "draw_roc(churn_predicted.y_train, churn_predicted.ChurnProbability)"
   ]
  },
  {
   "cell_type": "markdown",
   "metadata": {},
   "source": [
    "## ROC: POC"
   ]
  },
  {
   "cell_type": "code",
   "execution_count": 168,
   "metadata": {},
   "outputs": [],
   "source": [
    "def pdf(x, std, mean):\n",
    "    const = 1.0 / np.sqrt(2*np.pi*(std**2))\n",
    "    pdf_normal_dist = const*np.exp(-((x-mean)**2)/(2.0*(std**2)))\n",
    "    return pdf_normal_dist\n",
    "x = np.linspace(0, 1, num=100)\n",
    "good_pdf = pdf(x,0.1,0.4)\n",
    "bad_pdf = pdf(x,0.1,0.6)"
   ]
  },
  {
   "cell_type": "code",
   "execution_count": 182,
   "metadata": {},
   "outputs": [
    {
     "data": {
      "image/png": "[encoded data removed]",
      "text/plain": [
       "<Figure size 720x360 with 1 Axes>"
      ]
     },
     "metadata": {
      "needs_background": "light"
     },
     "output_type": "display_data"
    }
   ],
   "source": [
    "def plot_pdf(good_pdf, bad_pdf, ax):\n",
    "    ax.fill(x, good_pdf, \"g\", alpha=0.5)\n",
    "    ax.fill(x, bad_pdf,\"r\", alpha=0.5)\n",
    "    ax.set_xlim([0,1])\n",
    "    ax.set_ylim([0,5])\n",
    "    ax.set_title(\"Probability Distribution\", fontsize=14)\n",
    "    ax.set_ylabel('Counts', fontsize=12)\n",
    "    ax.set_xlabel('P(X=\"bad\")', fontsize=12)\n",
    "    ax.legend([\"good\",\"bad\"])\n",
    "\n",
    "fig, ax = plt.subplots(1,1, figsize=(10,5))\n",
    "plot_pdf(good_pdf, bad_pdf, ax)"
   ]
  },
  {
   "cell_type": "code",
   "execution_count": 188,
   "metadata": {},
   "outputs": [],
   "source": [
    "def plot_roc(good_pdf, bad_pdf, ax):\n",
    "    #Total\n",
    "    total_bad = np.sum(bad_pdf)\n",
    "    total_good = np.sum(good_pdf)\n",
    "    #Cumulative sum\n",
    "    cum_TP = 0\n",
    "    cum_FP = 0\n",
    "    #TPR and FPR list initialization\n",
    "    TPR_list=[]\n",
    "    FPR_list=[]\n",
    "    #Iteratre through all values of x\n",
    "    for i in range(len(x)):\n",
    "        #We are only interested in non-zero values of bad\n",
    "        if bad_pdf[i]>0:\n",
    "            cum_TP+=bad_pdf[len(x)-1-i]\n",
    "            cum_FP+=good_pdf[len(x)-1-i]\n",
    "        FPR=cum_FP/total_good\n",
    "        TPR=cum_TP/total_bad\n",
    "        TPR_list.append(TPR)\n",
    "        FPR_list.append(FPR)\n",
    "    #Calculating AUC, taking the 100 timesteps into account\n",
    "    auc=np.sum(TPR_list)/100\n",
    "    #Plotting final ROC curve\n",
    "    ax.plot(FPR_list, TPR_list)\n",
    "    ax.plot(x,x, \"--\")\n",
    "    ax.set_xlim([0,1])\n",
    "    ax.set_ylim([0,1])\n",
    "    ax.set_title(\"ROC Curve\", fontsize=14)\n",
    "    ax.set_ylabel('TPR', fontsize=12)\n",
    "    ax.set_xlabel('FPR', fontsize=12)\n",
    "    ax.grid()\n",
    "    ax.legend([\"AUC=%.3f\"%auc])"
   ]
  },
  {
   "cell_type": "code",
   "execution_count": 189,
   "metadata": {},
   "outputs": [
    {
     "data": {
      "image/png": "[encoded data removed]",
      "text/plain": [
       "<Figure size 720x360 with 1 Axes>"
      ]
     },
     "metadata": {
      "needs_background": "light"
     },
     "output_type": "display_data"
    }
   ],
   "source": [
    "fig, ax = plt.subplots(1,1, figsize=(10,5))\n",
    "plot_roc(good_pdf, bad_pdf, ax)"
   ]
  },
  {
   "cell_type": "code",
   "execution_count": 190,
   "metadata": {},
   "outputs": [
    {
     "data": {
      "image/png": "[encoded data removed]",
      "text/plain": [
       "<Figure size 720x360 with 2 Axes>"
      ]
     },
     "metadata": {
      "needs_background": "light"
     },
     "output_type": "display_data"
    }
   ],
   "source": [
    "fig, ax = plt.subplots(1,2, figsize=(10,5))\n",
    "plot_pdf(good_pdf, bad_pdf, ax[0])\n",
    "plot_roc(good_pdf, bad_pdf, ax[1])\n",
    "plt.tight_layout()"
   ]
  },
  {
   "cell_type": "code",
   "execution_count": 191,
   "metadata": {},
   "outputs": [
    {
     "data": {
      "image/png": "[encoded data removed]",
      "text/plain": [
       "<Figure size 720x864 with 6 Axes>"
      ]
     },
     "metadata": {
      "needs_background": "light"
     },
     "output_type": "display_data"
    }
   ],
   "source": [
    "x = np.linspace(0, 1, num=100)\n",
    "fig, ax = plt.subplots(3,2, figsize=(10,12))\n",
    "means_tuples = [(0.5,0.5),(0.4,0.6),(0.3,0.7)]\n",
    "i=0\n",
    "for good_mean, bad_mean in means_tuples:\n",
    "    good_pdf = pdf(x, 0.1, good_mean)\n",
    "    bad_pdf  = pdf(x, 0.1, bad_mean)\n",
    "    plot_pdf(good_pdf, bad_pdf, ax[i,0])\n",
    "    plot_roc(good_pdf, bad_pdf, ax[i,1])\n",
    "    i+=1\n",
    "plt.tight_layout()"
   ]
  },
  {
   "cell_type": "markdown",
   "metadata": {},
   "source": [
    " "
   ]
  },
  {
   "cell_type": "markdown",
   "metadata": {},
   "source": [
    "### Optimal theshould:"
   ]
  },
  {
   "cell_type": "code",
   "execution_count": 192,
   "metadata": {},
   "outputs": [
    {
     "data": {
      "text/html": [
       "<div>\n",
       "<style scoped>\n",
       "    .dataframe tbody tr th:only-of-type {\n",
       "        vertical-align: middle;\n",
       "    }\n",
       "\n",
       "    .dataframe tbody tr th {\n",
       "        vertical-align: top;\n",
       "    }\n",
       "\n",
       "    .dataframe thead th {\n",
       "        text-align: right;\n",
       "    }\n",
       "</style>\n",
       "<table border=\"1\" class=\"dataframe\">\n",
       "  <thead>\n",
       "    <tr style=\"text-align: right;\">\n",
       "      <th></th>\n",
       "      <th>ChurnProbability</th>\n",
       "      <th>y_train</th>\n",
       "      <th>ChurnPredicted</th>\n",
       "    </tr>\n",
       "  </thead>\n",
       "  <tbody>\n",
       "    <tr>\n",
       "      <th>879</th>\n",
       "      <td>0.345116</td>\n",
       "      <td>0</td>\n",
       "      <td>0</td>\n",
       "    </tr>\n",
       "    <tr>\n",
       "      <th>5790</th>\n",
       "      <td>0.325688</td>\n",
       "      <td>0</td>\n",
       "      <td>0</td>\n",
       "    </tr>\n",
       "    <tr>\n",
       "      <th>6498</th>\n",
       "      <td>0.614704</td>\n",
       "      <td>1</td>\n",
       "      <td>1</td>\n",
       "    </tr>\n",
       "    <tr>\n",
       "      <th>880</th>\n",
       "      <td>0.465858</td>\n",
       "      <td>1</td>\n",
       "      <td>0</td>\n",
       "    </tr>\n",
       "    <tr>\n",
       "      <th>2784</th>\n",
       "      <td>0.567556</td>\n",
       "      <td>1</td>\n",
       "      <td>1</td>\n",
       "    </tr>\n",
       "  </tbody>\n",
       "</table>\n",
       "</div>"
      ],
      "text/plain": [
       "      ChurnProbability  y_train  ChurnPredicted\n",
       "879           0.345116        0               0\n",
       "5790          0.325688        0               0\n",
       "6498          0.614704        1               1\n",
       "880           0.465858        1               0\n",
       "2784          0.567556        1               1"
      ]
     },
     "execution_count": 192,
     "metadata": {},
     "output_type": "execute_result"
    }
   ],
   "source": [
    "churn_predicted.head()"
   ]
  },
  {
   "cell_type": "code",
   "execution_count": 224,
   "metadata": {},
   "outputs": [
    {
     "name": "stdout",
     "output_type": "stream",
     "text": [
      "0.0 19\n",
      "0.1 46\n",
      "0.2 92\n",
      "0.3 234\n",
      "0.4 384\n",
      "0.5 659\n",
      "0.6 959\n",
      "0.7 1224\n",
      "0.8 1287\n",
      "0.9 1287\n"
     ]
    },
    {
     "data": {
      "text/html": [
       "<div>\n",
       "<style scoped>\n",
       "    .dataframe tbody tr th:only-of-type {\n",
       "        vertical-align: middle;\n",
       "    }\n",
       "\n",
       "    .dataframe tbody tr th {\n",
       "        vertical-align: top;\n",
       "    }\n",
       "\n",
       "    .dataframe thead th {\n",
       "        text-align: right;\n",
       "    }\n",
       "</style>\n",
       "<table border=\"1\" class=\"dataframe\">\n",
       "  <thead>\n",
       "    <tr style=\"text-align: right;\">\n",
       "      <th></th>\n",
       "      <th>prob</th>\n",
       "      <th>accuracy</th>\n",
       "      <th>sensitivity</th>\n",
       "      <th>specificity</th>\n",
       "    </tr>\n",
       "  </thead>\n",
       "  <tbody>\n",
       "    <tr>\n",
       "      <th>0.0</th>\n",
       "      <td>0.0</td>\n",
       "      <td>0.410</td>\n",
       "      <td>0.985</td>\n",
       "      <td>0.206</td>\n",
       "    </tr>\n",
       "    <tr>\n",
       "      <th>0.1</th>\n",
       "      <td>0.1</td>\n",
       "      <td>0.527</td>\n",
       "      <td>0.964</td>\n",
       "      <td>0.373</td>\n",
       "    </tr>\n",
       "    <tr>\n",
       "      <th>0.2</th>\n",
       "      <td>0.2</td>\n",
       "      <td>0.641</td>\n",
       "      <td>0.929</td>\n",
       "      <td>0.539</td>\n",
       "    </tr>\n",
       "    <tr>\n",
       "      <th>0.3</th>\n",
       "      <td>0.3</td>\n",
       "      <td>0.741</td>\n",
       "      <td>0.818</td>\n",
       "      <td>0.714</td>\n",
       "    </tr>\n",
       "    <tr>\n",
       "      <th>0.4</th>\n",
       "      <td>0.4</td>\n",
       "      <td>0.793</td>\n",
       "      <td>0.702</td>\n",
       "      <td>0.826</td>\n",
       "    </tr>\n",
       "    <tr>\n",
       "      <th>0.5</th>\n",
       "      <td>0.5</td>\n",
       "      <td>0.802</td>\n",
       "      <td>0.488</td>\n",
       "      <td>0.913</td>\n",
       "    </tr>\n",
       "    <tr>\n",
       "      <th>0.6</th>\n",
       "      <td>0.6</td>\n",
       "      <td>0.786</td>\n",
       "      <td>0.255</td>\n",
       "      <td>0.974</td>\n",
       "    </tr>\n",
       "    <tr>\n",
       "      <th>0.7</th>\n",
       "      <td>0.7</td>\n",
       "      <td>0.749</td>\n",
       "      <td>0.049</td>\n",
       "      <td>0.997</td>\n",
       "    </tr>\n",
       "    <tr>\n",
       "      <th>0.8</th>\n",
       "      <td>0.8</td>\n",
       "      <td>0.739</td>\n",
       "      <td>0.000</td>\n",
       "      <td>1.000</td>\n",
       "    </tr>\n",
       "    <tr>\n",
       "      <th>0.9</th>\n",
       "      <td>0.9</td>\n",
       "      <td>0.739</td>\n",
       "      <td>0.000</td>\n",
       "      <td>1.000</td>\n",
       "    </tr>\n",
       "  </tbody>\n",
       "</table>\n",
       "</div>"
      ],
      "text/plain": [
       "     prob  accuracy  sensitivity  specificity\n",
       "0.0   0.0     0.410        0.985        0.206\n",
       "0.1   0.1     0.527        0.964        0.373\n",
       "0.2   0.2     0.641        0.929        0.539\n",
       "0.3   0.3     0.741        0.818        0.714\n",
       "0.4   0.4     0.793        0.702        0.826\n",
       "0.5   0.5     0.802        0.488        0.913\n",
       "0.6   0.6     0.786        0.255        0.974\n",
       "0.7   0.7     0.749        0.049        0.997\n",
       "0.8   0.8     0.739        0.000        1.000\n",
       "0.9   0.9     0.739        0.000        1.000"
      ]
     },
     "execution_count": 224,
     "metadata": {},
     "output_type": "execute_result"
    }
   ],
   "source": [
    "probabilities = [i/10 for i in range(10) ]\n",
    "cutoff = pd.DataFrame(columns=['prob', 'accuracy', 'sensitivity', 'specificity'])\n",
    "for _prob in probabilities:\n",
    "    churn_predicted[_prob] = churn_predicted.ChurnProbability.map(lambda x: 1 if x > _prob else 0)\n",
    "    cm = metrics.confusion_matrix(churn_predicted.y_train, churn_predicted[_prob])\n",
    "    total = sum(sum(cm))\n",
    "    _accuracy = round((cm[0, 0] + cm[1, 1])/total, 3)\n",
    "    _sensitivity = round(cm[1,1] / (cm[1,0] + cm[1,1]), 3)\n",
    "    _specificity = round(cm[0,0] / (cm[0,0] + cm[0,1]), 3)\n",
    "    cutoff.loc[_prob] = [ _prob, _accuracy, _sensitivity,  _specificity ]\n",
    "    \n",
    "cutoff"
   ]
  },
  {
   "cell_type": "code",
   "execution_count": 223,
   "metadata": {},
   "outputs": [
    {
     "data": {
      "text/plain": [
       "<matplotlib.axes._subplots.AxesSubplot at 0x1a2771c7b8>"
      ]
     },
     "execution_count": 223,
     "metadata": {},
     "output_type": "execute_result"
    },
    {
     "data": {
      "image/png": "[encoded data removed]",
      "text/plain": [
       "<Figure size 432x288 with 1 Axes>"
      ]
     },
     "metadata": {
      "needs_background": "light"
     },
     "output_type": "display_data"
    }
   ],
   "source": [
    "cutoff.plot.line(x='prob', y=['accuracy', 'sensitivity', 'specificity'])"
   ]
  },
  {
   "cell_type": "markdown",
   "metadata": {},
   "source": [
    "##### Optimal solution we can findout at 0.3 probability where it has stabilized the accuacy, sensitivity, specificity"
   ]
  },
  {
   "cell_type": "markdown",
   "metadata": {},
   "source": [
    "### Prediction: "
   ]
  },
  {
   "cell_type": "code",
   "execution_count": 225,
   "metadata": {},
   "outputs": [
    {
     "data": {
      "text/plain": [
       "['tenure',\n",
       " 'PaperlessBilling',\n",
       " 'SeniorCitizen',\n",
       " 'PaymentMethod_Credit card (automatic)',\n",
       " 'PaymentMethod_Mailed check',\n",
       " 'Contract_One year',\n",
       " 'Contract_Two year',\n",
       " 'InternetService_Fiber optic',\n",
       " 'InternetService_No',\n",
       " 'MultipleLines_Yes',\n",
       " 'OnlineSecurity_Yes',\n",
       " 'TechSupport_Yes',\n",
       " 'StreamingTV_Yes']"
      ]
     },
     "execution_count": 225,
     "metadata": {},
     "output_type": "execute_result"
    }
   ],
   "source": [
    "_col"
   ]
  },
  {
   "cell_type": "code",
   "execution_count": 226,
   "metadata": {},
   "outputs": [
    {
     "data": {
      "text/plain": [
       "942     0\n",
       "3730    1\n",
       "1761    0\n",
       "2283    1\n",
       "1872    0\n",
       "Name: Churn, dtype: int64"
      ]
     },
     "execution_count": 226,
     "metadata": {},
     "output_type": "execute_result"
    }
   ],
   "source": [
    "y_test.head()"
   ]
  },
  {
   "cell_type": "code",
   "execution_count": 229,
   "metadata": {},
   "outputs": [
    {
     "name": "stderr",
     "output_type": "stream",
     "text": [
      "/anaconda3/lib/python3.7/site-packages/ipykernel_launcher.py:1: DataConversionWarning: Data with input dtype int64, float64 were all converted to float64 by StandardScaler.\n",
      "  \"\"\"Entry point for launching an IPython kernel.\n",
      "/anaconda3/lib/python3.7/site-packages/ipykernel_launcher.py:1: SettingWithCopyWarning: \n",
      "A value is trying to be set on a copy of a slice from a DataFrame.\n",
      "Try using .loc[row_indexer,col_indexer] = value instead\n",
      "\n",
      "See the caveats in the documentation: http://pandas.pydata.org/pandas-docs/stable/indexing.html#indexing-view-versus-copy\n",
      "  \"\"\"Entry point for launching an IPython kernel.\n",
      "/anaconda3/lib/python3.7/site-packages/pandas/core/indexing.py:543: SettingWithCopyWarning: \n",
      "A value is trying to be set on a copy of a slice from a DataFrame.\n",
      "Try using .loc[row_indexer,col_indexer] = value instead\n",
      "\n",
      "See the caveats in the documentation: http://pandas.pydata.org/pandas-docs/stable/indexing.html#indexing-view-versus-copy\n",
      "  self.obj[item] = s\n"
     ]
    }
   ],
   "source": [
    "x_test[['tenure', 'MonthlyCharges', 'TotalCharges']] = scaler.transform(x_test[['tenure', 'MonthlyCharges', 'TotalCharges']])"
   ]
  },
  {
   "cell_type": "code",
   "execution_count": 230,
   "metadata": {},
   "outputs": [
    {
     "data": {
      "text/html": [
       "<div>\n",
       "<style scoped>\n",
       "    .dataframe tbody tr th:only-of-type {\n",
       "        vertical-align: middle;\n",
       "    }\n",
       "\n",
       "    .dataframe tbody tr th {\n",
       "        vertical-align: top;\n",
       "    }\n",
       "\n",
       "    .dataframe thead th {\n",
       "        text-align: right;\n",
       "    }\n",
       "</style>\n",
       "<table border=\"1\" class=\"dataframe\">\n",
       "  <thead>\n",
       "    <tr style=\"text-align: right;\">\n",
       "      <th></th>\n",
       "      <th>tenure</th>\n",
       "      <th>PhoneService</th>\n",
       "      <th>PaperlessBilling</th>\n",
       "      <th>MonthlyCharges</th>\n",
       "      <th>TotalCharges</th>\n",
       "      <th>SeniorCitizen</th>\n",
       "      <th>Partner</th>\n",
       "      <th>Dependents</th>\n",
       "      <th>PaymentMethod_Credit card (automatic)</th>\n",
       "      <th>PaymentMethod_Electronic check</th>\n",
       "      <th>...</th>\n",
       "      <th>InternetService_Fiber optic</th>\n",
       "      <th>InternetService_No</th>\n",
       "      <th>gender_Male</th>\n",
       "      <th>MultipleLines_Yes</th>\n",
       "      <th>OnlineSecurity_Yes</th>\n",
       "      <th>OnlineBackup_Yes</th>\n",
       "      <th>DeviceProtection_Yes</th>\n",
       "      <th>TechSupport_Yes</th>\n",
       "      <th>StreamingTV_Yes</th>\n",
       "      <th>StreamingMovies_Yes</th>\n",
       "    </tr>\n",
       "  </thead>\n",
       "  <tbody>\n",
       "    <tr>\n",
       "      <th>942</th>\n",
       "      <td>-0.347623</td>\n",
       "      <td>1</td>\n",
       "      <td>1</td>\n",
       "      <td>0.499951</td>\n",
       "      <td>-0.128378</td>\n",
       "      <td>0</td>\n",
       "      <td>0</td>\n",
       "      <td>0</td>\n",
       "      <td>1</td>\n",
       "      <td>0</td>\n",
       "      <td>...</td>\n",
       "      <td>1</td>\n",
       "      <td>0</td>\n",
       "      <td>1</td>\n",
       "      <td>0</td>\n",
       "      <td>0</td>\n",
       "      <td>0</td>\n",
       "      <td>0</td>\n",
       "      <td>0</td>\n",
       "      <td>0</td>\n",
       "      <td>1</td>\n",
       "    </tr>\n",
       "    <tr>\n",
       "      <th>3730</th>\n",
       "      <td>0.999203</td>\n",
       "      <td>1</td>\n",
       "      <td>1</td>\n",
       "      <td>1.319685</td>\n",
       "      <td>1.600302</td>\n",
       "      <td>0</td>\n",
       "      <td>1</td>\n",
       "      <td>0</td>\n",
       "      <td>1</td>\n",
       "      <td>0</td>\n",
       "      <td>...</td>\n",
       "      <td>1</td>\n",
       "      <td>0</td>\n",
       "      <td>0</td>\n",
       "      <td>1</td>\n",
       "      <td>0</td>\n",
       "      <td>1</td>\n",
       "      <td>1</td>\n",
       "      <td>0</td>\n",
       "      <td>1</td>\n",
       "      <td>1</td>\n",
       "    </tr>\n",
       "    <tr>\n",
       "      <th>1761</th>\n",
       "      <td>1.040015</td>\n",
       "      <td>1</td>\n",
       "      <td>1</td>\n",
       "      <td>-1.342374</td>\n",
       "      <td>-0.343297</td>\n",
       "      <td>0</td>\n",
       "      <td>0</td>\n",
       "      <td>0</td>\n",
       "      <td>1</td>\n",
       "      <td>0</td>\n",
       "      <td>...</td>\n",
       "      <td>0</td>\n",
       "      <td>1</td>\n",
       "      <td>1</td>\n",
       "      <td>1</td>\n",
       "      <td>0</td>\n",
       "      <td>0</td>\n",
       "      <td>0</td>\n",
       "      <td>0</td>\n",
       "      <td>0</td>\n",
       "      <td>0</td>\n",
       "    </tr>\n",
       "    <tr>\n",
       "      <th>2283</th>\n",
       "      <td>-1.286319</td>\n",
       "      <td>1</td>\n",
       "      <td>1</td>\n",
       "      <td>0.223935</td>\n",
       "      <td>-0.979170</td>\n",
       "      <td>0</td>\n",
       "      <td>0</td>\n",
       "      <td>0</td>\n",
       "      <td>0</td>\n",
       "      <td>0</td>\n",
       "      <td>...</td>\n",
       "      <td>1</td>\n",
       "      <td>0</td>\n",
       "      <td>1</td>\n",
       "      <td>0</td>\n",
       "      <td>0</td>\n",
       "      <td>0</td>\n",
       "      <td>0</td>\n",
       "      <td>0</td>\n",
       "      <td>0</td>\n",
       "      <td>0</td>\n",
       "    </tr>\n",
       "    <tr>\n",
       "      <th>1872</th>\n",
       "      <td>0.346196</td>\n",
       "      <td>1</td>\n",
       "      <td>0</td>\n",
       "      <td>-1.500335</td>\n",
       "      <td>-0.656086</td>\n",
       "      <td>0</td>\n",
       "      <td>1</td>\n",
       "      <td>1</td>\n",
       "      <td>0</td>\n",
       "      <td>0</td>\n",
       "      <td>...</td>\n",
       "      <td>0</td>\n",
       "      <td>1</td>\n",
       "      <td>0</td>\n",
       "      <td>0</td>\n",
       "      <td>0</td>\n",
       "      <td>0</td>\n",
       "      <td>0</td>\n",
       "      <td>0</td>\n",
       "      <td>0</td>\n",
       "      <td>0</td>\n",
       "    </tr>\n",
       "  </tbody>\n",
       "</table>\n",
       "<p>5 rows × 23 columns</p>\n",
       "</div>"
      ],
      "text/plain": [
       "        tenure  PhoneService  PaperlessBilling  MonthlyCharges  TotalCharges  \\\n",
       "942  -0.347623             1                 1        0.499951     -0.128378   \n",
       "3730  0.999203             1                 1        1.319685      1.600302   \n",
       "1761  1.040015             1                 1       -1.342374     -0.343297   \n",
       "2283 -1.286319             1                 1        0.223935     -0.979170   \n",
       "1872  0.346196             1                 0       -1.500335     -0.656086   \n",
       "\n",
       "      SeniorCitizen  Partner  Dependents  \\\n",
       "942               0        0           0   \n",
       "3730              0        1           0   \n",
       "1761              0        0           0   \n",
       "2283              0        0           0   \n",
       "1872              0        1           1   \n",
       "\n",
       "      PaymentMethod_Credit card (automatic)  PaymentMethod_Electronic check  \\\n",
       "942                                       1                               0   \n",
       "3730                                      1                               0   \n",
       "1761                                      1                               0   \n",
       "2283                                      0                               0   \n",
       "1872                                      0                               0   \n",
       "\n",
       "             ...           InternetService_Fiber optic  InternetService_No  \\\n",
       "942          ...                                     1                   0   \n",
       "3730         ...                                     1                   0   \n",
       "1761         ...                                     0                   1   \n",
       "2283         ...                                     1                   0   \n",
       "1872         ...                                     0                   1   \n",
       "\n",
       "      gender_Male  MultipleLines_Yes  OnlineSecurity_Yes  OnlineBackup_Yes  \\\n",
       "942             1                  0                   0                 0   \n",
       "3730            0                  1                   0                 1   \n",
       "1761            1                  1                   0                 0   \n",
       "2283            1                  0                   0                 0   \n",
       "1872            0                  0                   0                 0   \n",
       "\n",
       "      DeviceProtection_Yes  TechSupport_Yes  StreamingTV_Yes  \\\n",
       "942                      0                0                0   \n",
       "3730                     1                0                1   \n",
       "1761                     0                0                0   \n",
       "2283                     0                0                0   \n",
       "1872                     0                0                0   \n",
       "\n",
       "      StreamingMovies_Yes  \n",
       "942                     1  \n",
       "3730                    1  \n",
       "1761                    0  \n",
       "2283                    0  \n",
       "1872                    0  \n",
       "\n",
       "[5 rows x 23 columns]"
      ]
     },
     "execution_count": 230,
     "metadata": {},
     "output_type": "execute_result"
    }
   ],
   "source": [
    "x_test.head()"
   ]
  },
  {
   "cell_type": "code",
   "execution_count": 231,
   "metadata": {},
   "outputs": [],
   "source": [
    "x_test_const = sm.add_constant(x_test[_col])\n",
    "y_predi = model2.predict(x_test_const)"
   ]
  },
  {
   "cell_type": "code",
   "execution_count": 236,
   "metadata": {},
   "outputs": [
    {
     "data": {
      "text/html": [
       "<div>\n",
       "<style scoped>\n",
       "    .dataframe tbody tr th:only-of-type {\n",
       "        vertical-align: middle;\n",
       "    }\n",
       "\n",
       "    .dataframe tbody tr th {\n",
       "        vertical-align: top;\n",
       "    }\n",
       "\n",
       "    .dataframe thead th {\n",
       "        text-align: right;\n",
       "    }\n",
       "</style>\n",
       "<table border=\"1\" class=\"dataframe\">\n",
       "  <thead>\n",
       "    <tr style=\"text-align: right;\">\n",
       "      <th></th>\n",
       "      <th>y_test</th>\n",
       "      <th>probability</th>\n",
       "      <th>0.3_predict</th>\n",
       "    </tr>\n",
       "  </thead>\n",
       "  <tbody>\n",
       "    <tr>\n",
       "      <th>942</th>\n",
       "      <td>0</td>\n",
       "      <td>0.440949</td>\n",
       "      <td>1</td>\n",
       "    </tr>\n",
       "    <tr>\n",
       "      <th>3730</th>\n",
       "      <td>1</td>\n",
       "      <td>0.339075</td>\n",
       "      <td>1</td>\n",
       "    </tr>\n",
       "    <tr>\n",
       "      <th>1761</th>\n",
       "      <td>0</td>\n",
       "      <td>-0.040902</td>\n",
       "      <td>0</td>\n",
       "    </tr>\n",
       "    <tr>\n",
       "      <th>2283</th>\n",
       "      <td>1</td>\n",
       "      <td>0.543455</td>\n",
       "      <td>1</td>\n",
       "    </tr>\n",
       "    <tr>\n",
       "      <th>1872</th>\n",
       "      <td>0</td>\n",
       "      <td>0.030357</td>\n",
       "      <td>0</td>\n",
       "    </tr>\n",
       "  </tbody>\n",
       "</table>\n",
       "</div>"
      ],
      "text/plain": [
       "      y_test  probability  0.3_predict\n",
       "942        0     0.440949            1\n",
       "3730       1     0.339075            1\n",
       "1761       0    -0.040902            0\n",
       "2283       1     0.543455            1\n",
       "1872       0     0.030357            0"
      ]
     },
     "execution_count": 236,
     "metadata": {},
     "output_type": "execute_result"
    }
   ],
   "source": [
    "test_chrun_pred = pd.DataFrame({'y_test': y_test, 'probability': y_predi.values.reshape(-1)})\n",
    "test_chrun_pred['0.3_predict'] = test_chrun_pred.probability.map(lambda x: 1 if x > 0.3 else 0)\n",
    "test_chrun_pred.head()"
   ]
  },
  {
   "cell_type": "code",
   "execution_count": 238,
   "metadata": {},
   "outputs": [
    {
     "data": {
      "text/plain": [
       "0.714218009478673"
      ]
     },
     "execution_count": 238,
     "metadata": {},
     "output_type": "execute_result"
    }
   ],
   "source": [
    "metrics.accuracy_score(test_chrun_pred.y_test, test_chrun_pred['0.3_predict'])"
   ]
  },
  {
   "cell_type": "code",
   "execution_count": 239,
   "metadata": {},
   "outputs": [],
   "source": [
    "cm = metrics.confusion_matrix(test_chrun_pred.y_test, test_chrun_pred['0.3_predict'])"
   ]
  },
  {
   "cell_type": "code",
   "execution_count": 241,
   "metadata": {},
   "outputs": [
    {
     "data": {
      "text/plain": [
       "0.7835051546391752"
      ]
     },
     "execution_count": 241,
     "metadata": {},
     "output_type": "execute_result"
    }
   ],
   "source": [
    "# ===> Sensitivity\n",
    "cm[1,1] / (cm[1, 0] + cm[1,1])"
   ]
  },
  {
   "cell_type": "code",
   "execution_count": 242,
   "metadata": {},
   "outputs": [
    {
     "data": {
      "text/plain": [
       "0.68782722513089"
      ]
     },
     "execution_count": 242,
     "metadata": {},
     "output_type": "execute_result"
    }
   ],
   "source": [
    "# =====> Specificity\n",
    "cm[0,0] / (cm[0,0] + cm[0,1])"
   ]
  },
  {
   "cell_type": "code",
   "execution_count": null,
   "metadata": {},
   "outputs": [],
   "source": []
  }
 ],
 "metadata": {
  "kernelspec": {
   "display_name": "Python 3",
   "language": "python",
   "name": "python3"
  },
  "language_info": {
   "codemirror_mode": {
    "name": "ipython",
    "version": 3
   },
   "file_extension": ".py",
   "mimetype": "text/x-python",
   "name": "python",
   "nbconvert_exporter": "python",
   "pygments_lexer": "ipython3",
   "version": "3.7.1"
  }
 },
 "nbformat": 4,
 "nbformat_minor": 2
}
