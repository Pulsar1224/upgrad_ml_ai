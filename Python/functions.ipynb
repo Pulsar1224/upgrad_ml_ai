{
 "cells": [
  {
   "cell_type": "markdown",
   "metadata": {},
   "source": [
    "## Functions"
   ]
  },
  {
   "cell_type": "code",
   "execution_count": 1,
   "metadata": {},
   "outputs": [
    {
     "name": "stdout",
     "output_type": "stream",
     "text": [
      "hello\n"
     ]
    }
   ],
   "source": [
    "def test():\n",
    "    print(\"hello\")\n",
    "\n",
    "test()"
   ]
  },
  {
   "cell_type": "code",
   "execution_count": 4,
   "metadata": {},
   "outputs": [
    {
     "name": "stdout",
     "output_type": "stream",
     "text": [
      "9\n",
      "49\n"
     ]
    },
    {
     "data": {
      "text/plain": [
       "49"
      ]
     },
     "execution_count": 4,
     "metadata": {},
     "output_type": "execute_result"
    }
   ],
   "source": [
    "def square(num):\n",
    "    output = num**2\n",
    "    print(output)\n",
    "    return output\n",
    "\n",
    "square(3)\n",
    "\n",
    "square(7)"
   ]
  },
  {
   "cell_type": "code",
   "execution_count": 8,
   "metadata": {},
   "outputs": [
    {
     "name": "stdout",
     "output_type": "stream",
     "text": [
      "6\n"
     ]
    }
   ],
   "source": [
    "def factorial(n):\n",
    "    if n > 1:\n",
    "        return n * factorial(n-1)\n",
    "    else:\n",
    "        return 1\n",
    "    \n",
    "print(factorial(3))"
   ]
  },
  {
   "cell_type": "code",
   "execution_count": 13,
   "metadata": {},
   "outputs": [
    {
     "name": "stdout",
     "output_type": "stream",
     "text": [
      "9\n",
      "7\n"
     ]
    }
   ],
   "source": [
    "def addition(*args):\n",
    "    return sum(args)\n",
    "    \n",
    "print(addition(3, 4, 2))\n",
    "print(addition(3, 4))"
   ]
  },
  {
   "cell_type": "code",
   "execution_count": 15,
   "metadata": {},
   "outputs": [
    {
     "name": "stdout",
     "output_type": "stream",
     "text": [
      "Mahendra Singh Dhoni\n"
     ]
    }
   ],
   "source": [
    "def proper(sentence):\n",
    "    sentence = sentence.strip()\n",
    "    result = \" \".join([word[0].upper() + word[1:] for word in sentence.split(\" \")])\n",
    "    return result\n",
    "\n",
    "print(proper(\"mahendra singh dhoni\"))"
   ]
  },
  {
   "cell_type": "code",
   "execution_count": 76,
   "metadata": {},
   "outputs": [
    {
     "name": "stdout",
     "output_type": "stream",
     "text": [
      "['mahendra', 'singh', 'dhoni']\n",
      "12\n",
      "<class 'function'>\n",
      "4370164320\n"
     ]
    }
   ],
   "source": [
    "### Functional programming to create function with lambda\n",
    "\n",
    "string_to_list = lambda x : x.split(\" \")\n",
    "print(string_to_list(\"mahendra singh dhoni\"))\n",
    "\n",
    "product = lambda x, y : x * y\n",
    "print(product(3,4))\n",
    "\n",
    "print(type(string_to_list))\n",
    "\n",
    "\n",
    "greater = lambda x, y: x if x > y else y\n",
    "print(id(string_to_list))"
   ]
  },
  {
   "cell_type": "markdown",
   "metadata": {},
   "source": [
    "## Map, Reduce & Filter:"
   ]
  },
  {
   "cell_type": "code",
   "execution_count": 92,
   "metadata": {},
   "outputs": [
    {
     "name": "stdout",
     "output_type": "stream",
     "text": [
      "[4, 9, 25]\n",
      "[4, 9, 25]\n",
      "3\n"
     ]
    }
   ],
   "source": [
    "num_list = [2, 3, 5]\n",
    "square_list = (map(lambda x: x **2, num_list))\n",
    "print(list(square_list))\n",
    "\n",
    "# using the function: \n",
    "\n",
    "def square_it(n):\n",
    "    return n ** 2\n",
    "\n",
    "print(list(map(square_it, num_list)))\n",
    "square_list = (map(lambda x: x **2, num_list))\n",
    "result = (list(square_list))\n",
    "print(len(result))"
   ]
  },
  {
   "cell_type": "code",
   "execution_count": 96,
   "metadata": {},
   "outputs": [
    {
     "name": "stdout",
     "output_type": "stream",
     "text": [
      "[4, 10, 18]\n"
     ]
    }
   ],
   "source": [
    "sum_list_1 = [1, 2, 3]\n",
    "sum_list_2 = [4, 5, 6]\n",
    "\n",
    "result = list(map(lambda x, y: x*y, sum_list_1, sum_list_2))\n",
    "print(result)"
   ]
  },
  {
   "cell_type": "code",
   "execution_count": 103,
   "metadata": {},
   "outputs": [
    {
     "name": "stdout",
     "output_type": "stream",
     "text": [
      "[0, 1, 2, 3, 4, 5, 6, 7, 8, 9]\n",
      "[3, 6, 9]\n"
     ]
    }
   ],
   "source": [
    "## Filters\n",
    "\n",
    "numbers = list(range(10))\n",
    "print(numbers)\n",
    "\n",
    "divide_by_3 = lambda x :(x!=0 and x%3 == 0)\n",
    "\n",
    "result = filter(divide_by_3, numbers)\n",
    "print(list(result))"
   ]
  },
  {
   "cell_type": "code",
   "execution_count": 107,
   "metadata": {},
   "outputs": [
    {
     "name": "stdout",
     "output_type": "stream",
     "text": [
      "45\n"
     ]
    }
   ],
   "source": [
    "## Reduce\n",
    "from functools import reduce\n",
    "\n",
    "numbers = list(range(10))\n",
    "result = reduce(lambda x,y: x+y, numbers)\n",
    "print(result)"
   ]
  },
  {
   "cell_type": "code",
   "execution_count": 110,
   "metadata": {},
   "outputs": [
    {
     "name": "stdout",
     "output_type": "stream",
     "text": [
      "88\n",
      "35\n"
     ]
    }
   ],
   "source": [
    "list_of_numbers = [4, 3, 2, 5, 6, 88, 55, 33, 35]\n",
    "\n",
    "print(reduce(lambda x, y: x if x>y else y, list_of_numbers))\n",
    "print(list_of_numbers[-1])"
   ]
  },
  {
   "cell_type": "code",
   "execution_count": 116,
   "metadata": {},
   "outputs": [
    {
     "name": "stdout",
     "output_type": "stream",
     "text": [
      "All you have to fear is fear itself\n"
     ]
    }
   ],
   "source": [
    "input_list = ['All','you','have','to','fear','is','fear','itself']\n",
    "from functools import reduce\n",
    "print((reduce(lambda x,y: x+' '+y, input_list)))"
   ]
  },
  {
   "cell_type": "code",
   "execution_count": 123,
   "metadata": {},
   "outputs": [
    {
     "data": {
      "text/plain": [
       "1"
      ]
     },
     "execution_count": 123,
     "metadata": {},
     "output_type": "execute_result"
    }
   ],
   "source": [
    "((500//7) % 5) ** 3"
   ]
  },
  {
   "cell_type": "code",
   "execution_count": 131,
   "metadata": {},
   "outputs": [
    {
     "data": {
      "text/plain": [
       "'love'"
      ]
     },
     "execution_count": 131,
     "metadata": {},
     "output_type": "execute_result"
    }
   ],
   "source": [
    "S = \"I love Python\"\n",
    "S[2:6]\n",
    "S[-11:-7]"
   ]
  },
  {
   "cell_type": "code",
   "execution_count": 143,
   "metadata": {},
   "outputs": [
    {
     "name": "stdout",
     "output_type": "stream",
     "text": [
      "0\n",
      "1\n",
      "120\n",
      "[0]\n"
     ]
    }
   ],
   "source": [
    "\n",
    "def factorial(n):\n",
    "    return reduce(lambda x,y: (1) if x == 0 else (x*y), range(0, n+1))\n",
    "\n",
    "print(factorial(0))\n",
    "print(factorial(1))\n",
    "print(factorial(5))\n",
    "print(list(range(0,1)))"
   ]
  },
  {
   "cell_type": "code",
   "execution_count": 158,
   "metadata": {},
   "outputs": [
    {
     "name": "stdout",
     "output_type": "stream",
     "text": [
      "[2, 5, 9, 13]\n",
      "[16]\n",
      "[12, 15, 16]\n"
     ]
    },
    {
     "data": {
      "text/plain": [
       "[3, 8, 14]"
      ]
     },
     "execution_count": 158,
     "metadata": {},
     "output_type": "execute_result"
    }
   ],
   "source": [
    "C = set([2, 5, 9, 12, 13, 15, 16, 17, 18, 19])\n",
    "F = set([2, 4, 5, 6, 7, 9, 13, 16])\n",
    "H = set([1, 2, 5, 9, 10, 11, 12, 13, 15])\n",
    "\n",
    "common_players = sorted(list(C & F & H))\n",
    "print(common_players)\n",
    "\n",
    "cricket_football_players = sorted(list((C & F).difference(H)))\n",
    "print(cricket_football_players)\n",
    "\n",
    "h_not = ((C & F).difference(H))\n",
    "c_not = ((F & H).difference(C))\n",
    "f_not = ((H & C).difference(F))\n",
    "print(sorted(list(h_not | c_not | f_not))) \n",
    "\n",
    "sorted(list(set(range(1, 21)).difference(C | F | H)))"
   ]
  },
  {
   "cell_type": "code",
   "execution_count": null,
   "metadata": {},
   "outputs": [],
   "source": []
  }
 ],
 "metadata": {
  "kernelspec": {
   "display_name": "Python 3",
   "language": "python",
   "name": "python3"
  },
  "language_info": {
   "codemirror_mode": {
    "name": "ipython",
    "version": 3
   },
   "file_extension": ".py",
   "mimetype": "text/x-python",
   "name": "python",
   "nbconvert_exporter": "python",
   "pygments_lexer": "ipython3",
   "version": "3.7.1"
  }
 },
 "nbformat": 4,
 "nbformat_minor": 2
}
