{
 "cells": [
  {
   "cell_type": "markdown",
   "metadata": {},
   "source": [
    "# Lists"
   ]
  },
  {
   "cell_type": "code",
   "execution_count": 11,
   "metadata": {},
   "outputs": [
    {
     "name": "stdout",
     "output_type": "stream",
     "text": [
      "[]\n"
     ]
    }
   ],
   "source": [
    "initial_lists = []\n",
    "print(initial_lists)"
   ]
  },
  {
   "cell_type": "code",
   "execution_count": 12,
   "metadata": {},
   "outputs": [
    {
     "name": "stdout",
     "output_type": "stream",
     "text": [
      "['R', 'Python', 'SAS', 'Scala', 42]\n"
     ]
    }
   ],
   "source": [
    "DA_Languages = ['R', 'Python', 'SAS', 'Scala', 42]\n",
    "print(DA_Languages)"
   ]
  },
  {
   "cell_type": "code",
   "execution_count": 13,
   "metadata": {},
   "outputs": [
    {
     "name": "stdout",
     "output_type": "stream",
     "text": [
      "R\n",
      "['SAS', 'Scala', 42]\n",
      "SAS\n"
     ]
    }
   ],
   "source": [
    "print(DA_Languages[0])\n",
    "print(DA_Languages[2:])\n",
    "print(DA_Languages[-3])"
   ]
  },
  {
   "cell_type": "code",
   "execution_count": 14,
   "metadata": {},
   "outputs": [
    {
     "name": "stdout",
     "output_type": "stream",
     "text": [
      "42\n",
      "['R', 'Python', 'SAS', 'Scala']\n",
      "['R', 'SAS', 'Scala']\n",
      "['R', 'SAS', 'Scala', 'Python']\n",
      "['R', 'SAS', 'Scala']\n"
     ]
    }
   ],
   "source": [
    "print(DA_Languages.pop())\n",
    "print(DA_Languages)\n",
    "DA_Languages.pop(1)\n",
    "print(DA_Languages)\n",
    "\n",
    "DA_Languages.append('Python')\n",
    "print(DA_Languages)\n",
    "DA_Languages.remove('Python')\n",
    "print(DA_Languages)"
   ]
  },
  {
   "cell_type": "code",
   "execution_count": 26,
   "metadata": {},
   "outputs": [
    {
     "name": "stdout",
     "output_type": "stream",
     "text": [
      "['I love Python', ' Data science']\n",
      "I love Python& Data science\n"
     ]
    }
   ],
   "source": [
    "str = \"I love Python& Data science\"\n",
    "print(str.split('&'))\n",
    "words = str.split()\n",
    "print(' '.join(words))"
   ]
  },
  {
   "cell_type": "code",
   "execution_count": 47,
   "metadata": {},
   "outputs": [
    {
     "name": "stdout",
     "output_type": "stream",
     "text": [
      "['hi', 'hi', 'hi', 'hi', 'hi']\n",
      "3\n",
      "3\n",
      "8\n",
      "[[1, 2], [3, 4]]\n",
      "[2, 3]\n",
      "[]\n"
     ]
    }
   ],
   "source": [
    "my_list = ['hi']\n",
    "print(my_list*5)\n",
    "new_list = my_list * 3\n",
    "print(len(new_list))\n",
    "\n",
    "elements = [4, 3, 5, 7, 8]\n",
    "print(min(elements))\n",
    "print(max(elements))\n",
    "\n",
    "nest = [[1, 2], [3, 4], [5, 6, 7], [8]]\n",
    "print(nest[0:2])\n",
    "\n",
    "\n",
    "list = [1, 2, 3]\n",
    "print(list[1:4])\n",
    "\n",
    "\n",
    "word = ['1','2','3','4']\n",
    "word[:] = []\n",
    "print(word)"
   ]
  },
  {
   "cell_type": "markdown",
   "metadata": {},
   "source": [
    "# Tuples:"
   ]
  },
  {
   "cell_type": "code",
   "execution_count": 3,
   "metadata": {},
   "outputs": [
    {
     "name": "stdout",
     "output_type": "stream",
     "text": [
      "[4, 5, 5]\n",
      "None\n"
     ]
    }
   ],
   "source": [
    "a = (1,2,3)\n",
    "sample = a[:-1]\n",
    "\n",
    "# print(all_list)\n",
    "\n",
    "\n",
    "sample = (1, 2, 3, [4, 5])\n",
    "sample[3].append(5)\n",
    "print(sample[3])\n",
    "\n",
    "hash = {\"hai\": 'hellow'}\n",
    "print(hash.get(\"haia\"))\n",
    "#print(hash[\"haia\"])"
   ]
  },
  {
   "cell_type": "markdown",
   "metadata": {},
   "source": [
    "## Dictionaries:"
   ]
  },
  {
   "cell_type": "code",
   "execution_count": 8,
   "metadata": {},
   "outputs": [
    {
     "name": "stdout",
     "output_type": "stream",
     "text": [
      "Bob\n",
      "{'name': 'Bob', 'age': '36', 'Height': '6.0ft', 'profession': 'IT'}\n",
      "True\n",
      "dict_keys(['name', 'age', 'Height', 'profession'])\n",
      "dict_values(['Bob', '36', '6.0ft', 'IT'])\n"
     ]
    }
   ],
   "source": [
    "bio_data = {\"name\": \"Bob\", 'age': \"36\", 'Height': '6.0ft'}\n",
    "\n",
    "# return only if exists\n",
    "print(bio_data.get(\"name\"))\n",
    "\n",
    "bio_data[\"profession\"] = \"IT\"\n",
    "print(bio_data)\n",
    "\n",
    "print('profession' in bio_data)\n",
    "\n",
    "print(bio_data.keys())\n",
    "print(bio_data.values())"
   ]
  },
  {
   "cell_type": "code",
   "execution_count": 19,
   "metadata": {},
   "outputs": [
    {
     "name": "stdout",
     "output_type": "stream",
     "text": [
      "{'name': 'Bob', 'age': '36', 'Height': '6.0ft', 'profession': 'IT', 'Country': 'Jamica', 'Songs': ['One long', 'Misty Morning']}\n",
      "['Bob', '36', '6.0ft', 'IT', 'Jamica']\n"
     ]
    }
   ],
   "source": [
    "new_dictionary = dict(Country='Jamica', Songs=['One long', 'Misty Morning'])\n",
    "bio_data.update(new_dictionary)\n",
    "\n",
    "print(bio_data)\n",
    "\n",
    "del bio_data['Songs']\n",
    "print(list(bio_data.values()))"
   ]
  },
  {
   "cell_type": "markdown",
   "metadata": {},
   "source": [
    "## Sets:"
   ]
  },
  {
   "cell_type": "code",
   "execution_count": 39,
   "metadata": {},
   "outputs": [
    {
     "name": "stdout",
     "output_type": "stream",
     "text": [
      "{'C', 'A', 'B'}\n",
      "{'G', 'Z', 'A', 'B'}\n",
      "{'Z', 'B', 'C', 'G', 'A'}\n",
      "{'A', 'B'}\n",
      "{'C'}\n",
      "{'C', 'Z', 'G'}\n",
      "None\n"
     ]
    }
   ],
   "source": [
    "student_list = ['A', 'B', 'C', 'A', 'B']\n",
    "student_set = set(student_list)\n",
    "print(student_set)\n",
    "\n",
    "student_set2 = {'A', 'B', 'Z', 'G'}\n",
    "print(student_set2)\n",
    "\n",
    "print(student_set.union(student_set2))\n",
    "print(student_set.intersection(student_set2))\n",
    "print(student_set.difference(student_set2)) # Give result which has only in Student set 1\n",
    "\n",
    "print(student_set.symmetric_difference(student_set2))\n",
    "\n",
    "numbers = [1, 3, 4, 2]\n",
    "  \n",
    "# Sorting list of Integers in ascending \n",
    "\n",
    "  \n",
    "print(numbers.sort())"
   ]
  },
  {
   "cell_type": "code",
   "execution_count": null,
   "metadata": {},
   "outputs": [],
   "source": []
  }
 ],
 "metadata": {
  "kernelspec": {
   "display_name": "Python 3",
   "language": "python",
   "name": "python3"
  },
  "language_info": {
   "codemirror_mode": {
    "name": "ipython",
    "version": 3
   },
   "file_extension": ".py",
   "mimetype": "text/x-python",
   "name": "python",
   "nbconvert_exporter": "python",
   "pygments_lexer": "ipython3",
   "version": "3.7.1"
  }
 },
 "nbformat": 4,
 "nbformat_minor": 2
}
