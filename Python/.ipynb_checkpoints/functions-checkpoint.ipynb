{
 "cells": [
  {
   "cell_type": "markdown",
   "metadata": {},
   "source": [
    "## Functions"
   ]
  },
  {
   "cell_type": "code",
   "execution_count": 1,
   "metadata": {},
   "outputs": [
    {
     "name": "stdout",
     "output_type": "stream",
     "text": [
      "hello\n"
     ]
    }
   ],
   "source": [
    "def test():\n",
    "    print(\"hello\")\n",
    "\n",
    "test()"
   ]
  },
  {
   "cell_type": "code",
   "execution_count": 4,
   "metadata": {},
   "outputs": [
    {
     "name": "stdout",
     "output_type": "stream",
     "text": [
      "9\n",
      "49\n"
     ]
    },
    {
     "data": {
      "text/plain": [
       "49"
      ]
     },
     "execution_count": 4,
     "metadata": {},
     "output_type": "execute_result"
    }
   ],
   "source": [
    "def square(num):\n",
    "    output = num**2\n",
    "    print(output)\n",
    "    return output\n",
    "\n",
    "square(3)\n",
    "\n",
    "square(7)"
   ]
  },
  {
   "cell_type": "code",
   "execution_count": 8,
   "metadata": {},
   "outputs": [
    {
     "name": "stdout",
     "output_type": "stream",
     "text": [
      "6\n"
     ]
    }
   ],
   "source": [
    "def factorial(n):\n",
    "    if n > 1:\n",
    "        return n * factorial(n-1)\n",
    "    else:\n",
    "        return 1\n",
    "    \n",
    "print(factorial(3))"
   ]
  },
  {
   "cell_type": "code",
   "execution_count": 13,
   "metadata": {},
   "outputs": [
    {
     "name": "stdout",
     "output_type": "stream",
     "text": [
      "9\n",
      "7\n"
     ]
    }
   ],
   "source": [
    "def addition(*args):\n",
    "    return sum(args)\n",
    "    \n",
    "print(addition(3, 4, 2))\n",
    "print(addition(3, 4))"
   ]
  },
  {
   "cell_type": "code",
   "execution_count": 15,
   "metadata": {},
   "outputs": [
    {
     "name": "stdout",
     "output_type": "stream",
     "text": [
      "Mahendra Singh Dhoni\n"
     ]
    }
   ],
   "source": [
    "def proper(sentence):\n",
    "    sentence = sentence.strip()\n",
    "    result = \" \".join([word[0].upper() + word[1:] for word in sentence.split(\" \")])\n",
    "    return result\n",
    "\n",
    "print(proper(\"mahendra singh dhoni\"))"
   ]
  },
  {
   "cell_type": "code",
   "execution_count": 76,
   "metadata": {},
   "outputs": [
    {
     "name": "stdout",
     "output_type": "stream",
     "text": [
      "['mahendra', 'singh', 'dhoni']\n",
      "12\n",
      "<class 'function'>\n",
      "4370164320\n"
     ]
    }
   ],
   "source": [
    "### Functional programming to create function with lambda\n",
    "\n",
    "string_to_list = lambda x : x.split(\" \")\n",
    "print(string_to_list(\"mahendra singh dhoni\"))\n",
    "\n",
    "product = lambda x, y : x * y\n",
    "print(product(3,4))\n",
    "\n",
    "print(type(string_to_list))\n",
    "\n",
    "\n",
    "greater = lambda x, y: x if x > y else y\n",
    "print(id(string_to_list))"
   ]
  },
  {
   "cell_type": "markdown",
   "metadata": {},
   "source": [
    "## Map, Reduce & Filter:"
   ]
  },
  {
   "cell_type": "code",
   "execution_count": 79,
   "metadata": {},
   "outputs": [
    {
     "name": "stdout",
     "output_type": "stream",
     "text": [
      "[4, 9, 25]\n",
      "[4, 9, 25]\n"
     ]
    }
   ],
   "source": [
    "num_list = [2, 3, 5]\n",
    "square_list = (map(lambda x: x **2, num_list))\n",
    "print(list(square_list))\n",
    "\n",
    "# using the function: \n",
    "\n",
    "def square_it(n):\n",
    "    return n ** 2\n",
    "\n",
    "print(list(map(square_it, num_list)))"
   ]
  }
 ],
 "metadata": {
  "kernelspec": {
   "display_name": "Python 3",
   "language": "python",
   "name": "python3"
  },
  "language_info": {
   "codemirror_mode": {
    "name": "ipython",
    "version": 3
   },
   "file_extension": ".py",
   "mimetype": "text/x-python",
   "name": "python",
   "nbconvert_exporter": "python",
   "pygments_lexer": "ipython3",
   "version": "3.7.1"
  }
 },
 "nbformat": 4,
 "nbformat_minor": 2
}
