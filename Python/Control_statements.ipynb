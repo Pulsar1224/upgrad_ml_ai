{
 "cells": [
  {
   "cell_type": "code",
   "execution_count": 10,
   "metadata": {},
   "outputs": [
    {
     "name": "stdout",
     "output_type": "stream",
     "text": [
      "Please enter your score45\n"
     ]
    }
   ],
   "source": [
    "score = int(input(\"Please enter your score\"))\n",
    "\n",
    "passing = 40\n",
    "distinction = 90"
   ]
  },
  {
   "cell_type": "code",
   "execution_count": 12,
   "metadata": {},
   "outputs": [
    {
     "name": "stdout",
     "output_type": "stream",
     "text": [
      "Second class\n"
     ]
    }
   ],
   "source": [
    "if (score == 100):\n",
    "    print(\"Perfect\")\n",
    "elif (score < 100 and score >= 90):\n",
    "    print(\"distinction\")\n",
    "elif (score < 90 and score >= 60):\n",
    "    print(\"First class\")\n",
    "elif (40 <= score < 60):\n",
    "    print(\"Second class\")\n",
    "else:\n",
    "    print(\"fail\")"
   ]
  },
  {
   "cell_type": "markdown",
   "metadata": {},
   "source": [
    "## Loopings:"
   ]
  },
  {
   "cell_type": "code",
   "execution_count": 22,
   "metadata": {},
   "outputs": [
    {
     "name": "stdout",
     "output_type": "stream",
     "text": [
      "1\n",
      "2\n",
      "3\n",
      "4\n",
      "----------\n",
      "1\n",
      "3\n",
      "5\n",
      "7\n",
      "9\n",
      "M\n",
      "a\n",
      "r\n",
      "y\n",
      " \n",
      "h\n",
      "a\n",
      "s\n",
      " \n",
      "l\n",
      "i\n",
      "t\n",
      "t\n",
      "l\n",
      "e\n",
      " \n",
      "l\n",
      "a\n",
      "m\n",
      "b\n",
      "0 M\n",
      "1 a\n",
      "2 r\n",
      "3 y\n",
      "4  \n",
      "5 h\n",
      "6 a\n",
      "7 s\n",
      "8  \n",
      "9 l\n",
      "10 i\n",
      "11 t\n",
      "12 t\n",
      "13 l\n",
      "14 e\n",
      "15  \n",
      "16 l\n",
      "17 a\n",
      "18 m\n",
      "19 b\n"
     ]
    }
   ],
   "source": [
    "for i in range(1, 5):\n",
    "    print(i)\n",
    "\n",
    "print(\"----------\")\n",
    "\n",
    "\n",
    "for i in range(1, 10, 2):\n",
    "    print(i)\n",
    "    \n",
    "\n",
    "str = \"Mary has little lamb\"\n",
    "for alphabet in str:\n",
    "    print(alphabet)\n",
    "\n",
    "for n, alphabet in enumerate(str):\n",
    "    print(n, alphabet)"
   ]
  },
  {
   "cell_type": "code",
   "execution_count": 27,
   "metadata": {},
   "outputs": [
    {
     "name": "stdout",
     "output_type": "stream",
     "text": [
      "1 ['Shiva', 24]\n",
      "2 ['Avnesh', 23]\n",
      "3 ['Kishore', 45]\n",
      "dict_items([(1, ['Shiva', 24]), (2, ['Avnesh', 23]), (3, ['Kishore', 45])])\n",
      "1\n",
      "2\n",
      "3\n"
     ]
    }
   ],
   "source": [
    "# Iterations over hash/dictionary\n",
    "\n",
    "students_data = {1: ['Shiva', 24], 2: ['Avnesh', 23], 3: ['Kishore', 45]}\n",
    "\n",
    "for key, val in students_data.items():\n",
    "    print(key, val)\n",
    "\n",
    "print(students_data.items())\n",
    "\n",
    "for i in students_data:\n",
    "    print(i)"
   ]
  },
  {
   "cell_type": "code",
   "execution_count": 29,
   "metadata": {},
   "outputs": [
    {
     "name": "stdout",
     "output_type": "stream",
     "text": [
      "None\n",
      "None\n",
      "None\n"
     ]
    }
   ],
   "source": [
    "d = {0, 1, 2}\n",
    "\n",
    "for x in d:\n",
    "    print(d.add(x))"
   ]
  },
  {
   "cell_type": "markdown",
   "metadata": {},
   "source": [
    "## Comprehensions:"
   ]
  },
  {
   "cell_type": "code",
   "execution_count": 32,
   "metadata": {},
   "outputs": [
    {
     "name": "stdout",
     "output_type": "stream",
     "text": [
      "[1, 4, 9, 16, 25, 36, 49, 64, 81]\n",
      "[1, 4, 9, 16, 25, 36, 49, 64, 81]\n"
     ]
    }
   ],
   "source": [
    "squares = []\n",
    "for i in range(1, 10):\n",
    "    squares.append(i**2)\n",
    "\n",
    "print(squares)\n",
    "\n",
    "squares = [x**2 for x in range(1, 10)]\n",
    "print(squares)"
   ]
  },
  {
   "cell_type": "code",
   "execution_count": 45,
   "metadata": {},
   "outputs": [
    {
     "name": "stdout",
     "output_type": "stream",
     "text": [
      "['There', 'was', 'a', 'fox', 'It', 'was', 'born', 'in', 'color.', 'It', 'was', 'seen', 'near', 'farm', 'some', 'time', 'back']\n",
      "['There', 'was', 'a', 'fox', 'It', 'was', 'born', 'in', 'color.', 'It', 'was', 'seen', 'near', 'farm', 'some', 'time', 'back']\n",
      "['a', 'It', 'in', 'It']\n"
     ]
    }
   ],
   "source": [
    "paragraph = [\"There was a fox\", \"It was born in color.\", \"It was seen near farm some time back\"]\n",
    "result = []\n",
    "for sentence in paragraph:\n",
    "    for word in sentence.split(' '):\n",
    "        result.append(word)\n",
    "    \n",
    "print(result)\n",
    "# comprehension\n",
    "result = [word for sentence in paragraph for word in sentence.split(' ')]\n",
    "print(result)\n",
    "\n",
    "# ===> print that starts with vowel\n",
    "vowels = ('a', 'e', 'i', 'o', 'u')\n",
    "\n",
    "result = [word for sentence in paragraph for word in sentence.split(' ') if word[0].lower() in vowels]\n",
    "print(result)"
   ]
  },
  {
   "cell_type": "code",
   "execution_count": 55,
   "metadata": {},
   "outputs": [
    {
     "name": "stdout",
     "output_type": "stream",
     "text": [
      "{1: 1, 2: 4, 3: 9, 4: 16, 5: 25, 6: 36, 7: 49, 8: 64, 9: 81, 10: 100, 11: 121, 12: 144, 13: 169, 14: 196}\n",
      "{2: ['Avnesh', 23]}\n",
      "aaa\n"
     ]
    }
   ],
   "source": [
    "squared_numbers = {n : n**2 for n in range(1,15)}\n",
    "print(squared_numbers)\n",
    "\n",
    "students_data = {1: ['Shiva', 24], 2: ['Avnesh', 23], 3: ['Kishore', 45]}\n",
    "\n",
    "result = {roll_number : details for roll_number, details in students_data.items() if roll_number%2 == 0}\n",
    "print(result)\n",
    "\n",
    "\n",
    "print('a'*3)"
   ]
  }
 ],
 "metadata": {
  "kernelspec": {
   "display_name": "Python 3",
   "language": "python",
   "name": "python3"
  },
  "language_info": {
   "codemirror_mode": {
    "name": "ipython",
    "version": 3
   },
   "file_extension": ".py",
   "mimetype": "text/x-python",
   "name": "python",
   "nbconvert_exporter": "python",
   "pygments_lexer": "ipython3",
   "version": "3.7.1"
  }
 },
 "nbformat": 4,
 "nbformat_minor": 2
}
