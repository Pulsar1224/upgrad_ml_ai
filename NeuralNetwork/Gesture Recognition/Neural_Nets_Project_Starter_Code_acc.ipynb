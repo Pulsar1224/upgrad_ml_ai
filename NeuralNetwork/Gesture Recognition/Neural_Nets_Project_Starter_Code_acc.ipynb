{
 "cells": [
  {
   "cell_type": "markdown",
   "metadata": {},
   "source": [
    "# Gesture Recognition\n",
    "In this group project, you are going to build a 3D Conv model that will be able to predict the 5 gestures correctly. Please import the following libraries to get started."
   ]
  },
  {
   "cell_type": "code",
   "execution_count": 17,
   "metadata": {},
   "outputs": [],
   "source": [
    "import numpy as np\n",
    "import os\n",
    "from scipy.misc import imread, imresize\n",
    "from skimage.transform import resize\n",
    "import datetime\n",
    "import os\n",
    "import datetime"
   ]
  },
  {
   "cell_type": "markdown",
   "metadata": {},
   "source": [
    "We set the random seed so that the results don't vary drastically."
   ]
  },
  {
   "cell_type": "code",
   "execution_count": 18,
   "metadata": {},
   "outputs": [],
   "source": [
    "np.random.seed(30)\n",
    "import random as rn\n",
    "rn.seed(30)\n",
    "from keras import backend as K\n",
    "import tensorflow as tf\n",
    "tf.set_random_seed(30)"
   ]
  },
  {
   "cell_type": "markdown",
   "metadata": {},
   "source": [
    "In this block, you read the folder names for training and validation. You also set the `batch_size` here. Note that you set the batch size in such a way that you are able to use the GPU in full capacity. You keep increasing the batch size until the machine throws an error."
   ]
  },
  {
   "cell_type": "code",
   "execution_count": 19,
   "metadata": {},
   "outputs": [
    {
     "name": "stdout",
     "output_type": "stream",
     "text": [
      "Neural_Nets_Project_Starter_Code.ipynb\r\n",
      "Neural_Nets_Project_Starter_Code_Conv3D.ipynb\r\n",
      "Neural_Nets_Project_Starter_Code_acc.ipynb\r\n",
      "Project_data\r\n",
      "Project_data.zip\r\n",
      "model_init_2019-12-2216_12_18.040803\r\n",
      "model_init_2019-12-2312_38_52.707129\r\n",
      "model_init_2019-12-2313_08_27.879381\r\n",
      "model_init_2019-12-2313_33_31.267301\r\n"
     ]
    }
   ],
   "source": [
    "!ls"
   ]
  },
  {
   "cell_type": "code",
   "execution_count": 20,
   "metadata": {},
   "outputs": [],
   "source": [
    "train_doc = np.random.permutation(open('./Project_data/train.csv').readlines())\n",
    "val_doc = np.random.permutation(open('./Project_data/val.csv').readlines())\n",
    "batch_size = 30 #experiment with the batch size"
   ]
  },
  {
   "cell_type": "markdown",
   "metadata": {},
   "source": [
    "## Generator\n",
    "This is one of the most important part of the code. The overall structure of the generator has been given. In the generator, you are going to preprocess the images as you have images of 2 different dimensions as well as create a batch of video frames. You have to experiment with `img_idx`, `y`,`z` and normalization such that you get high accuracy."
   ]
  },
  {
   "cell_type": "code",
   "execution_count": 21,
   "metadata": {},
   "outputs": [],
   "source": [
    "image_x_shape = 100\n",
    "image_y_shape = 100"
   ]
  },
  {
   "cell_type": "code",
   "execution_count": 22,
   "metadata": {},
   "outputs": [],
   "source": [
    "def generator(source_path, folder_list, batch_size):\n",
    "    print( 'Source path = ', source_path, '; batch size =', batch_size)\n",
    "    img_idx = list(range(0, 30, 3)) #create a list of image numbers you want to use for a particular video\n",
    "    x, y, z = len(img_idx), image_x_shape, image_y_shape\n",
    "    while True:\n",
    "        t = np.random.permutation(folder_list)\n",
    "        total_folders = len(folder_list)\n",
    "        num_batches = total_folders // batch_size #<TODO># calculate the number of batches\n",
    "        for batch in range(num_batches): # we iterate over the number of batches\n",
    "            batch_data = np.zeros((batch_size,x,y,z,3)) # x is the number of images you use for each video, (y,z) is the final size of the input images and 3 is the number of channels RGB\n",
    "            batch_labels = np.zeros((batch_size,5)) # batch_labels is the one hot representation of the output\n",
    "            for folder in range(batch_size): # iterate over the batch_size\n",
    "                imgs = os.listdir(source_path+'/'+ t[folder + (batch*batch_size)].split(';')[0]) # read all the images in the folder\n",
    "                for idx,item in enumerate(img_idx): #  Iterate iver the frames/images of a folder to read them in\n",
    "                    image = imread(source_path+'/'+ t[folder + (batch*batch_size)].strip().split(';')[0]+'/'+imgs[item]).astype(np.float32)\n",
    "                    resizedImage = resize(image, (y, z),anti_aliasing=True)\n",
    "                    #crop the images and resize them. Note that the images are of 2 different shape \n",
    "                    #and the conv3D will throw error if the inputs in a batch have different shapes\n",
    "                    \n",
    "                    batch_data[folder,idx,:,:,0] = resizedImage[:, :, 0] / 255 #normalise and feed in the image\n",
    "                    batch_data[folder,idx,:,:,1] = resizedImage[:, :, 1] / 255 #normalise and feed in the image\n",
    "                    batch_data[folder,idx,:,:,2] = resizedImage[:, :, 2] / 255 #normalise and feed in the image\n",
    "                    \n",
    "                batch_labels[folder, int(t[folder + (batch*batch_size)].strip().split(';')[2])] = 1\n",
    "            yield batch_data, batch_labels #you yield the batch_data and the batch_labels, remember what does yield do\n",
    "            \n",
    "            \n",
    "        missing_count = total_folders - (num_batches * batch_size)\n",
    "        for folder in range(missing_count):\n",
    "            imgs = os.listdir(source_path+'/'+ t[folder + (batch*batch_size)].split(';')[0]) # read all the images in the folder\n",
    "            for idx,item in enumerate(img_idx): #  Iterate iver the frames/images of a folder to read them in\n",
    "                image = imread(source_path+'/'+ t[folder + (batch*batch_size)].strip().split(';')[0]+'/'+imgs[item]).astype(np.float32)\n",
    "                resizedImage = resize(image, (y, z),anti_aliasing=True)\n",
    "                #crop the images and resize them. Note that the images are of 2 different shape \n",
    "                #and the conv3D will throw error if the inputs in a batch have different shapes\n",
    "\n",
    "                batch_data[folder,idx,:,:,0] = resizedImage[:, :, 0] / 255 #normalise and feed in the image\n",
    "                batch_data[folder,idx,:,:,1] = resizedImage[:, :, 1] / 255 #normalise and feed in the image\n",
    "                batch_data[folder,idx,:,:,2] = resizedImage[:, :, 2] / 255 #normalise and feed in the image\n",
    "\n",
    "            batch_labels[folder, int(t[folder + (batch*batch_size)].strip().split(';')[2])] = 1\n",
    "        yield batch_data, batch_labels\n",
    "        # write the code for the remaining data points which are left after full batches\n"
   ]
  },
  {
   "cell_type": "markdown",
   "metadata": {},
   "source": [
    "Note here that a video is represented above in the generator as (number of images, height, width, number of channels). Take this into consideration while creating the model architecture."
   ]
  },
  {
   "cell_type": "code",
   "execution_count": 23,
   "metadata": {},
   "outputs": [
    {
     "name": "stdout",
     "output_type": "stream",
     "text": [
      "# training sequences = 663\n",
      "# validation sequences = 100\n",
      "# epochs = 30\n"
     ]
    }
   ],
   "source": [
    "curr_dt_time = datetime.datetime.now()\n",
    "train_path = './Project_data/train'\n",
    "val_path = './Project_data/val'\n",
    "num_train_sequences = len(train_doc)\n",
    "print('# training sequences =', num_train_sequences)\n",
    "num_val_sequences = len(val_doc)\n",
    "print('# validation sequences =', num_val_sequences)\n",
    "num_epochs = 30 # choose the number of epochs\n",
    "print ('# epochs =', num_epochs)"
   ]
  },
  {
   "cell_type": "markdown",
   "metadata": {},
   "source": [
    "## Model\n",
    "Here you make the model using different functionalities that Keras provides. Remember to use `Conv3D` and `MaxPooling3D` and not `Conv2D` and `Maxpooling2D` for a 3D convolution model. You would want to use `TimeDistributed` while building a Conv2D + RNN model. Also remember that the last layer is the softmax. Design the network in such a way that the model is able to give good accuracy on the least number of parameters so that it can fit in the memory of the webcam."
   ]
  },
  {
   "cell_type": "code",
   "execution_count": 24,
   "metadata": {},
   "outputs": [],
   "source": [
    "from keras.models import Sequential, Model\n",
    "from sklearn.metrics import roc_auc_score\n",
    "from keras.layers import Dense, GRU, Flatten, TimeDistributed, Flatten, BatchNormalization, Activation, Conv2D, Dropout\n",
    "from keras.layers.convolutional import Conv3D, MaxPooling3D, MaxPooling2D\n",
    "from keras.callbacks import ModelCheckpoint, ReduceLROnPlateau, EarlyStopping\n",
    "from keras import optimizers, regularizers\n",
    "from keras.regularizers import l2\n",
    "import keras\n",
    "\n",
    "#write your model here\n",
    "\n",
    "\n"
   ]
  },
  {
   "cell_type": "markdown",
   "metadata": {},
   "source": [
    "Now that you have written the model, the next step is to `compile` the model. When you print the `summary` of the model, you'll see the total number of parameters you have to train."
   ]
  },
  {
   "cell_type": "code",
   "execution_count": 25,
   "metadata": {},
   "outputs": [],
   "source": [
    "reduceLR = ReduceLROnPlateau(monitor = \"val_loss\", factor = 0.1, patience = 2,\n",
    "                             verbose = 1, mode = \"auto\", cooldown = 0)"
   ]
  },
  {
   "cell_type": "code",
   "execution_count": 26,
   "metadata": {},
   "outputs": [],
   "source": [
    "class DecayLR(keras.callbacks.Callback):\n",
    "    \n",
    "    def __init__(self, base_lr=0.01, decay_epoch=1):\n",
    "        super(DecayLR, self).__init__()\n",
    "        self.base_lr = base_lr\n",
    "        self.lr_history = []\n",
    "        self.decay_epoch = decay_epoch\n",
    "        \n",
    "    def on_train_begin(self, logs={}):\n",
    "        K.set_value(self.model.optimizer.lr, self.base_lr)\n",
    "        \n",
    "    def on_epoch_end(self, epoch, logs={}):\n",
    "        new_lr = self.base_lr * (0.5 ** (epoch // self.decay_epoch))\n",
    "        self.lr_history.append(K.get_value(self.model.optimizer.lr))\n",
    "        K.set_value(self.model.optimizer.lr, new_lr)"
   ]
  },
  {
   "cell_type": "code",
   "execution_count": 31,
   "metadata": {},
   "outputs": [],
   "source": [
    "class Convolution2DWithGRU():\n",
    "    def __init__(self):\n",
    "        return None\n",
    "    \n",
    "    def model(self, batch_size):\n",
    "        cnn_model = Sequential()\n",
    "        cnn_model.add(TimeDistributed(Conv2D(32, (1, 1), padding='same'), input_shape=(10, image_x_shape, image_y_shape, 3)))\n",
    "        cnn_model.add(TimeDistributed(Activation('relu')))\n",
    "        cnn_model.add(TimeDistributed(MaxPooling2D((3, 3), strides = (2,2))))\n",
    "        cnn_model.add(TimeDistributed(BatchNormalization()))\n",
    "        \n",
    "        cnn_model.add(TimeDistributed(Conv2D(32, (3, 3), padding='same')))\n",
    "        cnn_model.add(TimeDistributed(Activation('relu')))\n",
    "        cnn_model.add(TimeDistributed(MaxPooling2D((3, 3), strides = (2,2))))\n",
    "        cnn_model.add(TimeDistributed(BatchNormalization()))\n",
    "        \n",
    "        cnn_model.add(TimeDistributed(Conv2D(64, (3, 3), padding='same', kernel_regularizer=l2(0.01), bias_regularizer=l2(0.01))))\n",
    "        cnn_model.add(TimeDistributed(Activation('relu')))\n",
    "        cnn_model.add(TimeDistributed(BatchNormalization()))\n",
    "        cnn_model.add(Dropout(0.25))\n",
    "        \n",
    "        cnn_model.add(TimeDistributed(Conv2D(64, (3, 3), padding='same', kernel_regularizer=l2(0.01), bias_regularizer=l2(0.01))))\n",
    "        cnn_model.add(TimeDistributed(Activation('relu')))\n",
    "        \n",
    "        \n",
    "        cnn_model.add(TimeDistributed(MaxPooling2D((3, 3))))\n",
    "        \n",
    "        cnn_model.add(TimeDistributed(Conv2D(64, (3, 3), padding='same')))\n",
    "        cnn_model.add(TimeDistributed(Activation('relu')))\n",
    "        \n",
    "        cnn_model.add(Dropout(0.25))\n",
    "        \n",
    "        cnn_model.add(TimeDistributed(Conv2D(128, (3, 3), padding='same', kernel_regularizer=l2(0.01), bias_regularizer=l2(0.01))))\n",
    "        cnn_model.add(TimeDistributed(Activation('relu')))\n",
    "\n",
    "        cnn_model.add(Dropout(0.50))\n",
    "        \n",
    "        cnn_model.add(TimeDistributed(Conv2D(256, (5, 5), padding='same', kernel_regularizer=l2(0.01), bias_regularizer=l2(0.01))))\n",
    "        cnn_model.add(TimeDistributed(Activation('relu')))\n",
    "\n",
    "        \n",
    "        cnn_model.add(TimeDistributed(Flatten()))\n",
    "#         cnn_model.add(Dense(20))\n",
    "        \n",
    "        cnn_model.add(Dense(16))\n",
    "        cnn_model.add(Dropout(.50))\n",
    "        cnn_model.add(GRU(64, return_sequences=False))\n",
    "#         cnn_model.add(Dense(32))\n",
    "        cnn_model.add(Dense(5, activation='softmax'))\n",
    "        return cnn_model"
   ]
  },
  {
   "cell_type": "code",
   "execution_count": 32,
   "metadata": {
    "scrolled": false
   },
   "outputs": [
    {
     "name": "stdout",
     "output_type": "stream",
     "text": [
      "_________________________________________________________________\n",
      "Layer (type)                 Output Shape              Param #   \n",
      "=================================================================\n",
      "time_distributed_64 (TimeDis (None, 10, 100, 100, 32)  128       \n",
      "_________________________________________________________________\n",
      "time_distributed_65 (TimeDis (None, 10, 100, 100, 32)  0         \n",
      "_________________________________________________________________\n",
      "time_distributed_66 (TimeDis (None, 10, 49, 49, 32)    0         \n",
      "_________________________________________________________________\n",
      "time_distributed_67 (TimeDis (None, 10, 49, 49, 32)    128       \n",
      "_________________________________________________________________\n",
      "time_distributed_68 (TimeDis (None, 10, 49, 49, 32)    9248      \n",
      "_________________________________________________________________\n",
      "time_distributed_69 (TimeDis (None, 10, 49, 49, 32)    0         \n",
      "_________________________________________________________________\n",
      "time_distributed_70 (TimeDis (None, 10, 24, 24, 32)    0         \n",
      "_________________________________________________________________\n",
      "time_distributed_71 (TimeDis (None, 10, 24, 24, 32)    128       \n",
      "_________________________________________________________________\n",
      "time_distributed_72 (TimeDis (None, 10, 24, 24, 64)    18496     \n",
      "_________________________________________________________________\n",
      "time_distributed_73 (TimeDis (None, 10, 24, 24, 64)    0         \n",
      "_________________________________________________________________\n",
      "time_distributed_74 (TimeDis (None, 10, 24, 24, 64)    256       \n",
      "_________________________________________________________________\n",
      "dropout_13 (Dropout)         (None, 10, 24, 24, 64)    0         \n",
      "_________________________________________________________________\n",
      "time_distributed_75 (TimeDis (None, 10, 24, 24, 64)    36928     \n",
      "_________________________________________________________________\n",
      "time_distributed_76 (TimeDis (None, 10, 24, 24, 64)    0         \n",
      "_________________________________________________________________\n",
      "time_distributed_77 (TimeDis (None, 10, 8, 8, 64)      0         \n",
      "_________________________________________________________________\n",
      "time_distributed_78 (TimeDis (None, 10, 8, 8, 64)      36928     \n",
      "_________________________________________________________________\n",
      "time_distributed_79 (TimeDis (None, 10, 8, 8, 64)      0         \n",
      "_________________________________________________________________\n",
      "dropout_14 (Dropout)         (None, 10, 8, 8, 64)      0         \n",
      "_________________________________________________________________\n",
      "time_distributed_80 (TimeDis (None, 10, 8, 8, 128)     73856     \n",
      "_________________________________________________________________\n",
      "time_distributed_81 (TimeDis (None, 10, 8, 8, 128)     0         \n",
      "_________________________________________________________________\n",
      "dropout_15 (Dropout)         (None, 10, 8, 8, 128)     0         \n",
      "_________________________________________________________________\n",
      "time_distributed_82 (TimeDis (None, 10, 8, 8, 256)     819456    \n",
      "_________________________________________________________________\n",
      "time_distributed_83 (TimeDis (None, 10, 8, 8, 256)     0         \n",
      "_________________________________________________________________\n",
      "time_distributed_84 (TimeDis (None, 10, 16384)         0         \n",
      "_________________________________________________________________\n",
      "dense_7 (Dense)              (None, 10, 16)            262160    \n",
      "_________________________________________________________________\n",
      "dropout_16 (Dropout)         (None, 10, 16)            0         \n",
      "_________________________________________________________________\n",
      "gru_4 (GRU)                  (None, 64)                15552     \n",
      "_________________________________________________________________\n",
      "dense_8 (Dense)              (None, 5)                 325       \n",
      "=================================================================\n",
      "Total params: 1,273,589\n",
      "Trainable params: 1,273,333\n",
      "Non-trainable params: 256\n",
      "_________________________________________________________________\n",
      "None\n"
     ]
    }
   ],
   "source": [
    "obj = Convolution2DWithGRU()\n",
    "model = obj.model(batch_size)\n",
    "optimiser = optimizers.Adam() #write your optimizer\n",
    "\n",
    "model.compile(optimizer=optimiser, loss='categorical_crossentropy', metrics=['categorical_accuracy'])\n",
    "print (model.summary())"
   ]
  },
  {
   "cell_type": "markdown",
   "metadata": {},
   "source": [
    "Let us create the `train_generator` and the `val_generator` which will be used in `.fit_generator`."
   ]
  },
  {
   "cell_type": "code",
   "execution_count": 33,
   "metadata": {},
   "outputs": [],
   "source": [
    "train_generator = generator(train_path, train_doc, batch_size)\n",
    "val_generator = generator(val_path, val_doc, batch_size)"
   ]
  },
  {
   "cell_type": "code",
   "execution_count": 34,
   "metadata": {},
   "outputs": [],
   "source": [
    "model_name = 'model_init' + '_' + str(curr_dt_time).replace(' ','').replace(':','_') + '/'\n",
    "    \n",
    "if not os.path.exists(model_name):\n",
    "    os.mkdir(model_name)\n",
    "    \n",
    "early_stopping = EarlyStopping(patience=3)        \n",
    "\n",
    "filepath = model_name + 'model-{epoch:05d}-{loss:.5f}-{categorical_accuracy:.5f}-{val_loss:.5f}-{val_categorical_accuracy:.5f}.h5'\n",
    "\n",
    "checkpoint = ModelCheckpoint(filepath, monitor='val_loss', verbose=1, save_best_only=False, save_weights_only=False, mode='auto', period=1)\n",
    "\n",
    "LR = DecayLR(base_lr=0.1) # write the REducelronplateau code here\n",
    "# callbacks_list = [checkpoint, LR]\n",
    "# roc_callback = RocCallback()\n",
    "callbacks_list = [checkpoint,reduceLR]"
   ]
  },
  {
   "cell_type": "markdown",
   "metadata": {},
   "source": [
    "The `steps_per_epoch` and `validation_steps` are used by `fit_generator` to decide the number of next() calls it need to make."
   ]
  },
  {
   "cell_type": "code",
   "execution_count": 35,
   "metadata": {},
   "outputs": [],
   "source": [
    "if (num_train_sequences%batch_size) == 0:\n",
    "    steps_per_epoch = int(num_train_sequences/batch_size)\n",
    "else:\n",
    "    steps_per_epoch = (num_train_sequences//batch_size) + 1\n",
    "\n",
    "if (num_val_sequences%batch_size) == 0:\n",
    "    validation_steps = int(num_val_sequences/batch_size)\n",
    "else:\n",
    "    validation_steps = (num_val_sequences//batch_size) + 1"
   ]
  },
  {
   "cell_type": "markdown",
   "metadata": {},
   "source": [
    "Let us now fit the model. This will start training the model and with the help of the checkpoints, you'll be able to save the model at the end of each epoch."
   ]
  },
  {
   "cell_type": "code",
   "execution_count": 36,
   "metadata": {
    "scrolled": false
   },
   "outputs": [
    {
     "name": "stdout",
     "output_type": "stream",
     "text": [
      "Source path =  ./Project_data/val Source path =  ; batch size = 30\n",
      "./Project_data/train ; batch size = 30\n",
      "Epoch 1/30\n"
     ]
    },
    {
     "name": "stderr",
     "output_type": "stream",
     "text": [
      "/mnt/disks/user/anaconda3/lib/python3.6/site-packages/ipykernel_launcher.py:15: DeprecationWarning: `imread` is deprecated!\n",
      "`imread` is deprecated in SciPy 1.0.0, and will be removed in 1.2.0.\n",
      "Use ``imageio.imread`` instead.\n",
      "  from ipykernel import kernelapp as app\n",
      "/mnt/disks/user/anaconda3/lib/python3.6/site-packages/skimage/transform/_warps.py:105: UserWarning: The default mode, 'constant', will be changed to 'reflect' in skimage 0.15.\n",
      "  warn(\"The default mode, 'constant', will be changed to 'reflect' in \"\n"
     ]
    },
    {
     "name": "stdout",
     "output_type": "stream",
     "text": [
      " 3/23 [==>...........................] - ETA: 1:22 - loss: 5.4347 - categorical_accuracy: 0.2222"
     ]
    },
    {
     "name": "stderr",
     "output_type": "stream",
     "text": [
      "/mnt/disks/user/anaconda3/lib/python3.6/site-packages/ipykernel_launcher.py:32: DeprecationWarning: `imread` is deprecated!\n",
      "`imread` is deprecated in SciPy 1.0.0, and will be removed in 1.2.0.\n",
      "Use ``imageio.imread`` instead.\n"
     ]
    },
    {
     "name": "stdout",
     "output_type": "stream",
     "text": [
      "23/23 [==============================] - 62s 3s/step - loss: 4.5061 - categorical_accuracy: 0.2580 - val_loss: 3.5094 - val_categorical_accuracy: 0.3833\n",
      "\n",
      "Epoch 00001: saving model to model_init_2019-12-2313_59_05.539691/model-00001-4.50607-0.25797-3.50935-0.38333.h5\n",
      "Epoch 2/30\n",
      "23/23 [==============================] - 60s 3s/step - loss: 2.7968 - categorical_accuracy: 0.4130 - val_loss: 2.0947 - val_categorical_accuracy: 0.6000\n",
      "\n",
      "Epoch 00002: saving model to model_init_2019-12-2313_59_05.539691/model-00002-2.79683-0.41304-2.09467-0.60000.h5\n",
      "Epoch 3/30\n",
      "23/23 [==============================] - 51s 2s/step - loss: 1.9570 - categorical_accuracy: 0.5072 - val_loss: 1.8880 - val_categorical_accuracy: 0.5083\n",
      "\n",
      "Epoch 00003: saving model to model_init_2019-12-2313_59_05.539691/model-00003-1.95700-0.50725-1.88801-0.50833.h5\n",
      "Epoch 4/30\n",
      "23/23 [==============================] - 48s 2s/step - loss: 1.6295 - categorical_accuracy: 0.5507 - val_loss: 1.4770 - val_categorical_accuracy: 0.6250\n",
      "\n",
      "Epoch 00004: saving model to model_init_2019-12-2313_59_05.539691/model-00004-1.62954-0.55072-1.47697-0.62500.h5\n",
      "Epoch 5/30\n",
      "23/23 [==============================] - 49s 2s/step - loss: 1.3480 - categorical_accuracy: 0.6493 - val_loss: 1.5282 - val_categorical_accuracy: 0.5917\n",
      "\n",
      "Epoch 00005: saving model to model_init_2019-12-2313_59_05.539691/model-00005-1.34800-0.64928-1.52822-0.59167.h5\n",
      "Epoch 6/30\n",
      "23/23 [==============================] - 52s 2s/step - loss: 1.2087 - categorical_accuracy: 0.6681 - val_loss: 1.2242 - val_categorical_accuracy: 0.6750\n",
      "\n",
      "Epoch 00006: saving model to model_init_2019-12-2313_59_05.539691/model-00006-1.20872-0.66812-1.22416-0.67500.h5\n",
      "Epoch 7/30\n",
      "23/23 [==============================] - 49s 2s/step - loss: 1.0198 - categorical_accuracy: 0.7217 - val_loss: 1.2369 - val_categorical_accuracy: 0.6667\n",
      "\n",
      "Epoch 00007: saving model to model_init_2019-12-2313_59_05.539691/model-00007-1.01979-0.72174-1.23691-0.66667.h5\n",
      "Epoch 8/30\n",
      "23/23 [==============================] - 55s 2s/step - loss: 0.9517 - categorical_accuracy: 0.7435 - val_loss: 1.2913 - val_categorical_accuracy: 0.6250\n",
      "\n",
      "Epoch 00008: saving model to model_init_2019-12-2313_59_05.539691/model-00008-0.95170-0.74348-1.29128-0.62500.h5\n",
      "\n",
      "Epoch 00008: ReduceLROnPlateau reducing learning rate to 0.00010000000474974513.\n",
      "Epoch 9/30\n",
      "23/23 [==============================] - 60s 3s/step - loss: 0.8522 - categorical_accuracy: 0.7841 - val_loss: 0.9080 - val_categorical_accuracy: 0.7500\n",
      "\n",
      "Epoch 00009: saving model to model_init_2019-12-2313_59_05.539691/model-00009-0.85224-0.78406-0.90802-0.75000.h5\n",
      "Epoch 10/30\n",
      "23/23 [==============================] - 60s 3s/step - loss: 0.7600 - categorical_accuracy: 0.8145 - val_loss: 0.9248 - val_categorical_accuracy: 0.7333\n",
      "\n",
      "Epoch 00010: saving model to model_init_2019-12-2313_59_05.539691/model-00010-0.76002-0.81449-0.92476-0.73333.h5\n",
      "Epoch 11/30\n",
      "23/23 [==============================] - 56s 2s/step - loss: 0.7194 - categorical_accuracy: 0.8580 - val_loss: 0.9182 - val_categorical_accuracy: 0.7417\n",
      "\n",
      "Epoch 00011: saving model to model_init_2019-12-2313_59_05.539691/model-00011-0.71940-0.85797-0.91815-0.74167.h5\n",
      "\n",
      "Epoch 00011: ReduceLROnPlateau reducing learning rate to 1.0000000474974514e-05.\n",
      "Epoch 12/30\n",
      "23/23 [==============================] - 52s 2s/step - loss: 0.6897 - categorical_accuracy: 0.8493 - val_loss: 0.8859 - val_categorical_accuracy: 0.7833\n",
      "\n",
      "Epoch 00012: saving model to model_init_2019-12-2313_59_05.539691/model-00012-0.68967-0.84928-0.88589-0.78333.h5\n",
      "Epoch 13/30\n",
      "23/23 [==============================] - 49s 2s/step - loss: 0.6744 - categorical_accuracy: 0.8652 - val_loss: 0.9677 - val_categorical_accuracy: 0.7583\n",
      "\n",
      "Epoch 00013: saving model to model_init_2019-12-2313_59_05.539691/model-00013-0.67445-0.86522-0.96772-0.75833.h5\n",
      "Epoch 14/30\n",
      "23/23 [==============================] - 60s 3s/step - loss: 0.6694 - categorical_accuracy: 0.8638 - val_loss: 0.8843 - val_categorical_accuracy: 0.8000\n",
      "\n",
      "Epoch 00014: saving model to model_init_2019-12-2313_59_05.539691/model-00014-0.66943-0.86377-0.88427-0.80000.h5\n",
      "Epoch 15/30\n",
      "23/23 [==============================] - 54s 2s/step - loss: 0.6884 - categorical_accuracy: 0.8522 - val_loss: 0.9182 - val_categorical_accuracy: 0.7667\n",
      "\n",
      "Epoch 00015: saving model to model_init_2019-12-2313_59_05.539691/model-00015-0.68835-0.85217-0.91824-0.76667.h5\n",
      "Epoch 16/30\n",
      "23/23 [==============================] - 55s 2s/step - loss: 0.6956 - categorical_accuracy: 0.8464 - val_loss: 0.9070 - val_categorical_accuracy: 0.7583\n",
      "\n",
      "Epoch 00016: saving model to model_init_2019-12-2313_59_05.539691/model-00016-0.69558-0.84638-0.90702-0.75833.h5\n",
      "\n",
      "Epoch 00016: ReduceLROnPlateau reducing learning rate to 1.0000000656873453e-06.\n",
      "Epoch 17/30\n",
      "23/23 [==============================] - 48s 2s/step - loss: 0.6804 - categorical_accuracy: 0.8609 - val_loss: 0.9570 - val_categorical_accuracy: 0.7417\n",
      "\n",
      "Epoch 00017: saving model to model_init_2019-12-2313_59_05.539691/model-00017-0.68037-0.86087-0.95700-0.74167.h5\n",
      "Epoch 18/30\n",
      "23/23 [==============================] - 59s 3s/step - loss: 0.6752 - categorical_accuracy: 0.8609 - val_loss: 0.8987 - val_categorical_accuracy: 0.7833\n",
      "\n",
      "Epoch 00018: saving model to model_init_2019-12-2313_59_05.539691/model-00018-0.67524-0.86087-0.89869-0.78333.h5\n",
      "\n",
      "Epoch 00018: ReduceLROnPlateau reducing learning rate to 1.0000001111620805e-07.\n",
      "Epoch 19/30\n",
      "23/23 [==============================] - 56s 2s/step - loss: 0.6885 - categorical_accuracy: 0.8406 - val_loss: 0.9275 - val_categorical_accuracy: 0.7583\n",
      "\n",
      "Epoch 00019: saving model to model_init_2019-12-2313_59_05.539691/model-00019-0.68852-0.84058-0.92748-0.75833.h5\n",
      "Epoch 20/30\n",
      "23/23 [==============================] - 59s 3s/step - loss: 0.6817 - categorical_accuracy: 0.8522 - val_loss: 0.9353 - val_categorical_accuracy: 0.7500\n",
      "\n",
      "Epoch 00020: saving model to model_init_2019-12-2313_59_05.539691/model-00020-0.68175-0.85217-0.93529-0.75000.h5\n",
      "\n",
      "Epoch 00020: ReduceLROnPlateau reducing learning rate to 1.000000082740371e-08.\n",
      "Epoch 21/30\n",
      "23/23 [==============================] - 48s 2s/step - loss: 0.6754 - categorical_accuracy: 0.8594 - val_loss: 0.9034 - val_categorical_accuracy: 0.7750\n",
      "\n",
      "Epoch 00021: saving model to model_init_2019-12-2313_59_05.539691/model-00021-0.67541-0.85942-0.90338-0.77500.h5\n",
      "Epoch 22/30\n",
      "23/23 [==============================] - 48s 2s/step - loss: 0.6801 - categorical_accuracy: 0.8667 - val_loss: 0.8947 - val_categorical_accuracy: 0.8000\n",
      "\n",
      "Epoch 00022: saving model to model_init_2019-12-2313_59_05.539691/model-00022-0.68005-0.86667-0.89468-0.80000.h5\n",
      "\n",
      "Epoch 00022: ReduceLROnPlateau reducing learning rate to 1.000000082740371e-09.\n",
      "Epoch 23/30\n",
      "23/23 [==============================] - 59s 3s/step - loss: 0.6704 - categorical_accuracy: 0.8565 - val_loss: 1.0079 - val_categorical_accuracy: 0.7417\n",
      "\n",
      "Epoch 00023: saving model to model_init_2019-12-2313_59_05.539691/model-00023-0.67045-0.85652-1.00785-0.74167.h5\n",
      "Epoch 24/30\n",
      "23/23 [==============================] - 53s 2s/step - loss: 0.6606 - categorical_accuracy: 0.8536 - val_loss: 0.9653 - val_categorical_accuracy: 0.7583\n",
      "\n",
      "Epoch 00024: saving model to model_init_2019-12-2313_59_05.539691/model-00024-0.66063-0.85362-0.96527-0.75833.h5\n",
      "\n",
      "Epoch 00024: ReduceLROnPlateau reducing learning rate to 1.000000082740371e-10.\n",
      "Epoch 25/30\n",
      "23/23 [==============================] - 59s 3s/step - loss: 0.6503 - categorical_accuracy: 0.8739 - val_loss: 0.9419 - val_categorical_accuracy: 0.7750\n",
      "\n",
      "Epoch 00025: saving model to model_init_2019-12-2313_59_05.539691/model-00025-0.65031-0.87391-0.94185-0.77500.h5\n",
      "Epoch 26/30\n",
      "23/23 [==============================] - 60s 3s/step - loss: 0.6923 - categorical_accuracy: 0.8536 - val_loss: 1.0134 - val_categorical_accuracy: 0.7167\n",
      "\n",
      "Epoch 00026: saving model to model_init_2019-12-2313_59_05.539691/model-00026-0.69232-0.85362-1.01336-0.71667.h5\n",
      "\n",
      "Epoch 00026: ReduceLROnPlateau reducing learning rate to 1.000000082740371e-11.\n",
      "Epoch 27/30\n",
      "23/23 [==============================] - 59s 3s/step - loss: 0.6879 - categorical_accuracy: 0.8580 - val_loss: 0.9835 - val_categorical_accuracy: 0.7667\n",
      "\n",
      "Epoch 00027: saving model to model_init_2019-12-2313_59_05.539691/model-00027-0.68794-0.85797-0.98346-0.76667.h5\n",
      "Epoch 28/30\n"
     ]
    },
    {
     "name": "stdout",
     "output_type": "stream",
     "text": [
      "23/23 [==============================] - 60s 3s/step - loss: 0.6700 - categorical_accuracy: 0.8507 - val_loss: 0.9635 - val_categorical_accuracy: 0.7333\n",
      "\n",
      "Epoch 00028: saving model to model_init_2019-12-2313_59_05.539691/model-00028-0.66999-0.85072-0.96354-0.73333.h5\n",
      "\n",
      "Epoch 00028: ReduceLROnPlateau reducing learning rate to 1.000000082740371e-12.\n",
      "Epoch 29/30\n",
      "23/23 [==============================] - 57s 2s/step - loss: 0.6649 - categorical_accuracy: 0.8638 - val_loss: 0.9816 - val_categorical_accuracy: 0.7417\n",
      "\n",
      "Epoch 00029: saving model to model_init_2019-12-2313_59_05.539691/model-00029-0.66486-0.86377-0.98157-0.74167.h5\n",
      "Epoch 30/30\n",
      "23/23 [==============================] - 54s 2s/step - loss: 0.6588 - categorical_accuracy: 0.8681 - val_loss: 0.9870 - val_categorical_accuracy: 0.7500\n",
      "\n",
      "Epoch 00030: saving model to model_init_2019-12-2313_59_05.539691/model-00030-0.65882-0.86812-0.98705-0.75000.h5\n",
      "\n",
      "Epoch 00030: ReduceLROnPlateau reducing learning rate to 1.0000001044244145e-13.\n"
     ]
    }
   ],
   "source": [
    "model_history = model.fit_generator(train_generator, steps_per_epoch=steps_per_epoch, epochs=num_epochs, verbose=1, \n",
    "                    callbacks=callbacks_list, validation_data=val_generator, \n",
    "                    validation_steps=validation_steps, class_weight=None, workers=1, initial_epoch=0)"
   ]
  },
  {
   "cell_type": "code",
   "execution_count": 37,
   "metadata": {},
   "outputs": [
    {
     "name": "stdout",
     "output_type": "stream",
     "text": [
      "{'val_loss': [3.5093533992767334, 2.0946704149246216, 1.8880118131637573, 1.4769676327705383, 1.5282238721847534, 1.2241610288619995, 1.2369094491004944, 1.2912789583206177, 0.9080227464437485, 0.9247587323188782, 0.9181521087884903, 0.8858945071697235, 0.967716634273529, 0.88426873087883, 0.9182396233081818, 0.9070174098014832, 0.957000732421875, 0.8986873775720596, 0.9274831414222717, 0.9352889209985733, 0.9033751785755157, 0.8946778625249863, 1.0078523457050323, 0.9652715921401978, 0.941851481795311, 1.0133633762598038, 0.9834576994180679, 0.9635410904884338, 0.981567457318306, 0.9870458394289017], 'val_categorical_accuracy': [0.38333334028720856, 0.5999999940395355, 0.5083333402872086, 0.6250000149011612, 0.5916666612029076, 0.675000011920929, 0.6666666865348816, 0.625, 0.7500000149011612, 0.7333333343267441, 0.7416666746139526, 0.783333346247673, 0.7583333402872086, 0.7999999821186066, 0.7666666507720947, 0.7583333253860474, 0.7416666746139526, 0.7833333164453506, 0.7583333402872086, 0.7500000149011612, 0.7749999910593033, 0.7999999821186066, 0.7416666597127914, 0.7583333253860474, 0.7750000059604645, 0.7166666686534882, 0.7666666805744171, 0.7333333492279053, 0.7416666597127914, 0.7499999850988388], 'loss': [4.506070219952127, 2.7968310791513193, 1.9569984311642854, 1.6295376549596372, 1.347995602566263, 1.2087156720783399, 1.0197925930437834, 0.9517048882401508, 0.8522395647090414, 0.7600243039753126, 0.7193968632946843, 0.6896661882815154, 0.674446878225907, 0.6694329821545145, 0.6883544455403867, 0.6955832631691642, 0.6803694471069004, 0.6752390395040098, 0.688523354737655, 0.6817488333453303, 0.6754083555677662, 0.6800509250682333, 0.6704492478267007, 0.660630824773208, 0.6503084988697715, 0.692315910173499, 0.6879426759222279, 0.6699859564718993, 0.6648643263008284, 0.6588184056074723], 'categorical_accuracy': [0.257971021792163, 0.4130434853875119, 0.5072463854499485, 0.5507246450237606, 0.6492753702661266, 0.6681159488532854, 0.7217391288798788, 0.7434782593146615, 0.7840579696323561, 0.8144927491312441, 0.8579710074093031, 0.8492753609367039, 0.8652173902677454, 0.8637681085130443, 0.8521739063055619, 0.8463768052018207, 0.8608695553696674, 0.8608695605526799, 0.8405797066895858, 0.852173898531043, 0.8594202839809916, 0.8666666616564211, 0.856521733429121, 0.853623180285744, 0.8739130367403445, 0.8536231828772504, 0.8579710074093031, 0.8507246297338734, 0.863768105921538, 0.868115933045097], 'lr': [0.001, 0.001, 0.001, 0.001, 0.001, 0.001, 0.001, 0.001, 0.000100000005, 0.000100000005, 0.000100000005, 1.0000001e-05, 1.0000001e-05, 1.0000001e-05, 1.0000001e-05, 1.0000001e-05, 1.0000001e-06, 1.0000001e-06, 1.0000001e-07, 1.0000001e-07, 1.0000001e-08, 1.0000001e-08, 1.0000001e-09, 1.0000001e-09, 1.0000001e-10, 1.0000001e-10, 1.0000001e-11, 1.0000001e-11, 1.0000001e-12, 1.0000001e-12]}\n"
     ]
    }
   ],
   "source": [
    "print(model_history.history)"
   ]
  },
  {
   "cell_type": "code",
   "execution_count": 38,
   "metadata": {},
   "outputs": [
    {
     "name": "stdout",
     "output_type": "stream",
     "text": [
      "[0.38333334028720856, 0.5999999940395355, 0.5083333402872086, 0.6250000149011612, 0.5916666612029076, 0.675000011920929, 0.6666666865348816, 0.625, 0.7500000149011612, 0.7333333343267441, 0.7416666746139526, 0.783333346247673, 0.7583333402872086, 0.7999999821186066, 0.7666666507720947, 0.7583333253860474, 0.7416666746139526, 0.7833333164453506, 0.7583333402872086, 0.7500000149011612, 0.7749999910593033, 0.7999999821186066, 0.7416666597127914, 0.7583333253860474, 0.7750000059604645, 0.7166666686534882, 0.7666666805744171, 0.7333333492279053, 0.7416666597127914, 0.7499999850988388]\n"
     ]
    }
   ],
   "source": [
    "print(model_history.history['val_categorical_accuracy'])"
   ]
  },
  {
   "cell_type": "code",
   "execution_count": 39,
   "metadata": {},
   "outputs": [],
   "source": [
    "import matplotlib.pyplot as plt\n",
    "\n",
    "class PlotMetrics():\n",
    "    \n",
    "    def draw(self, history):\n",
    "        # ===> loss summary\n",
    "        \n",
    "        f, (ax1, ax2) = plt.subplots(1, 2, sharey=False)\n",
    "        f.set_figheight(5)\n",
    "        f.set_figwidth(15)\n",
    "        \n",
    "        ax1.plot(history.history['val_categorical_accuracy'])\n",
    "        ax1.plot(history.history['categorical_accuracy'])\n",
    "        ax1.title.set_text('model accuracy')\n",
    "        ax1.set_ylabel('accuracy')\n",
    "        ax1.set_xlabel('epoch')\n",
    "        ax1.legend(['train', 'test'], loc='upper left')\n",
    "        \n",
    "        ax2.plot(history.history['val_loss'])\n",
    "        ax2.plot(history.history['loss'])\n",
    "        ax2.title.set_text('Loss function')\n",
    "        ax2.set_ylabel('Loss')\n",
    "        ax2.set_xlabel('epoch')\n",
    "        ax2.legend(['train', 'test'], loc='upper left')\n",
    "        plt.show()\n",
    "        \n",
    "        "
   ]
  },
  {
   "cell_type": "code",
   "execution_count": 40,
   "metadata": {},
   "outputs": [
    {
     "data": {
      "image/png": "[encoded data removed]",
      "text/plain": [
       "<Figure size 1080x360 with 2 Axes>"
      ]
     },
     "metadata": {},
     "output_type": "display_data"
    }
   ],
   "source": [
    "obj= PlotMetrics()\n",
    "obj.draw(model_history)"
   ]
  },
  {
   "cell_type": "markdown",
   "metadata": {},
   "source": [
    "### Conv3D Model: "
   ]
  },
  {
   "cell_type": "code",
   "execution_count": 42,
   "metadata": {},
   "outputs": [],
   "source": [
    "class convolution3D():\n",
    "    def __init__(self):\n",
    "        return None\n",
    "    \n",
    "    def model(self, batch_size):\n",
    "        model = Sequential()\n",
    "      \n",
    "        model.add(Conv3D(8, kernel_size=(3, 3, 3),activation='relu', padding=\"same\",input_shape=(10, 100, 100, 3)))\n",
    "        model.add(MaxPooling3D(pool_size=(2, 2, 2)))\n",
    "        model.add(BatchNormalization())\n",
    "        \n",
    "        model.add(Conv3D(16, kernel_size=(3, 3, 3),activation='relu', padding=\"same\",\n",
    "                         kernel_regularizer=regularizers.l2(0.01),\n",
    "                        bias_regularizer=regularizers.l2(0.01)))\n",
    "        model.add(MaxPooling3D(pool_size=(2, 2, 2)))\n",
    "        model.add(BatchNormalization())\n",
    "        \n",
    "        model.add(Conv3D(32, kernel_size=(3, 3, 3),activation='relu', padding=\"same\",\n",
    "                         kernel_regularizer=regularizers.l2(0.01),\n",
    "                        bias_regularizer=regularizers.l2(0.01)))\n",
    "        model.add(MaxPooling3D(pool_size=(2, 2, 2)))\n",
    "        model.add(BatchNormalization())\n",
    "        \n",
    "        \n",
    "        model.add(Conv3D(32, kernel_size=(3, 3, 3),activation='relu', padding=\"same\",\n",
    "                         kernel_regularizer=regularizers.l2(0.01),\n",
    "                        bias_regularizer=regularizers.l2(0.01)))\n",
    "        model.add(MaxPooling3D(pool_size=(2, 2, 1),dim_ordering='th'))\n",
    "        model.add(BatchNormalization())\n",
    "        \n",
    "        model.add(Conv3D(64, kernel_size=(3, 3, 3),activation='relu', padding=\"same\",\n",
    "                         kernel_regularizer=regularizers.l2(0.01),\n",
    "                        bias_regularizer=regularizers.l2(0.01)))\n",
    "        \n",
    "        model.add(MaxPooling3D(pool_size=(2, 2, 1),dim_ordering='th'))\n",
    "        model.add(BatchNormalization())\n",
    "        \n",
    "        model.add(Conv3D(128, kernel_size=(3, 3, 3),activation='relu', padding=\"same\",\n",
    "                         kernel_regularizer=regularizers.l2(0.01),\n",
    "                        bias_regularizer=regularizers.l2(0.01)))\n",
    "        model.add(MaxPooling3D(pool_size=(2, 2, 2),dim_ordering='th'))\n",
    "        model.add(BatchNormalization())\n",
    "        \n",
    "       \n",
    "        model.add(Dropout(0.25))\n",
    "        model.add(Flatten())\n",
    "        model.add(Dense(256,activation='relu'))\n",
    "        model.add(Dropout(0.5))\n",
    "        model.add(Dense(128,activation='relu'))\n",
    "        model.add(Dropout(0.5))\n",
    "        model.add(Dense(64,activation='relu'))\n",
    "        model.add(Dropout(0.5))\n",
    "        model.add(Dense(5, activation='softmax'))\n",
    "        return model"
   ]
  },
  {
   "cell_type": "code",
   "execution_count": 43,
   "metadata": {},
   "outputs": [
    {
     "name": "stderr",
     "output_type": "stream",
     "text": [
      "/mnt/disks/user/anaconda3/lib/python3.6/site-packages/ipykernel_launcher.py:28: UserWarning: Update your `MaxPooling3D` call to the Keras 2 API: `MaxPooling3D(pool_size=(2, 2, 1), data_format=\"channels_first\")`\n",
      "/mnt/disks/user/anaconda3/lib/python3.6/site-packages/ipykernel_launcher.py:35: UserWarning: Update your `MaxPooling3D` call to the Keras 2 API: `MaxPooling3D(pool_size=(2, 2, 1), data_format=\"channels_first\")`\n",
      "/mnt/disks/user/anaconda3/lib/python3.6/site-packages/ipykernel_launcher.py:41: UserWarning: Update your `MaxPooling3D` call to the Keras 2 API: `MaxPooling3D(pool_size=(2, 2, 2), data_format=\"channels_first\")`\n"
     ]
    },
    {
     "name": "stdout",
     "output_type": "stream",
     "text": [
      "_________________________________________________________________\n",
      "Layer (type)                 Output Shape              Param #   \n",
      "=================================================================\n",
      "conv3d_1 (Conv3D)            (None, 10, 100, 100, 8)   656       \n",
      "_________________________________________________________________\n",
      "max_pooling3d_1 (MaxPooling3 (None, 5, 50, 50, 8)      0         \n",
      "_________________________________________________________________\n",
      "batch_normalization_13 (Batc (None, 5, 50, 50, 8)      32        \n",
      "_________________________________________________________________\n",
      "conv3d_2 (Conv3D)            (None, 5, 50, 50, 16)     3472      \n",
      "_________________________________________________________________\n",
      "max_pooling3d_2 (MaxPooling3 (None, 2, 25, 25, 16)     0         \n",
      "_________________________________________________________________\n",
      "batch_normalization_14 (Batc (None, 2, 25, 25, 16)     64        \n",
      "_________________________________________________________________\n",
      "conv3d_3 (Conv3D)            (None, 2, 25, 25, 32)     13856     \n",
      "_________________________________________________________________\n",
      "max_pooling3d_3 (MaxPooling3 (None, 1, 12, 12, 32)     0         \n",
      "_________________________________________________________________\n",
      "batch_normalization_15 (Batc (None, 1, 12, 12, 32)     128       \n",
      "_________________________________________________________________\n",
      "conv3d_4 (Conv3D)            (None, 1, 12, 12, 32)     27680     \n",
      "_________________________________________________________________\n",
      "max_pooling3d_4 (MaxPooling3 (None, 1, 6, 6, 32)       0         \n",
      "_________________________________________________________________\n",
      "batch_normalization_16 (Batc (None, 1, 6, 6, 32)       128       \n",
      "_________________________________________________________________\n",
      "conv3d_5 (Conv3D)            (None, 1, 6, 6, 64)       55360     \n",
      "_________________________________________________________________\n",
      "max_pooling3d_5 (MaxPooling3 (None, 1, 3, 3, 64)       0         \n",
      "_________________________________________________________________\n",
      "batch_normalization_17 (Batc (None, 1, 3, 3, 64)       256       \n",
      "_________________________________________________________________\n",
      "conv3d_6 (Conv3D)            (None, 1, 3, 3, 128)      221312    \n",
      "_________________________________________________________________\n",
      "max_pooling3d_6 (MaxPooling3 (None, 1, 1, 1, 64)       0         \n",
      "_________________________________________________________________\n",
      "batch_normalization_18 (Batc (None, 1, 1, 1, 64)       256       \n",
      "_________________________________________________________________\n",
      "dropout_17 (Dropout)         (None, 1, 1, 1, 64)       0         \n",
      "_________________________________________________________________\n",
      "flatten_5 (Flatten)          (None, 64)                0         \n",
      "_________________________________________________________________\n",
      "dense_9 (Dense)              (None, 256)               16640     \n",
      "_________________________________________________________________\n",
      "dropout_18 (Dropout)         (None, 256)               0         \n",
      "_________________________________________________________________\n",
      "dense_10 (Dense)             (None, 128)               32896     \n",
      "_________________________________________________________________\n",
      "dropout_19 (Dropout)         (None, 128)               0         \n",
      "_________________________________________________________________\n",
      "dense_11 (Dense)             (None, 64)                8256      \n",
      "_________________________________________________________________\n",
      "dropout_20 (Dropout)         (None, 64)                0         \n",
      "_________________________________________________________________\n",
      "dense_12 (Dense)             (None, 5)                 325       \n",
      "=================================================================\n",
      "Total params: 381,317\n",
      "Trainable params: 380,885\n",
      "Non-trainable params: 432\n",
      "_________________________________________________________________\n",
      "None\n"
     ]
    }
   ],
   "source": [
    "obj = convolution3D()\n",
    "conv3d_model = obj.model(batch_size)\n",
    "conv3d_optimiser = optimizers.Adam() #write your optimizer\n",
    "\n",
    "conv3d_model.compile(optimizer=conv3d_optimiser, loss='categorical_crossentropy', metrics=['categorical_accuracy'])\n",
    "print (conv3d_model.summary())"
   ]
  },
  {
   "cell_type": "code",
   "execution_count": 44,
   "metadata": {},
   "outputs": [],
   "source": [
    "model_name = 'model_init' + '_' + str(curr_dt_time).replace(' ','').replace(':','_') + '/'\n",
    "    \n",
    "if not os.path.exists(model_name):\n",
    "    os.mkdir(model_name)\n",
    "        \n",
    "filepath = model_name + 'model_3d-{epoch:05d}-{loss:.5f}-{categorical_accuracy:.5f}-{val_loss:.5f}-{val_categorical_accuracy:.5f}.h5'\n",
    "\n",
    "checkpoint = ModelCheckpoint(filepath, monitor='val_loss', verbose=1, save_best_only=False, save_weights_only=False, mode='auto', period=1)\n",
    "\n",
    "LR = DecayLR(base_lr=0.1) # write the REducelronplateau code here\n",
    "# callbacks_list = [checkpoint, LR]\n",
    "# roc_callback = RocCallback()\n",
    "callbacks_list = [reduceLR,checkpoint]"
   ]
  },
  {
   "cell_type": "code",
   "execution_count": 46,
   "metadata": {
    "scrolled": false
   },
   "outputs": [
    {
     "name": "stdout",
     "output_type": "stream",
     "text": [
      "Epoch 1/30\n"
     ]
    },
    {
     "name": "stderr",
     "output_type": "stream",
     "text": [
      "/mnt/disks/user/anaconda3/lib/python3.6/site-packages/ipykernel_launcher.py:15: DeprecationWarning: `imread` is deprecated!\n",
      "`imread` is deprecated in SciPy 1.0.0, and will be removed in 1.2.0.\n",
      "Use ``imageio.imread`` instead.\n",
      "  from ipykernel import kernelapp as app\n",
      "/mnt/disks/user/anaconda3/lib/python3.6/site-packages/ipykernel_launcher.py:32: DeprecationWarning: `imread` is deprecated!\n",
      "`imread` is deprecated in SciPy 1.0.0, and will be removed in 1.2.0.\n",
      "Use ``imageio.imread`` instead.\n",
      "/mnt/disks/user/anaconda3/lib/python3.6/site-packages/skimage/transform/_warps.py:105: UserWarning: The default mode, 'constant', will be changed to 'reflect' in skimage 0.15.\n",
      "  warn(\"The default mode, 'constant', will be changed to 'reflect' in \"\n"
     ]
    },
    {
     "name": "stdout",
     "output_type": "stream",
     "text": [
      "23/23 [==============================] - 54s 2s/step - loss: 1.5871 - categorical_accuracy: 0.6464 - val_loss: 1.5180 - val_categorical_accuracy: 0.7000\n",
      "\n",
      "Epoch 00001: saving model to model_init_2019-12-2313_59_05.539691/model_3d-00001-1.58707-0.64638-1.51798-0.70000.h5\n",
      "Epoch 2/30\n",
      "23/23 [==============================] - 53s 2s/step - loss: 1.5354 - categorical_accuracy: 0.6667 - val_loss: 1.5474 - val_categorical_accuracy: 0.7167\n",
      "\n",
      "Epoch 00002: saving model to model_init_2019-12-2313_59_05.539691/model_3d-00002-1.53535-0.66667-1.54744-0.71667.h5\n",
      "Epoch 3/30\n",
      "23/23 [==============================] - 52s 2s/step - loss: 1.5711 - categorical_accuracy: 0.6696 - val_loss: 1.4990 - val_categorical_accuracy: 0.7250\n",
      "\n",
      "Epoch 00003: saving model to model_init_2019-12-2313_59_05.539691/model_3d-00003-1.57110-0.66957-1.49899-0.72500.h5\n",
      "Epoch 4/30\n",
      "23/23 [==============================] - 57s 2s/step - loss: 1.5932 - categorical_accuracy: 0.6449 - val_loss: 1.5007 - val_categorical_accuracy: 0.7250\n",
      "\n",
      "Epoch 00004: saving model to model_init_2019-12-2313_59_05.539691/model_3d-00004-1.59316-0.64493-1.50072-0.72500.h5\n",
      "Epoch 5/30\n",
      "23/23 [==============================] - 60s 3s/step - loss: 1.5856 - categorical_accuracy: 0.6580 - val_loss: 1.5322 - val_categorical_accuracy: 0.7083\n",
      "\n",
      "Epoch 00005: ReduceLROnPlateau reducing learning rate to 1.0000001111620805e-07.\n",
      "\n",
      "Epoch 00005: saving model to model_init_2019-12-2313_59_05.539691/model_3d-00005-1.58556-0.65797-1.53225-0.70833.h5\n",
      "Epoch 6/30\n",
      "23/23 [==============================] - 55s 2s/step - loss: 1.5545 - categorical_accuracy: 0.6667 - val_loss: 1.4792 - val_categorical_accuracy: 0.7333\n",
      "\n",
      "Epoch 00006: saving model to model_init_2019-12-2313_59_05.539691/model_3d-00006-1.55449-0.66667-1.47917-0.73333.h5\n",
      "Epoch 7/30\n",
      "23/23 [==============================] - 57s 2s/step - loss: 1.5970 - categorical_accuracy: 0.6638 - val_loss: 1.4909 - val_categorical_accuracy: 0.7667\n",
      "\n",
      "Epoch 00007: saving model to model_init_2019-12-2313_59_05.539691/model_3d-00007-1.59695-0.66377-1.49090-0.76667.h5\n",
      "Epoch 8/30\n",
      "23/23 [==============================] - 57s 2s/step - loss: 1.6160 - categorical_accuracy: 0.6420 - val_loss: 1.5004 - val_categorical_accuracy: 0.7333\n",
      "\n",
      "Epoch 00008: ReduceLROnPlateau reducing learning rate to 1.000000082740371e-08.\n",
      "\n",
      "Epoch 00008: saving model to model_init_2019-12-2313_59_05.539691/model_3d-00008-1.61604-0.64203-1.50035-0.73333.h5\n",
      "Epoch 9/30\n",
      "23/23 [==============================] - 50s 2s/step - loss: 1.5372 - categorical_accuracy: 0.6797 - val_loss: 1.4611 - val_categorical_accuracy: 0.7333\n",
      "\n",
      "Epoch 00009: saving model to model_init_2019-12-2313_59_05.539691/model_3d-00009-1.53718-0.67971-1.46109-0.73333.h5\n",
      "Epoch 10/30\n",
      "23/23 [==============================] - 59s 3s/step - loss: 1.5713 - categorical_accuracy: 0.6377 - val_loss: 1.4848 - val_categorical_accuracy: 0.7333\n",
      "\n",
      "Epoch 00010: saving model to model_init_2019-12-2313_59_05.539691/model_3d-00010-1.57133-0.63768-1.48482-0.73333.h5\n",
      "Epoch 11/30\n",
      "23/23 [==============================] - 57s 2s/step - loss: 1.6018 - categorical_accuracy: 0.6348 - val_loss: 1.5260 - val_categorical_accuracy: 0.6917\n",
      "\n",
      "Epoch 00011: ReduceLROnPlateau reducing learning rate to 1.000000082740371e-09.\n",
      "\n",
      "Epoch 00011: saving model to model_init_2019-12-2313_59_05.539691/model_3d-00011-1.60177-0.63478-1.52597-0.69167.h5\n",
      "Epoch 12/30\n",
      "23/23 [==============================] - 47s 2s/step - loss: 1.5457 - categorical_accuracy: 0.6841 - val_loss: 1.5540 - val_categorical_accuracy: 0.7083\n",
      "\n",
      "Epoch 00012: saving model to model_init_2019-12-2313_59_05.539691/model_3d-00012-1.54575-0.68406-1.55399-0.70833.h5\n",
      "Epoch 13/30\n",
      "23/23 [==============================] - 54s 2s/step - loss: 1.5667 - categorical_accuracy: 0.6478 - val_loss: 1.5230 - val_categorical_accuracy: 0.7167\n",
      "\n",
      "Epoch 00013: ReduceLROnPlateau reducing learning rate to 1.000000082740371e-10.\n",
      "\n",
      "Epoch 00013: saving model to model_init_2019-12-2313_59_05.539691/model_3d-00013-1.56674-0.64783-1.52301-0.71667.h5\n",
      "Epoch 14/30\n",
      "23/23 [==============================] - 59s 3s/step - loss: 1.5925 - categorical_accuracy: 0.6623 - val_loss: 1.5092 - val_categorical_accuracy: 0.7083\n",
      "\n",
      "Epoch 00014: saving model to model_init_2019-12-2313_59_05.539691/model_3d-00014-1.59248-0.66232-1.50918-0.70833.h5\n",
      "Epoch 15/30\n",
      "23/23 [==============================] - 51s 2s/step - loss: 1.5480 - categorical_accuracy: 0.6681 - val_loss: 1.5147 - val_categorical_accuracy: 0.7250\n",
      "\n",
      "Epoch 00015: ReduceLROnPlateau reducing learning rate to 1.000000082740371e-11.\n",
      "\n",
      "Epoch 00015: saving model to model_init_2019-12-2313_59_05.539691/model_3d-00015-1.54804-0.66812-1.51466-0.72500.h5\n",
      "Epoch 16/30\n",
      "23/23 [==============================] - 59s 3s/step - loss: 1.5661 - categorical_accuracy: 0.6899 - val_loss: 1.4968 - val_categorical_accuracy: 0.7250\n",
      "\n",
      "Epoch 00016: saving model to model_init_2019-12-2313_59_05.539691/model_3d-00016-1.56612-0.68986-1.49678-0.72500.h5\n",
      "Epoch 17/30\n",
      "23/23 [==============================] - 58s 3s/step - loss: 1.5903 - categorical_accuracy: 0.6594 - val_loss: 1.5340 - val_categorical_accuracy: 0.7083\n",
      "\n",
      "Epoch 00017: ReduceLROnPlateau reducing learning rate to 1.000000082740371e-12.\n",
      "\n",
      "Epoch 00017: saving model to model_init_2019-12-2313_59_05.539691/model_3d-00017-1.59032-0.65942-1.53405-0.70833.h5\n",
      "Epoch 18/30\n",
      "23/23 [==============================] - 57s 2s/step - loss: 1.5482 - categorical_accuracy: 0.6652 - val_loss: 1.5016 - val_categorical_accuracy: 0.6833\n",
      "\n",
      "Epoch 00018: saving model to model_init_2019-12-2313_59_05.539691/model_3d-00018-1.54816-0.66522-1.50162-0.68333.h5\n",
      "Epoch 19/30\n",
      "23/23 [==============================] - 56s 2s/step - loss: 1.5749 - categorical_accuracy: 0.6797 - val_loss: 1.5466 - val_categorical_accuracy: 0.7250\n",
      "\n",
      "Epoch 00019: ReduceLROnPlateau reducing learning rate to 1.0000001044244145e-13.\n",
      "\n",
      "Epoch 00019: saving model to model_init_2019-12-2313_59_05.539691/model_3d-00019-1.57494-0.67971-1.54660-0.72500.h5\n",
      "Epoch 20/30\n",
      "23/23 [==============================] - 50s 2s/step - loss: 1.5692 - categorical_accuracy: 0.6609 - val_loss: 1.5033 - val_categorical_accuracy: 0.7167\n",
      "\n",
      "Epoch 00020: saving model to model_init_2019-12-2313_59_05.539691/model_3d-00020-1.56925-0.66087-1.50327-0.71667.h5\n",
      "Epoch 21/30\n",
      "23/23 [==============================] - 47s 2s/step - loss: 1.5953 - categorical_accuracy: 0.6739 - val_loss: 1.5331 - val_categorical_accuracy: 0.7000\n",
      "\n",
      "Epoch 00021: ReduceLROnPlateau reducing learning rate to 1.0000001179769417e-14.\n",
      "\n",
      "Epoch 00021: saving model to model_init_2019-12-2313_59_05.539691/model_3d-00021-1.59525-0.67391-1.53314-0.70000.h5\n",
      "Epoch 22/30\n",
      "23/23 [==============================] - 49s 2s/step - loss: 1.5550 - categorical_accuracy: 0.6870 - val_loss: 1.5300 - val_categorical_accuracy: 0.7167\n",
      "\n",
      "Epoch 00022: saving model to model_init_2019-12-2313_59_05.539691/model_3d-00022-1.55501-0.68696-1.53000-0.71667.h5\n",
      "Epoch 23/30\n",
      "23/23 [==============================] - 47s 2s/step - loss: 1.5406 - categorical_accuracy: 0.6623 - val_loss: 1.5276 - val_categorical_accuracy: 0.7250\n",
      "\n",
      "Epoch 00023: ReduceLROnPlateau reducing learning rate to 1.0000001518582595e-15.\n",
      "\n",
      "Epoch 00023: saving model to model_init_2019-12-2313_59_05.539691/model_3d-00023-1.54059-0.66232-1.52757-0.72500.h5\n",
      "Epoch 24/30\n",
      "23/23 [==============================] - 48s 2s/step - loss: 1.6029 - categorical_accuracy: 0.6420 - val_loss: 1.5327 - val_categorical_accuracy: 0.7167\n",
      "\n",
      "Epoch 00024: saving model to model_init_2019-12-2313_59_05.539691/model_3d-00024-1.60291-0.64203-1.53274-0.71667.h5\n",
      "Epoch 25/30\n",
      "23/23 [==============================] - 59s 3s/step - loss: 1.5432 - categorical_accuracy: 0.6855 - val_loss: 1.5151 - val_categorical_accuracy: 0.7333\n",
      "\n",
      "Epoch 00025: ReduceLROnPlateau reducing learning rate to 1.0000001095066122e-16.\n",
      "\n",
      "Epoch 00025: saving model to model_init_2019-12-2313_59_05.539691/model_3d-00025-1.54322-0.68551-1.51507-0.73333.h5\n",
      "Epoch 26/30\n",
      "23/23 [==============================] - 48s 2s/step - loss: 1.5700 - categorical_accuracy: 0.6594 - val_loss: 1.5116 - val_categorical_accuracy: 0.7250\n",
      "\n",
      "Epoch 00026: saving model to model_init_2019-12-2313_59_05.539691/model_3d-00026-1.57003-0.65942-1.51156-0.72500.h5\n",
      "Epoch 27/30\n"
     ]
    },
    {
     "name": "stdout",
     "output_type": "stream",
     "text": [
      "23/23 [==============================] - 51s 2s/step - loss: 1.5429 - categorical_accuracy: 0.7000 - val_loss: 1.5006 - val_categorical_accuracy: 0.7250\n",
      "\n",
      "Epoch 00027: ReduceLROnPlateau reducing learning rate to 1.0000000830368326e-17.\n",
      "\n",
      "Epoch 00027: saving model to model_init_2019-12-2313_59_05.539691/model_3d-00027-1.54294-0.70000-1.50055-0.72500.h5\n",
      "Epoch 28/30\n",
      "23/23 [==============================] - 48s 2s/step - loss: 1.5385 - categorical_accuracy: 0.6797 - val_loss: 1.5040 - val_categorical_accuracy: 0.7250\n",
      "\n",
      "Epoch 00028: saving model to model_init_2019-12-2313_59_05.539691/model_3d-00028-1.53848-0.67971-1.50396-0.72500.h5\n",
      "Epoch 29/30\n",
      "23/23 [==============================] - 49s 2s/step - loss: 1.5437 - categorical_accuracy: 0.6507 - val_loss: 1.5055 - val_categorical_accuracy: 0.7083\n",
      "\n",
      "Epoch 00029: ReduceLROnPlateau reducing learning rate to 1.0000000664932204e-18.\n",
      "\n",
      "Epoch 00029: saving model to model_init_2019-12-2313_59_05.539691/model_3d-00029-1.54367-0.65072-1.50549-0.70833.h5\n",
      "Epoch 30/30\n",
      "23/23 [==============================] - 51s 2s/step - loss: 1.5905 - categorical_accuracy: 0.6493 - val_loss: 1.5199 - val_categorical_accuracy: 0.7167\n",
      "\n",
      "Epoch 00030: saving model to model_init_2019-12-2313_59_05.539691/model_3d-00030-1.59046-0.64928-1.51988-0.71667.h5\n"
     ]
    }
   ],
   "source": [
    "conv3d_model_history = conv3d_model.fit_generator(train_generator,\n",
    "                                           steps_per_epoch=steps_per_epoch,\n",
    "                                           epochs=num_epochs,\n",
    "                                           verbose=1,\n",
    "                                           callbacks=callbacks_list,\n",
    "                                           validation_data=val_generator,\n",
    "                                           validation_steps=validation_steps,\n",
    "                                           class_weight=None,\n",
    "                                           workers=1,\n",
    "                                           initial_epoch=0)"
   ]
  },
  {
   "cell_type": "code",
   "execution_count": 47,
   "metadata": {},
   "outputs": [
    {
     "name": "stdout",
     "output_type": "stream",
     "text": [
      "{'val_loss': [1.5179769396781921, 1.5474407076835632, 1.4989860653877258, 1.5007160007953644, 1.5322453379631042, 1.479166179895401, 1.4908965528011322, 1.500350147485733, 1.4610944986343384, 1.4848176538944244, 1.5259747803211212, 1.5539915561676025, 1.5230145454406738, 1.5091828107833862, 1.5146571099758148, 1.4967837035655975, 1.5340461432933807, 1.501619666814804, 1.546604871749878, 1.5032682716846466, 1.533136010169983, 1.5300008654594421, 1.527568280696869, 1.5327436029911041, 1.5150738954544067, 1.5115582048892975, 1.5005511939525604, 1.5039639174938202, 1.5054857432842255, 1.5198813080787659], 'val_categorical_accuracy': [0.699999988079071, 0.7166666835546494, 0.7250000089406967, 0.7250000089406967, 0.7083333283662796, 0.7333333343267441, 0.7666666656732559, 0.7333333343267441, 0.7333333343267441, 0.7333333343267441, 0.6916666775941849, 0.7083333283662796, 0.7166666686534882, 0.7083333432674408, 0.7250000089406967, 0.7249999940395355, 0.7083333283662796, 0.6833333373069763, 0.7249999940395355, 0.7166666686534882, 0.7000000178813934, 0.7166666686534882, 0.7249999940395355, 0.7166666686534882, 0.7333333343267441, 0.7249999940395355, 0.7249999940395355, 0.7250000089406967, 0.7083333283662796, 0.7166666686534882], 'loss': [1.587070625761281, 1.535353676132534, 1.571102297824362, 1.5931566953659058, 1.585557372673698, 1.554487487544184, 1.5969541850297346, 1.6160448063974795, 1.5371828649355017, 1.5713342739188152, 1.601773940998575, 1.5457459273545637, 1.566739761311075, 1.5924788661625073, 1.5480410430742346, 1.566123630689538, 1.5903241167897764, 1.5481554943582285, 1.574943298878877, 1.5692453747210295, 1.5952501193336819, 1.5550073696219402, 1.5405876170033994, 1.6029119647067527, 1.543216145556906, 1.5700272269870923, 1.542937843695931, 1.5384808104971182, 1.5436698509299236, 1.5904609949692436], 'categorical_accuracy': [0.6463768223057622, 0.6666666709858439, 0.6695652189462081, 0.6449275405510612, 0.6579710141472195, 0.6666666683943375, 0.6637681230254795, 0.6420289835204249, 0.6797101497650146, 0.637681166762891, 0.6347826162110204, 0.6840579768885737, 0.6478260872156724, 0.662318845158038, 0.6681159475575322, 0.6898550715135492, 0.6594202933104142, 0.6652173983014148, 0.6797101510607678, 0.6608695724736089, 0.673913044774014, 0.686956524848938, 0.662318845158038, 0.6420289951822032, 0.6855072443899901, 0.6594202984934268, 0.7000000062196151, 0.6797101497650146, 0.6507246481335681, 0.6492753728576328], 'lr': [1.0000001e-06, 1.0000001e-06, 1.0000001e-06, 1.0000001e-06, 1.0000001e-06, 1.0000001e-07, 1.0000001e-07, 1.0000001e-07, 1.0000001e-08, 1.0000001e-08, 1.0000001e-08, 1.0000001e-09, 1.0000001e-09, 1.0000001e-10, 1.0000001e-10, 1.0000001e-11, 1.0000001e-11, 1.0000001e-12, 1.0000001e-12, 1.0000001e-13, 1.0000001e-13, 1.00000015e-14, 1.00000015e-14, 1.0000001e-15, 1.0000001e-15, 1.0000001e-16, 1.0000001e-16, 1.0000001e-17, 1.0000001e-17, 1e-18]}\n"
     ]
    },
    {
     "data": {
      "image/png": "[encoded data removed]",
      "text/plain": [
       "<Figure size 1080x360 with 2 Axes>"
      ]
     },
     "metadata": {},
     "output_type": "display_data"
    }
   ],
   "source": [
    "print(conv3d_model_history.history)\n",
    "obj= PlotMetrics()\n",
    "obj.draw(conv3d_model_history)"
   ]
  },
  {
   "cell_type": "code",
   "execution_count": null,
   "metadata": {},
   "outputs": [],
   "source": []
  }
 ],
 "metadata": {
  "kernelspec": {
   "display_name": "Python 3",
   "language": "python",
   "name": "python3"
  },
  "language_info": {
   "codemirror_mode": {
    "name": "ipython",
    "version": 3
   },
   "file_extension": ".py",
   "mimetype": "text/x-python",
   "name": "python",
   "nbconvert_exporter": "python",
   "pygments_lexer": "ipython3",
   "version": "3.6.8"
  }
 },
 "nbformat": 4,
 "nbformat_minor": 2
}
