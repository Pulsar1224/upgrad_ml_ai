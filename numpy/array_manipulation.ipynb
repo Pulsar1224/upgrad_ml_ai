{
 "cells": [
  {
   "cell_type": "markdown",
   "metadata": {},
   "source": [
    "## Array manipulation:"
   ]
  },
  {
   "cell_type": "code",
   "execution_count": 5,
   "metadata": {},
   "outputs": [
    {
     "name": "stdout",
     "output_type": "stream",
     "text": [
      "[[ 0  1  2]\n",
      " [ 3  4  5]\n",
      " [ 6  7  8]\n",
      " [ 9 10 11]]\n"
     ]
    }
   ],
   "source": [
    "import numpy as np\n",
    "array = np.arange(12).reshape(4,3) \n",
    "# OR \n",
    "# array = np.arange(12).reshape(4,-1)\n",
    "print(array)"
   ]
  },
  {
   "cell_type": "code",
   "execution_count": 6,
   "metadata": {},
   "outputs": [
    {
     "name": "stdout",
     "output_type": "stream",
     "text": [
      "[[ 0  3  6  9]\n",
      " [ 1  4  7 10]\n",
      " [ 2  5  8 11]]\n"
     ]
    }
   ],
   "source": [
    "print(array.T)"
   ]
  },
  {
   "cell_type": "markdown",
   "metadata": {},
   "source": [
    "###  Stacking (Horizontal & Vertical):"
   ]
  },
  {
   "cell_type": "markdown",
   "metadata": {},
   "source": [
    "##### Vertical Stacking"
   ]
  },
  {
   "cell_type": "code",
   "execution_count": 11,
   "metadata": {},
   "outputs": [
    {
     "name": "stdout",
     "output_type": "stream",
     "text": [
      "[[ 0  1  2  3]\n",
      " [ 4  5  6  7]\n",
      " [ 8  9 10 11]\n",
      " [ 0  1  2  3]\n",
      " [ 4  5  6  7]\n",
      " [ 8  9 10 11]\n",
      " [12 13 14 15]\n",
      " [16 17 18 19]]\n"
     ]
    }
   ],
   "source": [
    "array1 = np.arange(12).reshape(3, 4)\n",
    "array2 = np.arange(20).reshape(5, 4)\n",
    "\n",
    "# Vertical stacking NO OF COLUMNS MUST BE SAME \n",
    "\n",
    "print(np.vstack((array1, array2)))"
   ]
  },
  {
   "cell_type": "markdown",
   "metadata": {},
   "source": [
    "##### Horizontal Stacking"
   ]
  },
  {
   "cell_type": "code",
   "execution_count": 18,
   "metadata": {},
   "outputs": [
    {
     "name": "stdout",
     "output_type": "stream",
     "text": [
      "[[ 0  1  2  0  1  2  3]\n",
      " [ 3  4  5  4  5  6  7]\n",
      " [ 6  7  8  8  9 10 11]\n",
      " [ 9 10 11 12 13 14 15]\n",
      " [12 13 14 16 17 18 19]]\n",
      "[[ 0  1  2  0  1  2  3  0]\n",
      " [ 3  4  5  4  5  6  7  1]\n",
      " [ 6  7  8  8  9 10 11  2]\n",
      " [ 9 10 11 12 13 14 15  3]\n",
      " [12 13 14 16 17 18 19  4]]\n"
     ]
    }
   ],
   "source": [
    "array1 = np.arange(15).reshape(5, 3)\n",
    "array2 = np.arange(20).reshape(5, 4)\n",
    "\n",
    "# Horizontal stacking NO OF ROWS MUST BE SAME.\n",
    "\n",
    "print(np.hstack((array1, array2)))\n",
    "\n",
    "array3 = np.arange(5).reshape(5, 1)\n",
    "# Can specify ```N``` NO OF ARRAYS for stacking \n",
    "print(np.hstack((array1, array2, array3)))"
   ]
  },
  {
   "cell_type": "markdown",
   "metadata": {},
   "source": [
    "###  Vectorize functions:"
   ]
  },
  {
   "cell_type": "markdown",
   "metadata": {},
   "source": [
    "#### Basic mathamatical operations:"
   ]
  },
  {
   "cell_type": "code",
   "execution_count": 24,
   "metadata": {},
   "outputs": [
    {
     "name": "stdout",
     "output_type": "stream",
     "text": [
      "[ 0.          0.84147098  0.90929743  0.14112001 -0.7568025  -0.95892427\n",
      " -0.2794155   0.6569866   0.98935825  0.41211849 -0.54402111 -0.99999021\n",
      " -0.53657292  0.42016704  0.99060736]\n",
      "[ 1.          0.54030231 -0.41614684 -0.9899925  -0.65364362  0.28366219\n",
      "  0.96017029  0.75390225 -0.14550003 -0.91113026 -0.83907153  0.0044257\n",
      "  0.84385396  0.90744678  0.13673722]\n",
      "[1.00000000e+00 2.71828183e+00 7.38905610e+00 2.00855369e+01\n",
      " 5.45981500e+01 1.48413159e+02 4.03428793e+02 1.09663316e+03\n",
      " 2.98095799e+03 8.10308393e+03 2.20264658e+04 5.98741417e+04\n",
      " 1.62754791e+05 4.42413392e+05 1.20260428e+06]\n",
      "[      -inf 0.         0.69314718 1.09861229 1.38629436 1.60943791\n",
      " 1.79175947 1.94591015 2.07944154 2.19722458 2.30258509 2.39789527\n",
      " 2.48490665 2.56494936 2.63905733]\n"
     ]
    },
    {
     "name": "stderr",
     "output_type": "stream",
     "text": [
      "/anaconda3/lib/python3.7/site-packages/ipykernel_launcher.py:6: RuntimeWarning: divide by zero encountered in log\n",
      "  \n"
     ]
    }
   ],
   "source": [
    "array1 = np.arange(15)\n",
    "\n",
    "print(np.sin(array1))\n",
    "print(np.cos(array1))\n",
    "print(np.exp(array1))\n",
    "print(np.log(array1))"
   ]
  },
  {
   "cell_type": "markdown",
   "metadata": {},
   "source": [
    "###  Custom functions:"
   ]
  },
  {
   "cell_type": "code",
   "execution_count": 29,
   "metadata": {},
   "outputs": [
    {
     "name": "stdout",
     "output_type": "stream",
     "text": [
      "[0.         0.5        0.66666667 0.75       0.8        0.83333333\n",
      " 0.85714286 0.875      0.88888889 0.9        0.90909091 0.91666667\n",
      " 0.92307692 0.92857143 0.93333333]\n",
      "[  0   1   4   9  16  25  36  49  64  81 100 121 144 169 196]\n"
     ]
    }
   ],
   "source": [
    "fn = np.vectorize(lambda x: x/(x+1))\n",
    "print(fn(array1))\n",
    "\n",
    "square_numbers = np.vectorize(lambda x: x**2)\n",
    "print(square_numbers(array1))"
   ]
  },
  {
   "cell_type": "markdown",
   "metadata": {},
   "source": [
    "### Algebra operations:"
   ]
  },
  {
   "cell_type": "code",
   "execution_count": 39,
   "metadata": {},
   "outputs": [
    {
     "name": "stdout",
     "output_type": "stream",
     "text": [
      "[[ -2  -3  -4]\n",
      " [ -5  -6  -7]\n",
      " [ -8  -9 -10]]\n",
      "[[1 2 3]\n",
      " [4 5 6]\n",
      " [7 8 9]]\n",
      "[[ 3.15251974e+15 -6.30503948e+15  3.15251974e+15]\n",
      " [-6.30503948e+15  1.26100790e+16 -6.30503948e+15]\n",
      " [ 3.15251974e+15 -6.30503948e+15  3.15251974e+15]]\n",
      "-9.51619735392994e-16\n",
      "[[ 38  44  50  56]\n",
      " [ 83  98 113 128]\n",
      " [128 152 176 200]]\n"
     ]
    }
   ],
   "source": [
    "array1 = np.arange(1, 10).reshape(3, 3)\n",
    "array2 = np.arange(1, 13).reshape(3, 4)\n",
    "\n",
    "print(np.invert(array1))\n",
    "print(array1)\n",
    "\n",
    "print(np.linalg.inv(array1))\n",
    "\n",
    "print(np.linalg.det(array1))\n",
    "\n",
    "print(np.dot(array1, array2))"
   ]
  }
 ],
 "metadata": {
  "kernelspec": {
   "display_name": "Python 3",
   "language": "python",
   "name": "python3"
  },
  "language_info": {
   "codemirror_mode": {
    "name": "ipython",
    "version": 3
   },
   "file_extension": ".py",
   "mimetype": "text/x-python",
   "name": "python",
   "nbconvert_exporter": "python",
   "pygments_lexer": "ipython3",
   "version": "3.7.1"
  }
 },
 "nbformat": 4,
 "nbformat_minor": 2
}
