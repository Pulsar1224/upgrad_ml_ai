{
 "cells": [
  {
   "cell_type": "code",
   "execution_count": 1,
   "metadata": {},
   "outputs": [],
   "source": [
    "import numpy as np\n",
    "import math\n",
    "import random\n",
    "pi = math.pi\n"
   ]
  },
  {
   "cell_type": "code",
   "execution_count": 34,
   "metadata": {},
   "outputs": [],
   "source": [
    "array1 = [2,1,0,0]\n",
    "array2 = [0,0,1,1]"
   ]
  },
  {
   "cell_type": "code",
   "execution_count": 35,
   "metadata": {},
   "outputs": [],
   "source": [
    "def get_angle(arr1, arr2):\n",
    "    dot_result = np.dot(arr1, arr2)\n",
    "    scalar_arr1 = np.sqrt(np.dot(arr1, arr1))\n",
    "    scalar_arr2 = np.sqrt(np.dot(arr2, arr2))\n",
    "    return np.arccos( dot_result / ( scalar_arr1 * scalar_arr2 ) ) * (180/pi)"
   ]
  },
  {
   "cell_type": "code",
   "execution_count": 36,
   "metadata": {},
   "outputs": [
    {
     "data": {
      "text/plain": [
       "90.0"
      ]
     },
     "execution_count": 36,
     "metadata": {},
     "output_type": "execute_result"
    }
   ],
   "source": [
    "get_angle(array1, array2)"
   ]
  },
  {
   "cell_type": "code",
   "execution_count": 37,
   "metadata": {},
   "outputs": [
    {
     "name": "stdout",
     "output_type": "stream",
     "text": [
      "90.0\n",
      "18.434948822922017\n",
      "39.231520483592256\n",
      "90.0\n",
      "35.26438968275466\n"
     ]
    }
   ],
   "source": [
    "#### Detecting the spam emails based on number of occruances in the email of key words.\n",
    "\n",
    "frequency_of_words = [[2, 1, 0, 0], [0, 0, 1, 1], [1, 1, 0, 0], [1, 1, 1, 0]]\n",
    "\n",
    "print(get_angle(frequency_of_words[0], frequency_of_words[1]))\n",
    "print(get_angle(frequency_of_words[0], frequency_of_words[2]))\n",
    "print(get_angle(frequency_of_words[0], frequency_of_words[3]))\n",
    "\n",
    "# ===> both of them are contridectry \n",
    "print(get_angle(frequency_of_words[1], frequency_of_words[2]))\n",
    "\n",
    "# ===> both of the related to spam\n",
    "print(get_angle(frequency_of_words[2], frequency_of_words[3]))"
   ]
  },
  {
   "cell_type": "code",
   "execution_count": 38,
   "metadata": {},
   "outputs": [
    {
     "name": "stdout",
     "output_type": "stream",
     "text": [
      "90.0\n",
      "39.231520483592256\n",
      "35.26438968275466\n"
     ]
    }
   ],
   "source": [
    "data_fram2 = [ [2, 1, 0, 0], [0, 0, 1, 1], [1, 1, 0, 0], [1, 1, 1, 0] ]\n",
    "print(get_angle(data_fram2[0], data_fram2[1]))\n",
    "\n",
    "\n",
    "print(get_angle(data_fram2[3], data_fram2[0]))\n",
    "print(get_angle(data_fram2[3], data_fram2[2]))"
   ]
  },
  {
   "cell_type": "code",
   "execution_count": 39,
   "metadata": {},
   "outputs": [],
   "source": [
    "A = np.array([[1, 5, -1], \n",
    "              [2, 3, -2], \n",
    "              [-3, 4, 0]])\n",
    "b = np.array([1, 2, 0])"
   ]
  },
  {
   "cell_type": "code",
   "execution_count": 41,
   "metadata": {},
   "outputs": [],
   "source": [
    "# x = inverseof(A)(B)\n",
    "inv_a = np.linalg.inv(A)"
   ]
  },
  {
   "cell_type": "code",
   "execution_count": 44,
   "metadata": {},
   "outputs": [
    {
     "data": {
      "text/plain": [
       "array([ 0.,  0., -1.])"
      ]
     },
     "execution_count": 44,
     "metadata": {},
     "output_type": "execute_result"
    }
   ],
   "source": [
    "x = np.dot(inv_a, b)\n",
    "x"
   ]
  },
  {
   "cell_type": "code",
   "execution_count": 45,
   "metadata": {},
   "outputs": [],
   "source": [
    "A = np.array([ [2, 6, -1], [1, 2, -2], [-5, 0, 2] ])\n",
    "b = np.array([0, 1, 8])"
   ]
  },
  {
   "cell_type": "code",
   "execution_count": 47,
   "metadata": {},
   "outputs": [
    {
     "data": {
      "text/plain": [
       "array([-2. ,  0.5, -1. ])"
      ]
     },
     "execution_count": 47,
     "metadata": {},
     "output_type": "execute_result"
    }
   ],
   "source": [
    "inv_a = np.linalg.inv(A)\n",
    "x = np.dot(inv_a, b)\n",
    "x"
   ]
  },
  {
   "cell_type": "code",
   "execution_count": 49,
   "metadata": {},
   "outputs": [
    {
     "name": "stdout",
     "output_type": "stream",
     "text": [
      "[-3.00239975e+16  1.50119988e+16]\n"
     ]
    }
   ],
   "source": [
    "A = np.array([[1, 2], \n",
    "              [3, 6]])\n",
    "b = np.array([5, 10])\n",
    "\n",
    "# compute the inverse\n",
    "A_inv = np.linalg.inv(A)\n",
    "\n",
    "# solution: A_inv * b\n",
    "x = np.dot(A_inv, b)\n",
    "print(x)"
   ]
  },
  {
   "cell_type": "code",
   "execution_count": 51,
   "metadata": {},
   "outputs": [
    {
     "data": {
      "text/plain": [
       "1"
      ]
     },
     "execution_count": 51,
     "metadata": {},
     "output_type": "execute_result"
    }
   ],
   "source": [
    "arr = np.array([[1, 3], [2, 6]])\n",
    "np.linalg.matrix_rank(arr)"
   ]
  },
  {
   "cell_type": "code",
   "execution_count": 55,
   "metadata": {},
   "outputs": [
    {
     "data": {
      "text/plain": [
       "0.0"
      ]
     },
     "execution_count": 55,
     "metadata": {},
     "output_type": "execute_result"
    }
   ],
   "source": [
    "A = np.array([[2, -1, -1], \n",
    "              [2, -1, 1], \n",
    "              [4, -2, -3]])\n",
    "\n",
    "b = np.array([1, 0, -1])\n",
    "\n",
    "np.linalg.det(A)"
   ]
  },
  {
   "cell_type": "code",
   "execution_count": 58,
   "metadata": {},
   "outputs": [
    {
     "data": {
      "text/plain": [
       "2"
      ]
     },
     "execution_count": 58,
     "metadata": {},
     "output_type": "execute_result"
    }
   ],
   "source": [
    "np.linalg.matrix_rank(A)"
   ]
  },
  {
   "cell_type": "code",
   "execution_count": null,
   "metadata": {},
   "outputs": [],
   "source": [
    "# calulate the eigen values and vectors\n",
    "A = np.array([[-1, 0], [0, 1]])\n",
    "\n",
    "result = np.linalg.eig(A)\n",
    "print(result)\n",
    "\n",
    "A = np.array([ [4, 9], [7, 6] ])\n",
    "e,v = np.linalg.eig(A)\n",
    "print(v)"
   ]
  },
  {
   "cell_type": "code",
   "execution_count": 39,
   "metadata": {},
   "outputs": [
    {
     "name": "stdout",
     "output_type": "stream",
     "text": [
      "aa jhai\n"
     ]
    }
   ],
   "source": [
    "a = random.sample(['jhai', 'haa'], 1)[0]\n",
    "print('aa', a)"
   ]
  },
  {
   "cell_type": "code",
   "execution_count": 50,
   "metadata": {},
   "outputs": [
    {
     "data": {
      "text/plain": [
       "'filters=%7B%27status%27%3A+%5B%27approved%27%2C+%27pending%27%5D%2C+%27exclude_consecutive%27%3A+%27true%27%2C+%27filterApplied%27%3A+%27true%27%2C+%27appointment_type%27%3A+%27MeetingRequest%27%7D&persist_filters=false&page=1&per_page=20'"
      ]
     },
     "execution_count": 50,
     "metadata": {},
     "output_type": "execute_result"
    }
   ],
   "source": [
    "from urllib.parse import urlencode\n",
    "\n",
    "meeting_params = {\n",
    "    'filters': {'status': ['approved', 'pending'], 'exclude_consecutive': 'true', 'filterApplied': 'true', 'appointment_type': 'MeetingRequest'},\n",
    "    'persist_filters': 'false', \n",
    "    'page': 1,\n",
    "    'per_page': 20\n",
    "}\n",
    "urlencode(meeting_params)"
   ]
  },
  {
   "cell_type": "code",
   "execution_count": 52,
   "metadata": {},
   "outputs": [
    {
     "data": {
      "text/plain": [
       "'{\"some\": \"payload\"}'"
      ]
     },
     "execution_count": 52,
     "metadata": {},
     "output_type": "execute_result"
    }
   ],
   "source": [
    "import json\n",
    "payload = {'some':'payload'}\n",
    "headers = {'content-type': 'application/json'}\n",
    "json.dumps(payload)"
   ]
  }
 ],
 "metadata": {
  "kernelspec": {
   "display_name": "Python 3",
   "language": "python",
   "name": "python3"
  },
  "language_info": {
   "codemirror_mode": {
    "name": "ipython",
    "version": 3
   },
   "file_extension": ".py",
   "mimetype": "text/x-python",
   "name": "python",
   "nbconvert_exporter": "python",
   "pygments_lexer": "ipython3",
   "version": "3.7.1"
  }
 },
 "nbformat": 4,
 "nbformat_minor": 2
}
