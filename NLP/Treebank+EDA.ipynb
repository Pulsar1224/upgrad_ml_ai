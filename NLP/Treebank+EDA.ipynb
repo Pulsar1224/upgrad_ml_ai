{
 "cells": [
  {
   "cell_type": "markdown",
   "metadata": {},
   "source": [
    "## POS Tagging - Lexicon and Rule Based Taggers\n",
    "\n",
    "Let's look at the two most basic tagging techniques - lexicon based (or unigram) and rule-based. \n",
    "\n",
    "In this guided exercise, you will explore the WSJ (wall street journal) POS-tagged corpus that comes with NLTK and build a lexicon and rule-based tagger using this corpus as the tarining data. \n",
    "\n",
    "This exercise is divided into the following sections:\n",
    "1. Reading and understanding the tagged dataset\n",
    "2. Exploratory analysis"
   ]
  },
  {
   "cell_type": "markdown",
   "metadata": {},
   "source": [
    "### 1. Reading and understanding the tagged dataset"
   ]
  },
  {
   "cell_type": "code",
   "execution_count": 137,
   "metadata": {
    "ExecuteTime": {
     "end_time": "2019-09-21T15:36:19.925710Z",
     "start_time": "2019-09-21T15:36:19.913575Z"
    }
   },
   "outputs": [],
   "source": [
    "import matplotlib.pyplot as plt\n",
    "import seaborn as sns"
   ]
  },
  {
   "cell_type": "code",
   "execution_count": 1,
   "metadata": {
    "ExecuteTime": {
     "end_time": "2019-09-19T15:32:06.616009Z",
     "start_time": "2019-09-19T15:31:35.558300Z"
    }
   },
   "outputs": [],
   "source": [
    "# Importing libraries\n",
    "import nltk\n",
    "import numpy as np\n",
    "import pandas as pd\n",
    "import pprint, time\n",
    "import random\n",
    "from sklearn.model_selection import train_test_split\n",
    "from nltk.tokenize import word_tokenize\n",
    "import math"
   ]
  },
  {
   "cell_type": "code",
   "execution_count": 2,
   "metadata": {
    "ExecuteTime": {
     "end_time": "2019-09-19T15:32:06.701458Z",
     "start_time": "2019-09-19T15:32:06.628207Z"
    }
   },
   "outputs": [
    {
     "data": {
      "text/plain": [
       "[[('Pierre', 'NNP'), ('Vinken', 'NNP'), (',', ','), ('61', 'CD'), ('years', 'NNS'), ('old', 'JJ'), (',', ','), ('will', 'MD'), ('join', 'VB'), ('the', 'DT'), ('board', 'NN'), ('as', 'IN'), ('a', 'DT'), ('nonexecutive', 'JJ'), ('director', 'NN'), ('Nov.', 'NNP'), ('29', 'CD'), ('.', '.')], [('Mr.', 'NNP'), ('Vinken', 'NNP'), ('is', 'VBZ'), ('chairman', 'NN'), ('of', 'IN'), ('Elsevier', 'NNP'), ('N.V.', 'NNP'), (',', ','), ('the', 'DT'), ('Dutch', 'NNP'), ('publishing', 'VBG'), ('group', 'NN'), ('.', '.')], ...]"
      ]
     },
     "execution_count": 2,
     "metadata": {},
     "output_type": "execute_result"
    }
   ],
   "source": [
    "nltk.corpus.treebank.tagged_sents()"
   ]
  },
  {
   "cell_type": "code",
   "execution_count": 3,
   "metadata": {
    "ExecuteTime": {
     "end_time": "2019-09-19T15:32:23.653198Z",
     "start_time": "2019-09-19T15:32:19.340008Z"
    }
   },
   "outputs": [],
   "source": [
    "# reading the Treebank tagged sentences\n",
    "wsj = list(nltk.corpus.treebank.tagged_sents())"
   ]
  },
  {
   "cell_type": "code",
   "execution_count": 7,
   "metadata": {
    "ExecuteTime": {
     "end_time": "2019-09-19T15:45:41.199898Z",
     "start_time": "2019-09-19T15:45:41.190546Z"
    },
    "scrolled": false
   },
   "outputs": [
    {
     "data": {
      "text/plain": [
       "[[('Pierre', 'NNP'),\n",
       "  ('Vinken', 'NNP'),\n",
       "  (',', ','),\n",
       "  ('61', 'CD'),\n",
       "  ('years', 'NNS'),\n",
       "  ('old', 'JJ'),\n",
       "  (',', ','),\n",
       "  ('will', 'MD'),\n",
       "  ('join', 'VB'),\n",
       "  ('the', 'DT'),\n",
       "  ('board', 'NN'),\n",
       "  ('as', 'IN'),\n",
       "  ('a', 'DT'),\n",
       "  ('nonexecutive', 'JJ'),\n",
       "  ('director', 'NN'),\n",
       "  ('Nov.', 'NNP'),\n",
       "  ('29', 'CD'),\n",
       "  ('.', '.')],\n",
       " [('Mr.', 'NNP'),\n",
       "  ('Vinken', 'NNP'),\n",
       "  ('is', 'VBZ'),\n",
       "  ('chairman', 'NN'),\n",
       "  ('of', 'IN'),\n",
       "  ('Elsevier', 'NNP'),\n",
       "  ('N.V.', 'NNP'),\n",
       "  (',', ','),\n",
       "  ('the', 'DT'),\n",
       "  ('Dutch', 'NNP'),\n",
       "  ('publishing', 'VBG'),\n",
       "  ('group', 'NN'),\n",
       "  ('.', '.')],\n",
       " [('Rudolph', 'NNP'),\n",
       "  ('Agnew', 'NNP'),\n",
       "  (',', ','),\n",
       "  ('55', 'CD'),\n",
       "  ('years', 'NNS'),\n",
       "  ('old', 'JJ'),\n",
       "  ('and', 'CC'),\n",
       "  ('former', 'JJ'),\n",
       "  ('chairman', 'NN'),\n",
       "  ('of', 'IN'),\n",
       "  ('Consolidated', 'NNP'),\n",
       "  ('Gold', 'NNP'),\n",
       "  ('Fields', 'NNP'),\n",
       "  ('PLC', 'NNP'),\n",
       "  (',', ','),\n",
       "  ('was', 'VBD'),\n",
       "  ('named', 'VBN'),\n",
       "  ('*-1', '-NONE-'),\n",
       "  ('a', 'DT'),\n",
       "  ('nonexecutive', 'JJ'),\n",
       "  ('director', 'NN'),\n",
       "  ('of', 'IN'),\n",
       "  ('this', 'DT'),\n",
       "  ('British', 'JJ'),\n",
       "  ('industrial', 'JJ'),\n",
       "  ('conglomerate', 'NN'),\n",
       "  ('.', '.')]]"
      ]
     },
     "execution_count": 7,
     "metadata": {},
     "output_type": "execute_result"
    }
   ],
   "source": [
    "# samples: Each sentence is a list of (word, pos) tuples\n",
    "wsj[:3]"
   ]
  },
  {
   "cell_type": "markdown",
   "metadata": {},
   "source": [
    "In the list mentioned above, each element of the list is a sentence. Also, note that each sentence ends with a full stop '.' whose POS tag is also a '.'. Thus, the POS tag '.' demarcates the end of a sentence.\n",
    "\n",
    "Also, we do not need the corpus to be segmented into sentences, but can rather use a list of (word, tag) tuples. Let's convert the list into a (word, tag) tuple."
   ]
  },
  {
   "cell_type": "code",
   "execution_count": 5,
   "metadata": {
    "ExecuteTime": {
     "end_time": "2019-09-19T15:36:17.788278Z",
     "start_time": "2019-09-19T15:36:17.776803Z"
    }
   },
   "outputs": [
    {
     "name": "stdout",
     "output_type": "stream",
     "text": [
      "100676\n"
     ]
    },
    {
     "data": {
      "text/plain": [
       "[('Pierre', 'NNP'),\n",
       " ('Vinken', 'NNP'),\n",
       " (',', ','),\n",
       " ('61', 'CD'),\n",
       " ('years', 'NNS'),\n",
       " ('old', 'JJ'),\n",
       " (',', ','),\n",
       " ('will', 'MD'),\n",
       " ('join', 'VB'),\n",
       " ('the', 'DT')]"
      ]
     },
     "execution_count": 5,
     "metadata": {},
     "output_type": "execute_result"
    }
   ],
   "source": [
    "# converting the list of sents to a list of (word, pos tag) tuples\n",
    "tagged_words = [tup for sent in wsj for tup in sent]\n",
    "print(len(tagged_words))\n",
    "tagged_words[:10]"
   ]
  },
  {
   "cell_type": "markdown",
   "metadata": {},
   "source": [
    "We now have a list of about 100676 (word, tag) tuples. Let's now do some exploratory analyses."
   ]
  },
  {
   "cell_type": "markdown",
   "metadata": {},
   "source": [
    "### 2. Exploratory Analysis\n",
    "\n",
    "Let's now conduct some basic exploratory analysis to understand the tagged corpus. To start with, let's ask some simple questions:\n",
    "1. How many unique tags are there in the corpus? \n",
    "2. Which is the most frequent tag in the corpus?\n",
    "3. Which tag is most commonly assigned to the following words:\n",
    "    - \"bank\"\n",
    "    - \"executive\"\n"
   ]
  },
  {
   "cell_type": "code",
   "execution_count": 13,
   "metadata": {
    "ExecuteTime": {
     "end_time": "2019-09-19T16:04:24.820147Z",
     "start_time": "2019-09-19T16:04:24.749243Z"
    }
   },
   "outputs": [
    {
     "data": {
      "text/plain": [
       "12408"
      ]
     },
     "execution_count": 13,
     "metadata": {},
     "output_type": "execute_result"
    }
   ],
   "source": [
    "len(set([word[0] for word in tagged_words]))"
   ]
  },
  {
   "cell_type": "code",
   "execution_count": null,
   "metadata": {},
   "outputs": [],
   "source": [
    "tagged_words"
   ]
  },
  {
   "cell_type": "code",
   "execution_count": 18,
   "metadata": {
    "ExecuteTime": {
     "end_time": "2019-09-19T16:18:22.136740Z",
     "start_time": "2019-09-19T16:18:22.120135Z"
    }
   },
   "outputs": [
    {
     "data": {
      "text/plain": [
       "46"
      ]
     },
     "execution_count": 18,
     "metadata": {},
     "output_type": "execute_result"
    }
   ],
   "source": [
    "# question 1: Find the number of unique POS tags in the corpus\n",
    "# you can use the set() function on the list of tags to get a unique set of tags, \n",
    "# and compute its length\n",
    "unique_set = set([word[1] for word in tagged_words])\n",
    "len(unique_set)"
   ]
  },
  {
   "cell_type": "code",
   "execution_count": 25,
   "metadata": {
    "ExecuteTime": {
     "end_time": "2019-09-19T16:25:14.735088Z",
     "start_time": "2019-09-19T16:25:14.717103Z"
    }
   },
   "outputs": [
    {
     "data": {
      "text/plain": [
       "Counter({'NNP': 9410,\n",
       "         ',': 4886,\n",
       "         'CD': 3546,\n",
       "         'NNS': 6047,\n",
       "         'JJ': 5834,\n",
       "         'MD': 927,\n",
       "         'VB': 2554,\n",
       "         'DT': 8165,\n",
       "         'NN': 13166,\n",
       "         'IN': 9857,\n",
       "         '.': 3874,\n",
       "         'VBZ': 2125,\n",
       "         'VBG': 1460,\n",
       "         'CC': 2265,\n",
       "         'VBD': 3043,\n",
       "         'VBN': 2134,\n",
       "         '-NONE-': 6592,\n",
       "         'RB': 2822,\n",
       "         'TO': 2179,\n",
       "         'PRP': 1716,\n",
       "         'RBR': 136,\n",
       "         'WDT': 445,\n",
       "         'VBP': 1321,\n",
       "         'RP': 216,\n",
       "         'PRP$': 766,\n",
       "         'JJS': 182,\n",
       "         'POS': 824,\n",
       "         '``': 712,\n",
       "         'EX': 88,\n",
       "         \"''\": 694,\n",
       "         'WP': 241,\n",
       "         ':': 563,\n",
       "         'JJR': 381,\n",
       "         'WRB': 178,\n",
       "         '$': 724,\n",
       "         'NNPS': 244,\n",
       "         'WP$': 14,\n",
       "         '-LRB-': 120,\n",
       "         '-RRB-': 126,\n",
       "         'PDT': 27,\n",
       "         'RBS': 35,\n",
       "         'FW': 4,\n",
       "         'UH': 3,\n",
       "         'SYM': 1,\n",
       "         'LS': 13,\n",
       "         '#': 16})"
      ]
     },
     "execution_count": 25,
     "metadata": {},
     "output_type": "execute_result"
    }
   ],
   "source": [
    "Counter([word[1] for word in tagged_words])"
   ]
  },
  {
   "cell_type": "code",
   "execution_count": 26,
   "metadata": {
    "ExecuteTime": {
     "end_time": "2019-09-19T16:25:24.367109Z",
     "start_time": "2019-09-19T16:25:24.342634Z"
    }
   },
   "outputs": [
    {
     "data": {
      "text/plain": [
       "[('NN', 13166)]"
      ]
     },
     "execution_count": 26,
     "metadata": {},
     "output_type": "execute_result"
    }
   ],
   "source": [
    "# question 2: Which is the most frequent tag in the corpus\n",
    "# to count the frequency of elements in a list, the Counter() class from collections\n",
    "# module is very useful, as shown below\n",
    "\n",
    "from collections import Counter\n",
    "tag_counts = Counter([word[1] for word in tagged_words])\n",
    "tag_counts.most_common(1)"
   ]
  },
  {
   "cell_type": "code",
   "execution_count": 27,
   "metadata": {
    "ExecuteTime": {
     "end_time": "2019-09-19T16:25:27.818538Z",
     "start_time": "2019-09-19T16:25:27.809293Z"
    }
   },
   "outputs": [
    {
     "data": {
      "text/plain": [
       "[('NN', 13166), ('IN', 9857), ('NNP', 9410), ('DT', 8165), ('-NONE-', 6592)]"
      ]
     },
     "execution_count": 27,
     "metadata": {},
     "output_type": "execute_result"
    }
   ],
   "source": [
    "# the most common tags can be seen using the most_common() method of Counter\n",
    "tag_counts.most_common(5)"
   ]
  },
  {
   "cell_type": "code",
   "execution_count": 28,
   "metadata": {
    "ExecuteTime": {
     "end_time": "2019-09-19T16:29:02.146544Z",
     "start_time": "2019-09-19T16:29:02.138117Z"
    }
   },
   "outputs": [
    {
     "data": {
      "text/plain": [
       "Counter({'NNP': 9410,\n",
       "         ',': 4886,\n",
       "         'CD': 3546,\n",
       "         'NNS': 6047,\n",
       "         'JJ': 5834,\n",
       "         'MD': 927,\n",
       "         'VB': 2554,\n",
       "         'DT': 8165,\n",
       "         'NN': 13166,\n",
       "         'IN': 9857,\n",
       "         '.': 3874,\n",
       "         'VBZ': 2125,\n",
       "         'VBG': 1460,\n",
       "         'CC': 2265,\n",
       "         'VBD': 3043,\n",
       "         'VBN': 2134,\n",
       "         '-NONE-': 6592,\n",
       "         'RB': 2822,\n",
       "         'TO': 2179,\n",
       "         'PRP': 1716,\n",
       "         'RBR': 136,\n",
       "         'WDT': 445,\n",
       "         'VBP': 1321,\n",
       "         'RP': 216,\n",
       "         'PRP$': 766,\n",
       "         'JJS': 182,\n",
       "         'POS': 824,\n",
       "         '``': 712,\n",
       "         'EX': 88,\n",
       "         \"''\": 694,\n",
       "         'WP': 241,\n",
       "         ':': 563,\n",
       "         'JJR': 381,\n",
       "         'WRB': 178,\n",
       "         '$': 724,\n",
       "         'NNPS': 244,\n",
       "         'WP$': 14,\n",
       "         '-LRB-': 120,\n",
       "         '-RRB-': 126,\n",
       "         'PDT': 27,\n",
       "         'RBS': 35,\n",
       "         'FW': 4,\n",
       "         'UH': 3,\n",
       "         'SYM': 1,\n",
       "         'LS': 13,\n",
       "         '#': 16})"
      ]
     },
     "execution_count": 28,
     "metadata": {},
     "output_type": "execute_result"
    }
   ],
   "source": [
    "tag_counts"
   ]
  },
  {
   "cell_type": "markdown",
   "metadata": {},
   "source": [
    "Thus, NN is the most common tag followed by IN, NNP, DT, -NONE- etc. You can read the exhaustive list of tags using the NLTK documentation as shown below."
   ]
  },
  {
   "cell_type": "code",
   "execution_count": 29,
   "metadata": {
    "ExecuteTime": {
     "end_time": "2019-09-19T16:29:25.863698Z",
     "start_time": "2019-09-19T16:29:25.793605Z"
    },
    "scrolled": false
   },
   "outputs": [
    {
     "name": "stdout",
     "output_type": "stream",
     "text": [
      "$: dollar\n",
      "    $ -$ --$ A$ C$ HK$ M$ NZ$ S$ U.S.$ US$\n",
      "'': closing quotation mark\n",
      "    ' ''\n",
      "(: opening parenthesis\n",
      "    ( [ {\n",
      "): closing parenthesis\n",
      "    ) ] }\n",
      ",: comma\n",
      "    ,\n",
      "--: dash\n",
      "    --\n",
      ".: sentence terminator\n",
      "    . ! ?\n",
      ":: colon or ellipsis\n",
      "    : ; ...\n",
      "CC: conjunction, coordinating\n",
      "    & 'n and both but either et for less minus neither nor or plus so\n",
      "    therefore times v. versus vs. whether yet\n",
      "CD: numeral, cardinal\n",
      "    mid-1890 nine-thirty forty-two one-tenth ten million 0.5 one forty-\n",
      "    seven 1987 twenty '79 zero two 78-degrees eighty-four IX '60s .025\n",
      "    fifteen 271,124 dozen quintillion DM2,000 ...\n",
      "DT: determiner\n",
      "    all an another any both del each either every half la many much nary\n",
      "    neither no some such that the them these this those\n",
      "EX: existential there\n",
      "    there\n",
      "FW: foreign word\n",
      "    gemeinschaft hund ich jeux habeas Haementeria Herr K'ang-si vous\n",
      "    lutihaw alai je jour objets salutaris fille quibusdam pas trop Monte\n",
      "    terram fiche oui corporis ...\n",
      "IN: preposition or conjunction, subordinating\n",
      "    astride among uppon whether out inside pro despite on by throughout\n",
      "    below within for towards near behind atop around if like until below\n",
      "    next into if beside ...\n",
      "JJ: adjective or numeral, ordinal\n",
      "    third ill-mannered pre-war regrettable oiled calamitous first separable\n",
      "    ectoplasmic battery-powered participatory fourth still-to-be-named\n",
      "    multilingual multi-disciplinary ...\n",
      "JJR: adjective, comparative\n",
      "    bleaker braver breezier briefer brighter brisker broader bumper busier\n",
      "    calmer cheaper choosier cleaner clearer closer colder commoner costlier\n",
      "    cozier creamier crunchier cuter ...\n",
      "JJS: adjective, superlative\n",
      "    calmest cheapest choicest classiest cleanest clearest closest commonest\n",
      "    corniest costliest crassest creepiest crudest cutest darkest deadliest\n",
      "    dearest deepest densest dinkiest ...\n",
      "LS: list item marker\n",
      "    A A. B B. C C. D E F First G H I J K One SP-44001 SP-44002 SP-44005\n",
      "    SP-44007 Second Third Three Two * a b c d first five four one six three\n",
      "    two\n",
      "MD: modal auxiliary\n",
      "    can cannot could couldn't dare may might must need ought shall should\n",
      "    shouldn't will would\n",
      "NN: noun, common, singular or mass\n",
      "    common-carrier cabbage knuckle-duster Casino afghan shed thermostat\n",
      "    investment slide humour falloff slick wind hyena override subhumanity\n",
      "    machinist ...\n",
      "NNP: noun, proper, singular\n",
      "    Motown Venneboerger Czestochwa Ranzer Conchita Trumplane Christos\n",
      "    Oceanside Escobar Kreisler Sawyer Cougar Yvette Ervin ODI Darryl CTCA\n",
      "    Shannon A.K.C. Meltex Liverpool ...\n",
      "NNPS: noun, proper, plural\n",
      "    Americans Americas Amharas Amityvilles Amusements Anarcho-Syndicalists\n",
      "    Andalusians Andes Andruses Angels Animals Anthony Antilles Antiques\n",
      "    Apache Apaches Apocrypha ...\n",
      "NNS: noun, common, plural\n",
      "    undergraduates scotches bric-a-brac products bodyguards facets coasts\n",
      "    divestitures storehouses designs clubs fragrances averages\n",
      "    subjectivists apprehensions muses factory-jobs ...\n",
      "PDT: pre-determiner\n",
      "    all both half many quite such sure this\n",
      "POS: genitive marker\n",
      "    ' 's\n",
      "PRP: pronoun, personal\n",
      "    hers herself him himself hisself it itself me myself one oneself ours\n",
      "    ourselves ownself self she thee theirs them themselves they thou thy us\n",
      "PRP$: pronoun, possessive\n",
      "    her his mine my our ours their thy your\n",
      "RB: adverb\n",
      "    occasionally unabatingly maddeningly adventurously professedly\n",
      "    stirringly prominently technologically magisterially predominately\n",
      "    swiftly fiscally pitilessly ...\n",
      "RBR: adverb, comparative\n",
      "    further gloomier grander graver greater grimmer harder harsher\n",
      "    healthier heavier higher however larger later leaner lengthier less-\n",
      "    perfectly lesser lonelier longer louder lower more ...\n",
      "RBS: adverb, superlative\n",
      "    best biggest bluntest earliest farthest first furthest hardest\n",
      "    heartiest highest largest least less most nearest second tightest worst\n",
      "RP: particle\n",
      "    aboard about across along apart around aside at away back before behind\n",
      "    by crop down ever fast for forth from go high i.e. in into just later\n",
      "    low more off on open out over per pie raising start teeth that through\n",
      "    under unto up up-pp upon whole with you\n",
      "SYM: symbol\n",
      "    % & ' '' ''. ) ). * + ,. < = > @ A[fj] U.S U.S.S.R * ** ***\n",
      "TO: \"to\" as preposition or infinitive marker\n",
      "    to\n",
      "UH: interjection\n",
      "    Goodbye Goody Gosh Wow Jeepers Jee-sus Hubba Hey Kee-reist Oops amen\n",
      "    huh howdy uh dammit whammo shucks heck anyways whodunnit honey golly\n",
      "    man baby diddle hush sonuvabitch ...\n",
      "VB: verb, base form\n",
      "    ask assemble assess assign assume atone attention avoid bake balkanize\n",
      "    bank begin behold believe bend benefit bevel beware bless boil bomb\n",
      "    boost brace break bring broil brush build ...\n",
      "VBD: verb, past tense\n",
      "    dipped pleaded swiped regummed soaked tidied convened halted registered\n",
      "    cushioned exacted snubbed strode aimed adopted belied figgered\n",
      "    speculated wore appreciated contemplated ...\n",
      "VBG: verb, present participle or gerund\n",
      "    telegraphing stirring focusing angering judging stalling lactating\n",
      "    hankerin' alleging veering capping approaching traveling besieging\n",
      "    encrypting interrupting erasing wincing ...\n",
      "VBN: verb, past participle\n",
      "    multihulled dilapidated aerosolized chaired languished panelized used\n",
      "    experimented flourished imitated reunifed factored condensed sheared\n",
      "    unsettled primed dubbed desired ...\n",
      "VBP: verb, present tense, not 3rd person singular\n",
      "    predominate wrap resort sue twist spill cure lengthen brush terminate\n",
      "    appear tend stray glisten obtain comprise detest tease attract\n",
      "    emphasize mold postpone sever return wag ...\n",
      "VBZ: verb, present tense, 3rd person singular\n",
      "    bases reconstructs marks mixes displeases seals carps weaves snatches\n",
      "    slumps stretches authorizes smolders pictures emerges stockpiles\n",
      "    seduces fizzes uses bolsters slaps speaks pleads ...\n",
      "WDT: WH-determiner\n",
      "    that what whatever which whichever\n",
      "WP: WH-pronoun\n",
      "    that what whatever whatsoever which who whom whosoever\n",
      "WP$: WH-pronoun, possessive\n",
      "    whose\n",
      "WRB: Wh-adverb\n",
      "    how however whence whenever where whereby whereever wherein whereof why\n",
      "``: opening quotation mark\n",
      "    ` ``\n"
     ]
    }
   ],
   "source": [
    "# list of POS tags in NLTK\n",
    "nltk.help.upenn_tagset()"
   ]
  },
  {
   "cell_type": "code",
   "execution_count": 30,
   "metadata": {
    "ExecuteTime": {
     "end_time": "2019-09-19T16:37:49.906489Z",
     "start_time": "2019-09-19T16:37:49.888647Z"
    }
   },
   "outputs": [
    {
     "data": {
      "text/plain": [
       "Counter({'NN': 38})"
      ]
     },
     "execution_count": 30,
     "metadata": {},
     "output_type": "execute_result"
    }
   ],
   "source": [
    "# question 3: Which tag is most commonly assigned to the word w. Get the tags list that appear for word w and then use the Counter()\n",
    "# Try \n",
    "w ='bank' \n",
    "bank = Counter([word[1] for word in tagged_words if word[0] == w])\n",
    "bank"
   ]
  },
  {
   "cell_type": "code",
   "execution_count": 31,
   "metadata": {
    "ExecuteTime": {
     "end_time": "2019-09-19T16:38:46.309186Z",
     "start_time": "2019-09-19T16:38:46.285000Z"
    }
   },
   "outputs": [
    {
     "data": {
      "text/plain": [
       "Counter({'NN': 40, 'JJ': 28})"
      ]
     },
     "execution_count": 31,
     "metadata": {},
     "output_type": "execute_result"
    }
   ],
   "source": [
    "# question 3: Which tag is most commonly assigned to the word w. Try 'executive' \n",
    "executive = Counter([word[1] for word in tagged_words if word[0] == 'executive'])\n",
    "executive"
   ]
  },
  {
   "cell_type": "markdown",
   "metadata": {},
   "source": [
    "### 2. Exploratory Analysis Contd.\n",
    "\n",
    "Until now, we were looking at the frequency of tags assigned to particular words, which is the basic idea used by lexicon or unigram taggers. Let's now try observing some rules which can potentially be used for POS tagging. \n",
    "\n",
    "To start with, let's see if the following questions reveal something useful:\n",
    "\n",
    "4. What fraction of words with the tag 'VBD' (verb, past tense) end with the letters 'ed'\n",
    "5. What fraction of words with the tag 'VBG' (verb, present participle/gerund) end with the letters 'ing'"
   ]
  },
  {
   "cell_type": "code",
   "execution_count": 33,
   "metadata": {
    "ExecuteTime": {
     "end_time": "2019-09-19T16:45:46.430791Z",
     "start_time": "2019-09-19T16:45:46.412222Z"
    }
   },
   "outputs": [
    {
     "name": "stdout",
     "output_type": "stream",
     "text": [
      "0.3881038448899113\n"
     ]
    },
    {
     "data": {
      "text/plain": [
       "[('reported', 'VBD'),\n",
       " ('stopped', 'VBD'),\n",
       " ('studied', 'VBD'),\n",
       " ('led', 'VBD'),\n",
       " ('worked', 'VBD'),\n",
       " ('explained', 'VBD'),\n",
       " ('imposed', 'VBD'),\n",
       " ('dumped', 'VBD'),\n",
       " ('poured', 'VBD'),\n",
       " ('mixed', 'VBD'),\n",
       " ('described', 'VBD'),\n",
       " ('ventilated', 'VBD'),\n",
       " ('contracted', 'VBD'),\n",
       " ('continued', 'VBD'),\n",
       " ('eased', 'VBD'),\n",
       " ('ended', 'VBD'),\n",
       " ('lengthened', 'VBD'),\n",
       " ('reached', 'VBD'),\n",
       " ('resigned', 'VBD'),\n",
       " ('approved', 'VBD')]"
      ]
     },
     "execution_count": 33,
     "metadata": {},
     "output_type": "execute_result"
    }
   ],
   "source": [
    "# 4. how many words with the tag 'VBD' (verb, past tense) end with 'ed'\n",
    "# first get the all the words tagged as VBD\n",
    "past_tense_verbs = [word for word in tagged_words if word[1] =='VBD']\n",
    "\n",
    "# subset the past tense verbs with words ending with 'ed'. (Try w.endswith('ed'))\n",
    "ed_verbs = [word for word in past_tense_verbs if word[0].endswith('ed') ]\n",
    "print(len(ed_verbs) / len(past_tense_verbs))\n",
    "ed_verbs[:20]"
   ]
  },
  {
   "cell_type": "code",
   "execution_count": 34,
   "metadata": {
    "ExecuteTime": {
     "end_time": "2019-09-19T16:47:05.879444Z",
     "start_time": "2019-09-19T16:47:05.864796Z"
    }
   },
   "outputs": [
    {
     "name": "stdout",
     "output_type": "stream",
     "text": [
      "0.9972602739726028\n"
     ]
    },
    {
     "data": {
      "text/plain": [
       "[('publishing', 'VBG'),\n",
       " ('causing', 'VBG'),\n",
       " ('using', 'VBG'),\n",
       " ('talking', 'VBG'),\n",
       " ('having', 'VBG'),\n",
       " ('making', 'VBG'),\n",
       " ('surviving', 'VBG'),\n",
       " ('including', 'VBG'),\n",
       " ('including', 'VBG'),\n",
       " ('according', 'VBG'),\n",
       " ('remaining', 'VBG'),\n",
       " ('according', 'VBG'),\n",
       " ('declining', 'VBG'),\n",
       " ('rising', 'VBG'),\n",
       " ('yielding', 'VBG'),\n",
       " ('waiving', 'VBG'),\n",
       " ('holding', 'VBG'),\n",
       " ('holding', 'VBG'),\n",
       " ('cutting', 'VBG'),\n",
       " ('manufacturing', 'VBG')]"
      ]
     },
     "execution_count": 34,
     "metadata": {},
     "output_type": "execute_result"
    }
   ],
   "source": [
    "# 5. how many words with the tag 'VBG' end with 'ing'\n",
    "participle_verbs = [ word for word in tagged_words if word[1] =='VBG']\n",
    "ing_verbs = [w for w in participle_verbs if w[0].endswith('ing')]\n",
    "print(len(ing_verbs) / len(participle_verbs))\n",
    "ing_verbs[:20]"
   ]
  },
  {
   "cell_type": "markdown",
   "metadata": {},
   "source": [
    "## 2. Exploratory Analysis Continued\n",
    "\n",
    "Let's now try observing some tag patterns using the fact the some tags are more likely to apper after certain other tags. For e.g. most nouns NN are usually followed by determiners DT (\"The/DT constitution/NN\"), adjectives JJ usually precede a noun NN (\" A large/JJ building/NN\"), etc. \n",
    "\n",
    "Try answering the following questions:\n",
    "1. What fraction of adjectives JJ are followed by a noun NN? \n",
    "2. What fraction of determiners DT are followed by a noun NN?\n",
    "3. What fraction of modals MD are followed by a verb VB?"
   ]
  },
  {
   "cell_type": "code",
   "execution_count": 36,
   "metadata": {
    "ExecuteTime": {
     "end_time": "2019-09-19T16:53:16.861388Z",
     "start_time": "2019-09-19T16:53:16.817023Z"
    }
   },
   "outputs": [
    {
     "name": "stdout",
     "output_type": "stream",
     "text": [
      "5834\n",
      "2611\n",
      "0.4475488515598217\n"
     ]
    }
   ],
   "source": [
    "# question: what fraction of adjectives JJ are followed by a noun NN\n",
    "\n",
    "# create a list of all tags (without the words)\n",
    "tags = [ word[1] for word in tagged_words]\n",
    "\n",
    "# create a list of JJ tags\n",
    "jj_tags = [ word[1] for word in tagged_words if word[1] == 'JJ']\n",
    "\n",
    "# create a list of (JJ, NN) tags\n",
    "jj_nn_tags = [(tags[index], tags[index+1]) for index, t in enumerate(tags) \n",
    "              if tags[index] == 'JJ' and tags[index+1] == 'NN']\n",
    "\n",
    "print(len(jj_tags))\n",
    "print(len(jj_nn_tags))\n",
    "print(len(jj_nn_tags) / len(jj_tags))"
   ]
  },
  {
   "cell_type": "code",
   "execution_count": 39,
   "metadata": {
    "ExecuteTime": {
     "end_time": "2019-09-19T16:57:04.530419Z",
     "start_time": "2019-09-19T16:57:04.505618Z"
    }
   },
   "outputs": [
    {
     "name": "stdout",
     "output_type": "stream",
     "text": [
      "8165\n",
      "3844\n",
      "0.470789957134109\n"
     ]
    }
   ],
   "source": [
    "# question: what fraction of determiners DT are followed by a noun NN\n",
    "dt_tags = [word[1] for word in tagged_words if word[1] == 'DT']\n",
    "dt_nn_tags = [(tags[index], tags[index+1]) for index, t in enumerate(tags) \n",
    "              if tags[index] == 'DT' and tags[index+1] == 'NN']\n",
    "\n",
    "print(len(dt_tags))\n",
    "print(len(dt_nn_tags))\n",
    "print(len(dt_nn_tags) / len(dt_tags))"
   ]
  },
  {
   "cell_type": "code",
   "execution_count": 42,
   "metadata": {
    "ExecuteTime": {
     "end_time": "2019-09-19T16:58:35.354695Z",
     "start_time": "2019-09-19T16:58:35.320869Z"
    }
   },
   "outputs": [
    {
     "name": "stdout",
     "output_type": "stream",
     "text": [
      "927\n",
      "756\n",
      "0.8155339805825242\n"
     ]
    }
   ],
   "source": [
    "# question: what fraction of modals MD are followed by a verb VB?\n",
    "md_tags = [word[1] for word in tagged_words if word[1] == 'MD']\n",
    "md_vb_tags = [(tags[index], tags[index+1]) for index, t in enumerate(tags) \n",
    "              if tags[index] == 'MD' and tags[index+1] == 'VB']\n",
    "\n",
    "print(len(md_tags))\n",
    "print(len(md_vb_tags))\n",
    "print(len(md_vb_tags) / len(md_tags))"
   ]
  },
  {
   "cell_type": "markdown",
   "metadata": {},
   "source": [
    "## Lexican and Ruley based models for POS tagging:"
   ]
  },
  {
   "cell_type": "markdown",
   "metadata": {},
   "source": [
    "#### training and test set:"
   ]
  },
  {
   "cell_type": "code",
   "execution_count": 43,
   "metadata": {
    "ExecuteTime": {
     "end_time": "2019-09-21T06:19:56.802638Z",
     "start_time": "2019-09-21T06:19:56.721871Z"
    }
   },
   "outputs": [],
   "source": [
    "random.seed(1234)\n",
    "train_set, test_set = train_test_split(wsj, test_size=0.3)"
   ]
  },
  {
   "cell_type": "code",
   "execution_count": 47,
   "metadata": {
    "ExecuteTime": {
     "end_time": "2019-09-21T06:29:01.564553Z",
     "start_time": "2019-09-21T06:29:01.259558Z"
    }
   },
   "outputs": [
    {
     "data": {
      "text/plain": [
       "0.871578876146013"
      ]
     },
     "execution_count": 47,
     "metadata": {},
     "output_type": "execute_result"
    }
   ],
   "source": [
    "unigram_tagger = nltk.UnigramTagger(train_set)\n",
    "unigram_tagger.evaluate(test_set)"
   ]
  },
  {
   "cell_type": "code",
   "execution_count": 48,
   "metadata": {
    "ExecuteTime": {
     "end_time": "2019-09-21T06:29:59.044550Z",
     "start_time": "2019-09-21T06:29:58.364713Z"
    }
   },
   "outputs": [
    {
     "data": {
      "text/plain": [
       "0.9128184309347407"
      ]
     },
     "execution_count": 48,
     "metadata": {},
     "output_type": "execute_result"
    }
   ],
   "source": [
    "bigram_tagger = nltk.BigramTagger(wsj)\n",
    "bigram_tagger.evaluate(test_set)"
   ]
  },
  {
   "cell_type": "markdown",
   "metadata": {},
   "source": [
    "#### Rule based tagging: "
   ]
  },
  {
   "cell_type": "code",
   "execution_count": 49,
   "metadata": {
    "ExecuteTime": {
     "end_time": "2019-09-21T06:46:52.582633Z",
     "start_time": "2019-09-21T06:46:52.145486Z"
    }
   },
   "outputs": [
    {
     "data": {
      "text/plain": [
       "0.21864745086098988"
      ]
     },
     "execution_count": 49,
     "metadata": {},
     "output_type": "execute_result"
    }
   ],
   "source": [
    "pattern = [\n",
    "    (r'.*ing$', 'VBG'),\n",
    "    (r'.*ed$', 'VBD'),\n",
    "    (r'.*es$', 'VBZ'),\n",
    "    (r'.*ould$', 'MD'),\n",
    "    (r'.*\\'s$', 'NN$'),\n",
    "    (r'.*s$', 'NNS'),\n",
    "    (r'^-?[0-9]+(.[0-9]+)?$', 'CD'),\n",
    "    (r'.*', 'NN')\n",
    "]\n",
    "regexp_tagger = nltk.RegexpTagger(pattern)\n",
    "regexp_tagger.evaluate(test_set)"
   ]
  },
  {
   "cell_type": "markdown",
   "metadata": {},
   "source": [
    "#### Combine lexical and rule based models:"
   ]
  },
  {
   "cell_type": "code",
   "execution_count": 50,
   "metadata": {
    "ExecuteTime": {
     "end_time": "2019-09-21T06:48:46.599993Z",
     "start_time": "2019-09-21T06:48:45.297805Z"
    }
   },
   "outputs": [
    {
     "data": {
      "text/plain": [
       "0.904834398998613"
      ]
     },
     "execution_count": 50,
     "metadata": {},
     "output_type": "execute_result"
    }
   ],
   "source": [
    "# ====> Combine regexp tagger and unigram tagger\n",
    "rule_based_taggers = nltk.RegexpTagger(pattern)\n",
    "lexicon_tagger = nltk.UnigramTagger(train_set, backoff=rule_based_taggers)\n",
    "lexicon_tagger.evaluate(test_set)"
   ]
  },
  {
   "cell_type": "markdown",
   "metadata": {},
   "source": [
    "#### regexep, unigram and bigram taggers:"
   ]
  },
  {
   "cell_type": "code",
   "execution_count": 51,
   "metadata": {
    "ExecuteTime": {
     "end_time": "2019-09-21T06:53:32.845233Z",
     "start_time": "2019-09-21T06:53:30.686387Z"
    }
   },
   "outputs": [
    {
     "data": {
      "text/plain": [
       "0.913122906728915"
      ]
     },
     "execution_count": 51,
     "metadata": {},
     "output_type": "execute_result"
    }
   ],
   "source": [
    "rule_based_taggers = nltk.RegexpTagger(pattern)\n",
    "\n",
    "unigram_tagger = nltk.UnigramTagger(train_set, backoff=rule_based_taggers)\n",
    "bigram_tagger = nltk.BigramTagger(train_set, backoff=unigram_tagger)\n",
    "bigram_tagger.evaluate(test_set)"
   ]
  },
  {
   "cell_type": "markdown",
   "metadata": {},
   "source": [
    "#### regexp, unigram, bigram and trigram"
   ]
  },
  {
   "cell_type": "code",
   "execution_count": 60,
   "metadata": {
    "ExecuteTime": {
     "end_time": "2019-09-21T07:11:45.375739Z",
     "start_time": "2019-09-21T07:11:45.357715Z"
    }
   },
   "outputs": [],
   "source": [
    "class PosTagger:\n",
    "    \n",
    "    def __init__(self, train_set, test_set, pattern):\n",
    "        self.train_set = train_set\n",
    "        self.test_set = test_set\n",
    "        self.pattern = pattern\n",
    "    \n",
    "    def get_pos_tagger(self):\n",
    "        rule_based_tagger = nltk.RegexpTagger(pattern)\n",
    "        unigram_tagger = nltk.UnigramTagger(train_set, backoff=rule_based_tagger)\n",
    "        bigram_tagger = nltk.BigramTagger(train_set, backoff=unigram_tagger)\n",
    "        trigram_tagger = nltk.TrigramTagger(train_set, backoff=bigram_tagger)\n",
    "        self.main_tagger = trigram_tagger\n",
    "        return unigram_tagger\n",
    "    \n",
    "    def evaluate(self):\n",
    "        return self.main_tagger.evaluate(test_set)"
   ]
  },
  {
   "cell_type": "code",
   "execution_count": 61,
   "metadata": {
    "ExecuteTime": {
     "end_time": "2019-09-21T07:11:48.315087Z",
     "start_time": "2019-09-21T07:11:45.661410Z"
    }
   },
   "outputs": [
    {
     "data": {
      "text/plain": [
       "0.9130214147975236"
      ]
     },
     "execution_count": 61,
     "metadata": {},
     "output_type": "execute_result"
    }
   ],
   "source": [
    "pos_tagger = PosTagger(train_set, test_set, pattern)\n",
    "pos_tagger.get_pos_tagger()\n",
    "pos_tagger.evaluate()"
   ]
  },
  {
   "cell_type": "code",
   "execution_count": 66,
   "metadata": {
    "ExecuteTime": {
     "end_time": "2019-09-21T07:18:09.674519Z",
     "start_time": "2019-09-21T07:18:08.462274Z"
    }
   },
   "outputs": [
    {
     "data": {
      "text/plain": [
       "0.904834398998613"
      ]
     },
     "execution_count": 66,
     "metadata": {},
     "output_type": "execute_result"
    }
   ],
   "source": [
    "# ====> Unigram tagger default variation\n",
    "tagger = nltk.NgramTagger(1, train_set, backoff=regexp_tagger)\n",
    "tagger.evaluate(test_set)"
   ]
  },
  {
   "cell_type": "code",
   "execution_count": 67,
   "metadata": {
    "ExecuteTime": {
     "end_time": "2019-09-21T13:26:45.723522Z",
     "start_time": "2019-09-21T13:26:40.215342Z"
    }
   },
   "outputs": [],
   "source": [
    "wsj = list(nltk.corpus.treebank.tagged_sents())"
   ]
  },
  {
   "cell_type": "code",
   "execution_count": 71,
   "metadata": {
    "ExecuteTime": {
     "end_time": "2019-09-21T13:27:03.570120Z",
     "start_time": "2019-09-21T13:27:03.564047Z"
    }
   },
   "outputs": [
    {
     "data": {
      "text/plain": [
       "[[('Pierre', 'NNP'),\n",
       "  ('Vinken', 'NNP'),\n",
       "  (',', ','),\n",
       "  ('61', 'CD'),\n",
       "  ('years', 'NNS'),\n",
       "  ('old', 'JJ'),\n",
       "  (',', ','),\n",
       "  ('will', 'MD'),\n",
       "  ('join', 'VB'),\n",
       "  ('the', 'DT'),\n",
       "  ('board', 'NN'),\n",
       "  ('as', 'IN'),\n",
       "  ('a', 'DT'),\n",
       "  ('nonexecutive', 'JJ'),\n",
       "  ('director', 'NN'),\n",
       "  ('Nov.', 'NNP'),\n",
       "  ('29', 'CD'),\n",
       "  ('.', '.')],\n",
       " [('Mr.', 'NNP'),\n",
       "  ('Vinken', 'NNP'),\n",
       "  ('is', 'VBZ'),\n",
       "  ('chairman', 'NN'),\n",
       "  ('of', 'IN'),\n",
       "  ('Elsevier', 'NNP'),\n",
       "  ('N.V.', 'NNP'),\n",
       "  (',', ','),\n",
       "  ('the', 'DT'),\n",
       "  ('Dutch', 'NNP'),\n",
       "  ('publishing', 'VBG'),\n",
       "  ('group', 'NN'),\n",
       "  ('.', '.')]]"
      ]
     },
     "execution_count": 71,
     "metadata": {},
     "output_type": "execute_result"
    }
   ],
   "source": [
    "wsj[:2]"
   ]
  },
  {
   "cell_type": "markdown",
   "metadata": {},
   "source": [
    "### POS tagging algorithm - HIDDEN MARKOV MODEL "
   ]
  },
  {
   "cell_type": "code",
   "execution_count": 74,
   "metadata": {
    "ExecuteTime": {
     "end_time": "2019-09-21T14:39:17.994105Z",
     "start_time": "2019-09-21T14:39:17.975422Z"
    }
   },
   "outputs": [
    {
     "data": {
      "text/plain": [
       "{'#',\n",
       " '$',\n",
       " \"''\",\n",
       " ',',\n",
       " '-LRB-',\n",
       " '-NONE-',\n",
       " '-RRB-',\n",
       " '.',\n",
       " ':',\n",
       " 'CC',\n",
       " 'CD',\n",
       " 'DT',\n",
       " 'EX',\n",
       " 'FW',\n",
       " 'IN',\n",
       " 'JJ',\n",
       " 'JJR',\n",
       " 'JJS',\n",
       " 'LS',\n",
       " 'MD',\n",
       " 'NN',\n",
       " 'NNP',\n",
       " 'NNPS',\n",
       " 'NNS',\n",
       " 'PDT',\n",
       " 'POS',\n",
       " 'PRP',\n",
       " 'PRP$',\n",
       " 'RB',\n",
       " 'RBR',\n",
       " 'RBS',\n",
       " 'RP',\n",
       " 'SYM',\n",
       " 'TO',\n",
       " 'UH',\n",
       " 'VB',\n",
       " 'VBD',\n",
       " 'VBG',\n",
       " 'VBN',\n",
       " 'VBP',\n",
       " 'VBZ',\n",
       " 'WDT',\n",
       " 'WP',\n",
       " 'WP$',\n",
       " 'WRB',\n",
       " '``'}"
      ]
     },
     "execution_count": 74,
     "metadata": {},
     "output_type": "execute_result"
    }
   ],
   "source": [
    "unique_set # ===> tag set"
   ]
  },
  {
   "cell_type": "code",
   "execution_count": 78,
   "metadata": {
    "ExecuteTime": {
     "end_time": "2019-09-21T14:41:02.194735Z",
     "start_time": "2019-09-21T14:41:02.179783Z"
    }
   },
   "outputs": [
    {
     "data": {
      "text/plain": [
       "71117"
      ]
     },
     "execution_count": 78,
     "metadata": {},
     "output_type": "execute_result"
    }
   ],
   "source": [
    "train_tagged_words = [tu for sentence in train_set for tu in sentence]\n",
    "len(train_tagged_words)"
   ]
  },
  {
   "cell_type": "code",
   "execution_count": 85,
   "metadata": {
    "ExecuteTime": {
     "end_time": "2019-09-21T14:44:41.181518Z",
     "start_time": "2019-09-21T14:44:41.153627Z"
    }
   },
   "outputs": [
    {
     "data": {
      "text/plain": [
       "10266"
      ]
     },
     "execution_count": 85,
     "metadata": {},
     "output_type": "execute_result"
    }
   ],
   "source": [
    "tokens = [pair[0] for pair in train_tagged_words]\n",
    "vocabulary = set(tokens)\n",
    "len(vocabulary)"
   ]
  },
  {
   "cell_type": "markdown",
   "metadata": {},
   "source": [
    "### Model"
   ]
  },
  {
   "cell_type": "code",
   "execution_count": 157,
   "metadata": {
    "ExecuteTime": {
     "end_time": "2019-09-21T16:34:08.234161Z",
     "start_time": "2019-09-21T16:34:08.200261Z"
    }
   },
   "outputs": [],
   "source": [
    "class HiddenMarkovModel():\n",
    "    def __init__(self, train_tagged_words, tags):\n",
    "        self.train_tagged_words = train_tagged_words\n",
    "        self.tags = tags\n",
    "    \n",
    "    def word_given_tag(self, word, tag):\n",
    "        tags_list = [pair for pair in self.train_tagged_words if pair[1] == tag]\n",
    "        matching_words = [pair for pair in tags_list if pair[0] == word]\n",
    "        return (len(matching_words), len(tags_list))\n",
    "\n",
    "    def transition(self, t2, t1):\n",
    "        t2_followed_by_t1_count, t1_count = 0, 0\n",
    "        tags = [word[1] for word in self.train_tagged_words]\n",
    "        for _idx in range(len(tags) - 1):\n",
    "            if (tags[_idx] == t1 and tags[_idx+1]  == t2):\n",
    "                t2_followed_by_t1_count += 1\n",
    "                t1_count += 1\n",
    "            elif (tags[_idx] == t1):\n",
    "                t1_count += 1\n",
    "        return (t2_followed_by_t1_count, t1_count)\n",
    "\n",
    "    def construct_transition_matrix(self):\n",
    "        no_of_tags = len(self.tags)\n",
    "        tags_matrix = np.zeros((no_of_tags, no_of_tags), dtype='float32')\n",
    "        for i, t1 in enumerate(list(self.tags)):\n",
    "            for j, t2 in enumerate(list(self.tags)):\n",
    "                result = self.transition(t2, t1)\n",
    "                tags_matrix[i][j] = (result[0]/result[1])\n",
    "        \n",
    "        return tags_matrix\n",
    "    \n",
    "    def vetarbi(self, words, tags_transistion_matrix):\n",
    "        result = []\n",
    "        tokens = list(set([word[1] for word in self.train_tagged_words]))\n",
    "        \n",
    "        for i, word in enumerate(words):\n",
    "            probabilities = []\n",
    "            for tag in tokens:\n",
    "                if i == 0:\n",
    "                    transition_p = tags_transistion.loc['.', tag]\n",
    "                else:\n",
    "                    transition_p = tags_transistion.loc[result[-1], tag]\n",
    "\n",
    "                words_count = self.word_given_tag(word, tag)\n",
    "                emission_probability = words_count[0] / words_count[1]\n",
    "                probabilities.append( emission_probability *  transition_p)\n",
    "            pmax = max(probabilities)\n",
    "            state_max = tokens[probabilities.index(pmax)]\n",
    "            result.append(state_max)\n",
    "        return list(zip(words, result))"
   ]
  },
  {
   "cell_type": "code",
   "execution_count": 149,
   "metadata": {
    "ExecuteTime": {
     "end_time": "2019-09-21T16:30:00.907385Z",
     "start_time": "2019-09-21T16:30:00.845320Z"
    }
   },
   "outputs": [
    {
     "name": "stdout",
     "output_type": "stream",
     "text": [
      "\n",
      " large\n",
      "(18, 4126)\n",
      "(0, 1790)\n",
      "(0, 9290)\n",
      "\n",
      " book\n",
      "(5, 9290)\n",
      "(0, 4126)\n",
      "(1, 1790)\n"
     ]
    }
   ],
   "source": [
    "obj = HiddenMarkovModel(train_tagged_words, unique_set)\n",
    "\n",
    "print(\"\\n large\")\n",
    "print(obj.word_given_tag(\"large\", \"JJ\"))\n",
    "print(obj.word_given_tag(\"large\", \"VB\"))\n",
    "print(obj.word_given_tag(\"large\", \"NN\"))\n",
    "\n",
    "print(\"\\n book\")\n",
    "print(obj.word_given_tag('book', 'NN'))\n",
    "print(obj.word_given_tag('book', 'JJ'))\n",
    "print(obj.word_given_tag('book', 'VB'))"
   ]
  },
  {
   "cell_type": "code",
   "execution_count": 119,
   "metadata": {
    "ExecuteTime": {
     "end_time": "2019-09-21T15:20:57.885428Z",
     "start_time": "2019-09-21T15:20:57.822747Z"
    }
   },
   "outputs": [
    {
     "name": "stdout",
     "output_type": "stream",
     "text": [
      "(137, 4126)\n",
      "(1851, 4126)\n",
      "(6, 6701)\n"
     ]
    }
   ],
   "source": [
    "print(obj.transition('NNP', 'JJ'))\n",
    "print(obj.transition('NN', 'JJ'))\n",
    "print(obj.transition('VBG', 'NNP'))"
   ]
  },
  {
   "cell_type": "code",
   "execution_count": 120,
   "metadata": {
    "ExecuteTime": {
     "end_time": "2019-09-21T15:21:25.675975Z",
     "start_time": "2019-09-21T15:20:59.061454Z"
    }
   },
   "outputs": [
    {
     "data": {
      "text/plain": [
       "array([[1.1173184e-03, 5.5865920e-04, 2.2346368e-03, ..., 2.1787709e-02,\n",
       "        0.0000000e+00, 1.6759777e-02],\n",
       "       [1.1286682e-03, 0.0000000e+00, 1.1286682e-03, ..., 7.9006776e-03,\n",
       "        0.0000000e+00, 5.6433408e-03],\n",
       "       [4.1322312e-03, 6.1983471e-03, 6.1983471e-03, ..., 2.0661156e-03,\n",
       "        0.0000000e+00, 2.0661156e-03],\n",
       "       ...,\n",
       "       [0.0000000e+00, 3.1583102e-03, 7.8957755e-04, ..., 1.8041848e-01,\n",
       "        0.0000000e+00, 4.9348600e-02],\n",
       "       [0.0000000e+00, 0.0000000e+00, 0.0000000e+00, ..., 1.0000000e+00,\n",
       "        0.0000000e+00, 0.0000000e+00],\n",
       "       [7.3773513e-04, 0.0000000e+00, 5.7912208e-02, ..., 8.1150867e-03,\n",
       "        0.0000000e+00, 0.0000000e+00]], dtype=float32)"
      ]
     },
     "execution_count": 120,
     "metadata": {},
     "output_type": "execute_result"
    }
   ],
   "source": [
    "obj.construct_transition_matrix()"
   ]
  },
  {
   "cell_type": "code",
   "execution_count": 121,
   "metadata": {
    "ExecuteTime": {
     "end_time": "2019-09-21T15:24:10.400417Z",
     "start_time": "2019-09-21T15:24:10.382026Z"
    }
   },
   "outputs": [
    {
     "data": {
      "text/plain": [
       "(0, 9290)"
      ]
     },
     "execution_count": 121,
     "metadata": {},
     "output_type": "execute_result"
    }
   ],
   "source": [
    "obj.word_given_tag('Android', 'NN')"
   ]
  },
  {
   "cell_type": "code",
   "execution_count": 124,
   "metadata": {
    "ExecuteTime": {
     "end_time": "2019-09-21T15:25:05.184431Z",
     "start_time": "2019-09-21T15:25:05.148533Z"
    }
   },
   "outputs": [
    {
     "data": {
      "text/plain": [
       "0.823076923076923"
      ]
     },
     "execution_count": 124,
     "metadata": {},
     "output_type": "execute_result"
    }
   ],
   "source": [
    "result = obj.transition('VB', 'MD')\n",
    "result[0] /result[1]"
   ]
  },
  {
   "cell_type": "code",
   "execution_count": 125,
   "metadata": {
    "ExecuteTime": {
     "end_time": "2019-09-21T15:31:00.110881Z",
     "start_time": "2019-09-21T15:30:29.253919Z"
    }
   },
   "outputs": [
    {
     "data": {
      "text/html": [
       "<div>\n",
       "<style scoped>\n",
       "    .dataframe tbody tr th:only-of-type {\n",
       "        vertical-align: middle;\n",
       "    }\n",
       "\n",
       "    .dataframe tbody tr th {\n",
       "        vertical-align: top;\n",
       "    }\n",
       "\n",
       "    .dataframe thead th {\n",
       "        text-align: right;\n",
       "    }\n",
       "</style>\n",
       "<table border=\"1\" class=\"dataframe\">\n",
       "  <thead>\n",
       "    <tr style=\"text-align: right;\">\n",
       "      <th></th>\n",
       "      <th>VB</th>\n",
       "      <th>VBP</th>\n",
       "      <th>''</th>\n",
       "      <th>JJ</th>\n",
       "      <th>RB</th>\n",
       "      <th>WRB</th>\n",
       "      <th>UH</th>\n",
       "      <th>NNP</th>\n",
       "      <th>TO</th>\n",
       "      <th>FW</th>\n",
       "      <th>...</th>\n",
       "      <th>-NONE-</th>\n",
       "      <th>NN</th>\n",
       "      <th>JJS</th>\n",
       "      <th>PDT</th>\n",
       "      <th>LS</th>\n",
       "      <th>PRP$</th>\n",
       "      <th>CC</th>\n",
       "      <th>CD</th>\n",
       "      <th>#</th>\n",
       "      <th>.</th>\n",
       "    </tr>\n",
       "  </thead>\n",
       "  <tbody>\n",
       "    <tr>\n",
       "      <th>VB</th>\n",
       "      <td>0.001117</td>\n",
       "      <td>0.000559</td>\n",
       "      <td>0.002235</td>\n",
       "      <td>0.084916</td>\n",
       "      <td>0.032961</td>\n",
       "      <td>0.001676</td>\n",
       "      <td>0.000000</td>\n",
       "      <td>0.035754</td>\n",
       "      <td>0.013408</td>\n",
       "      <td>0.000000</td>\n",
       "      <td>...</td>\n",
       "      <td>0.078771</td>\n",
       "      <td>0.070391</td>\n",
       "      <td>0.001676</td>\n",
       "      <td>0.002235</td>\n",
       "      <td>0.000000</td>\n",
       "      <td>0.037989</td>\n",
       "      <td>0.007821</td>\n",
       "      <td>0.021788</td>\n",
       "      <td>0.000000</td>\n",
       "      <td>0.016760</td>\n",
       "    </tr>\n",
       "    <tr>\n",
       "      <th>VBP</th>\n",
       "      <td>0.001129</td>\n",
       "      <td>0.000000</td>\n",
       "      <td>0.001129</td>\n",
       "      <td>0.076749</td>\n",
       "      <td>0.129797</td>\n",
       "      <td>0.002257</td>\n",
       "      <td>0.000000</td>\n",
       "      <td>0.015801</td>\n",
       "      <td>0.012415</td>\n",
       "      <td>0.000000</td>\n",
       "      <td>...</td>\n",
       "      <td>0.162528</td>\n",
       "      <td>0.023702</td>\n",
       "      <td>0.000000</td>\n",
       "      <td>0.000000</td>\n",
       "      <td>0.000000</td>\n",
       "      <td>0.009029</td>\n",
       "      <td>0.002257</td>\n",
       "      <td>0.007901</td>\n",
       "      <td>0.000000</td>\n",
       "      <td>0.005643</td>\n",
       "    </tr>\n",
       "    <tr>\n",
       "      <th>''</th>\n",
       "      <td>0.004132</td>\n",
       "      <td>0.006198</td>\n",
       "      <td>0.006198</td>\n",
       "      <td>0.016529</td>\n",
       "      <td>0.028926</td>\n",
       "      <td>0.002066</td>\n",
       "      <td>0.000000</td>\n",
       "      <td>0.128099</td>\n",
       "      <td>0.004132</td>\n",
       "      <td>0.000000</td>\n",
       "      <td>...</td>\n",
       "      <td>0.016529</td>\n",
       "      <td>0.051653</td>\n",
       "      <td>0.002066</td>\n",
       "      <td>0.000000</td>\n",
       "      <td>0.000000</td>\n",
       "      <td>0.004132</td>\n",
       "      <td>0.051653</td>\n",
       "      <td>0.002066</td>\n",
       "      <td>0.000000</td>\n",
       "      <td>0.002066</td>\n",
       "    </tr>\n",
       "    <tr>\n",
       "      <th>JJ</th>\n",
       "      <td>0.000000</td>\n",
       "      <td>0.000727</td>\n",
       "      <td>0.004120</td>\n",
       "      <td>0.065439</td>\n",
       "      <td>0.002666</td>\n",
       "      <td>0.000969</td>\n",
       "      <td>0.000000</td>\n",
       "      <td>0.033204</td>\n",
       "      <td>0.012603</td>\n",
       "      <td>0.000000</td>\n",
       "      <td>...</td>\n",
       "      <td>0.020601</td>\n",
       "      <td>0.448619</td>\n",
       "      <td>0.000242</td>\n",
       "      <td>0.000000</td>\n",
       "      <td>0.000000</td>\n",
       "      <td>0.000000</td>\n",
       "      <td>0.014784</td>\n",
       "      <td>0.020843</td>\n",
       "      <td>0.000000</td>\n",
       "      <td>0.019874</td>\n",
       "    </tr>\n",
       "    <tr>\n",
       "      <th>RB</th>\n",
       "      <td>0.096423</td>\n",
       "      <td>0.029031</td>\n",
       "      <td>0.001037</td>\n",
       "      <td>0.102125</td>\n",
       "      <td>0.068948</td>\n",
       "      <td>0.002074</td>\n",
       "      <td>0.000000</td>\n",
       "      <td>0.003629</td>\n",
       "      <td>0.015552</td>\n",
       "      <td>0.000000</td>\n",
       "      <td>...</td>\n",
       "      <td>0.021773</td>\n",
       "      <td>0.013997</td>\n",
       "      <td>0.000000</td>\n",
       "      <td>0.000518</td>\n",
       "      <td>0.000000</td>\n",
       "      <td>0.000518</td>\n",
       "      <td>0.008294</td>\n",
       "      <td>0.033696</td>\n",
       "      <td>0.000000</td>\n",
       "      <td>0.035251</td>\n",
       "    </tr>\n",
       "    <tr>\n",
       "      <th>WRB</th>\n",
       "      <td>0.000000</td>\n",
       "      <td>0.030534</td>\n",
       "      <td>0.000000</td>\n",
       "      <td>0.091603</td>\n",
       "      <td>0.030534</td>\n",
       "      <td>0.000000</td>\n",
       "      <td>0.000000</td>\n",
       "      <td>0.091603</td>\n",
       "      <td>0.000000</td>\n",
       "      <td>0.000000</td>\n",
       "      <td>...</td>\n",
       "      <td>0.030534</td>\n",
       "      <td>0.068702</td>\n",
       "      <td>0.000000</td>\n",
       "      <td>0.007634</td>\n",
       "      <td>0.000000</td>\n",
       "      <td>0.015267</td>\n",
       "      <td>0.000000</td>\n",
       "      <td>0.015267</td>\n",
       "      <td>0.000000</td>\n",
       "      <td>0.000000</td>\n",
       "    </tr>\n",
       "    <tr>\n",
       "      <th>UH</th>\n",
       "      <td>0.000000</td>\n",
       "      <td>0.000000</td>\n",
       "      <td>0.000000</td>\n",
       "      <td>0.000000</td>\n",
       "      <td>0.000000</td>\n",
       "      <td>0.000000</td>\n",
       "      <td>0.000000</td>\n",
       "      <td>0.000000</td>\n",
       "      <td>0.000000</td>\n",
       "      <td>0.000000</td>\n",
       "      <td>...</td>\n",
       "      <td>0.000000</td>\n",
       "      <td>0.000000</td>\n",
       "      <td>0.000000</td>\n",
       "      <td>0.000000</td>\n",
       "      <td>0.000000</td>\n",
       "      <td>0.000000</td>\n",
       "      <td>0.000000</td>\n",
       "      <td>0.000000</td>\n",
       "      <td>0.000000</td>\n",
       "      <td>0.333333</td>\n",
       "    </tr>\n",
       "    <tr>\n",
       "      <th>NNP</th>\n",
       "      <td>0.001045</td>\n",
       "      <td>0.004029</td>\n",
       "      <td>0.003432</td>\n",
       "      <td>0.008208</td>\n",
       "      <td>0.006865</td>\n",
       "      <td>0.000298</td>\n",
       "      <td>0.000000</td>\n",
       "      <td>0.384122</td>\n",
       "      <td>0.003134</td>\n",
       "      <td>0.000000</td>\n",
       "      <td>...</td>\n",
       "      <td>0.005820</td>\n",
       "      <td>0.054917</td>\n",
       "      <td>0.000000</td>\n",
       "      <td>0.000000</td>\n",
       "      <td>0.000000</td>\n",
       "      <td>0.000000</td>\n",
       "      <td>0.039099</td>\n",
       "      <td>0.020295</td>\n",
       "      <td>0.000000</td>\n",
       "      <td>0.047903</td>\n",
       "    </tr>\n",
       "    <tr>\n",
       "      <th>TO</th>\n",
       "      <td>0.580328</td>\n",
       "      <td>0.000000</td>\n",
       "      <td>0.000000</td>\n",
       "      <td>0.028197</td>\n",
       "      <td>0.006557</td>\n",
       "      <td>0.000656</td>\n",
       "      <td>0.000000</td>\n",
       "      <td>0.040656</td>\n",
       "      <td>0.000000</td>\n",
       "      <td>0.000000</td>\n",
       "      <td>...</td>\n",
       "      <td>0.007213</td>\n",
       "      <td>0.028852</td>\n",
       "      <td>0.000000</td>\n",
       "      <td>0.000000</td>\n",
       "      <td>0.000000</td>\n",
       "      <td>0.017705</td>\n",
       "      <td>0.000000</td>\n",
       "      <td>0.073443</td>\n",
       "      <td>0.001967</td>\n",
       "      <td>0.000000</td>\n",
       "    </tr>\n",
       "    <tr>\n",
       "      <th>FW</th>\n",
       "      <td>0.000000</td>\n",
       "      <td>0.000000</td>\n",
       "      <td>0.000000</td>\n",
       "      <td>0.000000</td>\n",
       "      <td>0.000000</td>\n",
       "      <td>0.000000</td>\n",
       "      <td>0.000000</td>\n",
       "      <td>0.000000</td>\n",
       "      <td>0.000000</td>\n",
       "      <td>0.000000</td>\n",
       "      <td>...</td>\n",
       "      <td>0.000000</td>\n",
       "      <td>0.333333</td>\n",
       "      <td>0.000000</td>\n",
       "      <td>0.000000</td>\n",
       "      <td>0.000000</td>\n",
       "      <td>0.000000</td>\n",
       "      <td>0.000000</td>\n",
       "      <td>0.000000</td>\n",
       "      <td>0.000000</td>\n",
       "      <td>0.000000</td>\n",
       "    </tr>\n",
       "    <tr>\n",
       "      <th>``</th>\n",
       "      <td>0.022133</td>\n",
       "      <td>0.012072</td>\n",
       "      <td>0.000000</td>\n",
       "      <td>0.108652</td>\n",
       "      <td>0.064386</td>\n",
       "      <td>0.010060</td>\n",
       "      <td>0.002012</td>\n",
       "      <td>0.068410</td>\n",
       "      <td>0.000000</td>\n",
       "      <td>0.000000</td>\n",
       "      <td>...</td>\n",
       "      <td>0.032193</td>\n",
       "      <td>0.096579</td>\n",
       "      <td>0.000000</td>\n",
       "      <td>0.000000</td>\n",
       "      <td>0.000000</td>\n",
       "      <td>0.004024</td>\n",
       "      <td>0.018109</td>\n",
       "      <td>0.002012</td>\n",
       "      <td>0.000000</td>\n",
       "      <td>0.000000</td>\n",
       "    </tr>\n",
       "    <tr>\n",
       "      <th>-RRB-</th>\n",
       "      <td>0.000000</td>\n",
       "      <td>0.011236</td>\n",
       "      <td>0.000000</td>\n",
       "      <td>0.011236</td>\n",
       "      <td>0.067416</td>\n",
       "      <td>0.011236</td>\n",
       "      <td>0.000000</td>\n",
       "      <td>0.000000</td>\n",
       "      <td>0.011236</td>\n",
       "      <td>0.000000</td>\n",
       "      <td>...</td>\n",
       "      <td>0.022472</td>\n",
       "      <td>0.044944</td>\n",
       "      <td>0.000000</td>\n",
       "      <td>0.000000</td>\n",
       "      <td>0.000000</td>\n",
       "      <td>0.000000</td>\n",
       "      <td>0.033708</td>\n",
       "      <td>0.011236</td>\n",
       "      <td>0.000000</td>\n",
       "      <td>0.157303</td>\n",
       "    </tr>\n",
       "    <tr>\n",
       "      <th>RBS</th>\n",
       "      <td>0.000000</td>\n",
       "      <td>0.000000</td>\n",
       "      <td>0.000000</td>\n",
       "      <td>0.678571</td>\n",
       "      <td>0.214286</td>\n",
       "      <td>0.000000</td>\n",
       "      <td>0.000000</td>\n",
       "      <td>0.000000</td>\n",
       "      <td>0.000000</td>\n",
       "      <td>0.000000</td>\n",
       "      <td>...</td>\n",
       "      <td>0.000000</td>\n",
       "      <td>0.000000</td>\n",
       "      <td>0.000000</td>\n",
       "      <td>0.000000</td>\n",
       "      <td>0.000000</td>\n",
       "      <td>0.000000</td>\n",
       "      <td>0.000000</td>\n",
       "      <td>0.000000</td>\n",
       "      <td>0.000000</td>\n",
       "      <td>0.000000</td>\n",
       "    </tr>\n",
       "    <tr>\n",
       "      <th>NNPS</th>\n",
       "      <td>0.000000</td>\n",
       "      <td>0.037267</td>\n",
       "      <td>0.000000</td>\n",
       "      <td>0.000000</td>\n",
       "      <td>0.006211</td>\n",
       "      <td>0.000000</td>\n",
       "      <td>0.000000</td>\n",
       "      <td>0.316770</td>\n",
       "      <td>0.006211</td>\n",
       "      <td>0.000000</td>\n",
       "      <td>...</td>\n",
       "      <td>0.012422</td>\n",
       "      <td>0.024845</td>\n",
       "      <td>0.000000</td>\n",
       "      <td>0.000000</td>\n",
       "      <td>0.000000</td>\n",
       "      <td>0.000000</td>\n",
       "      <td>0.068323</td>\n",
       "      <td>0.000000</td>\n",
       "      <td>0.000000</td>\n",
       "      <td>0.086957</td>\n",
       "    </tr>\n",
       "    <tr>\n",
       "      <th>VBD</th>\n",
       "      <td>0.002278</td>\n",
       "      <td>0.000000</td>\n",
       "      <td>0.000000</td>\n",
       "      <td>0.046014</td>\n",
       "      <td>0.076538</td>\n",
       "      <td>0.001822</td>\n",
       "      <td>0.000456</td>\n",
       "      <td>0.030524</td>\n",
       "      <td>0.023235</td>\n",
       "      <td>0.000000</td>\n",
       "      <td>...</td>\n",
       "      <td>0.270615</td>\n",
       "      <td>0.029157</td>\n",
       "      <td>0.000000</td>\n",
       "      <td>0.000911</td>\n",
       "      <td>0.000000</td>\n",
       "      <td>0.014579</td>\n",
       "      <td>0.002733</td>\n",
       "      <td>0.049203</td>\n",
       "      <td>0.000456</td>\n",
       "      <td>0.007745</td>\n",
       "    </tr>\n",
       "    <tr>\n",
       "      <th>,</th>\n",
       "      <td>0.002284</td>\n",
       "      <td>0.007422</td>\n",
       "      <td>0.055952</td>\n",
       "      <td>0.044248</td>\n",
       "      <td>0.052812</td>\n",
       "      <td>0.008279</td>\n",
       "      <td>0.000000</td>\n",
       "      <td>0.137025</td>\n",
       "      <td>0.003711</td>\n",
       "      <td>0.000000</td>\n",
       "      <td>...</td>\n",
       "      <td>0.032544</td>\n",
       "      <td>0.047959</td>\n",
       "      <td>0.001713</td>\n",
       "      <td>0.000000</td>\n",
       "      <td>0.000285</td>\n",
       "      <td>0.003426</td>\n",
       "      <td>0.082215</td>\n",
       "      <td>0.023979</td>\n",
       "      <td>0.000000</td>\n",
       "      <td>0.000000</td>\n",
       "    </tr>\n",
       "    <tr>\n",
       "      <th>RP</th>\n",
       "      <td>0.000000</td>\n",
       "      <td>0.000000</td>\n",
       "      <td>0.012821</td>\n",
       "      <td>0.057692</td>\n",
       "      <td>0.025641</td>\n",
       "      <td>0.000000</td>\n",
       "      <td>0.000000</td>\n",
       "      <td>0.025641</td>\n",
       "      <td>0.025641</td>\n",
       "      <td>0.000000</td>\n",
       "      <td>...</td>\n",
       "      <td>0.096154</td>\n",
       "      <td>0.057692</td>\n",
       "      <td>0.000000</td>\n",
       "      <td>0.000000</td>\n",
       "      <td>0.000000</td>\n",
       "      <td>0.057692</td>\n",
       "      <td>0.019231</td>\n",
       "      <td>0.025641</td>\n",
       "      <td>0.000000</td>\n",
       "      <td>0.025641</td>\n",
       "    </tr>\n",
       "    <tr>\n",
       "      <th>-LRB-</th>\n",
       "      <td>0.000000</td>\n",
       "      <td>0.000000</td>\n",
       "      <td>0.000000</td>\n",
       "      <td>0.036145</td>\n",
       "      <td>0.024096</td>\n",
       "      <td>0.000000</td>\n",
       "      <td>0.000000</td>\n",
       "      <td>0.349398</td>\n",
       "      <td>0.000000</td>\n",
       "      <td>0.000000</td>\n",
       "      <td>...</td>\n",
       "      <td>0.012048</td>\n",
       "      <td>0.012048</td>\n",
       "      <td>0.000000</td>\n",
       "      <td>0.000000</td>\n",
       "      <td>0.000000</td>\n",
       "      <td>0.000000</td>\n",
       "      <td>0.036145</td>\n",
       "      <td>0.096386</td>\n",
       "      <td>0.000000</td>\n",
       "      <td>0.000000</td>\n",
       "    </tr>\n",
       "    <tr>\n",
       "      <th>RBR</th>\n",
       "      <td>0.020833</td>\n",
       "      <td>0.000000</td>\n",
       "      <td>0.000000</td>\n",
       "      <td>0.375000</td>\n",
       "      <td>0.125000</td>\n",
       "      <td>0.010417</td>\n",
       "      <td>0.000000</td>\n",
       "      <td>0.000000</td>\n",
       "      <td>0.010417</td>\n",
       "      <td>0.000000</td>\n",
       "      <td>...</td>\n",
       "      <td>0.020833</td>\n",
       "      <td>0.000000</td>\n",
       "      <td>0.000000</td>\n",
       "      <td>0.000000</td>\n",
       "      <td>0.000000</td>\n",
       "      <td>0.000000</td>\n",
       "      <td>0.020833</td>\n",
       "      <td>0.000000</td>\n",
       "      <td>0.000000</td>\n",
       "      <td>0.041667</td>\n",
       "    </tr>\n",
       "    <tr>\n",
       "      <th>MD</th>\n",
       "      <td>0.823077</td>\n",
       "      <td>0.000000</td>\n",
       "      <td>0.000000</td>\n",
       "      <td>0.001538</td>\n",
       "      <td>0.152308</td>\n",
       "      <td>0.000000</td>\n",
       "      <td>0.000000</td>\n",
       "      <td>0.000000</td>\n",
       "      <td>0.000000</td>\n",
       "      <td>0.000000</td>\n",
       "      <td>...</td>\n",
       "      <td>0.006154</td>\n",
       "      <td>0.000000</td>\n",
       "      <td>0.001538</td>\n",
       "      <td>0.000000</td>\n",
       "      <td>0.000000</td>\n",
       "      <td>0.000000</td>\n",
       "      <td>0.000000</td>\n",
       "      <td>0.000000</td>\n",
       "      <td>0.000000</td>\n",
       "      <td>0.000000</td>\n",
       "    </tr>\n",
       "    <tr>\n",
       "      <th>VBN</th>\n",
       "      <td>0.000000</td>\n",
       "      <td>0.000000</td>\n",
       "      <td>0.002658</td>\n",
       "      <td>0.043189</td>\n",
       "      <td>0.021927</td>\n",
       "      <td>0.000000</td>\n",
       "      <td>0.000000</td>\n",
       "      <td>0.010631</td>\n",
       "      <td>0.011960</td>\n",
       "      <td>0.000000</td>\n",
       "      <td>...</td>\n",
       "      <td>0.559468</td>\n",
       "      <td>0.065116</td>\n",
       "      <td>0.000000</td>\n",
       "      <td>0.000000</td>\n",
       "      <td>0.000000</td>\n",
       "      <td>0.010631</td>\n",
       "      <td>0.008638</td>\n",
       "      <td>0.011960</td>\n",
       "      <td>0.000000</td>\n",
       "      <td>0.007973</td>\n",
       "    </tr>\n",
       "    <tr>\n",
       "      <th>JJR</th>\n",
       "      <td>0.003802</td>\n",
       "      <td>0.000000</td>\n",
       "      <td>0.000000</td>\n",
       "      <td>0.060837</td>\n",
       "      <td>0.003802</td>\n",
       "      <td>0.003802</td>\n",
       "      <td>0.000000</td>\n",
       "      <td>0.007605</td>\n",
       "      <td>0.011407</td>\n",
       "      <td>0.000000</td>\n",
       "      <td>...</td>\n",
       "      <td>0.022814</td>\n",
       "      <td>0.205323</td>\n",
       "      <td>0.000000</td>\n",
       "      <td>0.000000</td>\n",
       "      <td>0.000000</td>\n",
       "      <td>0.000000</td>\n",
       "      <td>0.026616</td>\n",
       "      <td>0.003802</td>\n",
       "      <td>0.000000</td>\n",
       "      <td>0.064639</td>\n",
       "    </tr>\n",
       "    <tr>\n",
       "      <th>:</th>\n",
       "      <td>0.007371</td>\n",
       "      <td>0.012285</td>\n",
       "      <td>0.000000</td>\n",
       "      <td>0.071253</td>\n",
       "      <td>0.029484</td>\n",
       "      <td>0.007371</td>\n",
       "      <td>0.000000</td>\n",
       "      <td>0.206388</td>\n",
       "      <td>0.002457</td>\n",
       "      <td>0.000000</td>\n",
       "      <td>...</td>\n",
       "      <td>0.029484</td>\n",
       "      <td>0.041769</td>\n",
       "      <td>0.000000</td>\n",
       "      <td>0.000000</td>\n",
       "      <td>0.009828</td>\n",
       "      <td>0.002457</td>\n",
       "      <td>0.066339</td>\n",
       "      <td>0.100737</td>\n",
       "      <td>0.000000</td>\n",
       "      <td>0.007371</td>\n",
       "    </tr>\n",
       "    <tr>\n",
       "      <th>DT</th>\n",
       "      <td>0.000000</td>\n",
       "      <td>0.001040</td>\n",
       "      <td>0.000000</td>\n",
       "      <td>0.203120</td>\n",
       "      <td>0.009012</td>\n",
       "      <td>0.000000</td>\n",
       "      <td>0.000000</td>\n",
       "      <td>0.128250</td>\n",
       "      <td>0.000173</td>\n",
       "      <td>0.000173</td>\n",
       "      <td>...</td>\n",
       "      <td>0.001906</td>\n",
       "      <td>0.472097</td>\n",
       "      <td>0.008492</td>\n",
       "      <td>0.000000</td>\n",
       "      <td>0.000000</td>\n",
       "      <td>0.000173</td>\n",
       "      <td>0.000520</td>\n",
       "      <td>0.024610</td>\n",
       "      <td>0.000000</td>\n",
       "      <td>0.001040</td>\n",
       "    </tr>\n",
       "    <tr>\n",
       "      <th>WDT</th>\n",
       "      <td>0.000000</td>\n",
       "      <td>0.000000</td>\n",
       "      <td>0.000000</td>\n",
       "      <td>0.005780</td>\n",
       "      <td>0.005780</td>\n",
       "      <td>0.000000</td>\n",
       "      <td>0.000000</td>\n",
       "      <td>0.002890</td>\n",
       "      <td>0.000000</td>\n",
       "      <td>0.000000</td>\n",
       "      <td>...</td>\n",
       "      <td>0.867052</td>\n",
       "      <td>0.008671</td>\n",
       "      <td>0.002890</td>\n",
       "      <td>0.000000</td>\n",
       "      <td>0.000000</td>\n",
       "      <td>0.000000</td>\n",
       "      <td>0.000000</td>\n",
       "      <td>0.002890</td>\n",
       "      <td>0.000000</td>\n",
       "      <td>0.000000</td>\n",
       "    </tr>\n",
       "    <tr>\n",
       "      <th>WP$</th>\n",
       "      <td>0.000000</td>\n",
       "      <td>0.000000</td>\n",
       "      <td>0.000000</td>\n",
       "      <td>0.083333</td>\n",
       "      <td>0.000000</td>\n",
       "      <td>0.000000</td>\n",
       "      <td>0.000000</td>\n",
       "      <td>0.000000</td>\n",
       "      <td>0.000000</td>\n",
       "      <td>0.000000</td>\n",
       "      <td>...</td>\n",
       "      <td>0.000000</td>\n",
       "      <td>0.666667</td>\n",
       "      <td>0.000000</td>\n",
       "      <td>0.000000</td>\n",
       "      <td>0.000000</td>\n",
       "      <td>0.000000</td>\n",
       "      <td>0.000000</td>\n",
       "      <td>0.000000</td>\n",
       "      <td>0.000000</td>\n",
       "      <td>0.000000</td>\n",
       "    </tr>\n",
       "    <tr>\n",
       "      <th>$</th>\n",
       "      <td>0.000000</td>\n",
       "      <td>0.000000</td>\n",
       "      <td>0.000000</td>\n",
       "      <td>0.007561</td>\n",
       "      <td>0.000000</td>\n",
       "      <td>0.000000</td>\n",
       "      <td>0.000000</td>\n",
       "      <td>0.000000</td>\n",
       "      <td>0.000000</td>\n",
       "      <td>0.000000</td>\n",
       "      <td>...</td>\n",
       "      <td>0.000000</td>\n",
       "      <td>0.000000</td>\n",
       "      <td>0.000000</td>\n",
       "      <td>0.000000</td>\n",
       "      <td>0.000000</td>\n",
       "      <td>0.000000</td>\n",
       "      <td>0.000000</td>\n",
       "      <td>0.992439</td>\n",
       "      <td>0.000000</td>\n",
       "      <td>0.000000</td>\n",
       "    </tr>\n",
       "    <tr>\n",
       "      <th>SYM</th>\n",
       "      <td>0.000000</td>\n",
       "      <td>0.000000</td>\n",
       "      <td>0.000000</td>\n",
       "      <td>0.000000</td>\n",
       "      <td>0.000000</td>\n",
       "      <td>0.000000</td>\n",
       "      <td>0.000000</td>\n",
       "      <td>1.000000</td>\n",
       "      <td>0.000000</td>\n",
       "      <td>0.000000</td>\n",
       "      <td>...</td>\n",
       "      <td>0.000000</td>\n",
       "      <td>0.000000</td>\n",
       "      <td>0.000000</td>\n",
       "      <td>0.000000</td>\n",
       "      <td>0.000000</td>\n",
       "      <td>0.000000</td>\n",
       "      <td>0.000000</td>\n",
       "      <td>0.000000</td>\n",
       "      <td>0.000000</td>\n",
       "      <td>0.000000</td>\n",
       "    </tr>\n",
       "    <tr>\n",
       "      <th>NNS</th>\n",
       "      <td>0.003765</td>\n",
       "      <td>0.084000</td>\n",
       "      <td>0.004471</td>\n",
       "      <td>0.017647</td>\n",
       "      <td>0.025647</td>\n",
       "      <td>0.002824</td>\n",
       "      <td>0.000000</td>\n",
       "      <td>0.001176</td>\n",
       "      <td>0.020471</td>\n",
       "      <td>0.000000</td>\n",
       "      <td>...</td>\n",
       "      <td>0.040235</td>\n",
       "      <td>0.023059</td>\n",
       "      <td>0.000000</td>\n",
       "      <td>0.000000</td>\n",
       "      <td>0.000000</td>\n",
       "      <td>0.000235</td>\n",
       "      <td>0.057412</td>\n",
       "      <td>0.002118</td>\n",
       "      <td>0.000000</td>\n",
       "      <td>0.122824</td>\n",
       "    </tr>\n",
       "    <tr>\n",
       "      <th>POS</th>\n",
       "      <td>0.000000</td>\n",
       "      <td>0.000000</td>\n",
       "      <td>0.000000</td>\n",
       "      <td>0.217699</td>\n",
       "      <td>0.005310</td>\n",
       "      <td>0.000000</td>\n",
       "      <td>0.000000</td>\n",
       "      <td>0.123894</td>\n",
       "      <td>0.000000</td>\n",
       "      <td>0.000000</td>\n",
       "      <td>...</td>\n",
       "      <td>0.000000</td>\n",
       "      <td>0.398230</td>\n",
       "      <td>0.021239</td>\n",
       "      <td>0.000000</td>\n",
       "      <td>0.000000</td>\n",
       "      <td>0.000000</td>\n",
       "      <td>0.005310</td>\n",
       "      <td>0.023009</td>\n",
       "      <td>0.000000</td>\n",
       "      <td>0.010619</td>\n",
       "    </tr>\n",
       "    <tr>\n",
       "      <th>IN</th>\n",
       "      <td>0.000287</td>\n",
       "      <td>0.000000</td>\n",
       "      <td>0.000143</td>\n",
       "      <td>0.095224</td>\n",
       "      <td>0.011329</td>\n",
       "      <td>0.001291</td>\n",
       "      <td>0.000000</td>\n",
       "      <td>0.150437</td>\n",
       "      <td>0.001291</td>\n",
       "      <td>0.000143</td>\n",
       "      <td>...</td>\n",
       "      <td>0.033701</td>\n",
       "      <td>0.112434</td>\n",
       "      <td>0.004446</td>\n",
       "      <td>0.001004</td>\n",
       "      <td>0.000000</td>\n",
       "      <td>0.033128</td>\n",
       "      <td>0.001004</td>\n",
       "      <td>0.062957</td>\n",
       "      <td>0.000574</td>\n",
       "      <td>0.002438</td>\n",
       "    </tr>\n",
       "    <tr>\n",
       "      <th>PRP</th>\n",
       "      <td>0.010717</td>\n",
       "      <td>0.178071</td>\n",
       "      <td>0.000000</td>\n",
       "      <td>0.005771</td>\n",
       "      <td>0.046991</td>\n",
       "      <td>0.000000</td>\n",
       "      <td>0.000000</td>\n",
       "      <td>0.002473</td>\n",
       "      <td>0.014839</td>\n",
       "      <td>0.000000</td>\n",
       "      <td>...</td>\n",
       "      <td>0.042045</td>\n",
       "      <td>0.004122</td>\n",
       "      <td>0.000000</td>\n",
       "      <td>0.000000</td>\n",
       "      <td>0.000000</td>\n",
       "      <td>0.000000</td>\n",
       "      <td>0.007420</td>\n",
       "      <td>0.000824</td>\n",
       "      <td>0.000000</td>\n",
       "      <td>0.025556</td>\n",
       "    </tr>\n",
       "    <tr>\n",
       "      <th>EX</th>\n",
       "      <td>0.000000</td>\n",
       "      <td>0.205882</td>\n",
       "      <td>0.000000</td>\n",
       "      <td>0.000000</td>\n",
       "      <td>0.014706</td>\n",
       "      <td>0.000000</td>\n",
       "      <td>0.000000</td>\n",
       "      <td>0.000000</td>\n",
       "      <td>0.000000</td>\n",
       "      <td>0.000000</td>\n",
       "      <td>...</td>\n",
       "      <td>0.000000</td>\n",
       "      <td>0.000000</td>\n",
       "      <td>0.000000</td>\n",
       "      <td>0.000000</td>\n",
       "      <td>0.000000</td>\n",
       "      <td>0.000000</td>\n",
       "      <td>0.000000</td>\n",
       "      <td>0.000000</td>\n",
       "      <td>0.000000</td>\n",
       "      <td>0.000000</td>\n",
       "    </tr>\n",
       "    <tr>\n",
       "      <th>WP</th>\n",
       "      <td>0.000000</td>\n",
       "      <td>0.000000</td>\n",
       "      <td>0.000000</td>\n",
       "      <td>0.006369</td>\n",
       "      <td>0.025478</td>\n",
       "      <td>0.000000</td>\n",
       "      <td>0.000000</td>\n",
       "      <td>0.019108</td>\n",
       "      <td>0.000000</td>\n",
       "      <td>0.000000</td>\n",
       "      <td>...</td>\n",
       "      <td>0.777070</td>\n",
       "      <td>0.012739</td>\n",
       "      <td>0.000000</td>\n",
       "      <td>0.000000</td>\n",
       "      <td>0.000000</td>\n",
       "      <td>0.006369</td>\n",
       "      <td>0.000000</td>\n",
       "      <td>0.006369</td>\n",
       "      <td>0.000000</td>\n",
       "      <td>0.000000</td>\n",
       "    </tr>\n",
       "    <tr>\n",
       "      <th>VBG</th>\n",
       "      <td>0.000000</td>\n",
       "      <td>0.000000</td>\n",
       "      <td>0.001978</td>\n",
       "      <td>0.064293</td>\n",
       "      <td>0.035608</td>\n",
       "      <td>0.000000</td>\n",
       "      <td>0.000000</td>\n",
       "      <td>0.030663</td>\n",
       "      <td>0.044510</td>\n",
       "      <td>0.000000</td>\n",
       "      <td>...</td>\n",
       "      <td>0.073195</td>\n",
       "      <td>0.148368</td>\n",
       "      <td>0.000000</td>\n",
       "      <td>0.000989</td>\n",
       "      <td>0.000000</td>\n",
       "      <td>0.025717</td>\n",
       "      <td>0.011869</td>\n",
       "      <td>0.020772</td>\n",
       "      <td>0.000000</td>\n",
       "      <td>0.016815</td>\n",
       "    </tr>\n",
       "    <tr>\n",
       "      <th>VBZ</th>\n",
       "      <td>0.003322</td>\n",
       "      <td>0.000000</td>\n",
       "      <td>0.001329</td>\n",
       "      <td>0.064452</td>\n",
       "      <td>0.125581</td>\n",
       "      <td>0.003322</td>\n",
       "      <td>0.000000</td>\n",
       "      <td>0.019269</td>\n",
       "      <td>0.007309</td>\n",
       "      <td>0.000000</td>\n",
       "      <td>...</td>\n",
       "      <td>0.189369</td>\n",
       "      <td>0.038538</td>\n",
       "      <td>0.000000</td>\n",
       "      <td>0.000000</td>\n",
       "      <td>0.000000</td>\n",
       "      <td>0.009302</td>\n",
       "      <td>0.002658</td>\n",
       "      <td>0.019269</td>\n",
       "      <td>0.000000</td>\n",
       "      <td>0.002658</td>\n",
       "    </tr>\n",
       "    <tr>\n",
       "      <th>-NONE-</th>\n",
       "      <td>0.008332</td>\n",
       "      <td>0.022217</td>\n",
       "      <td>0.000427</td>\n",
       "      <td>0.015168</td>\n",
       "      <td>0.022004</td>\n",
       "      <td>0.000641</td>\n",
       "      <td>0.000000</td>\n",
       "      <td>0.037172</td>\n",
       "      <td>0.182653</td>\n",
       "      <td>0.000000</td>\n",
       "      <td>...</td>\n",
       "      <td>0.076907</td>\n",
       "      <td>0.019654</td>\n",
       "      <td>0.000214</td>\n",
       "      <td>0.000000</td>\n",
       "      <td>0.000000</td>\n",
       "      <td>0.003632</td>\n",
       "      <td>0.009827</td>\n",
       "      <td>0.003204</td>\n",
       "      <td>0.000000</td>\n",
       "      <td>0.092288</td>\n",
       "    </tr>\n",
       "    <tr>\n",
       "      <th>NN</th>\n",
       "      <td>0.001507</td>\n",
       "      <td>0.003014</td>\n",
       "      <td>0.005059</td>\n",
       "      <td>0.008504</td>\n",
       "      <td>0.015608</td>\n",
       "      <td>0.001830</td>\n",
       "      <td>0.000000</td>\n",
       "      <td>0.006997</td>\n",
       "      <td>0.020560</td>\n",
       "      <td>0.000108</td>\n",
       "      <td>...</td>\n",
       "      <td>0.040474</td>\n",
       "      <td>0.125727</td>\n",
       "      <td>0.000108</td>\n",
       "      <td>0.000000</td>\n",
       "      <td>0.000000</td>\n",
       "      <td>0.000215</td>\n",
       "      <td>0.038536</td>\n",
       "      <td>0.005813</td>\n",
       "      <td>0.000000</td>\n",
       "      <td>0.102691</td>\n",
       "    </tr>\n",
       "    <tr>\n",
       "      <th>JJS</th>\n",
       "      <td>0.007937</td>\n",
       "      <td>0.007937</td>\n",
       "      <td>0.000000</td>\n",
       "      <td>0.126984</td>\n",
       "      <td>0.047619</td>\n",
       "      <td>0.000000</td>\n",
       "      <td>0.000000</td>\n",
       "      <td>0.015873</td>\n",
       "      <td>0.000000</td>\n",
       "      <td>0.000000</td>\n",
       "      <td>...</td>\n",
       "      <td>0.007937</td>\n",
       "      <td>0.238095</td>\n",
       "      <td>0.000000</td>\n",
       "      <td>0.000000</td>\n",
       "      <td>0.000000</td>\n",
       "      <td>0.000000</td>\n",
       "      <td>0.007937</td>\n",
       "      <td>0.047619</td>\n",
       "      <td>0.000000</td>\n",
       "      <td>0.007937</td>\n",
       "    </tr>\n",
       "    <tr>\n",
       "      <th>PDT</th>\n",
       "      <td>0.000000</td>\n",
       "      <td>0.000000</td>\n",
       "      <td>0.000000</td>\n",
       "      <td>0.000000</td>\n",
       "      <td>0.000000</td>\n",
       "      <td>0.000000</td>\n",
       "      <td>0.000000</td>\n",
       "      <td>0.000000</td>\n",
       "      <td>0.000000</td>\n",
       "      <td>0.000000</td>\n",
       "      <td>...</td>\n",
       "      <td>0.000000</td>\n",
       "      <td>0.000000</td>\n",
       "      <td>0.000000</td>\n",
       "      <td>0.000000</td>\n",
       "      <td>0.000000</td>\n",
       "      <td>0.117647</td>\n",
       "      <td>0.000000</td>\n",
       "      <td>0.000000</td>\n",
       "      <td>0.000000</td>\n",
       "      <td>0.000000</td>\n",
       "    </tr>\n",
       "    <tr>\n",
       "      <th>LS</th>\n",
       "      <td>0.000000</td>\n",
       "      <td>0.000000</td>\n",
       "      <td>0.000000</td>\n",
       "      <td>0.000000</td>\n",
       "      <td>0.000000</td>\n",
       "      <td>0.000000</td>\n",
       "      <td>0.000000</td>\n",
       "      <td>0.000000</td>\n",
       "      <td>0.000000</td>\n",
       "      <td>0.000000</td>\n",
       "      <td>...</td>\n",
       "      <td>0.000000</td>\n",
       "      <td>0.000000</td>\n",
       "      <td>0.000000</td>\n",
       "      <td>0.000000</td>\n",
       "      <td>0.000000</td>\n",
       "      <td>0.000000</td>\n",
       "      <td>0.000000</td>\n",
       "      <td>0.000000</td>\n",
       "      <td>0.000000</td>\n",
       "      <td>0.333333</td>\n",
       "    </tr>\n",
       "    <tr>\n",
       "      <th>PRP$</th>\n",
       "      <td>0.000000</td>\n",
       "      <td>0.000000</td>\n",
       "      <td>0.000000</td>\n",
       "      <td>0.233591</td>\n",
       "      <td>0.001931</td>\n",
       "      <td>0.000000</td>\n",
       "      <td>0.000000</td>\n",
       "      <td>0.055985</td>\n",
       "      <td>0.000000</td>\n",
       "      <td>0.000000</td>\n",
       "      <td>...</td>\n",
       "      <td>0.000000</td>\n",
       "      <td>0.453668</td>\n",
       "      <td>0.011583</td>\n",
       "      <td>0.000000</td>\n",
       "      <td>0.000000</td>\n",
       "      <td>0.000000</td>\n",
       "      <td>0.000000</td>\n",
       "      <td>0.023166</td>\n",
       "      <td>0.000000</td>\n",
       "      <td>0.000000</td>\n",
       "    </tr>\n",
       "    <tr>\n",
       "      <th>CC</th>\n",
       "      <td>0.031075</td>\n",
       "      <td>0.008701</td>\n",
       "      <td>0.000000</td>\n",
       "      <td>0.100062</td>\n",
       "      <td>0.052206</td>\n",
       "      <td>0.003729</td>\n",
       "      <td>0.000000</td>\n",
       "      <td>0.160970</td>\n",
       "      <td>0.004351</td>\n",
       "      <td>0.000000</td>\n",
       "      <td>...</td>\n",
       "      <td>0.008080</td>\n",
       "      <td>0.113114</td>\n",
       "      <td>0.003108</td>\n",
       "      <td>0.000000</td>\n",
       "      <td>0.000622</td>\n",
       "      <td>0.013052</td>\n",
       "      <td>0.000622</td>\n",
       "      <td>0.039776</td>\n",
       "      <td>0.000000</td>\n",
       "      <td>0.000000</td>\n",
       "    </tr>\n",
       "    <tr>\n",
       "      <th>CD</th>\n",
       "      <td>0.000000</td>\n",
       "      <td>0.003158</td>\n",
       "      <td>0.000790</td>\n",
       "      <td>0.031583</td>\n",
       "      <td>0.000790</td>\n",
       "      <td>0.000000</td>\n",
       "      <td>0.000000</td>\n",
       "      <td>0.012238</td>\n",
       "      <td>0.025661</td>\n",
       "      <td>0.000000</td>\n",
       "      <td>...</td>\n",
       "      <td>0.213976</td>\n",
       "      <td>0.191867</td>\n",
       "      <td>0.001579</td>\n",
       "      <td>0.000000</td>\n",
       "      <td>0.000000</td>\n",
       "      <td>0.000000</td>\n",
       "      <td>0.015397</td>\n",
       "      <td>0.180418</td>\n",
       "      <td>0.000000</td>\n",
       "      <td>0.049349</td>\n",
       "    </tr>\n",
       "    <tr>\n",
       "      <th>#</th>\n",
       "      <td>0.000000</td>\n",
       "      <td>0.000000</td>\n",
       "      <td>0.000000</td>\n",
       "      <td>0.000000</td>\n",
       "      <td>0.000000</td>\n",
       "      <td>0.000000</td>\n",
       "      <td>0.000000</td>\n",
       "      <td>0.000000</td>\n",
       "      <td>0.000000</td>\n",
       "      <td>0.000000</td>\n",
       "      <td>...</td>\n",
       "      <td>0.000000</td>\n",
       "      <td>0.000000</td>\n",
       "      <td>0.000000</td>\n",
       "      <td>0.000000</td>\n",
       "      <td>0.000000</td>\n",
       "      <td>0.000000</td>\n",
       "      <td>0.000000</td>\n",
       "      <td>1.000000</td>\n",
       "      <td>0.000000</td>\n",
       "      <td>0.000000</td>\n",
       "    </tr>\n",
       "    <tr>\n",
       "      <th>.</th>\n",
       "      <td>0.000738</td>\n",
       "      <td>0.000000</td>\n",
       "      <td>0.057912</td>\n",
       "      <td>0.034305</td>\n",
       "      <td>0.037993</td>\n",
       "      <td>0.006640</td>\n",
       "      <td>0.000369</td>\n",
       "      <td>0.188122</td>\n",
       "      <td>0.001107</td>\n",
       "      <td>0.000000</td>\n",
       "      <td>...</td>\n",
       "      <td>0.020657</td>\n",
       "      <td>0.037256</td>\n",
       "      <td>0.001475</td>\n",
       "      <td>0.000369</td>\n",
       "      <td>0.002213</td>\n",
       "      <td>0.008115</td>\n",
       "      <td>0.047584</td>\n",
       "      <td>0.008115</td>\n",
       "      <td>0.000000</td>\n",
       "      <td>0.000000</td>\n",
       "    </tr>\n",
       "  </tbody>\n",
       "</table>\n",
       "<p>46 rows × 46 columns</p>\n",
       "</div>"
      ],
      "text/plain": [
       "              VB       VBP        ''        JJ        RB       WRB        UH  \\\n",
       "VB      0.001117  0.000559  0.002235  0.084916  0.032961  0.001676  0.000000   \n",
       "VBP     0.001129  0.000000  0.001129  0.076749  0.129797  0.002257  0.000000   \n",
       "''      0.004132  0.006198  0.006198  0.016529  0.028926  0.002066  0.000000   \n",
       "JJ      0.000000  0.000727  0.004120  0.065439  0.002666  0.000969  0.000000   \n",
       "RB      0.096423  0.029031  0.001037  0.102125  0.068948  0.002074  0.000000   \n",
       "WRB     0.000000  0.030534  0.000000  0.091603  0.030534  0.000000  0.000000   \n",
       "UH      0.000000  0.000000  0.000000  0.000000  0.000000  0.000000  0.000000   \n",
       "NNP     0.001045  0.004029  0.003432  0.008208  0.006865  0.000298  0.000000   \n",
       "TO      0.580328  0.000000  0.000000  0.028197  0.006557  0.000656  0.000000   \n",
       "FW      0.000000  0.000000  0.000000  0.000000  0.000000  0.000000  0.000000   \n",
       "``      0.022133  0.012072  0.000000  0.108652  0.064386  0.010060  0.002012   \n",
       "-RRB-   0.000000  0.011236  0.000000  0.011236  0.067416  0.011236  0.000000   \n",
       "RBS     0.000000  0.000000  0.000000  0.678571  0.214286  0.000000  0.000000   \n",
       "NNPS    0.000000  0.037267  0.000000  0.000000  0.006211  0.000000  0.000000   \n",
       "VBD     0.002278  0.000000  0.000000  0.046014  0.076538  0.001822  0.000456   \n",
       ",       0.002284  0.007422  0.055952  0.044248  0.052812  0.008279  0.000000   \n",
       "RP      0.000000  0.000000  0.012821  0.057692  0.025641  0.000000  0.000000   \n",
       "-LRB-   0.000000  0.000000  0.000000  0.036145  0.024096  0.000000  0.000000   \n",
       "RBR     0.020833  0.000000  0.000000  0.375000  0.125000  0.010417  0.000000   \n",
       "MD      0.823077  0.000000  0.000000  0.001538  0.152308  0.000000  0.000000   \n",
       "VBN     0.000000  0.000000  0.002658  0.043189  0.021927  0.000000  0.000000   \n",
       "JJR     0.003802  0.000000  0.000000  0.060837  0.003802  0.003802  0.000000   \n",
       ":       0.007371  0.012285  0.000000  0.071253  0.029484  0.007371  0.000000   \n",
       "DT      0.000000  0.001040  0.000000  0.203120  0.009012  0.000000  0.000000   \n",
       "WDT     0.000000  0.000000  0.000000  0.005780  0.005780  0.000000  0.000000   \n",
       "WP$     0.000000  0.000000  0.000000  0.083333  0.000000  0.000000  0.000000   \n",
       "$       0.000000  0.000000  0.000000  0.007561  0.000000  0.000000  0.000000   \n",
       "SYM     0.000000  0.000000  0.000000  0.000000  0.000000  0.000000  0.000000   \n",
       "NNS     0.003765  0.084000  0.004471  0.017647  0.025647  0.002824  0.000000   \n",
       "POS     0.000000  0.000000  0.000000  0.217699  0.005310  0.000000  0.000000   \n",
       "IN      0.000287  0.000000  0.000143  0.095224  0.011329  0.001291  0.000000   \n",
       "PRP     0.010717  0.178071  0.000000  0.005771  0.046991  0.000000  0.000000   \n",
       "EX      0.000000  0.205882  0.000000  0.000000  0.014706  0.000000  0.000000   \n",
       "WP      0.000000  0.000000  0.000000  0.006369  0.025478  0.000000  0.000000   \n",
       "VBG     0.000000  0.000000  0.001978  0.064293  0.035608  0.000000  0.000000   \n",
       "VBZ     0.003322  0.000000  0.001329  0.064452  0.125581  0.003322  0.000000   \n",
       "-NONE-  0.008332  0.022217  0.000427  0.015168  0.022004  0.000641  0.000000   \n",
       "NN      0.001507  0.003014  0.005059  0.008504  0.015608  0.001830  0.000000   \n",
       "JJS     0.007937  0.007937  0.000000  0.126984  0.047619  0.000000  0.000000   \n",
       "PDT     0.000000  0.000000  0.000000  0.000000  0.000000  0.000000  0.000000   \n",
       "LS      0.000000  0.000000  0.000000  0.000000  0.000000  0.000000  0.000000   \n",
       "PRP$    0.000000  0.000000  0.000000  0.233591  0.001931  0.000000  0.000000   \n",
       "CC      0.031075  0.008701  0.000000  0.100062  0.052206  0.003729  0.000000   \n",
       "CD      0.000000  0.003158  0.000790  0.031583  0.000790  0.000000  0.000000   \n",
       "#       0.000000  0.000000  0.000000  0.000000  0.000000  0.000000  0.000000   \n",
       ".       0.000738  0.000000  0.057912  0.034305  0.037993  0.006640  0.000369   \n",
       "\n",
       "             NNP        TO        FW  ...    -NONE-        NN       JJS  \\\n",
       "VB      0.035754  0.013408  0.000000  ...  0.078771  0.070391  0.001676   \n",
       "VBP     0.015801  0.012415  0.000000  ...  0.162528  0.023702  0.000000   \n",
       "''      0.128099  0.004132  0.000000  ...  0.016529  0.051653  0.002066   \n",
       "JJ      0.033204  0.012603  0.000000  ...  0.020601  0.448619  0.000242   \n",
       "RB      0.003629  0.015552  0.000000  ...  0.021773  0.013997  0.000000   \n",
       "WRB     0.091603  0.000000  0.000000  ...  0.030534  0.068702  0.000000   \n",
       "UH      0.000000  0.000000  0.000000  ...  0.000000  0.000000  0.000000   \n",
       "NNP     0.384122  0.003134  0.000000  ...  0.005820  0.054917  0.000000   \n",
       "TO      0.040656  0.000000  0.000000  ...  0.007213  0.028852  0.000000   \n",
       "FW      0.000000  0.000000  0.000000  ...  0.000000  0.333333  0.000000   \n",
       "``      0.068410  0.000000  0.000000  ...  0.032193  0.096579  0.000000   \n",
       "-RRB-   0.000000  0.011236  0.000000  ...  0.022472  0.044944  0.000000   \n",
       "RBS     0.000000  0.000000  0.000000  ...  0.000000  0.000000  0.000000   \n",
       "NNPS    0.316770  0.006211  0.000000  ...  0.012422  0.024845  0.000000   \n",
       "VBD     0.030524  0.023235  0.000000  ...  0.270615  0.029157  0.000000   \n",
       ",       0.137025  0.003711  0.000000  ...  0.032544  0.047959  0.001713   \n",
       "RP      0.025641  0.025641  0.000000  ...  0.096154  0.057692  0.000000   \n",
       "-LRB-   0.349398  0.000000  0.000000  ...  0.012048  0.012048  0.000000   \n",
       "RBR     0.000000  0.010417  0.000000  ...  0.020833  0.000000  0.000000   \n",
       "MD      0.000000  0.000000  0.000000  ...  0.006154  0.000000  0.001538   \n",
       "VBN     0.010631  0.011960  0.000000  ...  0.559468  0.065116  0.000000   \n",
       "JJR     0.007605  0.011407  0.000000  ...  0.022814  0.205323  0.000000   \n",
       ":       0.206388  0.002457  0.000000  ...  0.029484  0.041769  0.000000   \n",
       "DT      0.128250  0.000173  0.000173  ...  0.001906  0.472097  0.008492   \n",
       "WDT     0.002890  0.000000  0.000000  ...  0.867052  0.008671  0.002890   \n",
       "WP$     0.000000  0.000000  0.000000  ...  0.000000  0.666667  0.000000   \n",
       "$       0.000000  0.000000  0.000000  ...  0.000000  0.000000  0.000000   \n",
       "SYM     1.000000  0.000000  0.000000  ...  0.000000  0.000000  0.000000   \n",
       "NNS     0.001176  0.020471  0.000000  ...  0.040235  0.023059  0.000000   \n",
       "POS     0.123894  0.000000  0.000000  ...  0.000000  0.398230  0.021239   \n",
       "IN      0.150437  0.001291  0.000143  ...  0.033701  0.112434  0.004446   \n",
       "PRP     0.002473  0.014839  0.000000  ...  0.042045  0.004122  0.000000   \n",
       "EX      0.000000  0.000000  0.000000  ...  0.000000  0.000000  0.000000   \n",
       "WP      0.019108  0.000000  0.000000  ...  0.777070  0.012739  0.000000   \n",
       "VBG     0.030663  0.044510  0.000000  ...  0.073195  0.148368  0.000000   \n",
       "VBZ     0.019269  0.007309  0.000000  ...  0.189369  0.038538  0.000000   \n",
       "-NONE-  0.037172  0.182653  0.000000  ...  0.076907  0.019654  0.000214   \n",
       "NN      0.006997  0.020560  0.000108  ...  0.040474  0.125727  0.000108   \n",
       "JJS     0.015873  0.000000  0.000000  ...  0.007937  0.238095  0.000000   \n",
       "PDT     0.000000  0.000000  0.000000  ...  0.000000  0.000000  0.000000   \n",
       "LS      0.000000  0.000000  0.000000  ...  0.000000  0.000000  0.000000   \n",
       "PRP$    0.055985  0.000000  0.000000  ...  0.000000  0.453668  0.011583   \n",
       "CC      0.160970  0.004351  0.000000  ...  0.008080  0.113114  0.003108   \n",
       "CD      0.012238  0.025661  0.000000  ...  0.213976  0.191867  0.001579   \n",
       "#       0.000000  0.000000  0.000000  ...  0.000000  0.000000  0.000000   \n",
       ".       0.188122  0.001107  0.000000  ...  0.020657  0.037256  0.001475   \n",
       "\n",
       "             PDT        LS      PRP$        CC        CD         #         .  \n",
       "VB      0.002235  0.000000  0.037989  0.007821  0.021788  0.000000  0.016760  \n",
       "VBP     0.000000  0.000000  0.009029  0.002257  0.007901  0.000000  0.005643  \n",
       "''      0.000000  0.000000  0.004132  0.051653  0.002066  0.000000  0.002066  \n",
       "JJ      0.000000  0.000000  0.000000  0.014784  0.020843  0.000000  0.019874  \n",
       "RB      0.000518  0.000000  0.000518  0.008294  0.033696  0.000000  0.035251  \n",
       "WRB     0.007634  0.000000  0.015267  0.000000  0.015267  0.000000  0.000000  \n",
       "UH      0.000000  0.000000  0.000000  0.000000  0.000000  0.000000  0.333333  \n",
       "NNP     0.000000  0.000000  0.000000  0.039099  0.020295  0.000000  0.047903  \n",
       "TO      0.000000  0.000000  0.017705  0.000000  0.073443  0.001967  0.000000  \n",
       "FW      0.000000  0.000000  0.000000  0.000000  0.000000  0.000000  0.000000  \n",
       "``      0.000000  0.000000  0.004024  0.018109  0.002012  0.000000  0.000000  \n",
       "-RRB-   0.000000  0.000000  0.000000  0.033708  0.011236  0.000000  0.157303  \n",
       "RBS     0.000000  0.000000  0.000000  0.000000  0.000000  0.000000  0.000000  \n",
       "NNPS    0.000000  0.000000  0.000000  0.068323  0.000000  0.000000  0.086957  \n",
       "VBD     0.000911  0.000000  0.014579  0.002733  0.049203  0.000456  0.007745  \n",
       ",       0.000000  0.000285  0.003426  0.082215  0.023979  0.000000  0.000000  \n",
       "RP      0.000000  0.000000  0.057692  0.019231  0.025641  0.000000  0.025641  \n",
       "-LRB-   0.000000  0.000000  0.000000  0.036145  0.096386  0.000000  0.000000  \n",
       "RBR     0.000000  0.000000  0.000000  0.020833  0.000000  0.000000  0.041667  \n",
       "MD      0.000000  0.000000  0.000000  0.000000  0.000000  0.000000  0.000000  \n",
       "VBN     0.000000  0.000000  0.010631  0.008638  0.011960  0.000000  0.007973  \n",
       "JJR     0.000000  0.000000  0.000000  0.026616  0.003802  0.000000  0.064639  \n",
       ":       0.000000  0.009828  0.002457  0.066339  0.100737  0.000000  0.007371  \n",
       "DT      0.000000  0.000000  0.000173  0.000520  0.024610  0.000000  0.001040  \n",
       "WDT     0.000000  0.000000  0.000000  0.000000  0.002890  0.000000  0.000000  \n",
       "WP$     0.000000  0.000000  0.000000  0.000000  0.000000  0.000000  0.000000  \n",
       "$       0.000000  0.000000  0.000000  0.000000  0.992439  0.000000  0.000000  \n",
       "SYM     0.000000  0.000000  0.000000  0.000000  0.000000  0.000000  0.000000  \n",
       "NNS     0.000000  0.000000  0.000235  0.057412  0.002118  0.000000  0.122824  \n",
       "POS     0.000000  0.000000  0.000000  0.005310  0.023009  0.000000  0.010619  \n",
       "IN      0.001004  0.000000  0.033128  0.001004  0.062957  0.000574  0.002438  \n",
       "PRP     0.000000  0.000000  0.000000  0.007420  0.000824  0.000000  0.025556  \n",
       "EX      0.000000  0.000000  0.000000  0.000000  0.000000  0.000000  0.000000  \n",
       "WP      0.000000  0.000000  0.006369  0.000000  0.006369  0.000000  0.000000  \n",
       "VBG     0.000989  0.000000  0.025717  0.011869  0.020772  0.000000  0.016815  \n",
       "VBZ     0.000000  0.000000  0.009302  0.002658  0.019269  0.000000  0.002658  \n",
       "-NONE-  0.000000  0.000000  0.003632  0.009827  0.003204  0.000000  0.092288  \n",
       "NN      0.000000  0.000000  0.000215  0.038536  0.005813  0.000000  0.102691  \n",
       "JJS     0.000000  0.000000  0.000000  0.007937  0.047619  0.000000  0.007937  \n",
       "PDT     0.000000  0.000000  0.117647  0.000000  0.000000  0.000000  0.000000  \n",
       "LS      0.000000  0.000000  0.000000  0.000000  0.000000  0.000000  0.333333  \n",
       "PRP$    0.000000  0.000000  0.000000  0.000000  0.023166  0.000000  0.000000  \n",
       "CC      0.000000  0.000622  0.013052  0.000622  0.039776  0.000000  0.000000  \n",
       "CD      0.000000  0.000000  0.000000  0.015397  0.180418  0.000000  0.049349  \n",
       "#       0.000000  0.000000  0.000000  0.000000  1.000000  0.000000  0.000000  \n",
       ".       0.000369  0.002213  0.008115  0.047584  0.008115  0.000000  0.000000  \n",
       "\n",
       "[46 rows x 46 columns]"
      ]
     },
     "execution_count": 125,
     "metadata": {},
     "output_type": "execute_result"
    }
   ],
   "source": [
    "tags_transistion = pd.DataFrame(obj.construct_transition_matrix(), index=list(unique_set), columns=list(unique_set))\n",
    "tags_transistion"
   ]
  },
  {
   "cell_type": "code",
   "execution_count": 128,
   "metadata": {
    "ExecuteTime": {
     "end_time": "2019-09-21T15:32:55.606588Z",
     "start_time": "2019-09-21T15:32:55.595232Z"
    }
   },
   "outputs": [
    {
     "data": {
      "text/plain": [
       "VB        0.000738\n",
       "VBP       0.000000\n",
       "''        0.057912\n",
       "JJ        0.034305\n",
       "RB        0.037993\n",
       "WRB       0.006640\n",
       "UH        0.000369\n",
       "NNP       0.188122\n",
       "TO        0.001107\n",
       "FW        0.000000\n",
       "``        0.071560\n",
       "-RRB-     0.004426\n",
       "RBS       0.000738\n",
       "NNPS      0.001107\n",
       "VBD       0.000000\n",
       ",         0.000000\n",
       "RP        0.000000\n",
       "-LRB-     0.003689\n",
       "RBR       0.001107\n",
       "MD        0.000369\n",
       "VBN       0.000369\n",
       "JJR       0.002213\n",
       ":         0.002213\n",
       "DT        0.217632\n",
       "WDT       0.000738\n",
       "WP$       0.000000\n",
       "$         0.001475\n",
       "SYM       0.000000\n",
       "NNS       0.042420\n",
       "POS       0.000000\n",
       "IN        0.126522\n",
       "PRP       0.055699\n",
       "EX        0.004795\n",
       "WP        0.004058\n",
       "VBG       0.003689\n",
       "VBZ       0.002213\n",
       "-NONE-    0.020657\n",
       "NN        0.037256\n",
       "JJS       0.001475\n",
       "PDT       0.000369\n",
       "LS        0.002213\n",
       "PRP$      0.008115\n",
       "CC        0.047584\n",
       "CD        0.008115\n",
       "#         0.000000\n",
       ".         0.000000\n",
       "Name: ., dtype: float32"
      ]
     },
     "execution_count": 128,
     "metadata": {},
     "output_type": "execute_result"
    }
   ],
   "source": [
    "# ===> start of the the sentence trancistion probabilities\n",
    "tags_transistion.loc['.', :]"
   ]
  },
  {
   "cell_type": "code",
   "execution_count": 140,
   "metadata": {
    "ExecuteTime": {
     "end_time": "2019-09-21T15:38:37.521659Z",
     "start_time": "2019-09-21T15:38:36.680074Z"
    }
   },
   "outputs": [
    {
     "data": {
      "image/png": "[encoded data removed]",
      "text/plain": [
       "<Figure size 1440x1440 with 2 Axes>"
      ]
     },
     "metadata": {
      "needs_background": "light"
     },
     "output_type": "display_data"
    }
   ],
   "source": [
    "plt.figure(figsize=(20, 20))\n",
    "sns.heatmap(tags_transistion)\n",
    "plt.show()"
   ]
  },
  {
   "cell_type": "markdown",
   "metadata": {},
   "source": [
    "### Test run of hidden markov model "
   ]
  },
  {
   "cell_type": "code",
   "execution_count": 142,
   "metadata": {
    "ExecuteTime": {
     "end_time": "2019-09-21T16:25:40.050786Z",
     "start_time": "2019-09-21T16:25:40.026837Z"
    }
   },
   "outputs": [
    {
     "data": {
      "text/plain": [
       "[[('There', 'EX'),\n",
       "  ('is', 'VBZ'),\n",
       "  ('no', 'DT'),\n",
       "  ('asbestos', 'NN'),\n",
       "  ('in', 'IN'),\n",
       "  ('our', 'PRP$'),\n",
       "  ('products', 'NNS'),\n",
       "  ('now', 'RB'),\n",
       "  ('.', '.'),\n",
       "  (\"''\", \"''\")],\n",
       " [('As', 'IN'),\n",
       "  ('a', 'DT'),\n",
       "  ('part', 'NN'),\n",
       "  ('of', 'IN'),\n",
       "  ('overall', 'JJ'),\n",
       "  ('efforts', 'NNS'),\n",
       "  ('*', '-NONE-'),\n",
       "  ('to', 'TO'),\n",
       "  ('reduce', 'VB'),\n",
       "  ('spending', 'NN'),\n",
       "  (',', ','),\n",
       "  ('Congress', 'NNP'),\n",
       "  ('cut', 'VBD'),\n",
       "  ('by', 'IN'),\n",
       "  ('$', '$'),\n",
       "  ('30', 'CD'),\n",
       "  ('million', 'CD'),\n",
       "  ('*U*', '-NONE-'),\n",
       "  ('the', 'DT'),\n",
       "  ('Bush', 'NNP'),\n",
       "  ('administration', 'NN'),\n",
       "  (\"'s\", 'POS'),\n",
       "  ('request', 'NN'),\n",
       "  ('for', 'IN'),\n",
       "  ('antitrust', 'JJ'),\n",
       "  ('enforcement', 'NN'),\n",
       "  ('for', 'IN'),\n",
       "  ('fiscal', 'JJ'),\n",
       "  ('1990', 'CD'),\n",
       "  (',', ','),\n",
       "  ('which', 'WDT'),\n",
       "  ('*T*-81', '-NONE-'),\n",
       "  ('began', 'VBD'),\n",
       "  ('Oct.', 'NNP'),\n",
       "  ('1', 'CD'),\n",
       "  ('.', '.')],\n",
       " [('``', '``'),\n",
       "  ('These', 'DT'),\n",
       "  ('cases', 'NNS'),\n",
       "  ('lead', 'VBP'),\n",
       "  ('to', 'TO'),\n",
       "  ('the', 'DT'),\n",
       "  ('loss', 'NN'),\n",
       "  ('of', 'IN'),\n",
       "  ('the', 'DT'),\n",
       "  ('firms', 'NNS'),\n",
       "  (\"'\", 'POS'),\n",
       "  ('social', 'JJ'),\n",
       "  ('and', 'CC'),\n",
       "  ('international', 'JJ'),\n",
       "  ('credibility', 'NN'),\n",
       "  (',', ','),\n",
       "  (\"''\", \"''\"),\n",
       "  ('a', 'DT'),\n",
       "  ('ministry', 'NN'),\n",
       "  ('statement', 'NN'),\n",
       "  ('said', 'VBD'),\n",
       "  ('*T*-1', '-NONE-'),\n",
       "  ('.', '.')],\n",
       " [('It', 'PRP'),\n",
       "  ('also', 'RB'),\n",
       "  ('said', 'VBD'),\n",
       "  ('that', 'IN'),\n",
       "  ('in', 'IN'),\n",
       "  ('July', 'NNP'),\n",
       "  (',', ','),\n",
       "  ('it', 'PRP'),\n",
       "  ('bid', 'VBD'),\n",
       "  ('10,000', 'CD'),\n",
       "  ('yen', 'NNS'),\n",
       "  ('*-2', '-NONE-'),\n",
       "  ('to', 'TO'),\n",
       "  ('design', 'VB'),\n",
       "  ('a', 'DT'),\n",
       "  ('system', 'NN'),\n",
       "  ('for', 'IN'),\n",
       "  ('the', 'DT'),\n",
       "  ('Saitama', 'NNP'),\n",
       "  ('prefectural', 'JJ'),\n",
       "  ('library', 'NN'),\n",
       "  (',', ','),\n",
       "  ('and', 'CC'),\n",
       "  ('two', 'CD'),\n",
       "  ('years', 'NNS'),\n",
       "  ('ago', 'RB'),\n",
       "  (',', ','),\n",
       "  ('it', 'PRP'),\n",
       "  ('bid', 'VBD'),\n",
       "  ('one', 'CD'),\n",
       "  ('yen', 'NN'),\n",
       "  ('*-1', '-NONE-'),\n",
       "  ('to', 'TO'),\n",
       "  ('plan', 'VB'),\n",
       "  ('the', 'DT'),\n",
       "  ('telecommunications', 'NNS'),\n",
       "  ('system', 'NN'),\n",
       "  ('for', 'IN'),\n",
       "  ('Wakayama', 'NNP'),\n",
       "  ('prefecture', 'NN'),\n",
       "  ('.', '.')],\n",
       " [('The', 'DT'),\n",
       "  ('plant', 'NN'),\n",
       "  ('will', 'MD'),\n",
       "  ('produce', 'VB'),\n",
       "  ('control', 'NN'),\n",
       "  ('devices', 'NNS'),\n",
       "  ('used', 'VBN'),\n",
       "  ('*', '-NONE-'),\n",
       "  ('in', 'IN'),\n",
       "  ('motor', 'NN'),\n",
       "  ('vehicles', 'NNS'),\n",
       "  ('and', 'CC'),\n",
       "  ('household', 'NN'),\n",
       "  ('appliances', 'NNS'),\n",
       "  ('.', '.')]]"
      ]
     },
     "execution_count": 142,
     "metadata": {},
     "output_type": "execute_result"
    }
   ],
   "source": [
    "random.seed(1234)\n",
    "\n",
    "# choose random 5 sents\n",
    "rndom = [random.randint(1,len(test_set)) for x in range(5)]\n",
    "\n",
    "# list of sents\n",
    "test_run = [test_set[i] for i in rndom]\n",
    "\n",
    "# list of tagged words\n",
    "test_run_base = [tup for sent in test_run for tup in sent]\n",
    "\n",
    "# list of untagged words\n",
    "test_tagged_words = [tup[0] for sent in test_run for tup in sent]\n",
    "test_run"
   ]
  },
  {
   "cell_type": "code",
   "execution_count": 158,
   "metadata": {
    "ExecuteTime": {
     "end_time": "2019-09-21T16:35:33.861133Z",
     "start_time": "2019-09-21T16:35:04.987849Z"
    }
   },
   "outputs": [],
   "source": [
    "start = time.time()\n",
    "obj = HiddenMarkovModel(train_tagged_words, unique_set)\n",
    "tagged_seq = obj.vetarbi(test_tagged_words, tags_transistion)\n",
    "end = time.time()\n",
    "difference = end-start"
   ]
  },
  {
   "cell_type": "code",
   "execution_count": 159,
   "metadata": {
    "ExecuteTime": {
     "end_time": "2019-09-21T16:35:34.067743Z",
     "start_time": "2019-09-21T16:35:34.063283Z"
    }
   },
   "outputs": [
    {
     "name": "stdout",
     "output_type": "stream",
     "text": [
      "Time taken in seconds:  28.867427110671997\n",
      "[('There', 'EX'), ('is', 'VBZ'), ('no', 'DT'), ('asbestos', 'NN'), ('in', 'IN'), ('our', 'PRP$'), ('products', 'NNS'), ('now', 'RB'), ('.', '.'), (\"''\", \"''\"), ('As', 'IN'), ('a', 'DT'), ('part', 'NN'), ('of', 'IN'), ('overall', 'JJ'), ('efforts', 'NNS'), ('*', '-NONE-'), ('to', 'TO'), ('reduce', 'VB'), ('spending', 'NN'), (',', ','), ('Congress', 'NNP'), ('cut', 'VBD'), ('by', 'IN'), ('$', '$'), ('30', 'CD'), ('million', 'CD'), ('*U*', '-NONE-'), ('the', 'DT'), ('Bush', 'NNP'), ('administration', 'NN'), (\"'s\", 'POS'), ('request', 'NN'), ('for', 'IN'), ('antitrust', 'JJ'), ('enforcement', 'NN'), ('for', 'IN'), ('fiscal', 'JJ'), ('1990', 'CD'), (',', ','), ('which', 'WDT'), ('*T*-81', 'VB'), ('began', 'VB'), ('Oct.', 'NNP'), ('1', 'CD'), ('.', '.'), ('``', '``'), ('These', 'DT'), ('cases', 'NNS'), ('lead', 'VBP'), ('to', 'TO'), ('the', 'DT'), ('loss', 'NN'), ('of', 'IN'), ('the', 'DT'), ('firms', 'NNS'), (\"'\", 'POS'), ('social', 'JJ'), ('and', 'CC'), ('international', 'JJ'), ('credibility', 'NN'), (',', ','), (\"''\", \"''\"), ('a', 'DT'), ('ministry', 'VB'), ('statement', 'NN'), ('said', 'VBD'), ('*T*-1', '-NONE-'), ('.', '.'), ('It', 'PRP'), ('also', 'RB'), ('said', 'VBD'), ('that', 'IN'), ('in', 'IN'), ('July', 'NNP'), (',', ','), ('it', 'PRP'), ('bid', 'VBD'), ('10,000', 'CD'), ('yen', 'NN'), ('*-2', '-NONE-'), ('to', 'TO'), ('design', 'VB'), ('a', 'DT'), ('system', 'NN'), ('for', 'IN'), ('the', 'DT'), ('Saitama', 'VB'), ('prefectural', 'VB'), ('library', 'NN'), (',', ','), ('and', 'CC'), ('two', 'CD'), ('years', 'NNS'), ('ago', 'IN'), (',', ','), ('it', 'PRP'), ('bid', 'VBD'), ('one', 'CD'), ('yen', 'NN'), ('*-1', '-NONE-'), ('to', 'TO'), ('plan', 'NN'), ('the', 'DT'), ('telecommunications', 'NNS'), ('system', 'NN'), ('for', 'IN'), ('Wakayama', 'VB'), ('prefecture', 'NN'), ('.', '.'), ('The', 'DT'), ('plant', 'NN'), ('will', 'MD'), ('produce', 'VB'), ('control', 'NN'), ('devices', 'NNS'), ('used', 'VBN'), ('*', '-NONE-'), ('in', 'IN'), ('motor', 'NN'), ('vehicles', 'NNS'), ('and', 'CC'), ('household', 'NN'), ('appliances', 'NNS'), ('.', '.')]\n"
     ]
    }
   ],
   "source": [
    "print(\"Time taken in seconds: \", difference)\n",
    "print(tagged_seq)"
   ]
  },
  {
   "cell_type": "code",
   "execution_count": 160,
   "metadata": {
    "ExecuteTime": {
     "end_time": "2019-09-21T16:35:51.906819Z",
     "start_time": "2019-09-21T16:35:51.896377Z"
    }
   },
   "outputs": [
    {
     "data": {
      "text/plain": [
       "0.928"
      ]
     },
     "execution_count": 160,
     "metadata": {},
     "output_type": "execute_result"
    }
   ],
   "source": [
    "check = [i for i, j in zip(tagged_seq, test_run_base) if i == j] \n",
    "accuracy = len(check)/len(tagged_seq)\n",
    "accuracy"
   ]
  },
  {
   "cell_type": "code",
   "execution_count": 161,
   "metadata": {
    "ExecuteTime": {
     "end_time": "2019-09-21T16:36:09.243624Z",
     "start_time": "2019-09-21T16:36:09.228717Z"
    }
   },
   "outputs": [
    {
     "data": {
      "text/plain": [
       "[[('which', 'WDT'), (('*T*-81', 'VB'), ('*T*-81', '-NONE-'))],\n",
       " [('*T*-81', '-NONE-'), (('began', 'VB'), ('began', 'VBD'))],\n",
       " [('a', 'DT'), (('ministry', 'VB'), ('ministry', 'NN'))],\n",
       " [('10,000', 'CD'), (('yen', 'NN'), ('yen', 'NNS'))],\n",
       " [('the', 'DT'), (('Saitama', 'VB'), ('Saitama', 'NNP'))],\n",
       " [('Saitama', 'NNP'), (('prefectural', 'VB'), ('prefectural', 'JJ'))],\n",
       " [('years', 'NNS'), (('ago', 'IN'), ('ago', 'RB'))],\n",
       " [('to', 'TO'), (('plan', 'NN'), ('plan', 'VB'))],\n",
       " [('for', 'IN'), (('Wakayama', 'VB'), ('Wakayama', 'NNP'))]]"
      ]
     },
     "execution_count": 161,
     "metadata": {},
     "output_type": "execute_result"
    }
   ],
   "source": [
    "incorrect_tagged_cases = [[test_run_base[i-1],j] for i, j in enumerate(zip(tagged_seq, test_run_base)) if j[0]!=j[1]]\n",
    "incorrect_tagged_cases"
   ]
  },
  {
   "cell_type": "code",
   "execution_count": 163,
   "metadata": {
    "ExecuteTime": {
     "end_time": "2019-09-21T16:37:13.745028Z",
     "start_time": "2019-09-21T16:37:07.753197Z"
    }
   },
   "outputs": [
    {
     "name": "stdout",
     "output_type": "stream",
     "text": [
      "5.983627080917358\n",
      "[('Twitter', 'VB'), ('is', 'VB'), ('the', 'DT'), ('best', 'JJS'), ('networking', 'VB'), ('social', 'JJ'), ('site', 'VB'), ('.', '.'), ('Man', 'NNP'), ('is', 'VBZ'), ('a', 'DT'), ('social', 'JJ'), ('animal', 'VB'), ('.', '.'), ('Data', 'NNP'), ('science', 'NN'), ('is', 'VBZ'), ('an', 'DT'), ('emerging', 'VBG'), ('field', 'NN'), ('.', '.'), ('Data', 'NNP'), ('science', 'NN'), ('jobs', 'NNS'), ('are', 'VBP'), ('high', 'JJ'), ('in', 'IN'), ('demand', 'NN'), ('.', '.')]\n",
      "5.983627080917358\n"
     ]
    }
   ],
   "source": [
    "sentence_test = 'Twitter is the best networking social site. Man is a social animal. Data science is an emerging field. Data science jobs are high in demand.'\n",
    "words = word_tokenize(sentence_test)\n",
    "\n",
    "start = time.time()\n",
    "tagged_seq = obj.vetarbi(words, tags_transistion)\n",
    "end = time.time()\n",
    "difference = end-start\n",
    "print(difference)\n",
    "print(tagged_seq)\n",
    "print(difference)"
   ]
  },
  {
   "cell_type": "code",
   "execution_count": null,
   "metadata": {},
   "outputs": [],
   "source": []
  }
 ],
 "metadata": {
  "kernelspec": {
   "display_name": "Python 3",
   "language": "python",
   "name": "python3"
  },
  "language_info": {
   "codemirror_mode": {
    "name": "ipython",
    "version": 3
   },
   "file_extension": ".py",
   "mimetype": "text/x-python",
   "name": "python",
   "nbconvert_exporter": "python",
   "pygments_lexer": "ipython3",
   "version": "3.7.3"
  },
  "varInspector": {
   "cols": {
    "lenName": 16,
    "lenType": 16,
    "lenVar": 40
   },
   "kernels_config": {
    "python": {
     "delete_cmd_postfix": "",
     "delete_cmd_prefix": "del ",
     "library": "var_list.py",
     "varRefreshCmd": "print(var_dic_list())"
    },
    "r": {
     "delete_cmd_postfix": ") ",
     "delete_cmd_prefix": "rm(",
     "library": "var_list.r",
     "varRefreshCmd": "cat(var_dic_list()) "
    }
   },
   "types_to_exclude": [
    "module",
    "function",
    "builtin_function_or_method",
    "instance",
    "_Feature"
   ],
   "window_display": false
  }
 },
 "nbformat": 4,
 "nbformat_minor": 2
}
