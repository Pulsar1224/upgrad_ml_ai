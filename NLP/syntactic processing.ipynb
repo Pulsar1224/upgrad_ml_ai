{
 "cells": [
  {
   "cell_type": "code",
   "execution_count": 45,
   "metadata": {
    "ExecuteTime": {
     "end_time": "2019-09-22T10:42:48.312834Z",
     "start_time": "2019-09-22T10:42:48.305331Z"
    }
   },
   "outputs": [],
   "source": [
    "import nltk"
   ]
  },
  {
   "cell_type": "code",
   "execution_count": 11,
   "metadata": {
    "ExecuteTime": {
     "end_time": "2019-09-22T08:11:35.908334Z",
     "start_time": "2019-09-22T08:11:35.896343Z"
    }
   },
   "outputs": [],
   "source": [
    "_format = nltk.CFG.fromstring(\"\"\"\n",
    "S -> NP VP\n",
    "NP -> Det N | Det N PP\n",
    "VP -> V | V NP | V NP PP\n",
    "PP -> P NP\n",
    "\n",
    "Det -> 'a' | 'an' | 'the' | 'The'\n",
    "N -> 'man' | 'park' | 'dog' | 'telescope'\n",
    "V -> 'saw' | 'walked'\n",
    "P -> 'in' | 'with'\n",
    "\"\"\")"
   ]
  },
  {
   "cell_type": "code",
   "execution_count": 15,
   "metadata": {
    "ExecuteTime": {
     "end_time": "2019-09-22T08:13:23.815635Z",
     "start_time": "2019-09-22T08:13:23.800697Z"
    }
   },
   "outputs": [],
   "source": [
    "_str = \"The man saw a dog in the park with a telescope\"\n",
    "from nltk.parse import RecursiveDescentParser"
   ]
  },
  {
   "cell_type": "code",
   "execution_count": 12,
   "metadata": {
    "ExecuteTime": {
     "end_time": "2019-09-22T08:11:39.481849Z",
     "start_time": "2019-09-22T08:11:39.467386Z"
    }
   },
   "outputs": [
    {
     "data": {
      "text/plain": [
       "<generator object RecursiveDescentParser._parse at 0x1a15afe228>"
      ]
     },
     "execution_count": 12,
     "metadata": {},
     "output_type": "execute_result"
    }
   ],
   "source": [
    "rdp = RecursiveDescentParser(_format)\n",
    "trees = rdp.parse(_str.split())\n",
    "trees"
   ]
  },
  {
   "cell_type": "code",
   "execution_count": 13,
   "metadata": {
    "ExecuteTime": {
     "end_time": "2019-09-22T08:11:52.014208Z",
     "start_time": "2019-09-22T08:11:51.967753Z"
    }
   },
   "outputs": [
    {
     "name": "stdout",
     "output_type": "stream",
     "text": [
      "(S\n",
      "  (NP (Det The) (N man))\n",
      "  (VP\n",
      "    (V saw)\n",
      "    (NP\n",
      "      (Det a)\n",
      "      (N dog)\n",
      "      (PP\n",
      "        (P in)\n",
      "        (NP\n",
      "          (Det the)\n",
      "          (N park)\n",
      "          (PP (P with) (NP (Det a) (N telescope))))))))\n",
      "(S\n",
      "  (NP (Det The) (N man))\n",
      "  (VP\n",
      "    (V saw)\n",
      "    (NP (Det a) (N dog))\n",
      "    (PP\n",
      "      (P in)\n",
      "      (NP\n",
      "        (Det the)\n",
      "        (N park)\n",
      "        (PP (P with) (NP (Det a) (N telescope)))))))\n",
      "(S\n",
      "  (NP (Det The) (N man))\n",
      "  (VP\n",
      "    (V saw)\n",
      "    (NP (Det a) (N dog) (PP (P in) (NP (Det the) (N park))))\n",
      "    (PP (P with) (NP (Det a) (N telescope)))))\n"
     ]
    }
   ],
   "source": [
    "for tree in trees:\n",
    "    print(tree)"
   ]
  },
  {
   "cell_type": "code",
   "execution_count": 14,
   "metadata": {
    "ExecuteTime": {
     "end_time": "2019-09-22T08:12:38.364152Z",
     "start_time": "2019-09-22T08:12:38.358785Z"
    }
   },
   "outputs": [],
   "source": [
    "pattern_format = \"\"\"\n",
    "S -> NP VP\n",
    "NP ->  NP PP | DT NN\n",
    "VP -> V JJ\n",
    "PP -> IN NP\n",
    "DT -> 'The' | 'the'\n",
    "NN -> 'work' | ‘analyst’\n",
    "V -> 'is'\n",
    "JJ -> 'good'\n",
    "IN -> 'of'\n",
    "\"\"\""
   ]
  },
  {
   "cell_type": "code",
   "execution_count": 17,
   "metadata": {
    "ExecuteTime": {
     "end_time": "2019-09-22T08:14:28.050226Z",
     "start_time": "2019-09-22T08:14:28.034049Z"
    }
   },
   "outputs": [
    {
     "ename": "AttributeError",
     "evalue": "'str' object has no attribute 'check_coverage'",
     "output_type": "error",
     "traceback": [
      "\u001b[0;31m---------------------------------------------------------------------------\u001b[0m",
      "\u001b[0;31mAttributeError\u001b[0m                            Traceback (most recent call last)",
      "\u001b[0;32m<ipython-input-17-6bf0d8cb7e40>\u001b[0m in \u001b[0;36m<module>\u001b[0;34m\u001b[0m\n\u001b[1;32m      1\u001b[0m \u001b[0m_str\u001b[0m \u001b[0;34m=\u001b[0m \u001b[0;34m\"The work of the analyst is good\"\u001b[0m\u001b[0;34m\u001b[0m\u001b[0;34m\u001b[0m\u001b[0m\n\u001b[1;32m      2\u001b[0m \u001b[0mrdp2\u001b[0m \u001b[0;34m=\u001b[0m \u001b[0mRecursiveDescentParser\u001b[0m\u001b[0;34m(\u001b[0m\u001b[0mpattern_format\u001b[0m\u001b[0;34m)\u001b[0m\u001b[0;34m\u001b[0m\u001b[0;34m\u001b[0m\u001b[0m\n\u001b[0;32m----> 3\u001b[0;31m \u001b[0mrdp2\u001b[0m\u001b[0;34m.\u001b[0m\u001b[0mparse\u001b[0m\u001b[0;34m(\u001b[0m\u001b[0m_str\u001b[0m\u001b[0;34m.\u001b[0m\u001b[0msplit\u001b[0m\u001b[0;34m(\u001b[0m\u001b[0;34m)\u001b[0m\u001b[0;34m)\u001b[0m\u001b[0;34m\u001b[0m\u001b[0;34m\u001b[0m\u001b[0m\n\u001b[0m",
      "\u001b[0;32m/anaconda3/lib/python3.7/site-packages/nltk/parse/recursivedescent.py\u001b[0m in \u001b[0;36mparse\u001b[0;34m(self, tokens)\u001b[0m\n\u001b[1;32m     76\u001b[0m \u001b[0;34m\u001b[0m\u001b[0m\n\u001b[1;32m     77\u001b[0m         \u001b[0mtokens\u001b[0m \u001b[0;34m=\u001b[0m \u001b[0mlist\u001b[0m\u001b[0;34m(\u001b[0m\u001b[0mtokens\u001b[0m\u001b[0;34m)\u001b[0m\u001b[0;34m\u001b[0m\u001b[0;34m\u001b[0m\u001b[0m\n\u001b[0;32m---> 78\u001b[0;31m         \u001b[0mself\u001b[0m\u001b[0;34m.\u001b[0m\u001b[0m_grammar\u001b[0m\u001b[0;34m.\u001b[0m\u001b[0mcheck_coverage\u001b[0m\u001b[0;34m(\u001b[0m\u001b[0mtokens\u001b[0m\u001b[0;34m)\u001b[0m\u001b[0;34m\u001b[0m\u001b[0;34m\u001b[0m\u001b[0m\n\u001b[0m\u001b[1;32m     79\u001b[0m \u001b[0;34m\u001b[0m\u001b[0m\n\u001b[1;32m     80\u001b[0m         \u001b[0;31m# Start a recursive descent parse, with an initial tree\u001b[0m\u001b[0;34m\u001b[0m\u001b[0;34m\u001b[0m\u001b[0;34m\u001b[0m\u001b[0m\n",
      "\u001b[0;31mAttributeError\u001b[0m: 'str' object has no attribute 'check_coverage'"
     ]
    }
   ],
   "source": [
    "_str = \"The work of the analyst is good\"\n",
    "rdp2 = RecursiveDescentParser(pattern_format)\n",
    "rdp2.parse(_str.split())"
   ]
  },
  {
   "cell_type": "code",
   "execution_count": 19,
   "metadata": {
    "ExecuteTime": {
     "end_time": "2019-09-22T08:17:48.139626Z",
     "start_time": "2019-09-22T08:16:32.235809Z"
    }
   },
   "outputs": [],
   "source": [
    "nltk.app.rdparser()"
   ]
  },
  {
   "cell_type": "code",
   "execution_count": 20,
   "metadata": {
    "ExecuteTime": {
     "end_time": "2019-09-22T09:48:35.755468Z",
     "start_time": "2019-09-22T09:48:35.739102Z"
    }
   },
   "outputs": [],
   "source": [
    "from nltk.parse import ShiftReduceParser"
   ]
  },
  {
   "cell_type": "code",
   "execution_count": 28,
   "metadata": {
    "ExecuteTime": {
     "end_time": "2019-09-22T09:51:02.963001Z",
     "start_time": "2019-09-22T09:51:02.953074Z"
    }
   },
   "outputs": [],
   "source": [
    "_str = \"The man saw a dog\"\n",
    "_p = ShiftReduceParser(_format)\n",
    "trees = _p.parse(_str.split())\n",
    "for tree in trees:\n",
    "    print(tree)"
   ]
  },
  {
   "cell_type": "code",
   "execution_count": 29,
   "metadata": {
    "ExecuteTime": {
     "end_time": "2019-09-22T10:30:47.400389Z",
     "start_time": "2019-09-22T10:30:47.363678Z"
    }
   },
   "outputs": [],
   "source": [
    "pcfg_grammar = nltk.PCFG.fromstring(\"\"\"\n",
    "    S -> NP VP [1.0] \n",
    "    PP -> P NP [1.0]\n",
    "    VP -> V NP [0.7] | VP PP [0.3] \n",
    "    NP -> NP PP [0.4] \n",
    "    P -> 'with' [1.0]\n",
    "    V -> 'saw' [1.0]\n",
    "    NP -> 'astronomers' [0.1] | 'ears' [0.18] | 'saw' [0.04] | 'stars' [0.18] | 'telescopes' [0.1]\n",
    "    \"\"\")"
   ]
  },
  {
   "cell_type": "code",
   "execution_count": 47,
   "metadata": {
    "ExecuteTime": {
     "end_time": "2019-09-22T10:42:55.770531Z",
     "start_time": "2019-09-22T10:42:55.763482Z"
    }
   },
   "outputs": [
    {
     "name": "stdout",
     "output_type": "stream",
     "text": [
      "(S\n",
      "  (NP astronomers)\n",
      "  (VP (V saw) (NP (NP stars) (PP (P with) (NP ears))))) (p=0.0009072)\n",
      "(S\n",
      "  (NP astronomers)\n",
      "  (VP (VP (V saw) (NP stars)) (PP (P with) (NP ears)))) (p=0.0006804)\n"
     ]
    }
   ],
   "source": [
    "from nltk.parse import pchart\n",
    "str = \"astronomers saw stars with ears\"\n",
    "parser = pchart.InsideChartParser(pcfg_grammar)\n",
    "trees = parser.parse(str.split())\n",
    "for tree in trees:\n",
    "    print(tree)"
   ]
  },
  {
   "cell_type": "code",
   "execution_count": 49,
   "metadata": {
    "ExecuteTime": {
     "end_time": "2019-09-22T10:43:49.484952Z",
     "start_time": "2019-09-22T10:43:49.471649Z"
    }
   },
   "outputs": [],
   "source": [
    "_str = \"the man saw a dog in the park with a telescope\"\n",
    "\n",
    "pcfg_grammar = nltk.PCFG.fromstring(\"\"\"\n",
    "    S -> NP VP [1.0]\n",
    "    NP -> Det N [0.7] | Det N PP [0.3]\n",
    "    VP -> V [0.4] | V NP [0.4] |V NP PP [0.2]\n",
    "    PP -> P NP [1.0]\n",
    "    Det -> 'a' [0.4]| 'the' [0.6]\n",
    "    N -> 'man' [0.5] | 'dog'  [0.3]| 'park' [0.1]| 'telescope' [0.1]\n",
    "    VB -> 'saw' [1.0]\n",
    "    P -> 'with' [0.6]| 'in' [0.4]\n",
    "    \"\"\")\n",
    "\n",
    "p = nltk.parse.pchart.InsideChartParser(pcfg_grammar)\n",
    "t = p.parse(_str.split())\n",
    "t\n",
    "\n",
    "for tree in t:\n",
    "    print(tree)"
   ]
  },
  {
   "cell_type": "code",
   "execution_count": 50,
   "metadata": {
    "ExecuteTime": {
     "end_time": "2019-09-22T11:42:26.417877Z",
     "start_time": "2019-09-22T11:42:26.387686Z"
    }
   },
   "outputs": [
    {
     "name": "stdout",
     "output_type": "stream",
     "text": [
      "(S\n",
      "  (NP (DT the) (N lion))\n",
      "  (VP\n",
      "    (VP (V chased) (NP (DT the) (N deer)))\n",
      "    (PP (P until) (NP (N it) (V fell))))) (p=3.6864e-06)\n",
      "(S\n",
      "  (NP (DT the) (N lion))\n",
      "  (VP\n",
      "    (V chased)\n",
      "    (NP\n",
      "      (NP (DT the) (N deer))\n",
      "      (PP (P until) (NP (N it) (V fell)))))) (p=2.304e-06)\n"
     ]
    }
   ],
   "source": [
    "grammer = nltk.PCFG.fromstring(\"\"\"\n",
    "S -> NP VP [1.0]\n",
    "PP -> P NP [1.0]\n",
    "VP -> V NP [0.3]| VP PP [0.4] | V [0.3]\n",
    "NP -> DT N [0.4] | N [0.2] | NP PP [0.25] | N V [0.15]\n",
    "P -> 'until' [0.4] | 'with' [0.6]\n",
    "V -> 'chased' [0.4] | 'stumbled' [0.2] | 'fell' [0.4]\n",
    "N -> 'lion' [0.5]| 'deer' [0.4] | 'it' [0.1]\n",
    "DT -> 'the' [1.0]\n",
    "\"\"\")\n",
    "_str = \"the lion chased the deer until it fell\"\n",
    "p = pchart.InsideChartParser(grammer)\n",
    "trees = p.parse(_str.split())\n",
    "for tree in trees:\n",
    "    print(tree)"
   ]
  },
  {
   "cell_type": "code",
   "execution_count": null,
   "metadata": {},
   "outputs": [],
   "source": []
  }
 ],
 "metadata": {
  "kernelspec": {
   "display_name": "Python 3",
   "language": "python",
   "name": "python3"
  },
  "language_info": {
   "codemirror_mode": {
    "name": "ipython",
    "version": 3
   },
   "file_extension": ".py",
   "mimetype": "text/x-python",
   "name": "python",
   "nbconvert_exporter": "python",
   "pygments_lexer": "ipython3",
   "version": "3.7.3"
  },
  "varInspector": {
   "cols": {
    "lenName": 16,
    "lenType": 16,
    "lenVar": 40
   },
   "kernels_config": {
    "python": {
     "delete_cmd_postfix": "",
     "delete_cmd_prefix": "del ",
     "library": "var_list.py",
     "varRefreshCmd": "print(var_dic_list())"
    },
    "r": {
     "delete_cmd_postfix": ") ",
     "delete_cmd_prefix": "rm(",
     "library": "var_list.r",
     "varRefreshCmd": "cat(var_dic_list()) "
    }
   },
   "types_to_exclude": [
    "module",
    "function",
    "builtin_function_or_method",
    "instance",
    "_Feature"
   ],
   "window_display": false
  }
 },
 "nbformat": 4,
 "nbformat_minor": 2
}
