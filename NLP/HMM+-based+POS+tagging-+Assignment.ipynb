{
 "cells": [
  {
   "cell_type": "markdown",
   "metadata": {},
   "source": [
    "## POS tagging using modified Viterbi"
   ]
  },
  {
   "cell_type": "markdown",
   "metadata": {},
   "source": [
    "### Data Preparation"
   ]
  },
  {
   "cell_type": "code",
   "execution_count": 1,
   "metadata": {
    "ExecuteTime": {
     "end_time": "2019-09-30T14:17:45.655347Z",
     "start_time": "2019-09-30T14:17:34.795037Z"
    }
   },
   "outputs": [],
   "source": [
    "#Importing libraries\n",
    "import nltk\n",
    "import random\n",
    "import numpy as np\n",
    "from sklearn.model_selection import train_test_split\n",
    "import pandas as pd \n",
    "import matplotlib.pyplot as plt\n",
    "import seaborn as sns\n",
    "import time"
   ]
  },
  {
   "cell_type": "code",
   "execution_count": 2,
   "metadata": {
    "ExecuteTime": {
     "end_time": "2019-09-30T14:17:49.936161Z",
     "start_time": "2019-09-30T14:17:45.658187Z"
    }
   },
   "outputs": [],
   "source": [
    "# reading the Treebank tagged sentences\n",
    "nltk_data = list(nltk.corpus.treebank.tagged_sents(tagset='universal'))"
   ]
  },
  {
   "cell_type": "code",
   "execution_count": 3,
   "metadata": {
    "ExecuteTime": {
     "end_time": "2019-09-30T14:17:49.941379Z",
     "start_time": "2019-09-30T14:17:49.938015Z"
    }
   },
   "outputs": [
    {
     "name": "stdout",
     "output_type": "stream",
     "text": [
      "[[('Pierre', 'NOUN'), ('Vinken', 'NOUN'), (',', '.'), ('61', 'NUM'), ('years', 'NOUN'), ('old', 'ADJ'), (',', '.'), ('will', 'VERB'), ('join', 'VERB'), ('the', 'DET'), ('board', 'NOUN'), ('as', 'ADP'), ('a', 'DET'), ('nonexecutive', 'ADJ'), ('director', 'NOUN'), ('Nov.', 'NOUN'), ('29', 'NUM'), ('.', '.')], [('Mr.', 'NOUN'), ('Vinken', 'NOUN'), ('is', 'VERB'), ('chairman', 'NOUN'), ('of', 'ADP'), ('Elsevier', 'NOUN'), ('N.V.', 'NOUN'), (',', '.'), ('the', 'DET'), ('Dutch', 'NOUN'), ('publishing', 'VERB'), ('group', 'NOUN'), ('.', '.')], [('Rudolph', 'NOUN'), ('Agnew', 'NOUN'), (',', '.'), ('55', 'NUM'), ('years', 'NOUN'), ('old', 'ADJ'), ('and', 'CONJ'), ('former', 'ADJ'), ('chairman', 'NOUN'), ('of', 'ADP'), ('Consolidated', 'NOUN'), ('Gold', 'NOUN'), ('Fields', 'NOUN'), ('PLC', 'NOUN'), (',', '.'), ('was', 'VERB'), ('named', 'VERB'), ('*-1', 'X'), ('a', 'DET'), ('nonexecutive', 'ADJ'), ('director', 'NOUN'), ('of', 'ADP'), ('this', 'DET'), ('British', 'ADJ'), ('industrial', 'ADJ'), ('conglomerate', 'NOUN'), ('.', '.')], [('A', 'DET'), ('form', 'NOUN'), ('of', 'ADP'), ('asbestos', 'NOUN'), ('once', 'ADV'), ('used', 'VERB'), ('*', 'X'), ('*', 'X'), ('to', 'PRT'), ('make', 'VERB'), ('Kent', 'NOUN'), ('cigarette', 'NOUN'), ('filters', 'NOUN'), ('has', 'VERB'), ('caused', 'VERB'), ('a', 'DET'), ('high', 'ADJ'), ('percentage', 'NOUN'), ('of', 'ADP'), ('cancer', 'NOUN'), ('deaths', 'NOUN'), ('among', 'ADP'), ('a', 'DET'), ('group', 'NOUN'), ('of', 'ADP'), ('workers', 'NOUN'), ('exposed', 'VERB'), ('*', 'X'), ('to', 'PRT'), ('it', 'PRON'), ('more', 'ADV'), ('than', 'ADP'), ('30', 'NUM'), ('years', 'NOUN'), ('ago', 'ADP'), (',', '.'), ('researchers', 'NOUN'), ('reported', 'VERB'), ('0', 'X'), ('*T*-1', 'X'), ('.', '.')], [('The', 'DET'), ('asbestos', 'NOUN'), ('fiber', 'NOUN'), (',', '.'), ('crocidolite', 'NOUN'), (',', '.'), ('is', 'VERB'), ('unusually', 'ADV'), ('resilient', 'ADJ'), ('once', 'ADP'), ('it', 'PRON'), ('enters', 'VERB'), ('the', 'DET'), ('lungs', 'NOUN'), (',', '.'), ('with', 'ADP'), ('even', 'ADV'), ('brief', 'ADJ'), ('exposures', 'NOUN'), ('to', 'PRT'), ('it', 'PRON'), ('causing', 'VERB'), ('symptoms', 'NOUN'), ('that', 'DET'), ('*T*-1', 'X'), ('show', 'VERB'), ('up', 'PRT'), ('decades', 'NOUN'), ('later', 'ADJ'), (',', '.'), ('researchers', 'NOUN'), ('said', 'VERB'), ('0', 'X'), ('*T*-2', 'X'), ('.', '.')], [('Lorillard', 'NOUN'), ('Inc.', 'NOUN'), (',', '.'), ('the', 'DET'), ('unit', 'NOUN'), ('of', 'ADP'), ('New', 'ADJ'), ('York-based', 'ADJ'), ('Loews', 'NOUN'), ('Corp.', 'NOUN'), ('that', 'DET'), ('*T*-2', 'X'), ('makes', 'VERB'), ('Kent', 'NOUN'), ('cigarettes', 'NOUN'), (',', '.'), ('stopped', 'VERB'), ('using', 'VERB'), ('crocidolite', 'NOUN'), ('in', 'ADP'), ('its', 'PRON'), ('Micronite', 'NOUN'), ('cigarette', 'NOUN'), ('filters', 'NOUN'), ('in', 'ADP'), ('1956', 'NUM'), ('.', '.')], [('Although', 'ADP'), ('preliminary', 'ADJ'), ('findings', 'NOUN'), ('were', 'VERB'), ('reported', 'VERB'), ('*-2', 'X'), ('more', 'ADV'), ('than', 'ADP'), ('a', 'DET'), ('year', 'NOUN'), ('ago', 'ADP'), (',', '.'), ('the', 'DET'), ('latest', 'ADJ'), ('results', 'NOUN'), ('appear', 'VERB'), ('in', 'ADP'), ('today', 'NOUN'), (\"'s\", 'PRT'), ('New', 'NOUN'), ('England', 'NOUN'), ('Journal', 'NOUN'), ('of', 'ADP'), ('Medicine', 'NOUN'), (',', '.'), ('a', 'DET'), ('forum', 'NOUN'), ('likely', 'ADJ'), ('*', 'X'), ('to', 'PRT'), ('bring', 'VERB'), ('new', 'ADJ'), ('attention', 'NOUN'), ('to', 'PRT'), ('the', 'DET'), ('problem', 'NOUN'), ('.', '.')], [('A', 'DET'), ('Lorillard', 'NOUN'), ('spokewoman', 'NOUN'), ('said', 'VERB'), (',', '.'), ('``', '.'), ('This', 'DET'), ('is', 'VERB'), ('an', 'DET'), ('old', 'ADJ'), ('story', 'NOUN'), ('.', '.')], [('We', 'PRON'), (\"'re\", 'VERB'), ('talking', 'VERB'), ('about', 'ADP'), ('years', 'NOUN'), ('ago', 'ADP'), ('before', 'ADP'), ('anyone', 'NOUN'), ('heard', 'VERB'), ('of', 'ADP'), ('asbestos', 'NOUN'), ('having', 'VERB'), ('any', 'DET'), ('questionable', 'ADJ'), ('properties', 'NOUN'), ('.', '.')], [('There', 'DET'), ('is', 'VERB'), ('no', 'DET'), ('asbestos', 'NOUN'), ('in', 'ADP'), ('our', 'PRON'), ('products', 'NOUN'), ('now', 'ADV'), ('.', '.'), (\"''\", '.')], [('Neither', 'DET'), ('Lorillard', 'NOUN'), ('nor', 'CONJ'), ('the', 'DET'), ('researchers', 'NOUN'), ('who', 'PRON'), ('*T*-3', 'X'), ('studied', 'VERB'), ('the', 'DET'), ('workers', 'NOUN'), ('were', 'VERB'), ('aware', 'ADJ'), ('of', 'ADP'), ('any', 'DET'), ('research', 'NOUN'), ('on', 'ADP'), ('smokers', 'NOUN'), ('of', 'ADP'), ('the', 'DET'), ('Kent', 'NOUN'), ('cigarettes', 'NOUN'), ('.', '.')], [('``', '.'), ('We', 'PRON'), ('have', 'VERB'), ('no', 'DET'), ('useful', 'ADJ'), ('information', 'NOUN'), ('on', 'ADP'), ('whether', 'ADP'), ('users', 'NOUN'), ('are', 'VERB'), ('at', 'ADP'), ('risk', 'NOUN'), (',', '.'), (\"''\", '.'), ('said', 'VERB'), ('*T*-1', 'X'), ('James', 'NOUN'), ('A.', 'NOUN'), ('Talcott', 'NOUN'), ('of', 'ADP'), ('Boston', 'NOUN'), (\"'s\", 'PRT'), ('Dana-Farber', 'NOUN'), ('Cancer', 'NOUN'), ('Institute', 'NOUN'), ('.', '.')], [('Dr.', 'NOUN'), ('Talcott', 'NOUN'), ('led', 'VERB'), ('a', 'DET'), ('team', 'NOUN'), ('of', 'ADP'), ('researchers', 'NOUN'), ('from', 'ADP'), ('the', 'DET'), ('National', 'NOUN'), ('Cancer', 'NOUN'), ('Institute', 'NOUN'), ('and', 'CONJ'), ('the', 'DET'), ('medical', 'ADJ'), ('schools', 'NOUN'), ('of', 'ADP'), ('Harvard', 'NOUN'), ('University', 'NOUN'), ('and', 'CONJ'), ('Boston', 'NOUN'), ('University', 'NOUN'), ('.', '.')], [('The', 'DET'), ('Lorillard', 'NOUN'), ('spokeswoman', 'NOUN'), ('said', 'VERB'), ('0', 'X'), ('asbestos', 'NOUN'), ('was', 'VERB'), ('used', 'VERB'), ('*-1', 'X'), ('in', 'ADP'), ('``', '.'), ('very', 'ADV'), ('modest', 'ADJ'), ('amounts', 'NOUN'), (\"''\", '.'), ('in', 'ADP'), ('*', 'X'), ('making', 'VERB'), ('paper', 'NOUN'), ('for', 'ADP'), ('the', 'DET'), ('filters', 'NOUN'), ('in', 'ADP'), ('the', 'DET'), ('early', 'ADJ'), ('1950s', 'NUM'), ('and', 'CONJ'), ('replaced', 'VERB'), ('*-1', 'X'), ('with', 'ADP'), ('a', 'DET'), ('different', 'ADJ'), ('type', 'NOUN'), ('of', 'ADP'), ('filter', 'NOUN'), ('in', 'ADP'), ('1956', 'NUM'), ('.', '.')], [('From', 'ADP'), ('1953', 'NUM'), ('to', 'PRT'), ('1955', 'NUM'), (',', '.'), ('9.8', 'NUM'), ('billion', 'NUM'), ('Kent', 'NOUN'), ('cigarettes', 'NOUN'), ('with', 'ADP'), ('the', 'DET'), ('filters', 'NOUN'), ('were', 'VERB'), ('sold', 'VERB'), ('*-3', 'X'), (',', '.'), ('the', 'DET'), ('company', 'NOUN'), ('said', 'VERB'), ('0', 'X'), ('*T*-1', 'X'), ('.', '.')], [('Among', 'ADP'), ('33', 'NUM'), ('men', 'NOUN'), ('who', 'PRON'), ('*T*-4', 'X'), ('worked', 'VERB'), ('closely', 'ADV'), ('with', 'ADP'), ('the', 'DET'), ('substance', 'NOUN'), (',', '.'), ('28', 'NUM'), ('*ICH*-1', 'X'), ('have', 'VERB'), ('died', 'VERB'), ('--', '.'), ('more', 'ADJ'), ('than', 'ADP'), ('three', 'NUM'), ('times', 'NOUN'), ('the', 'DET'), ('expected', 'VERB'), ('number', 'NOUN'), ('.', '.')], [('Four', 'NUM'), ('of', 'ADP'), ('the', 'DET'), ('five', 'NUM'), ('surviving', 'VERB'), ('workers', 'NOUN'), ('have', 'VERB'), ('asbestos-related', 'ADJ'), ('diseases', 'NOUN'), (',', '.'), ('including', 'VERB'), ('three', 'NUM'), ('with', 'ADP'), ('recently', 'ADV'), ('diagnosed', 'VERB'), ('cancer', 'NOUN'), ('.', '.')], [('The', 'DET'), ('total', 'NOUN'), ('of', 'ADP'), ('18', 'NUM'), ('deaths', 'NOUN'), ('from', 'ADP'), ('malignant', 'ADJ'), ('mesothelioma', 'NOUN'), (',', '.'), ('lung', 'NOUN'), ('cancer', 'NOUN'), ('and', 'CONJ'), ('asbestosis', 'NOUN'), ('was', 'VERB'), ('far', 'ADV'), ('higher', 'ADJ'), ('than', 'ADP'), ('*', 'X'), ('expected', 'VERB'), ('*?*', 'X'), (',', '.'), ('the', 'DET'), ('researchers', 'NOUN'), ('said', 'VERB'), ('0', 'X'), ('*T*-1', 'X'), ('.', '.')], [('``', '.'), ('The', 'DET'), ('morbidity', 'NOUN'), ('rate', 'NOUN'), ('is', 'VERB'), ('a', 'DET'), ('striking', 'ADJ'), ('finding', 'NOUN'), ('among', 'ADP'), ('those', 'DET'), ('of', 'ADP'), ('us', 'PRON'), ('who', 'PRON'), ('*T*-5', 'X'), ('study', 'VERB'), ('asbestos-related', 'ADJ'), ('diseases', 'NOUN'), (',', '.'), (\"''\", '.'), ('said', 'VERB'), ('*T*-1', 'X'), ('Dr.', 'NOUN'), ('Talcott', 'NOUN'), ('.', '.')], [('The', 'DET'), ('percentage', 'NOUN'), ('of', 'ADP'), ('lung', 'NOUN'), ('cancer', 'NOUN'), ('deaths', 'NOUN'), ('among', 'ADP'), ('the', 'DET'), ('workers', 'NOUN'), ('at', 'ADP'), ('the', 'DET'), ('West', 'NOUN'), ('Groton', 'NOUN'), (',', '.'), ('Mass.', 'NOUN'), (',', '.'), ('paper', 'NOUN'), ('factory', 'NOUN'), ('appears', 'VERB'), ('*-1', 'X'), ('to', 'PRT'), ('be', 'VERB'), ('the', 'DET'), ('highest', 'ADJ'), ('for', 'ADP'), ('any', 'DET'), ('asbestos', 'NOUN'), ('workers', 'NOUN'), ('studied', 'VERB'), ('*', 'X'), ('in', 'ADP'), ('Western', 'ADJ'), ('industrialized', 'VERB'), ('countries', 'NOUN'), (',', '.'), ('he', 'PRON'), ('said', 'VERB'), ('0', 'X'), ('*T*-2', 'X'), ('.', '.')], [('The', 'DET'), ('plant', 'NOUN'), (',', '.'), ('which', 'DET'), ('*T*-1', 'X'), ('is', 'VERB'), ('owned', 'VERB'), ('*-4', 'X'), ('by', 'ADP'), ('Hollingsworth', 'NOUN'), ('&', 'CONJ'), ('Vose', 'NOUN'), ('Co.', 'NOUN'), (',', '.'), ('was', 'VERB'), ('under', 'ADP'), ('contract', 'NOUN'), ('*ICH*-2', 'X'), ('with', 'ADP'), ('Lorillard', 'NOUN'), ('*', 'X'), ('to', 'PRT'), ('make', 'VERB'), ('the', 'DET'), ('cigarette', 'NOUN'), ('filters', 'NOUN'), ('.', '.')], [('The', 'DET'), ('finding', 'NOUN'), ('probably', 'ADV'), ('will', 'VERB'), ('support', 'VERB'), ('those', 'DET'), ('who', 'PRON'), ('*T*-6', 'X'), ('argue', 'VERB'), ('that', 'ADP'), ('the', 'DET'), ('U.S.', 'NOUN'), ('should', 'VERB'), ('regulate', 'VERB'), ('the', 'DET'), ('class', 'NOUN'), ('of', 'ADP'), ('asbestos', 'NOUN'), ('including', 'VERB'), ('crocidolite', 'NOUN'), ('more', 'ADV'), ('stringently', 'ADV'), ('than', 'ADP'), ('the', 'DET'), ('common', 'ADJ'), ('kind', 'NOUN'), ('of', 'ADP'), ('asbestos', 'NOUN'), (',', '.'), ('chrysotile', 'NOUN'), (',', '.'), ('found', 'VERB'), ('*', 'X'), ('in', 'ADP'), ('most', 'ADJ'), ('schools', 'NOUN'), ('and', 'CONJ'), ('other', 'ADJ'), ('buildings', 'NOUN'), (',', '.'), ('Dr.', 'NOUN'), ('Talcott', 'NOUN'), ('said', 'VERB'), ('0', 'X'), ('*T*-1', 'X'), ('.', '.')], [('The', 'DET'), ('U.S.', 'NOUN'), ('is', 'VERB'), ('one', 'NUM'), ('of', 'ADP'), ('the', 'DET'), ('few', 'ADJ'), ('industrialized', 'VERB'), ('nations', 'NOUN'), ('that', 'DET'), ('*T*-7', 'X'), ('does', 'VERB'), (\"n't\", 'ADV'), ('have', 'VERB'), ('a', 'DET'), ('higher', 'ADJ'), ('standard', 'NOUN'), ('of', 'ADP'), ('regulation', 'NOUN'), ('for', 'ADP'), ('the', 'DET'), ('smooth', 'ADJ'), (',', '.'), ('needle-like', 'ADJ'), ('fibers', 'NOUN'), ('such', 'ADJ'), ('as', 'ADP'), ('crocidolite', 'NOUN'), ('that', 'DET'), ('*T*-1', 'X'), ('are', 'VERB'), ('classified', 'VERB'), ('*-5', 'X'), ('as', 'ADP'), ('amphobiles', 'NOUN'), (',', '.'), ('according', 'VERB'), ('to', 'PRT'), ('Brooke', 'NOUN'), ('T.', 'NOUN'), ('Mossman', 'NOUN'), (',', '.'), ('a', 'DET'), ('professor', 'NOUN'), ('of', 'ADP'), ('pathlogy', 'NOUN'), ('at', 'ADP'), ('the', 'DET'), ('University', 'NOUN'), ('of', 'ADP'), ('Vermont', 'NOUN'), ('College', 'NOUN'), ('of', 'ADP'), ('Medicine', 'NOUN'), ('.', '.')], [('More', 'ADV'), ('common', 'ADJ'), ('chrysotile', 'NOUN'), ('fibers', 'NOUN'), ('are', 'VERB'), ('curly', 'ADJ'), ('and', 'CONJ'), ('are', 'VERB'), ('more', 'ADV'), ('easily', 'ADV'), ('rejected', 'VERB'), ('*-1', 'X'), ('by', 'ADP'), ('the', 'DET'), ('body', 'NOUN'), (',', '.'), ('Dr.', 'NOUN'), ('Mossman', 'NOUN'), ('explained', 'VERB'), ('0', 'X'), ('*T*-2', 'X'), ('.', '.')], [('In', 'ADP'), ('July', 'NOUN'), (',', '.'), ('the', 'DET'), ('Environmental', 'NOUN'), ('Protection', 'NOUN'), ('Agency', 'NOUN'), ('imposed', 'VERB'), ('a', 'DET'), ('gradual', 'ADJ'), ('ban', 'NOUN'), ('on', 'ADP'), ('virtually', 'ADV'), ('all', 'DET'), ('uses', 'NOUN'), ('of', 'ADP'), ('asbestos', 'NOUN'), ('.', '.')], [('By', 'ADP'), ('1997', 'NUM'), (',', '.'), ('almost', 'ADV'), ('all', 'DET'), ('remaining', 'VERB'), ('uses', 'NOUN'), ('of', 'ADP'), ('cancer-causing', 'ADJ'), ('asbestos', 'NOUN'), ('will', 'VERB'), ('be', 'VERB'), ('outlawed', 'VERB'), ('*-6', 'X'), ('.', '.')], [('About', 'ADP'), ('160', 'NUM'), ('workers', 'NOUN'), ('at', 'ADP'), ('a', 'DET'), ('factory', 'NOUN'), ('that', 'DET'), ('*T*-8', 'X'), ('made', 'VERB'), ('paper', 'NOUN'), ('for', 'ADP'), ('the', 'DET'), ('Kent', 'NOUN'), ('filters', 'NOUN'), ('were', 'VERB'), ('exposed', 'VERB'), ('*-7', 'X'), ('to', 'PRT'), ('asbestos', 'NOUN'), ('in', 'ADP'), ('the', 'DET'), ('1950s', 'NUM'), ('.', '.')], [('Areas', 'NOUN'), ('of', 'ADP'), ('the', 'DET'), ('factory', 'NOUN'), ('*ICH*-2', 'X'), ('were', 'VERB'), ('particularly', 'ADV'), ('dusty', 'ADJ'), ('where', 'ADV'), ('the', 'DET'), ('crocidolite', 'NOUN'), ('was', 'VERB'), ('used', 'VERB'), ('*-8', 'X'), ('*T*-1', 'X'), ('.', '.')], [('Workers', 'NOUN'), ('dumped', 'VERB'), ('large', 'ADJ'), ('burlap', 'NOUN'), ('sacks', 'NOUN'), ('of', 'ADP'), ('the', 'DET'), ('imported', 'VERB'), ('material', 'NOUN'), ('into', 'ADP'), ('a', 'DET'), ('huge', 'ADJ'), ('bin', 'NOUN'), (',', '.'), ('poured', 'VERB'), ('in', 'PRT'), ('cotton', 'NOUN'), ('and', 'CONJ'), ('acetate', 'NOUN'), ('fibers', 'NOUN'), ('and', 'CONJ'), ('mechanically', 'ADV'), ('mixed', 'VERB'), ('the', 'DET'), ('dry', 'ADJ'), ('fibers', 'NOUN'), ('in', 'ADP'), ('a', 'DET'), ('process', 'NOUN'), ('used', 'VERB'), ('*', 'X'), ('*', 'X'), ('to', 'PRT'), ('make', 'VERB'), ('filters', 'NOUN'), ('.', '.')], [('Workers', 'NOUN'), ('described', 'VERB'), ('``', '.'), ('clouds', 'NOUN'), ('of', 'ADP'), ('blue', 'ADJ'), ('dust', 'NOUN'), (\"''\", '.'), ('that', 'DET'), ('*T*-1', 'X'), ('hung', 'VERB'), ('over', 'ADP'), ('parts', 'NOUN'), ('of', 'ADP'), ('the', 'DET'), ('factory', 'NOUN'), (',', '.'), ('even', 'ADV'), ('though', 'ADP'), ('exhaust', 'NOUN'), ('fans', 'NOUN'), ('ventilated', 'VERB'), ('the', 'DET'), ('area', 'NOUN'), ('.', '.')], [('``', '.'), ('There', 'DET'), (\"'s\", 'VERB'), ('no', 'DET'), ('question', 'NOUN'), ('that', 'ADP'), ('some', 'DET'), ('of', 'ADP'), ('those', 'DET'), ('workers', 'NOUN'), ('and', 'CONJ'), ('managers', 'NOUN'), ('contracted', 'VERB'), ('asbestos-related', 'ADJ'), ('diseases', 'NOUN'), (',', '.'), (\"''\", '.'), ('said', 'VERB'), ('*T*-1', 'X'), ('Darrell', 'NOUN'), ('Phillips', 'NOUN'), (',', '.'), ('vice', 'NOUN'), ('president', 'NOUN'), ('of', 'ADP'), ('human', 'ADJ'), ('resources', 'NOUN'), ('for', 'ADP'), ('Hollingsworth', 'NOUN'), ('&', 'CONJ'), ('Vose', 'NOUN'), ('.', '.')], [('``', '.'), ('But', 'CONJ'), ('you', 'PRON'), ('have', 'VERB'), ('*-1', 'X'), ('to', 'PRT'), ('recognize', 'VERB'), ('that', 'ADP'), ('these', 'DET'), ('events', 'NOUN'), ('took', 'VERB'), ('place', 'NOUN'), ('35', 'NUM'), ('years', 'NOUN'), ('ago', 'ADP'), ('.', '.')], [('It', 'PRON'), ('has', 'VERB'), ('no', 'DET'), ('bearing', 'NOUN'), ('on', 'ADP'), ('our', 'PRON'), ('work', 'NOUN'), ('force', 'NOUN'), ('today', 'NOUN'), ('.', '.')], [('Yields', 'NOUN'), ('on', 'ADP'), ('money-market', 'ADJ'), ('mutual', 'ADJ'), ('funds', 'NOUN'), ('continued', 'VERB'), ('*-1', 'X'), ('to', 'PRT'), ('slide', 'VERB'), (',', '.'), ('amid', 'ADP'), ('signs', 'NOUN'), ('that', 'ADP'), ('portfolio', 'NOUN'), ('managers', 'NOUN'), ('expect', 'VERB'), ('further', 'ADJ'), ('declines', 'NOUN'), ('in', 'ADP'), ('interest', 'NOUN'), ('rates', 'NOUN'), ('.', '.')], [('The', 'DET'), ('average', 'ADJ'), ('seven-day', 'ADJ'), ('compound', 'NOUN'), ('yield', 'NOUN'), ('of', 'ADP'), ('the', 'DET'), ('400', 'NUM'), ('taxable', 'ADJ'), ('funds', 'NOUN'), ('tracked', 'VERB'), ('*', 'X'), ('by', 'ADP'), ('IBC', 'NOUN'), (\"'s\", 'PRT'), ('Money', 'NOUN'), ('Fund', 'NOUN'), ('Report', 'NOUN'), ('eased', 'VERB'), ('a', 'DET'), ('fraction', 'NOUN'), ('of', 'ADP'), ('a', 'DET'), ('percentage', 'NOUN'), ('point', 'NOUN'), ('to', 'PRT'), ('8.45', 'NUM'), ('%', 'NOUN'), ('from', 'ADP'), ('8.47', 'NUM'), ('%', 'NOUN'), ('for', 'ADP'), ('the', 'DET'), ('week', 'NOUN'), ('ended', 'VERB'), ('Tuesday', 'NOUN'), ('.', '.')], [('Compound', 'NOUN'), ('yields', 'NOUN'), ('assume', 'VERB'), ('reinvestment', 'NOUN'), ('of', 'ADP'), ('dividends', 'NOUN'), ('and', 'CONJ'), ('that', 'ADP'), ('the', 'DET'), ('current', 'ADJ'), ('yield', 'NOUN'), ('continues', 'VERB'), ('for', 'ADP'), ('a', 'DET'), ('year', 'NOUN'), ('.', '.')], [('Average', 'ADJ'), ('maturity', 'NOUN'), ('of', 'ADP'), ('the', 'DET'), ('funds', 'NOUN'), (\"'\", 'PRT'), ('investments', 'NOUN'), ('lengthened', 'VERB'), ('by', 'ADP'), ('a', 'DET'), ('day', 'NOUN'), ('to', 'PRT'), ('41', 'NUM'), ('days', 'NOUN'), (',', '.'), ('the', 'DET'), ('longest', 'ADJ'), ('since', 'ADP'), ('early', 'ADJ'), ('August', 'NOUN'), (',', '.'), ('according', 'VERB'), ('to', 'PRT'), ('Donoghue', 'NOUN'), (\"'s\", 'PRT'), ('.', '.')], [('Longer', 'ADJ'), ('maturities', 'NOUN'), ('are', 'VERB'), ('thought', 'VERB'), ('*-1', 'X'), ('to', 'PRT'), ('indicate', 'VERB'), ('declining', 'VERB'), ('interest', 'NOUN'), ('rates', 'NOUN'), ('because', 'ADP'), ('they', 'PRON'), ('permit', 'VERB'), ('portfolio', 'NOUN'), ('managers', 'NOUN'), ('to', 'PRT'), ('retain', 'VERB'), ('relatively', 'ADV'), ('higher', 'ADJ'), ('rates', 'NOUN'), ('for', 'ADP'), ('a', 'DET'), ('longer', 'ADJ'), ('period', 'NOUN'), ('.', '.')], [('Shorter', 'ADJ'), ('maturities', 'NOUN'), ('are', 'VERB'), ('considered', 'VERB'), ('*-9', 'X'), ('a', 'DET'), ('sign', 'NOUN'), ('of', 'ADP'), ('rising', 'VERB'), ('rates', 'NOUN'), ('because', 'ADP'), ('portfolio', 'NOUN'), ('managers', 'NOUN'), ('can', 'VERB'), ('capture', 'VERB'), ('higher', 'ADJ'), ('rates', 'NOUN'), ('sooner', 'ADV'), ('.', '.')], [('The', 'DET'), ('average', 'ADJ'), ('maturity', 'NOUN'), ('for', 'ADP'), ('funds', 'NOUN'), ('open', 'ADJ'), ('only', 'ADV'), ('to', 'PRT'), ('institutions', 'NOUN'), (',', '.'), ('considered', 'VERB'), ('by', 'ADP'), ('some', 'DET'), ('*', 'X'), ('to', 'PRT'), ('be', 'VERB'), ('a', 'DET'), ('stronger', 'ADJ'), ('indicator', 'NOUN'), ('because', 'ADP'), ('those', 'DET'), ('managers', 'NOUN'), ('watch', 'VERB'), ('the', 'DET'), ('market', 'NOUN'), ('closely', 'ADV'), (',', '.'), ('reached', 'VERB'), ('a', 'DET'), ('high', 'ADJ'), ('point', 'NOUN'), ('for', 'ADP'), ('the', 'DET'), ('year', 'NOUN'), ('--', '.'), ('33', 'NUM'), ('days', 'NOUN'), ('.', '.')]]\n"
     ]
    }
   ],
   "source": [
    "print(nltk_data[:40])"
   ]
  },
  {
   "cell_type": "code",
   "execution_count": 4,
   "metadata": {
    "ExecuteTime": {
     "end_time": "2019-09-30T14:17:49.950619Z",
     "start_time": "2019-09-30T14:17:49.944095Z"
    }
   },
   "outputs": [],
   "source": [
    "random.seed(1234)\n",
    "train_set, test_set = train_test_split(nltk_data, test_size=0.05)"
   ]
  },
  {
   "cell_type": "code",
   "execution_count": 5,
   "metadata": {
    "ExecuteTime": {
     "end_time": "2019-09-30T14:17:49.960015Z",
     "start_time": "2019-09-30T14:17:49.954928Z"
    }
   },
   "outputs": [
    {
     "name": "stdout",
     "output_type": "stream",
     "text": [
      "3718\n",
      "196\n"
     ]
    }
   ],
   "source": [
    "print(len(train_set))\n",
    "print(len(test_set))"
   ]
  },
  {
   "cell_type": "code",
   "execution_count": 6,
   "metadata": {
    "ExecuteTime": {
     "end_time": "2019-09-30T14:17:49.975890Z",
     "start_time": "2019-09-30T14:17:49.962158Z"
    }
   },
   "outputs": [
    {
     "data": {
      "text/plain": [
       "95655"
      ]
     },
     "execution_count": 6,
     "metadata": {},
     "output_type": "execute_result"
    }
   ],
   "source": [
    "train_tagged_words = [tup for sent in train_set for tup in sent]\n",
    "len(train_tagged_words)"
   ]
  },
  {
   "cell_type": "code",
   "execution_count": 7,
   "metadata": {
    "ExecuteTime": {
     "end_time": "2019-09-30T14:17:49.991176Z",
     "start_time": "2019-09-30T14:17:49.978119Z"
    }
   },
   "outputs": [
    {
     "data": {
      "text/plain": [
       "['Bank', 'of', 'New', 'England', 'Corp.', 'said', '0', 'it', 'has', 'held']"
      ]
     },
     "execution_count": 7,
     "metadata": {},
     "output_type": "execute_result"
    }
   ],
   "source": [
    "tokens = [pair[0] for pair in train_tagged_words]\n",
    "tokens[:10]"
   ]
  },
  {
   "cell_type": "code",
   "execution_count": 8,
   "metadata": {
    "ExecuteTime": {
     "end_time": "2019-09-30T14:17:50.004180Z",
     "start_time": "2019-09-30T14:17:49.993074Z"
    }
   },
   "outputs": [
    {
     "name": "stdout",
     "output_type": "stream",
     "text": [
      "12085\n"
     ]
    }
   ],
   "source": [
    "V = set(tokens)\n",
    "print(len(V))"
   ]
  },
  {
   "cell_type": "code",
   "execution_count": 9,
   "metadata": {
    "ExecuteTime": {
     "end_time": "2019-09-30T14:17:50.016961Z",
     "start_time": "2019-09-30T14:17:50.006194Z"
    }
   },
   "outputs": [
    {
     "data": {
      "text/plain": [
       "12"
      ]
     },
     "execution_count": 9,
     "metadata": {},
     "output_type": "execute_result"
    }
   ],
   "source": [
    "T = set([pair[1] for pair in train_tagged_words])\n",
    "len(T)"
   ]
  },
  {
   "cell_type": "code",
   "execution_count": 10,
   "metadata": {
    "ExecuteTime": {
     "end_time": "2019-09-30T14:17:50.022198Z",
     "start_time": "2019-09-30T14:17:50.018765Z"
    }
   },
   "outputs": [
    {
     "name": "stdout",
     "output_type": "stream",
     "text": [
      "{'.', 'X', 'NUM', 'ADP', 'NOUN', 'PRON', 'ADV', 'ADJ', 'PRT', 'DET', 'VERB', 'CONJ'}\n"
     ]
    }
   ],
   "source": [
    "print(T)"
   ]
  },
  {
   "cell_type": "markdown",
   "metadata": {},
   "source": [
    "### Build the vanilla Viterbi based POS tagger"
   ]
  },
  {
   "cell_type": "markdown",
   "metadata": {},
   "source": [
    "#### Emission probabilities: "
   ]
  },
  {
   "cell_type": "code",
   "execution_count": 11,
   "metadata": {
    "ExecuteTime": {
     "end_time": "2019-09-30T14:17:50.032742Z",
     "start_time": "2019-09-30T14:17:50.024584Z"
    }
   },
   "outputs": [],
   "source": [
    "t = len(T)\n",
    "v = len(V)\n",
    "w_given_t = np.zeros((t, v))"
   ]
  },
  {
   "cell_type": "code",
   "execution_count": 12,
   "metadata": {
    "ExecuteTime": {
     "end_time": "2019-09-30T14:17:50.038385Z",
     "start_time": "2019-09-30T14:17:50.034480Z"
    }
   },
   "outputs": [],
   "source": [
    "def word_given_tag(word, tag, train_bag = train_tagged_words):\n",
    "    tag_list = [pair for pair in train_bag if pair[1]==tag]\n",
    "    count_tag = len(tag_list)\n",
    "    w_given_tag_list = [pair[0] for pair in tag_list if pair[0]==word]\n",
    "    count_w_given_tag = len(w_given_tag_list)\n",
    "    return (count_w_given_tag, count_tag)"
   ]
  },
  {
   "cell_type": "code",
   "execution_count": 13,
   "metadata": {
    "ExecuteTime": {
     "end_time": "2019-09-30T14:17:50.064256Z",
     "start_time": "2019-09-30T14:17:50.040376Z"
    }
   },
   "outputs": [
    {
     "name": "stdout",
     "output_type": "stream",
     "text": [
      "(2, 12866)\n",
      "(0, 11122)\n",
      "(0, 3046)\n"
     ]
    }
   ],
   "source": [
    "print(word_given_tag('Think', 'VERB'))\n",
    "print(word_given_tag('Think', '.'))\n",
    "print(word_given_tag('Think', 'PRT'))\n"
   ]
  },
  {
   "cell_type": "code",
   "execution_count": 14,
   "metadata": {
    "ExecuteTime": {
     "end_time": "2019-09-30T14:17:50.070581Z",
     "start_time": "2019-09-30T14:17:50.066257Z"
    }
   },
   "outputs": [],
   "source": [
    "def t2_given_t1(t2, t1, train_bag = train_tagged_words):\n",
    "    tags = [pair[1] for pair in train_bag]\n",
    "    count_t1 = len([t for t in tags if t==t1])\n",
    "    count_t2_t1 = 0\n",
    "    for index in range(len(tags)-1):\n",
    "        if tags[index]==t1 and tags[index+1] == t2:\n",
    "            count_t2_t1 += 1\n",
    "    return (count_t2_t1, count_t1)"
   ]
  },
  {
   "cell_type": "code",
   "execution_count": 15,
   "metadata": {
    "ExecuteTime": {
     "end_time": "2019-09-30T14:17:50.092223Z",
     "start_time": "2019-09-30T14:17:50.072744Z"
    }
   },
   "outputs": [
    {
     "name": "stdout",
     "output_type": "stream",
     "text": [
      "(457, 12866)\n"
     ]
    }
   ],
   "source": [
    "print(t2_given_t1(t2='PRON', t1='VERB'))"
   ]
  },
  {
   "cell_type": "code",
   "execution_count": 16,
   "metadata": {
    "ExecuteTime": {
     "end_time": "2019-09-30T14:17:54.495862Z",
     "start_time": "2019-09-30T14:17:50.094161Z"
    }
   },
   "outputs": [],
   "source": [
    "tags_matrix = np.zeros((len(T), len(T)), dtype='float32')\n",
    "for i, t1 in enumerate(list(T)):\n",
    "    for j, t2 in enumerate(list(T)): \n",
    "        tags_matrix[i, j] = t2_given_t1(t2, t1)[0]/t2_given_t1(t2, t1)[1]"
   ]
  },
  {
   "cell_type": "code",
   "execution_count": 17,
   "metadata": {
    "ExecuteTime": {
     "end_time": "2019-09-30T14:17:54.539012Z",
     "start_time": "2019-09-30T14:17:54.500837Z"
    }
   },
   "outputs": [
    {
     "data": {
      "text/html": [
       "<div>\n",
       "<style scoped>\n",
       "    .dataframe tbody tr th:only-of-type {\n",
       "        vertical-align: middle;\n",
       "    }\n",
       "\n",
       "    .dataframe tbody tr th {\n",
       "        vertical-align: top;\n",
       "    }\n",
       "\n",
       "    .dataframe thead th {\n",
       "        text-align: right;\n",
       "    }\n",
       "</style>\n",
       "<table border=\"1\" class=\"dataframe\">\n",
       "  <thead>\n",
       "    <tr style=\"text-align: right;\">\n",
       "      <th></th>\n",
       "      <th>.</th>\n",
       "      <th>X</th>\n",
       "      <th>NUM</th>\n",
       "      <th>ADP</th>\n",
       "      <th>NOUN</th>\n",
       "      <th>PRON</th>\n",
       "      <th>ADV</th>\n",
       "      <th>ADJ</th>\n",
       "      <th>PRT</th>\n",
       "      <th>DET</th>\n",
       "      <th>VERB</th>\n",
       "      <th>CONJ</th>\n",
       "    </tr>\n",
       "  </thead>\n",
       "  <tbody>\n",
       "    <tr>\n",
       "      <th>.</th>\n",
       "      <td>0.091171</td>\n",
       "      <td>0.027153</td>\n",
       "      <td>0.081280</td>\n",
       "      <td>0.091530</td>\n",
       "      <td>0.222262</td>\n",
       "      <td>0.066445</td>\n",
       "      <td>0.052778</td>\n",
       "      <td>0.044416</td>\n",
       "      <td>0.002428</td>\n",
       "      <td>0.173620</td>\n",
       "      <td>0.088653</td>\n",
       "      <td>0.058173</td>\n",
       "    </tr>\n",
       "    <tr>\n",
       "      <th>X</th>\n",
       "      <td>0.165235</td>\n",
       "      <td>0.075223</td>\n",
       "      <td>0.002863</td>\n",
       "      <td>0.144243</td>\n",
       "      <td>0.062182</td>\n",
       "      <td>0.056298</td>\n",
       "      <td>0.025445</td>\n",
       "      <td>0.017017</td>\n",
       "      <td>0.183047</td>\n",
       "      <td>0.055184</td>\n",
       "      <td>0.202767</td>\n",
       "      <td>0.010496</td>\n",
       "    </tr>\n",
       "    <tr>\n",
       "      <th>NUM</th>\n",
       "      <td>0.118741</td>\n",
       "      <td>0.213493</td>\n",
       "      <td>0.183208</td>\n",
       "      <td>0.035382</td>\n",
       "      <td>0.351124</td>\n",
       "      <td>0.001499</td>\n",
       "      <td>0.002999</td>\n",
       "      <td>0.033283</td>\n",
       "      <td>0.026687</td>\n",
       "      <td>0.002999</td>\n",
       "      <td>0.017091</td>\n",
       "      <td>0.013493</td>\n",
       "    </tr>\n",
       "    <tr>\n",
       "      <th>ADP</th>\n",
       "      <td>0.039932</td>\n",
       "      <td>0.034821</td>\n",
       "      <td>0.062187</td>\n",
       "      <td>0.017251</td>\n",
       "      <td>0.322756</td>\n",
       "      <td>0.067511</td>\n",
       "      <td>0.013843</td>\n",
       "      <td>0.107124</td>\n",
       "      <td>0.001491</td>\n",
       "      <td>0.324353</td>\n",
       "      <td>0.007986</td>\n",
       "      <td>0.000745</td>\n",
       "    </tr>\n",
       "    <tr>\n",
       "      <th>NOUN</th>\n",
       "      <td>0.239731</td>\n",
       "      <td>0.028888</td>\n",
       "      <td>0.009387</td>\n",
       "      <td>0.176933</td>\n",
       "      <td>0.264835</td>\n",
       "      <td>0.004730</td>\n",
       "      <td>0.016882</td>\n",
       "      <td>0.012188</td>\n",
       "      <td>0.043733</td>\n",
       "      <td>0.012625</td>\n",
       "      <td>0.147426</td>\n",
       "      <td>0.042641</td>\n",
       "    </tr>\n",
       "  </tbody>\n",
       "</table>\n",
       "</div>"
      ],
      "text/plain": [
       "             .         X       NUM       ADP      NOUN      PRON       ADV  \\\n",
       ".     0.091171  0.027153  0.081280  0.091530  0.222262  0.066445  0.052778   \n",
       "X     0.165235  0.075223  0.002863  0.144243  0.062182  0.056298  0.025445   \n",
       "NUM   0.118741  0.213493  0.183208  0.035382  0.351124  0.001499  0.002999   \n",
       "ADP   0.039932  0.034821  0.062187  0.017251  0.322756  0.067511  0.013843   \n",
       "NOUN  0.239731  0.028888  0.009387  0.176933  0.264835  0.004730  0.016882   \n",
       "\n",
       "           ADJ       PRT       DET      VERB      CONJ  \n",
       ".     0.044416  0.002428  0.173620  0.088653  0.058173  \n",
       "X     0.017017  0.183047  0.055184  0.202767  0.010496  \n",
       "NUM   0.033283  0.026687  0.002999  0.017091  0.013493  \n",
       "ADP   0.107124  0.001491  0.324353  0.007986  0.000745  \n",
       "NOUN  0.012188  0.043733  0.012625  0.147426  0.042641  "
      ]
     },
     "execution_count": 17,
     "metadata": {},
     "output_type": "execute_result"
    }
   ],
   "source": [
    "tags_df = pd.DataFrame(tags_matrix, columns = list(T), index=list(T))\n",
    "tags_df.head()"
   ]
  },
  {
   "cell_type": "code",
   "execution_count": 18,
   "metadata": {
    "ExecuteTime": {
     "end_time": "2019-09-30T14:17:54.897004Z",
     "start_time": "2019-09-30T14:17:54.550901Z"
    }
   },
   "outputs": [
    {
     "data": {
      "image/png": "[encoded data removed]",
      "text/plain": [
       "<Figure size 1296x864 with 2 Axes>"
      ]
     },
     "metadata": {
      "needs_background": "light"
     },
     "output_type": "display_data"
    }
   ],
   "source": [
    "plt.figure(figsize=(18, 12))\n",
    "sns.heatmap(tags_df)\n",
    "plt.show()"
   ]
  },
  {
   "cell_type": "code",
   "execution_count": 19,
   "metadata": {
    "ExecuteTime": {
     "end_time": "2019-09-30T14:17:55.288781Z",
     "start_time": "2019-09-30T14:17:54.902622Z"
    }
   },
   "outputs": [
    {
     "data": {
      "image/png": "[encoded data removed]",
      "text/plain": [
       "<Figure size 1296x864 with 2 Axes>"
      ]
     },
     "metadata": {
      "needs_background": "light"
     },
     "output_type": "display_data"
    }
   ],
   "source": [
    "tags_frequent = tags_df[tags_df>0.5]\n",
    "plt.figure(figsize=(18, 12))\n",
    "sns.heatmap(tags_frequent)\n",
    "plt.show()"
   ]
  },
  {
   "cell_type": "code",
   "execution_count": 20,
   "metadata": {
    "ExecuteTime": {
     "end_time": "2019-09-30T14:17:55.315022Z",
     "start_time": "2019-09-30T14:17:55.292189Z"
    }
   },
   "outputs": [
    {
     "data": {
      "text/html": [
       "<div>\n",
       "<style scoped>\n",
       "    .dataframe tbody tr th:only-of-type {\n",
       "        vertical-align: middle;\n",
       "    }\n",
       "\n",
       "    .dataframe tbody tr th {\n",
       "        vertical-align: top;\n",
       "    }\n",
       "\n",
       "    .dataframe thead th {\n",
       "        text-align: right;\n",
       "    }\n",
       "</style>\n",
       "<table border=\"1\" class=\"dataframe\">\n",
       "  <thead>\n",
       "    <tr style=\"text-align: right;\">\n",
       "      <th></th>\n",
       "      <th>.</th>\n",
       "      <th>X</th>\n",
       "      <th>NUM</th>\n",
       "      <th>ADP</th>\n",
       "      <th>NOUN</th>\n",
       "      <th>PRON</th>\n",
       "      <th>ADV</th>\n",
       "      <th>ADJ</th>\n",
       "      <th>PRT</th>\n",
       "      <th>DET</th>\n",
       "      <th>VERB</th>\n",
       "      <th>CONJ</th>\n",
       "    </tr>\n",
       "  </thead>\n",
       "  <tbody>\n",
       "    <tr>\n",
       "      <th>.</th>\n",
       "      <td>0.091171</td>\n",
       "      <td>0.027153</td>\n",
       "      <td>0.081280</td>\n",
       "      <td>0.091530</td>\n",
       "      <td>0.222262</td>\n",
       "      <td>0.066445</td>\n",
       "      <td>0.052778</td>\n",
       "      <td>0.044416</td>\n",
       "      <td>0.002428</td>\n",
       "      <td>0.173620</td>\n",
       "      <td>0.088653</td>\n",
       "      <td>0.058173</td>\n",
       "    </tr>\n",
       "    <tr>\n",
       "      <th>X</th>\n",
       "      <td>0.165235</td>\n",
       "      <td>0.075223</td>\n",
       "      <td>0.002863</td>\n",
       "      <td>0.144243</td>\n",
       "      <td>0.062182</td>\n",
       "      <td>0.056298</td>\n",
       "      <td>0.025445</td>\n",
       "      <td>0.017017</td>\n",
       "      <td>0.183047</td>\n",
       "      <td>0.055184</td>\n",
       "      <td>0.202767</td>\n",
       "      <td>0.010496</td>\n",
       "    </tr>\n",
       "    <tr>\n",
       "      <th>NUM</th>\n",
       "      <td>0.118741</td>\n",
       "      <td>0.213493</td>\n",
       "      <td>0.183208</td>\n",
       "      <td>0.035382</td>\n",
       "      <td>0.351124</td>\n",
       "      <td>0.001499</td>\n",
       "      <td>0.002999</td>\n",
       "      <td>0.033283</td>\n",
       "      <td>0.026687</td>\n",
       "      <td>0.002999</td>\n",
       "      <td>0.017091</td>\n",
       "      <td>0.013493</td>\n",
       "    </tr>\n",
       "    <tr>\n",
       "      <th>ADP</th>\n",
       "      <td>0.039932</td>\n",
       "      <td>0.034821</td>\n",
       "      <td>0.062187</td>\n",
       "      <td>0.017251</td>\n",
       "      <td>0.322756</td>\n",
       "      <td>0.067511</td>\n",
       "      <td>0.013843</td>\n",
       "      <td>0.107124</td>\n",
       "      <td>0.001491</td>\n",
       "      <td>0.324353</td>\n",
       "      <td>0.007986</td>\n",
       "      <td>0.000745</td>\n",
       "    </tr>\n",
       "    <tr>\n",
       "      <th>NOUN</th>\n",
       "      <td>0.239731</td>\n",
       "      <td>0.028888</td>\n",
       "      <td>0.009387</td>\n",
       "      <td>0.176933</td>\n",
       "      <td>0.264835</td>\n",
       "      <td>0.004730</td>\n",
       "      <td>0.016882</td>\n",
       "      <td>0.012188</td>\n",
       "      <td>0.043733</td>\n",
       "      <td>0.012625</td>\n",
       "      <td>0.147426</td>\n",
       "      <td>0.042641</td>\n",
       "    </tr>\n",
       "    <tr>\n",
       "      <th>PRON</th>\n",
       "      <td>0.037779</td>\n",
       "      <td>0.093292</td>\n",
       "      <td>0.006939</td>\n",
       "      <td>0.023130</td>\n",
       "      <td>0.212413</td>\n",
       "      <td>0.007710</td>\n",
       "      <td>0.034310</td>\n",
       "      <td>0.072860</td>\n",
       "      <td>0.012336</td>\n",
       "      <td>0.009252</td>\n",
       "      <td>0.484580</td>\n",
       "      <td>0.005397</td>\n",
       "    </tr>\n",
       "    <tr>\n",
       "      <th>ADV</th>\n",
       "      <td>0.137542</td>\n",
       "      <td>0.021595</td>\n",
       "      <td>0.031561</td>\n",
       "      <td>0.117276</td>\n",
       "      <td>0.032558</td>\n",
       "      <td>0.014950</td>\n",
       "      <td>0.077076</td>\n",
       "      <td>0.129568</td>\n",
       "      <td>0.014618</td>\n",
       "      <td>0.069103</td>\n",
       "      <td>0.347176</td>\n",
       "      <td>0.006977</td>\n",
       "    </tr>\n",
       "    <tr>\n",
       "      <th>ADJ</th>\n",
       "      <td>0.064914</td>\n",
       "      <td>0.021035</td>\n",
       "      <td>0.020707</td>\n",
       "      <td>0.078554</td>\n",
       "      <td>0.698110</td>\n",
       "      <td>0.000493</td>\n",
       "      <td>0.004273</td>\n",
       "      <td>0.066393</td>\n",
       "      <td>0.011175</td>\n",
       "      <td>0.005094</td>\n",
       "      <td>0.011668</td>\n",
       "      <td>0.017584</td>\n",
       "    </tr>\n",
       "    <tr>\n",
       "      <th>PRT</th>\n",
       "      <td>0.042679</td>\n",
       "      <td>0.014117</td>\n",
       "      <td>0.054826</td>\n",
       "      <td>0.020026</td>\n",
       "      <td>0.247866</td>\n",
       "      <td>0.018056</td>\n",
       "      <td>0.009849</td>\n",
       "      <td>0.086999</td>\n",
       "      <td>0.001970</td>\n",
       "      <td>0.101116</td>\n",
       "      <td>0.400197</td>\n",
       "      <td>0.002298</td>\n",
       "    </tr>\n",
       "    <tr>\n",
       "      <th>DET</th>\n",
       "      <td>0.017518</td>\n",
       "      <td>0.044219</td>\n",
       "      <td>0.021989</td>\n",
       "      <td>0.008699</td>\n",
       "      <td>0.641295</td>\n",
       "      <td>0.003625</td>\n",
       "      <td>0.012444</td>\n",
       "      <td>0.204664</td>\n",
       "      <td>0.000242</td>\n",
       "      <td>0.005799</td>\n",
       "      <td>0.039024</td>\n",
       "      <td>0.000483</td>\n",
       "    </tr>\n",
       "    <tr>\n",
       "      <th>VERB</th>\n",
       "      <td>0.034898</td>\n",
       "      <td>0.219105</td>\n",
       "      <td>0.021996</td>\n",
       "      <td>0.092103</td>\n",
       "      <td>0.110291</td>\n",
       "      <td>0.035520</td>\n",
       "      <td>0.082388</td>\n",
       "      <td>0.065133</td>\n",
       "      <td>0.031090</td>\n",
       "      <td>0.133763</td>\n",
       "      <td>0.168662</td>\n",
       "      <td>0.005052</td>\n",
       "    </tr>\n",
       "    <tr>\n",
       "      <th>CONJ</th>\n",
       "      <td>0.036178</td>\n",
       "      <td>0.007885</td>\n",
       "      <td>0.041280</td>\n",
       "      <td>0.052876</td>\n",
       "      <td>0.352968</td>\n",
       "      <td>0.056586</td>\n",
       "      <td>0.055195</td>\n",
       "      <td>0.116883</td>\n",
       "      <td>0.005102</td>\n",
       "      <td>0.118738</td>\n",
       "      <td>0.155844</td>\n",
       "      <td>0.000464</td>\n",
       "    </tr>\n",
       "  </tbody>\n",
       "</table>\n",
       "</div>"
      ],
      "text/plain": [
       "             .         X       NUM       ADP      NOUN      PRON       ADV  \\\n",
       ".     0.091171  0.027153  0.081280  0.091530  0.222262  0.066445  0.052778   \n",
       "X     0.165235  0.075223  0.002863  0.144243  0.062182  0.056298  0.025445   \n",
       "NUM   0.118741  0.213493  0.183208  0.035382  0.351124  0.001499  0.002999   \n",
       "ADP   0.039932  0.034821  0.062187  0.017251  0.322756  0.067511  0.013843   \n",
       "NOUN  0.239731  0.028888  0.009387  0.176933  0.264835  0.004730  0.016882   \n",
       "PRON  0.037779  0.093292  0.006939  0.023130  0.212413  0.007710  0.034310   \n",
       "ADV   0.137542  0.021595  0.031561  0.117276  0.032558  0.014950  0.077076   \n",
       "ADJ   0.064914  0.021035  0.020707  0.078554  0.698110  0.000493  0.004273   \n",
       "PRT   0.042679  0.014117  0.054826  0.020026  0.247866  0.018056  0.009849   \n",
       "DET   0.017518  0.044219  0.021989  0.008699  0.641295  0.003625  0.012444   \n",
       "VERB  0.034898  0.219105  0.021996  0.092103  0.110291  0.035520  0.082388   \n",
       "CONJ  0.036178  0.007885  0.041280  0.052876  0.352968  0.056586  0.055195   \n",
       "\n",
       "           ADJ       PRT       DET      VERB      CONJ  \n",
       ".     0.044416  0.002428  0.173620  0.088653  0.058173  \n",
       "X     0.017017  0.183047  0.055184  0.202767  0.010496  \n",
       "NUM   0.033283  0.026687  0.002999  0.017091  0.013493  \n",
       "ADP   0.107124  0.001491  0.324353  0.007986  0.000745  \n",
       "NOUN  0.012188  0.043733  0.012625  0.147426  0.042641  \n",
       "PRON  0.072860  0.012336  0.009252  0.484580  0.005397  \n",
       "ADV   0.129568  0.014618  0.069103  0.347176  0.006977  \n",
       "ADJ   0.066393  0.011175  0.005094  0.011668  0.017584  \n",
       "PRT   0.086999  0.001970  0.101116  0.400197  0.002298  \n",
       "DET   0.204664  0.000242  0.005799  0.039024  0.000483  \n",
       "VERB  0.065133  0.031090  0.133763  0.168662  0.005052  \n",
       "CONJ  0.116883  0.005102  0.118738  0.155844  0.000464  "
      ]
     },
     "execution_count": 20,
     "metadata": {},
     "output_type": "execute_result"
    }
   ],
   "source": [
    "tags_df"
   ]
  },
  {
   "cell_type": "code",
   "execution_count": 21,
   "metadata": {
    "ExecuteTime": {
     "end_time": "2019-09-30T14:17:55.326592Z",
     "start_time": "2019-09-30T14:17:55.320475Z"
    }
   },
   "outputs": [],
   "source": [
    "def Viterbi(words, train_bag = train_tagged_words):\n",
    "    state = []\n",
    "    T = list(set([pair[1] for pair in train_bag]))\n",
    "    \n",
    "    for key, word in enumerate(words):\n",
    "        #initialise list of probability column for a given observation\n",
    "        p = [] \n",
    "        for tag in T:\n",
    "            if key == 0:\n",
    "                transition_p = tags_df.loc['.', tag]\n",
    "            else:\n",
    "                transition_p = tags_df.loc[state[-1], tag]\n",
    "                \n",
    "            # compute emission and state probabilities\n",
    "            emission_p = word_given_tag(words[key], tag)[0]/word_given_tag(words[key], tag)[1]\n",
    "            state_probability = emission_p * transition_p    \n",
    "            p.append(state_probability)\n",
    "            \n",
    "        pmax = max(p)\n",
    "        # getting state for which probability is maximum\n",
    "        state_max = T[p.index(pmax)] \n",
    "        state.append(state_max)\n",
    "    return list(zip(words, state))"
   ]
  },
  {
   "cell_type": "code",
   "execution_count": 22,
   "metadata": {
    "ExecuteTime": {
     "end_time": "2019-09-30T14:17:55.347328Z",
     "start_time": "2019-09-30T14:17:55.328703Z"
    }
   },
   "outputs": [
    {
     "data": {
      "text/plain": [
       "[[('The', 'DET'),\n",
       "  ('bonus', 'NOUN'),\n",
       "  ('depended', 'VERB'),\n",
       "  ('on', 'ADP'),\n",
       "  ('her', 'PRON'),\n",
       "  ('ability', 'NOUN'),\n",
       "  ('*', 'X'),\n",
       "  ('to', 'PRT'),\n",
       "  ('produce', 'VERB'),\n",
       "  ('higher', 'ADJ'),\n",
       "  ('student-test', 'ADJ'),\n",
       "  ('scores', 'NOUN'),\n",
       "  ('.', '.')],\n",
       " [('Still', 'ADV'),\n",
       "  ('unresolved', 'ADJ'),\n",
       "  ('is', 'VERB'),\n",
       "  ('*T*-1', 'X'),\n",
       "  ('Sony', 'NOUN'),\n",
       "  (\"'s\", 'PRT'),\n",
       "  ('effort', 'NOUN'),\n",
       "  ('*', 'X'),\n",
       "  ('to', 'PRT'),\n",
       "  ('hire', 'VERB'),\n",
       "  ('producers', 'NOUN'),\n",
       "  ('Jon', 'NOUN'),\n",
       "  ('Peters', 'NOUN'),\n",
       "  ('and', 'CONJ'),\n",
       "  ('Peter', 'NOUN'),\n",
       "  ('Guber', 'NOUN'),\n",
       "  ('to', 'PRT'),\n",
       "  ('run', 'VERB'),\n",
       "  ('the', 'DET'),\n",
       "  ('studio', 'NOUN'),\n",
       "  ('.', '.')],\n",
       " [('Of', 'ADP'),\n",
       "  ('the', 'DET'),\n",
       "  ('approximately', 'ADV'),\n",
       "  ('200', 'NUM'),\n",
       "  ('sponsors', 'NOUN'),\n",
       "  ('of', 'ADP'),\n",
       "  ('the', 'DET'),\n",
       "  ('recent', 'ADJ'),\n",
       "  ('march', 'NOUN'),\n",
       "  ('in', 'ADP'),\n",
       "  ('Washington', 'NOUN'),\n",
       "  ('for', 'ADP'),\n",
       "  ('the', 'DET'),\n",
       "  ('homeless', 'NOUN'),\n",
       "  (',', '.'),\n",
       "  ('you', 'PRON'),\n",
       "  ('chose', 'VERB'),\n",
       "  ('*-1', 'X'),\n",
       "  ('to', 'PRT'),\n",
       "  ('cite', 'VERB'),\n",
       "  ('such', 'ADJ'),\n",
       "  ('groups', 'NOUN'),\n",
       "  ('as', 'ADP'),\n",
       "  ('the', 'DET'),\n",
       "  ('National', 'NOUN'),\n",
       "  ('Association', 'NOUN'),\n",
       "  ('of', 'ADP'),\n",
       "  ('Home', 'NOUN'),\n",
       "  ('Builders', 'NOUN'),\n",
       "  ('and', 'CONJ'),\n",
       "  ('the', 'DET'),\n",
       "  ('International', 'NOUN'),\n",
       "  ('Union', 'NOUN'),\n",
       "  ('of', 'ADP'),\n",
       "  ('Bricklayers', 'NOUN'),\n",
       "  ('and', 'CONJ'),\n",
       "  ('Allied', 'NOUN'),\n",
       "  ('Craftsmen', 'NOUN'),\n",
       "  (',', '.'),\n",
       "  ('*-1', 'X'),\n",
       "  ('insinuating', 'VERB'),\n",
       "  ('that', 'ADP'),\n",
       "  ('the', 'DET'),\n",
       "  ('march', 'NOUN'),\n",
       "  ('got', 'VERB'),\n",
       "  ('its', 'PRON'),\n",
       "  ('major', 'ADJ'),\n",
       "  ('support', 'NOUN'),\n",
       "  ('from', 'ADP'),\n",
       "  ('self-serving', 'ADJ'),\n",
       "  ('groups', 'NOUN'),\n",
       "  ('that', 'DET'),\n",
       "  ('``', '.'),\n",
       "  ('*T*-2', 'X'),\n",
       "  ('know', 'VERB'),\n",
       "  ('a', 'DET'),\n",
       "  ('good', 'ADJ'),\n",
       "  ('thing', 'NOUN'),\n",
       "  ('when', 'ADV'),\n",
       "  ('they', 'PRON'),\n",
       "  ('see', 'VERB'),\n",
       "  ('it', 'PRON'),\n",
       "  ('*T*-3', 'X'),\n",
       "  (',', '.'),\n",
       "  (\"''\", '.'),\n",
       "  ('and', 'CONJ'),\n",
       "  ('that', 'ADP'),\n",
       "  ('the', 'DET'),\n",
       "  ('crusade', 'NOUN'),\n",
       "  ('was', 'VERB'),\n",
       "  ('based', 'VERB'),\n",
       "  ('*-23', 'X'),\n",
       "  ('on', 'ADP'),\n",
       "  ('greed', 'NOUN'),\n",
       "  ('or', 'CONJ'),\n",
       "  ('the', 'DET'),\n",
       "  ('profit', 'NOUN'),\n",
       "  ('motive', 'NOUN'),\n",
       "  ('.', '.')],\n",
       " [('On', 'ADP'),\n",
       "  ('the', 'DET'),\n",
       "  ('other', 'ADJ'),\n",
       "  ('hand', 'NOUN'),\n",
       "  (',', '.'),\n",
       "  ('if', 'ADP'),\n",
       "  ('it', 'PRON'),\n",
       "  ('goes', 'VERB'),\n",
       "  ('way', 'NOUN'),\n",
       "  ('sky', 'NOUN'),\n",
       "  ('high', 'ADV'),\n",
       "  (',', '.'),\n",
       "  ('I', 'PRON'),\n",
       "  ('always', 'ADV'),\n",
       "  ('sell', 'VERB'),\n",
       "  ('.', '.')],\n",
       " [('Mr.', 'NOUN'),\n",
       "  ('van', 'NOUN'),\n",
       "  ('Dover', 'NOUN'),\n",
       "  ('said', 'VERB'),\n",
       "  ('0', 'X'),\n",
       "  ('the', 'DET'),\n",
       "  ('AT&T', 'NOUN'),\n",
       "  ('team', 'NOUN'),\n",
       "  ('created', 'VERB'),\n",
       "  ('the', 'DET'),\n",
       "  ('desired', 'VERB'),\n",
       "  ('crystal', 'NOUN'),\n",
       "  ('changes', 'NOUN'),\n",
       "  ('by', 'ADP'),\n",
       "  ('*-2', 'X'),\n",
       "  ('bombarding', 'VERB'),\n",
       "  ('superconductor', 'NOUN'),\n",
       "  ('samples', 'NOUN'),\n",
       "  ('with', 'ADP'),\n",
       "  ('neutrons', 'NOUN'),\n",
       "  (',', '.'),\n",
       "  ('a', 'DET'),\n",
       "  ('process', 'NOUN'),\n",
       "  ('that', 'DET'),\n",
       "  ('*T*-1', 'X'),\n",
       "  ('creates', 'VERB'),\n",
       "  ('some', 'DET'),\n",
       "  ('radioactivity', 'NOUN'),\n",
       "  ('in', 'ADP'),\n",
       "  ('the', 'DET'),\n",
       "  ('samples', 'NOUN'),\n",
       "  ('and', 'CONJ'),\n",
       "  ('may', 'VERB'),\n",
       "  ('not', 'ADV'),\n",
       "  ('be', 'VERB'),\n",
       "  ('feasible', 'ADJ'),\n",
       "  ('for', 'ADP'),\n",
       "  ('large-scale', 'ADJ'),\n",
       "  ('commercial', 'ADJ'),\n",
       "  ('use', 'NOUN'),\n",
       "  ('.', '.')]]"
      ]
     },
     "execution_count": 22,
     "metadata": {},
     "output_type": "execute_result"
    }
   ],
   "source": [
    "random.seed(345)\n",
    "rndom = [random.randint(1,len(test_set)) for x in range(5)]\n",
    "test_run = [test_set[i] for i in rndom]\n",
    "test_run_base = [tup for sent in test_run for tup in sent]\n",
    "test_tagged_words = [tup[0] for sent in test_run for tup in sent]\n",
    "test_run"
   ]
  },
  {
   "cell_type": "code",
   "execution_count": 23,
   "metadata": {
    "ExecuteTime": {
     "end_time": "2019-09-30T14:18:37.928669Z",
     "start_time": "2019-09-30T14:17:55.349354Z"
    }
   },
   "outputs": [
    {
     "data": {
      "text/plain": [
       "42.57274508476257"
      ]
     },
     "execution_count": 23,
     "metadata": {},
     "output_type": "execute_result"
    }
   ],
   "source": [
    "start = time.time()\n",
    "tagged_seq = Viterbi(test_tagged_words)\n",
    "end = time.time()\n",
    "difference = end-start\n",
    "difference"
   ]
  },
  {
   "cell_type": "code",
   "execution_count": 24,
   "metadata": {
    "ExecuteTime": {
     "end_time": "2019-09-30T14:18:37.935525Z",
     "start_time": "2019-09-30T14:18:37.930841Z"
    }
   },
   "outputs": [
    {
     "data": {
      "text/plain": [
       "0.8529411764705882"
      ]
     },
     "execution_count": 24,
     "metadata": {},
     "output_type": "execute_result"
    }
   ],
   "source": [
    "check = [i for i, j in zip(tagged_seq, test_run_base) if i == j] \n",
    "accuracy = len(check)/len(tagged_seq)\n",
    "accuracy"
   ]
  },
  {
   "cell_type": "code",
   "execution_count": 25,
   "metadata": {
    "ExecuteTime": {
     "end_time": "2019-09-30T14:18:37.951830Z",
     "start_time": "2019-09-30T14:18:37.937589Z"
    }
   },
   "outputs": [
    {
     "data": {
      "text/plain": [
       "[[('bonus', 'NOUN'), (('depended', '.'), ('depended', 'VERB'))],\n",
       " [('higher', 'ADJ'), (('student-test', '.'), ('student-test', 'ADJ'))],\n",
       " [('Still', 'ADV'), (('unresolved', '.'), ('unresolved', 'ADJ'))],\n",
       " [('producers', 'NOUN'), (('Jon', '.'), ('Jon', 'NOUN'))],\n",
       " [('Jon', 'NOUN'), (('Peters', '.'), ('Peters', 'NOUN'))],\n",
       " [('Peter', 'NOUN'), (('Guber', '.'), ('Guber', 'NOUN'))],\n",
       " [('200', 'NUM'), (('sponsors', '.'), ('sponsors', 'NOUN'))],\n",
       " [('the', 'DET'), (('homeless', 'ADJ'), ('homeless', 'NOUN'))],\n",
       " [('you', 'PRON'), (('chose', '.'), ('chose', 'VERB'))],\n",
       " [('Home', 'NOUN'), (('Builders', '.'), ('Builders', 'NOUN'))],\n",
       " [('of', 'ADP'), (('Bricklayers', '.'), ('Bricklayers', 'NOUN'))],\n",
       " [('Allied', 'NOUN'), (('Craftsmen', '.'), ('Craftsmen', 'NOUN'))],\n",
       " [('*-1', 'X'), (('insinuating', '.'), ('insinuating', 'VERB'))],\n",
       " [('insinuating', 'VERB'), (('that', 'DET'), ('that', 'ADP'))],\n",
       " [('from', 'ADP'), (('self-serving', '.'), ('self-serving', 'ADJ'))],\n",
       " [('groups', 'NOUN'), (('that', 'ADP'), ('that', 'DET'))],\n",
       " [('and', 'CONJ'), (('that', 'DET'), ('that', 'ADP'))],\n",
       " [('the', 'DET'), (('crusade', '.'), ('crusade', 'NOUN'))],\n",
       " [('way', 'NOUN'), (('sky', '.'), ('sky', 'NOUN'))],\n",
       " [('sky', 'NOUN'), (('high', 'ADJ'), ('high', 'ADV'))],\n",
       " [('*-2', 'X'), (('bombarding', '.'), ('bombarding', 'VERB'))],\n",
       " [('with', 'ADP'), (('neutrons', '.'), ('neutrons', 'NOUN'))],\n",
       " [('process', 'NOUN'), (('that', 'ADP'), ('that', 'DET'))],\n",
       " [('some', 'DET'), (('radioactivity', '.'), ('radioactivity', 'NOUN'))],\n",
       " [('for', 'ADP'), (('large-scale', '.'), ('large-scale', 'ADJ'))]]"
      ]
     },
     "execution_count": 25,
     "metadata": {},
     "output_type": "execute_result"
    }
   ],
   "source": [
    "incorrect_tagged_cases = [[test_run_base[i-1],j] for i, j in enumerate(zip(tagged_seq, test_run_base)) if j[0]!=j[1]]\n",
    "incorrect_tagged_cases"
   ]
  },
  {
   "cell_type": "code",
   "execution_count": 26,
   "metadata": {
    "ExecuteTime": {
     "end_time": "2019-09-30T14:18:37.963069Z",
     "start_time": "2019-09-30T14:18:37.955222Z"
    }
   },
   "outputs": [
    {
     "data": {
      "text/plain": [
       "['depended',\n",
       " 'student-test',\n",
       " 'unresolved',\n",
       " 'Jon',\n",
       " 'Peters',\n",
       " 'Guber',\n",
       " 'sponsors',\n",
       " 'homeless',\n",
       " 'chose',\n",
       " 'Builders',\n",
       " 'Bricklayers',\n",
       " 'Craftsmen',\n",
       " 'insinuating',\n",
       " 'that',\n",
       " 'self-serving',\n",
       " 'that',\n",
       " 'that',\n",
       " 'crusade',\n",
       " 'sky',\n",
       " 'high',\n",
       " 'bombarding',\n",
       " 'neutrons',\n",
       " 'that',\n",
       " 'radioactivity',\n",
       " 'large-scale']"
      ]
     },
     "execution_count": 26,
     "metadata": {},
     "output_type": "execute_result"
    }
   ],
   "source": [
    "wrong_tagged_words = [j[0][0] for i, j in enumerate(zip(tagged_seq, test_run_base)) if j[0] != j[1]]\n",
    "wrong_tagged_words"
   ]
  },
  {
   "cell_type": "code",
   "execution_count": null,
   "metadata": {},
   "outputs": [],
   "source": []
  },
  {
   "cell_type": "markdown",
   "metadata": {},
   "source": [
    "### Solve the problem of unknown words"
   ]
  },
  {
   "cell_type": "code",
   "execution_count": 27,
   "metadata": {
    "ExecuteTime": {
     "end_time": "2019-09-30T14:18:37.971035Z",
     "start_time": "2019-09-30T14:18:37.965256Z"
    }
   },
   "outputs": [
    {
     "name": "stdout",
     "output_type": "stream",
     "text": [
      "{'.', 'X', 'NUM', 'ADP', 'NOUN', 'PRON', 'ADV', 'ADJ', 'PRT', 'DET', 'VERB', 'CONJ'}\n"
     ]
    }
   ],
   "source": [
    "print(T)"
   ]
  },
  {
   "cell_type": "code",
   "execution_count": 28,
   "metadata": {
    "ExecuteTime": {
     "end_time": "2019-09-30T14:18:37.979211Z",
     "start_time": "2019-09-30T14:18:37.973201Z"
    }
   },
   "outputs": [],
   "source": [
    "pattern = [\n",
    "    (r'.*ing$', 'VERB'),\n",
    "    (r'.*ed$', 'VERB'),\n",
    "    (r'.*es$', 'VERB'),\n",
    "    (r'.*ould$', 'ADJ'),\n",
    "    (r'.*\\'s$', 'NOUN'),\n",
    "    (r'.*s$', 'NOUN'),\n",
    "    (r'^-?[0-9]+(.[0-9]+)?$', 'NUM'),\n",
    "    (r'.*', 'NOUN')\n",
    "]\n",
    "\n",
    "class PosTagger:\n",
    "    \n",
    "    def __init__(self, train_set):\n",
    "        self.train_set = train_set\n",
    "    \n",
    "    def get_pos_tagger(self):\n",
    "        reg_tagger = nltk.RegexpTagger(pattern, backoff=nltk.DefaultTagger('ADJ'))\n",
    "        affix_tagger = nltk.AffixTagger(train_set, backoff=reg_tagger)\n",
    "        unigram_tagger = nltk.UnigramTagger(train_set, backoff=reg_tagger)\n",
    "        bigram_tagger = nltk.BigramTagger(train_set, backoff=unigram_tagger)\n",
    "        return bigram_tagger"
   ]
  },
  {
   "cell_type": "code",
   "execution_count": 29,
   "metadata": {
    "ExecuteTime": {
     "end_time": "2019-09-30T14:18:41.753358Z",
     "start_time": "2019-09-30T14:18:37.981455Z"
    }
   },
   "outputs": [
    {
     "data": {
      "text/plain": [
       "[('The', 'DET')]"
      ]
     },
     "execution_count": 29,
     "metadata": {},
     "output_type": "execute_result"
    }
   ],
   "source": [
    "pos_tagger = PosTagger(train_set)\n",
    "tagger = pos_tagger.get_pos_tagger()\n",
    "tagger.tag([test_tagged_words[0]])"
   ]
  },
  {
   "cell_type": "code",
   "execution_count": 30,
   "metadata": {
    "ExecuteTime": {
     "end_time": "2019-09-30T14:18:41.765356Z",
     "start_time": "2019-09-30T14:18:41.755937Z"
    }
   },
   "outputs": [],
   "source": [
    "def ViterbiWithPosTagger(words, train_bag = train_tagged_words):\n",
    "    state = []\n",
    "    T = list(set([pair[1] for pair in train_bag]))\n",
    "    \n",
    "    for key, word in enumerate(words):\n",
    "        #initialise list of probability column for a given observation\n",
    "        p = [] \n",
    "        for tag in T:\n",
    "            if key == 0:\n",
    "                transition_p = tags_df.loc['.', tag]\n",
    "            else:\n",
    "                transition_p = tags_df.loc[state[-1], tag]\n",
    "                \n",
    "            # compute emission and state probabilities\n",
    "            emission_p = word_given_tag(words[key], tag)[0]/word_given_tag(words[key], tag)[1]\n",
    "            state_probability = emission_p * transition_p    \n",
    "            p.append(state_probability)\n",
    "            \n",
    "        pmax = max(p)\n",
    "        if(pmax == 0):\n",
    "            state_max = tagger.tag([word])[0][1]\n",
    "        else:\n",
    "            state_max = T[p.index(pmax)]\n",
    "         \n",
    "        state.append(state_max)\n",
    "    return list(zip(words, state))"
   ]
  },
  {
   "cell_type": "code",
   "execution_count": 31,
   "metadata": {
    "ExecuteTime": {
     "end_time": "2019-09-30T14:19:17.558853Z",
     "start_time": "2019-09-30T14:18:41.767952Z"
    }
   },
   "outputs": [],
   "source": [
    "tagged_seq = ViterbiWithPosTagger(test_tagged_words)"
   ]
  },
  {
   "cell_type": "markdown",
   "metadata": {},
   "source": [
    "#### Evaluating tagging accuracy"
   ]
  },
  {
   "cell_type": "code",
   "execution_count": 32,
   "metadata": {
    "ExecuteTime": {
     "end_time": "2019-09-30T14:19:17.564753Z",
     "start_time": "2019-09-30T14:19:17.560512Z"
    }
   },
   "outputs": [
    {
     "data": {
      "text/plain": [
       "0.9294117647058824"
      ]
     },
     "execution_count": 32,
     "metadata": {},
     "output_type": "execute_result"
    }
   ],
   "source": [
    "check = [i for i, j in zip(tagged_seq, test_run_base) if i == j] \n",
    "modified_accuracy = len(check)/len(tagged_seq)\n",
    "modified_accuracy"
   ]
  },
  {
   "cell_type": "code",
   "execution_count": 33,
   "metadata": {
    "ExecuteTime": {
     "end_time": "2019-09-30T14:19:17.574401Z",
     "start_time": "2019-09-30T14:19:17.566731Z"
    }
   },
   "outputs": [
    {
     "data": {
      "text/plain": [
       "[[('higher', 'ADJ'), (('student-test', 'NOUN'), ('student-test', 'ADJ'))],\n",
       " [('Still', 'ADV'), (('unresolved', 'VERB'), ('unresolved', 'ADJ'))],\n",
       " [('the', 'DET'), (('homeless', 'ADJ'), ('homeless', 'NOUN'))],\n",
       " [('you', 'PRON'), (('chose', 'NOUN'), ('chose', 'VERB'))],\n",
       " [('from', 'ADP'), (('self-serving', 'VERB'), ('self-serving', 'ADJ'))],\n",
       " [('groups', 'NOUN'), (('that', 'ADP'), ('that', 'DET'))],\n",
       " [('and', 'CONJ'), (('that', 'DET'), ('that', 'ADP'))],\n",
       " [('sky', 'NOUN'), (('high', 'ADJ'), ('high', 'ADV'))],\n",
       " [('process', 'NOUN'), (('that', 'ADP'), ('that', 'DET'))],\n",
       " [('for', 'ADP'), (('large-scale', 'NOUN'), ('large-scale', 'ADJ'))],\n",
       " [('large-scale', 'ADJ'), (('commercial', 'NOUN'), ('commercial', 'ADJ'))],\n",
       " [('commercial', 'ADJ'), (('use', 'VERB'), ('use', 'NOUN'))]]"
      ]
     },
     "execution_count": 33,
     "metadata": {},
     "output_type": "execute_result"
    }
   ],
   "source": [
    "reg_incorrect_tagged_cases = [[test_run_base[i-1],j] for i, j in enumerate(zip(tagged_seq, test_run_base)) if j[0]!=j[1]]\n",
    "reg_incorrect_tagged_cases"
   ]
  },
  {
   "cell_type": "code",
   "execution_count": 34,
   "metadata": {
    "ExecuteTime": {
     "end_time": "2019-09-30T14:19:17.581407Z",
     "start_time": "2019-09-30T14:19:17.576735Z"
    }
   },
   "outputs": [
    {
     "data": {
      "text/plain": [
       "['student-test',\n",
       " 'unresolved',\n",
       " 'homeless',\n",
       " 'chose',\n",
       " 'self-serving',\n",
       " 'that',\n",
       " 'that',\n",
       " 'high',\n",
       " 'that',\n",
       " 'large-scale',\n",
       " 'commercial',\n",
       " 'use']"
      ]
     },
     "execution_count": 34,
     "metadata": {},
     "output_type": "execute_result"
    }
   ],
   "source": [
    "wrong_tagged_words_with_regexp = [j[0][0] for i, j in enumerate(zip(tagged_seq, test_run_base)) if j[0] != j[1]]\n",
    "wrong_tagged_words_with_regexp"
   ]
  },
  {
   "cell_type": "markdown",
   "metadata": {},
   "source": [
    "### Compare the tagging accuracies of the modifications with the vanilla Viterbi algorithm"
   ]
  },
  {
   "cell_type": "markdown",
   "metadata": {},
   "source": [
    "#### Accuracy with viterbi and Regexp tagging"
   ]
  },
  {
   "cell_type": "code",
   "execution_count": 35,
   "metadata": {
    "ExecuteTime": {
     "end_time": "2019-09-30T14:19:17.587770Z",
     "start_time": "2019-09-30T14:19:17.583367Z"
    }
   },
   "outputs": [
    {
     "data": {
      "text/plain": [
       "0.9294117647058824"
      ]
     },
     "execution_count": 35,
     "metadata": {},
     "output_type": "execute_result"
    }
   ],
   "source": [
    "modified_accuracy"
   ]
  },
  {
   "cell_type": "markdown",
   "metadata": {},
   "source": [
    "#### Accuracy with viterbi tagging"
   ]
  },
  {
   "cell_type": "code",
   "execution_count": 36,
   "metadata": {
    "ExecuteTime": {
     "end_time": "2019-09-30T14:19:17.595393Z",
     "start_time": "2019-09-30T14:19:17.589696Z"
    }
   },
   "outputs": [
    {
     "data": {
      "text/plain": [
       "0.8529411764705882"
      ]
     },
     "execution_count": 36,
     "metadata": {},
     "output_type": "execute_result"
    }
   ],
   "source": [
    "accuracy"
   ]
  },
  {
   "cell_type": "code",
   "execution_count": null,
   "metadata": {},
   "outputs": [],
   "source": []
  },
  {
   "cell_type": "markdown",
   "metadata": {},
   "source": [
    "### List down cases which were incorrectly tagged by original POS tagger and got corrected by your modifications"
   ]
  },
  {
   "cell_type": "markdown",
   "metadata": {},
   "source": [
    "##### Wrong tagged words with POS tagging included:"
   ]
  },
  {
   "cell_type": "code",
   "execution_count": 37,
   "metadata": {
    "ExecuteTime": {
     "end_time": "2019-09-30T14:19:17.603345Z",
     "start_time": "2019-09-30T14:19:17.598229Z"
    }
   },
   "outputs": [
    {
     "data": {
      "text/plain": [
       "{'chose',\n",
       " 'commercial',\n",
       " 'high',\n",
       " 'homeless',\n",
       " 'large-scale',\n",
       " 'self-serving',\n",
       " 'student-test',\n",
       " 'that',\n",
       " 'unresolved',\n",
       " 'use'}"
      ]
     },
     "execution_count": 37,
     "metadata": {},
     "output_type": "execute_result"
    }
   ],
   "source": [
    "set(wrong_tagged_words_with_regexp)"
   ]
  },
  {
   "cell_type": "markdown",
   "metadata": {},
   "source": [
    "##### Wrong tagged words with vetarbi tagging without POS tagging: "
   ]
  },
  {
   "cell_type": "code",
   "execution_count": 38,
   "metadata": {
    "ExecuteTime": {
     "end_time": "2019-09-30T14:19:17.609952Z",
     "start_time": "2019-09-30T14:19:17.605344Z"
    }
   },
   "outputs": [
    {
     "data": {
      "text/plain": [
       "{'Bricklayers',\n",
       " 'Builders',\n",
       " 'Craftsmen',\n",
       " 'Guber',\n",
       " 'Jon',\n",
       " 'Peters',\n",
       " 'bombarding',\n",
       " 'chose',\n",
       " 'crusade',\n",
       " 'depended',\n",
       " 'high',\n",
       " 'homeless',\n",
       " 'insinuating',\n",
       " 'large-scale',\n",
       " 'neutrons',\n",
       " 'radioactivity',\n",
       " 'self-serving',\n",
       " 'sky',\n",
       " 'sponsors',\n",
       " 'student-test',\n",
       " 'that',\n",
       " 'unresolved'}"
      ]
     },
     "execution_count": 38,
     "metadata": {},
     "output_type": "execute_result"
    }
   ],
   "source": [
    "set(wrong_tagged_words)"
   ]
  },
  {
   "cell_type": "markdown",
   "metadata": {},
   "source": [
    "##### POS taggers corrected by regexp tagging after vitarbi  tagging"
   ]
  },
  {
   "cell_type": "code",
   "execution_count": 39,
   "metadata": {
    "ExecuteTime": {
     "end_time": "2019-09-30T14:19:17.617476Z",
     "start_time": "2019-09-30T14:19:17.611982Z"
    }
   },
   "outputs": [
    {
     "data": {
      "text/plain": [
       "{'Bricklayers',\n",
       " 'Builders',\n",
       " 'Craftsmen',\n",
       " 'Guber',\n",
       " 'Jon',\n",
       " 'Peters',\n",
       " 'bombarding',\n",
       " 'crusade',\n",
       " 'depended',\n",
       " 'insinuating',\n",
       " 'neutrons',\n",
       " 'radioactivity',\n",
       " 'sky',\n",
       " 'sponsors'}"
      ]
     },
     "execution_count": 39,
     "metadata": {},
     "output_type": "execute_result"
    }
   ],
   "source": [
    "set(wrong_tagged_words).difference(set(wrong_tagged_words_with_regexp))"
   ]
  },
  {
   "cell_type": "code",
   "execution_count": null,
   "metadata": {},
   "outputs": [],
   "source": []
  },
  {
   "cell_type": "code",
   "execution_count": 40,
   "metadata": {
    "ExecuteTime": {
     "end_time": "2019-09-30T14:19:17.624849Z",
     "start_time": "2019-09-30T14:19:17.619804Z"
    }
   },
   "outputs": [
    {
     "data": {
      "text/plain": [
       "[]"
      ]
     },
     "execution_count": 40,
     "metadata": {},
     "output_type": "execute_result"
    }
   ],
   "source": [
    "[word for word in tagged_seq if word[0] =='disparate']"
   ]
  },
  {
   "cell_type": "code",
   "execution_count": 41,
   "metadata": {
    "ExecuteTime": {
     "end_time": "2019-09-30T14:19:17.632152Z",
     "start_time": "2019-09-30T14:19:17.627100Z"
    }
   },
   "outputs": [
    {
     "data": {
      "text/plain": [
       "[[('higher', 'ADJ'), (('student-test', 'NOUN'), ('student-test', 'ADJ'))],\n",
       " [('Still', 'ADV'), (('unresolved', 'VERB'), ('unresolved', 'ADJ'))],\n",
       " [('the', 'DET'), (('homeless', 'ADJ'), ('homeless', 'NOUN'))],\n",
       " [('you', 'PRON'), (('chose', 'NOUN'), ('chose', 'VERB'))],\n",
       " [('from', 'ADP'), (('self-serving', 'VERB'), ('self-serving', 'ADJ'))],\n",
       " [('groups', 'NOUN'), (('that', 'ADP'), ('that', 'DET'))],\n",
       " [('and', 'CONJ'), (('that', 'DET'), ('that', 'ADP'))],\n",
       " [('sky', 'NOUN'), (('high', 'ADJ'), ('high', 'ADV'))],\n",
       " [('process', 'NOUN'), (('that', 'ADP'), ('that', 'DET'))],\n",
       " [('for', 'ADP'), (('large-scale', 'NOUN'), ('large-scale', 'ADJ'))],\n",
       " [('large-scale', 'ADJ'), (('commercial', 'NOUN'), ('commercial', 'ADJ'))],\n",
       " [('commercial', 'ADJ'), (('use', 'VERB'), ('use', 'NOUN'))]]"
      ]
     },
     "execution_count": 41,
     "metadata": {},
     "output_type": "execute_result"
    }
   ],
   "source": [
    "reg_incorrect_tagged_cases"
   ]
  },
  {
   "cell_type": "markdown",
   "metadata": {},
   "source": [
    "### Testing the sentences:"
   ]
  },
  {
   "cell_type": "code",
   "execution_count": 42,
   "metadata": {
    "ExecuteTime": {
     "end_time": "2019-09-30T14:19:18.252989Z",
     "start_time": "2019-09-30T14:19:17.634284Z"
    }
   },
   "outputs": [],
   "source": [
    "test_data = pd.read_csv('https://cdn.upgrad.com/UpGrad/temp/9dca5f3b-53c3-47e1-86d5-5ec5dafad6f0/Test_sentences.txt', header=None, delimiter='\\n')"
   ]
  },
  {
   "cell_type": "code",
   "execution_count": 43,
   "metadata": {
    "ExecuteTime": {
     "end_time": "2019-09-30T14:20:13.469758Z",
     "start_time": "2019-09-30T14:19:18.255502Z"
    }
   },
   "outputs": [
    {
     "name": "stdout",
     "output_type": "stream",
     "text": [
      "sentence: \n",
      " Android is a mobile operating system developed by Google.\n",
      "Viterbi algorithm without Regexp POS tagging: \n",
      "\n",
      "[('Android', '.'), ('is', 'VERB'), ('a', 'DET'), ('mobile', 'ADJ'), ('operating', 'NOUN'), ('system', 'NOUN'), ('developed', 'VERB'), ('by', 'ADP'), ('Google', '.'), ('.', '.')] \n",
      "\n",
      "Viterbi algorithm with Regexp POS tagging: \n",
      "\n",
      "[('Android', 'NOUN'), ('is', 'VERB'), ('a', 'DET'), ('mobile', 'ADJ'), ('operating', 'NOUN'), ('system', 'NOUN'), ('developed', 'VERB'), ('by', 'ADP'), ('Google', 'NOUN'), ('.', '.')] \n",
      "\n",
      "sentence: \n",
      " Android has been the best-selling OS worldwide on smartphones since 2011 and on tablets since 2013.\n",
      "Viterbi algorithm without Regexp POS tagging: \n",
      "\n",
      "[('Android', '.'), ('has', 'VERB'), ('been', 'VERB'), ('the', 'DET'), ('best-selling', 'ADJ'), ('OS', '.'), ('worldwide', '.'), ('on', 'ADP'), ('smartphones', '.'), ('since', 'ADP'), ('2011', '.'), ('and', 'CONJ'), ('on', 'ADP'), ('tablets', 'NOUN'), ('since', 'ADP'), ('2013', '.'), ('.', '.')] \n",
      "\n",
      "Viterbi algorithm with Regexp POS tagging: \n",
      "\n",
      "[('Android', 'NOUN'), ('has', 'VERB'), ('been', 'VERB'), ('the', 'DET'), ('best-selling', 'ADJ'), ('OS', 'NOUN'), ('worldwide', 'NOUN'), ('on', 'ADP'), ('smartphones', 'VERB'), ('since', 'ADP'), ('2011', 'NUM'), ('and', 'CONJ'), ('on', 'ADP'), ('tablets', 'NOUN'), ('since', 'ADP'), ('2013', 'NUM'), ('.', '.')] \n",
      "\n",
      "sentence: \n",
      " Google and Twitter made a deal in 2015 that gave Google access to Twitter's firehose.\n",
      "Viterbi algorithm without Regexp POS tagging: \n",
      "\n",
      "[('Google', '.'), ('and', 'CONJ'), ('Twitter', '.'), ('made', 'VERB'), ('a', 'DET'), ('deal', 'NOUN'), ('in', 'ADP'), ('2015', '.'), ('that', 'DET'), ('gave', 'VERB'), ('Google', '.'), ('access', 'NOUN'), ('to', 'PRT'), ('Twitter', '.'), (\"'s\", 'VERB'), ('firehose', '.'), ('.', '.')] \n",
      "\n",
      "Viterbi algorithm with Regexp POS tagging: \n",
      "\n",
      "[('Google', 'NOUN'), ('and', 'CONJ'), ('Twitter', 'NOUN'), ('made', 'VERB'), ('a', 'DET'), ('deal', 'NOUN'), ('in', 'ADP'), ('2015', 'NUM'), ('that', 'ADP'), ('gave', 'VERB'), ('Google', 'NOUN'), ('access', 'NOUN'), ('to', 'PRT'), ('Twitter', 'NOUN'), (\"'s\", 'PRT'), ('firehose', 'NOUN'), ('.', '.')] \n",
      "\n",
      "sentence: \n",
      " Twitter is an online news and social networking service on which users post and interact with messages known as tweets.\n",
      "Viterbi algorithm without Regexp POS tagging: \n",
      "\n",
      "[('Twitter', '.'), ('is', 'VERB'), ('an', 'DET'), ('online', '.'), ('news', 'NOUN'), ('and', 'CONJ'), ('social', 'ADJ'), ('networking', 'NOUN'), ('service', 'NOUN'), ('on', 'ADP'), ('which', 'DET'), ('users', 'NOUN'), ('post', 'NOUN'), ('and', 'CONJ'), ('interact', '.'), ('with', 'ADP'), ('messages', '.'), ('known', 'VERB'), ('as', 'ADP'), ('tweets', '.'), ('.', '.')] \n",
      "\n",
      "Viterbi algorithm with Regexp POS tagging: \n",
      "\n",
      "[('Twitter', 'NOUN'), ('is', 'VERB'), ('an', 'DET'), ('online', 'NOUN'), ('news', 'NOUN'), ('and', 'CONJ'), ('social', 'ADJ'), ('networking', 'NOUN'), ('service', 'NOUN'), ('on', 'ADP'), ('which', 'DET'), ('users', 'NOUN'), ('post', 'NOUN'), ('and', 'CONJ'), ('interact', 'NOUN'), ('with', 'ADP'), ('messages', 'VERB'), ('known', 'VERB'), ('as', 'ADP'), ('tweets', 'NOUN'), ('.', '.')] \n",
      "\n",
      "sentence: \n",
      " Before entering politics, Donald Trump was a domineering businessman and a television personality.\n",
      "Viterbi algorithm without Regexp POS tagging: \n",
      "\n",
      "[('Before', 'ADP'), ('entering', 'VERB'), ('politics', 'NOUN'), (',', '.'), ('Donald', 'NOUN'), ('Trump', 'NOUN'), ('was', 'VERB'), ('a', 'DET'), ('domineering', '.'), ('businessman', 'NOUN'), ('and', 'CONJ'), ('a', 'DET'), ('television', 'NOUN'), ('personality', '.'), ('.', '.')] \n",
      "\n",
      "Viterbi algorithm with Regexp POS tagging: \n",
      "\n",
      "[('Before', 'ADP'), ('entering', 'VERB'), ('politics', 'NOUN'), (',', '.'), ('Donald', 'NOUN'), ('Trump', 'NOUN'), ('was', 'VERB'), ('a', 'DET'), ('domineering', 'VERB'), ('businessman', 'NOUN'), ('and', 'CONJ'), ('a', 'DET'), ('television', 'NOUN'), ('personality', 'NOUN'), ('.', '.')] \n",
      "\n",
      "sentence: \n",
      " The 2018 FIFA World Cup is the 21st FIFA World Cup, an international football tournament contested once every four years.\n",
      "Viterbi algorithm without Regexp POS tagging: \n",
      "\n",
      "[('The', 'DET'), ('2018', '.'), ('FIFA', '.'), ('World', 'NOUN'), ('Cup', '.'), ('is', 'VERB'), ('the', 'DET'), ('21st', '.'), ('FIFA', '.'), ('World', 'NOUN'), ('Cup', '.'), (',', '.'), ('an', 'DET'), ('international', 'ADJ'), ('football', 'NOUN'), ('tournament', '.'), ('contested', '.'), ('once', 'ADV'), ('every', 'DET'), ('four', 'NUM'), ('years', 'NOUN'), ('.', '.')] \n",
      "\n",
      "Viterbi algorithm with Regexp POS tagging: \n",
      "\n",
      "[('The', 'DET'), ('2018', 'NUM'), ('FIFA', 'NOUN'), ('World', 'NOUN'), ('Cup', 'NOUN'), ('is', 'VERB'), ('the', 'DET'), ('21st', 'NOUN'), ('FIFA', 'NOUN'), ('World', 'NOUN'), ('Cup', 'NOUN'), (',', '.'), ('an', 'DET'), ('international', 'ADJ'), ('football', 'NOUN'), ('tournament', 'NOUN'), ('contested', 'VERB'), ('once', 'ADV'), ('every', 'DET'), ('four', 'NUM'), ('years', 'NOUN'), ('.', '.')] \n",
      "\n",
      "sentence: \n",
      " This is the first World Cup to be held in Eastern Europe and the 11th time that it has been held in Europe.\n",
      "Viterbi algorithm without Regexp POS tagging: \n",
      "\n",
      "[('This', 'DET'), ('is', 'VERB'), ('the', 'DET'), ('first', 'ADJ'), ('World', 'NOUN'), ('Cup', '.'), ('to', 'PRT'), ('be', 'VERB'), ('held', 'VERB'), ('in', 'ADP'), ('Eastern', 'NOUN'), ('Europe', 'NOUN'), ('and', 'CONJ'), ('the', 'DET'), ('11th', 'ADJ'), ('time', 'NOUN'), ('that', 'ADP'), ('it', 'PRON'), ('has', 'VERB'), ('been', 'VERB'), ('held', 'VERB'), ('in', 'ADP'), ('Europe', 'NOUN'), ('.', '.')] \n",
      "\n",
      "Viterbi algorithm with Regexp POS tagging: \n",
      "\n",
      "[('This', 'DET'), ('is', 'VERB'), ('the', 'DET'), ('first', 'ADJ'), ('World', 'NOUN'), ('Cup', 'NOUN'), ('to', 'PRT'), ('be', 'VERB'), ('held', 'VERB'), ('in', 'ADP'), ('Eastern', 'NOUN'), ('Europe', 'NOUN'), ('and', 'CONJ'), ('the', 'DET'), ('11th', 'ADJ'), ('time', 'NOUN'), ('that', 'ADP'), ('it', 'PRON'), ('has', 'VERB'), ('been', 'VERB'), ('held', 'VERB'), ('in', 'ADP'), ('Europe', 'NOUN'), ('.', '.')] \n",
      "\n",
      "sentence: \n",
      " Show me the cheapest round trips from Dallas to Atlanta\n",
      "Viterbi algorithm without Regexp POS tagging: \n",
      "\n",
      "[('Show', 'NOUN'), ('me', 'PRON'), ('the', 'DET'), ('cheapest', 'ADJ'), ('round', 'NOUN'), ('trips', '.'), ('from', 'ADP'), ('Dallas', 'NOUN'), ('to', 'PRT'), ('Atlanta', 'NOUN')] \n",
      "\n",
      "Viterbi algorithm with Regexp POS tagging: \n",
      "\n",
      "[('Show', 'NOUN'), ('me', 'PRON'), ('the', 'DET'), ('cheapest', 'ADJ'), ('round', 'NOUN'), ('trips', 'NOUN'), ('from', 'ADP'), ('Dallas', 'NOUN'), ('to', 'PRT'), ('Atlanta', 'NOUN')] \n",
      "\n",
      "sentence: \n",
      " I would like to see flights from Denver to Philadelphia.\n",
      "Viterbi algorithm without Regexp POS tagging: \n",
      "\n",
      "[('I', 'PRON'), ('would', 'VERB'), ('like', 'ADP'), ('to', 'PRT'), ('see', 'VERB'), ('flights', 'NOUN'), ('from', 'ADP'), ('Denver', 'NOUN'), ('to', 'PRT'), ('Philadelphia', 'NOUN'), ('.', '.')] \n",
      "\n",
      "Viterbi algorithm with Regexp POS tagging: \n",
      "\n",
      "[('I', 'PRON'), ('would', 'VERB'), ('like', 'ADP'), ('to', 'PRT'), ('see', 'VERB'), ('flights', 'NOUN'), ('from', 'ADP'), ('Denver', 'NOUN'), ('to', 'PRT'), ('Philadelphia', 'NOUN'), ('.', '.')] \n",
      "\n",
      "sentence: \n",
      " Show me the price of the flights leaving Atlanta at about 3 in the afternoon and arriving in San Francisco.\n",
      "Viterbi algorithm without Regexp POS tagging: \n",
      "\n",
      "[('Show', 'NOUN'), ('me', 'PRON'), ('the', 'DET'), ('price', 'NOUN'), ('of', 'ADP'), ('the', 'DET'), ('flights', 'NOUN'), ('leaving', 'VERB'), ('Atlanta', 'NOUN'), ('at', 'ADP'), ('about', 'ADP'), ('3', 'NUM'), ('in', 'ADP'), ('the', 'DET'), ('afternoon', 'NOUN'), ('and', 'CONJ'), ('arriving', '.'), ('in', 'ADP'), ('San', 'NOUN'), ('Francisco', 'NOUN'), ('.', '.')] \n",
      "\n",
      "Viterbi algorithm with Regexp POS tagging: \n",
      "\n",
      "[('Show', 'NOUN'), ('me', 'PRON'), ('the', 'DET'), ('price', 'NOUN'), ('of', 'ADP'), ('the', 'DET'), ('flights', 'NOUN'), ('leaving', 'VERB'), ('Atlanta', 'NOUN'), ('at', 'ADP'), ('about', 'ADP'), ('3', 'NUM'), ('in', 'ADP'), ('the', 'DET'), ('afternoon', 'NOUN'), ('and', 'CONJ'), ('arriving', 'VERB'), ('in', 'ADP'), ('San', 'NOUN'), ('Francisco', 'NOUN'), ('.', '.')] \n",
      "\n",
      "sentence: \n",
      " NASA invited social media users to experience the launch of ICESAT-2 Satellite.\n",
      "Viterbi algorithm without Regexp POS tagging: \n",
      "\n",
      "[('NASA', '.'), ('invited', '.'), ('social', 'ADJ'), ('media', 'NOUN'), ('users', 'NOUN'), ('to', 'PRT'), ('experience', 'NOUN'), ('the', 'DET'), ('launch', 'NOUN'), ('of', 'ADP'), ('ICESAT-2', '.'), ('Satellite', '.'), ('.', '.')] \n",
      "\n",
      "Viterbi algorithm with Regexp POS tagging: \n",
      "\n"
     ]
    },
    {
     "name": "stdout",
     "output_type": "stream",
     "text": [
      "[('NASA', 'NOUN'), ('invited', 'VERB'), ('social', 'ADJ'), ('media', 'NOUN'), ('users', 'NOUN'), ('to', 'PRT'), ('experience', 'NOUN'), ('the', 'DET'), ('launch', 'NOUN'), ('of', 'ADP'), ('ICESAT-2', 'NOUN'), ('Satellite', 'NOUN'), ('.', '.')] \n",
      "\n"
     ]
    }
   ],
   "source": [
    "for sent in test_data[0]:\n",
    "    words = nltk.word_tokenize(sent)\n",
    "    print('sentence: \\n', sent)\n",
    "    print('Viterbi algorithm without Regexp POS tagging: \\n')\n",
    "    print(Viterbi(words), '\\n')\n",
    "    print('Viterbi algorithm with Regexp POS tagging: \\n')\n",
    "    print(ViterbiWithPosTagger(words), '\\n')"
   ]
  },
  {
   "cell_type": "code",
   "execution_count": null,
   "metadata": {},
   "outputs": [],
   "source": []
  },
  {
   "cell_type": "code",
   "execution_count": null,
   "metadata": {},
   "outputs": [],
   "source": []
  },
  {
   "cell_type": "code",
   "execution_count": null,
   "metadata": {},
   "outputs": [],
   "source": []
  },
  {
   "cell_type": "code",
   "execution_count": 45,
   "metadata": {
    "ExecuteTime": {
     "end_time": "2019-09-30T14:33:05.679443Z",
     "start_time": "2019-09-30T14:33:05.647501Z"
    }
   },
   "outputs": [
    {
     "ename": "IndexError",
     "evalue": "tuple index out of range",
     "output_type": "error",
     "traceback": [
      "\u001b[0;31m---------------------------------------------------------------------------\u001b[0m",
      "\u001b[0;31mIndexError\u001b[0m                                Traceback (most recent call last)",
      "\u001b[0;32m<ipython-input-45-e80b7eea2dc4>\u001b[0m in \u001b[0;36m<module>\u001b[0;34m\u001b[0m\n\u001b[1;32m     51\u001b[0m             'pref_4': pref_4 }  \n\u001b[1;32m     52\u001b[0m \u001b[0;34m\u001b[0m\u001b[0m\n\u001b[0;32m---> 53\u001b[0;31m \u001b[0mword_features\u001b[0m\u001b[0;34m(\u001b[0m\u001b[0mtrain_tagged_words\u001b[0m\u001b[0;34m[\u001b[0m\u001b[0;36m0\u001b[0m\u001b[0;34m]\u001b[0m\u001b[0;34m,\u001b[0m \u001b[0mi\u001b[0m\u001b[0;34m=\u001b[0m\u001b[0;36m3\u001b[0m\u001b[0;34m)\u001b[0m\u001b[0;34m\u001b[0m\u001b[0;34m\u001b[0m\u001b[0m\n\u001b[0m",
      "\u001b[0;32m<ipython-input-45-e80b7eea2dc4>\u001b[0m in \u001b[0;36mword_features\u001b[0;34m(sent, i)\u001b[0m\n\u001b[1;32m     11\u001b[0m \u001b[0;34m\u001b[0m\u001b[0m\n\u001b[1;32m     12\u001b[0m \u001b[0;32mdef\u001b[0m \u001b[0mword_features\u001b[0m\u001b[0;34m(\u001b[0m\u001b[0msent\u001b[0m\u001b[0;34m,\u001b[0m \u001b[0mi\u001b[0m\u001b[0;34m)\u001b[0m\u001b[0;34m:\u001b[0m\u001b[0;34m\u001b[0m\u001b[0;34m\u001b[0m\u001b[0m\n\u001b[0;32m---> 13\u001b[0;31m     \u001b[0mword\u001b[0m \u001b[0;34m=\u001b[0m \u001b[0msent\u001b[0m\u001b[0;34m[\u001b[0m\u001b[0mi\u001b[0m\u001b[0;34m]\u001b[0m\u001b[0;34m[\u001b[0m\u001b[0;36m0\u001b[0m\u001b[0;34m]\u001b[0m\u001b[0;34m\u001b[0m\u001b[0;34m\u001b[0m\u001b[0m\n\u001b[0m\u001b[1;32m     14\u001b[0m     \u001b[0mpos\u001b[0m \u001b[0;34m=\u001b[0m \u001b[0msent\u001b[0m\u001b[0;34m[\u001b[0m\u001b[0mi\u001b[0m\u001b[0;34m]\u001b[0m\u001b[0;34m[\u001b[0m\u001b[0;36m1\u001b[0m\u001b[0;34m]\u001b[0m\u001b[0;34m\u001b[0m\u001b[0;34m\u001b[0m\u001b[0m\n\u001b[1;32m     15\u001b[0m \u001b[0;34m\u001b[0m\u001b[0m\n",
      "\u001b[0;31mIndexError\u001b[0m: tuple index out of range"
     ]
    }
   ],
   "source": [
    "from itertools import chain\n",
    "import sklearn\n",
    "from sklearn.metrics import classification_report, confusion_matrix\n",
    "from sklearn.preprocessing import LabelBinarizer\n",
    "\n",
    "# pip/conda install sklearn_crfsuite\n",
    "import sklearn_crfsuite\n",
    "from sklearn_crfsuite import metrics\n",
    "from sklearn_crfsuite import scorers\n",
    "\n",
    "\n",
    "def word_features(sent, i):\n",
    "    word = sent[i][0]\n",
    "    pos = sent[i][1]\n",
    "    \n",
    "    # first word\n",
    "    if i==0:\n",
    "        prevword = '<START>'\n",
    "        prevpos = '<START>'\n",
    "    else:\n",
    "        prevword = sent[i-1][0]\n",
    "        prevpos = sent[i-1][1]\n",
    "    \n",
    "    # last word\n",
    "    if i == len(sent)-1:\n",
    "        nextword = '<END>'\n",
    "        nextpos = '<END>'\n",
    "    else:\n",
    "        nextword = sent[i+1][0]\n",
    "        nextpos = sent[i+1][1]\n",
    "    \n",
    "    # word is in gazetteer    \n",
    "    # suffixes and prefixes\n",
    "    pref_1, pref_2, pref_3, pref_4 = word[:1], word[:2], word[:3], word[:4]\n",
    "    suff_1, suff_2, suff_3, suff_4 = word[-1:], word[-2:], word[-3:], word[-4:]\n",
    "    \n",
    "    return {'word':word,\n",
    "            'pos': pos, \n",
    "            'prevword': prevword,\n",
    "            'prevpos': prevpos,  \n",
    "            'nextword': nextword, \n",
    "            'nextpos': nextpos,\n",
    "            'word_is_digit': word in 'DIGITDIGITDIGIT',\n",
    "            'suff_1': suff_1,  \n",
    "            'suff_2': suff_2,  \n",
    "            'suff_3': suff_3,  \n",
    "            'suff_4': suff_4, \n",
    "            'pref_1': pref_1,  \n",
    "            'pref_2': pref_2,  \n",
    "            'pref_3': pref_3, \n",
    "            'pref_4': pref_4 }  \n",
    "\n",
    "word_features(train_tagged_words[0], i=3)"
   ]
  },
  {
   "cell_type": "code",
   "execution_count": 46,
   "metadata": {
    "ExecuteTime": {
     "end_time": "2019-09-30T14:33:13.325716Z",
     "start_time": "2019-09-30T14:33:13.320703Z"
    }
   },
   "outputs": [
    {
     "data": {
      "text/plain": [
       "('Bank', 'NOUN')"
      ]
     },
     "execution_count": 46,
     "metadata": {},
     "output_type": "execute_result"
    }
   ],
   "source": [
    "train_tagged_words[0]"
   ]
  },
  {
   "cell_type": "code",
   "execution_count": null,
   "metadata": {},
   "outputs": [],
   "source": []
  }
 ],
 "metadata": {
  "kernelspec": {
   "display_name": "Python 3",
   "language": "python",
   "name": "python3"
  },
  "language_info": {
   "codemirror_mode": {
    "name": "ipython",
    "version": 3
   },
   "file_extension": ".py",
   "mimetype": "text/x-python",
   "name": "python",
   "nbconvert_exporter": "python",
   "pygments_lexer": "ipython3",
   "version": "3.7.1"
  },
  "varInspector": {
   "cols": {
    "lenName": 16,
    "lenType": 16,
    "lenVar": 40
   },
   "kernels_config": {
    "python": {
     "delete_cmd_postfix": "",
     "delete_cmd_prefix": "del ",
     "library": "var_list.py",
     "varRefreshCmd": "print(var_dic_list())"
    },
    "r": {
     "delete_cmd_postfix": ") ",
     "delete_cmd_prefix": "rm(",
     "library": "var_list.r",
     "varRefreshCmd": "cat(var_dic_list()) "
    }
   },
   "types_to_exclude": [
    "module",
    "function",
    "builtin_function_or_method",
    "instance",
    "_Feature"
   ],
   "window_display": false
  }
 },
 "nbformat": 4,
 "nbformat_minor": 2
}
