{
 "cells": [
  {
   "cell_type": "markdown",
   "metadata": {},
   "source": [
    "# **Lending club EDA Case Study**:"
   ]
  },
  {
   "cell_type": "code",
   "execution_count": 2,
   "metadata": {},
   "outputs": [
    {
     "name": "stderr",
     "output_type": "stream",
     "text": [
      "/anaconda3/lib/python3.7/site-packages/IPython/core/interactiveshell.py:3020: DtypeWarning: Columns (47) have mixed types. Specify dtype option on import or set low_memory=False.\n",
      "  interactivity=interactivity, compiler=compiler, result=result)\n"
     ]
    },
    {
     "data": {
      "text/html": [
       "<div>\n",
       "<style scoped>\n",
       "    .dataframe tbody tr th:only-of-type {\n",
       "        vertical-align: middle;\n",
       "    }\n",
       "\n",
       "    .dataframe tbody tr th {\n",
       "        vertical-align: top;\n",
       "    }\n",
       "\n",
       "    .dataframe thead th {\n",
       "        text-align: right;\n",
       "    }\n",
       "</style>\n",
       "<table border=\"1\" class=\"dataframe\">\n",
       "  <thead>\n",
       "    <tr style=\"text-align: right;\">\n",
       "      <th></th>\n",
       "      <th>id</th>\n",
       "      <th>member_id</th>\n",
       "      <th>loan_amnt</th>\n",
       "      <th>funded_amnt</th>\n",
       "      <th>funded_amnt_inv</th>\n",
       "      <th>term</th>\n",
       "      <th>int_rate</th>\n",
       "      <th>installment</th>\n",
       "      <th>grade</th>\n",
       "      <th>sub_grade</th>\n",
       "      <th>...</th>\n",
       "      <th>num_tl_90g_dpd_24m</th>\n",
       "      <th>num_tl_op_past_12m</th>\n",
       "      <th>pct_tl_nvr_dlq</th>\n",
       "      <th>percent_bc_gt_75</th>\n",
       "      <th>pub_rec_bankruptcies</th>\n",
       "      <th>tax_liens</th>\n",
       "      <th>tot_hi_cred_lim</th>\n",
       "      <th>total_bal_ex_mort</th>\n",
       "      <th>total_bc_limit</th>\n",
       "      <th>total_il_high_credit_limit</th>\n",
       "    </tr>\n",
       "  </thead>\n",
       "  <tbody>\n",
       "    <tr>\n",
       "      <th>0</th>\n",
       "      <td>1077501</td>\n",
       "      <td>1296599</td>\n",
       "      <td>5000</td>\n",
       "      <td>5000</td>\n",
       "      <td>4975.0</td>\n",
       "      <td>36 months</td>\n",
       "      <td>10.65%</td>\n",
       "      <td>162.87</td>\n",
       "      <td>B</td>\n",
       "      <td>B2</td>\n",
       "      <td>...</td>\n",
       "      <td>NaN</td>\n",
       "      <td>NaN</td>\n",
       "      <td>NaN</td>\n",
       "      <td>NaN</td>\n",
       "      <td>0.0</td>\n",
       "      <td>0.0</td>\n",
       "      <td>NaN</td>\n",
       "      <td>NaN</td>\n",
       "      <td>NaN</td>\n",
       "      <td>NaN</td>\n",
       "    </tr>\n",
       "    <tr>\n",
       "      <th>1</th>\n",
       "      <td>1077430</td>\n",
       "      <td>1314167</td>\n",
       "      <td>2500</td>\n",
       "      <td>2500</td>\n",
       "      <td>2500.0</td>\n",
       "      <td>60 months</td>\n",
       "      <td>15.27%</td>\n",
       "      <td>59.83</td>\n",
       "      <td>C</td>\n",
       "      <td>C4</td>\n",
       "      <td>...</td>\n",
       "      <td>NaN</td>\n",
       "      <td>NaN</td>\n",
       "      <td>NaN</td>\n",
       "      <td>NaN</td>\n",
       "      <td>0.0</td>\n",
       "      <td>0.0</td>\n",
       "      <td>NaN</td>\n",
       "      <td>NaN</td>\n",
       "      <td>NaN</td>\n",
       "      <td>NaN</td>\n",
       "    </tr>\n",
       "    <tr>\n",
       "      <th>2</th>\n",
       "      <td>1077175</td>\n",
       "      <td>1313524</td>\n",
       "      <td>2400</td>\n",
       "      <td>2400</td>\n",
       "      <td>2400.0</td>\n",
       "      <td>36 months</td>\n",
       "      <td>15.96%</td>\n",
       "      <td>84.33</td>\n",
       "      <td>C</td>\n",
       "      <td>C5</td>\n",
       "      <td>...</td>\n",
       "      <td>NaN</td>\n",
       "      <td>NaN</td>\n",
       "      <td>NaN</td>\n",
       "      <td>NaN</td>\n",
       "      <td>0.0</td>\n",
       "      <td>0.0</td>\n",
       "      <td>NaN</td>\n",
       "      <td>NaN</td>\n",
       "      <td>NaN</td>\n",
       "      <td>NaN</td>\n",
       "    </tr>\n",
       "    <tr>\n",
       "      <th>3</th>\n",
       "      <td>1076863</td>\n",
       "      <td>1277178</td>\n",
       "      <td>10000</td>\n",
       "      <td>10000</td>\n",
       "      <td>10000.0</td>\n",
       "      <td>36 months</td>\n",
       "      <td>13.49%</td>\n",
       "      <td>339.31</td>\n",
       "      <td>C</td>\n",
       "      <td>C1</td>\n",
       "      <td>...</td>\n",
       "      <td>NaN</td>\n",
       "      <td>NaN</td>\n",
       "      <td>NaN</td>\n",
       "      <td>NaN</td>\n",
       "      <td>0.0</td>\n",
       "      <td>0.0</td>\n",
       "      <td>NaN</td>\n",
       "      <td>NaN</td>\n",
       "      <td>NaN</td>\n",
       "      <td>NaN</td>\n",
       "    </tr>\n",
       "    <tr>\n",
       "      <th>4</th>\n",
       "      <td>1075358</td>\n",
       "      <td>1311748</td>\n",
       "      <td>3000</td>\n",
       "      <td>3000</td>\n",
       "      <td>3000.0</td>\n",
       "      <td>60 months</td>\n",
       "      <td>12.69%</td>\n",
       "      <td>67.79</td>\n",
       "      <td>B</td>\n",
       "      <td>B5</td>\n",
       "      <td>...</td>\n",
       "      <td>NaN</td>\n",
       "      <td>NaN</td>\n",
       "      <td>NaN</td>\n",
       "      <td>NaN</td>\n",
       "      <td>0.0</td>\n",
       "      <td>0.0</td>\n",
       "      <td>NaN</td>\n",
       "      <td>NaN</td>\n",
       "      <td>NaN</td>\n",
       "      <td>NaN</td>\n",
       "    </tr>\n",
       "  </tbody>\n",
       "</table>\n",
       "<p>5 rows × 111 columns</p>\n",
       "</div>"
      ],
      "text/plain": [
       "        id  member_id  loan_amnt  funded_amnt  funded_amnt_inv        term  \\\n",
       "0  1077501    1296599       5000         5000           4975.0   36 months   \n",
       "1  1077430    1314167       2500         2500           2500.0   60 months   \n",
       "2  1077175    1313524       2400         2400           2400.0   36 months   \n",
       "3  1076863    1277178      10000        10000          10000.0   36 months   \n",
       "4  1075358    1311748       3000         3000           3000.0   60 months   \n",
       "\n",
       "  int_rate  installment grade sub_grade            ...              \\\n",
       "0   10.65%       162.87     B        B2            ...               \n",
       "1   15.27%        59.83     C        C4            ...               \n",
       "2   15.96%        84.33     C        C5            ...               \n",
       "3   13.49%       339.31     C        C1            ...               \n",
       "4   12.69%        67.79     B        B5            ...               \n",
       "\n",
       "  num_tl_90g_dpd_24m num_tl_op_past_12m pct_tl_nvr_dlq  percent_bc_gt_75  \\\n",
       "0                NaN                NaN            NaN               NaN   \n",
       "1                NaN                NaN            NaN               NaN   \n",
       "2                NaN                NaN            NaN               NaN   \n",
       "3                NaN                NaN            NaN               NaN   \n",
       "4                NaN                NaN            NaN               NaN   \n",
       "\n",
       "  pub_rec_bankruptcies tax_liens tot_hi_cred_lim total_bal_ex_mort  \\\n",
       "0                  0.0       0.0             NaN               NaN   \n",
       "1                  0.0       0.0             NaN               NaN   \n",
       "2                  0.0       0.0             NaN               NaN   \n",
       "3                  0.0       0.0             NaN               NaN   \n",
       "4                  0.0       0.0             NaN               NaN   \n",
       "\n",
       "  total_bc_limit total_il_high_credit_limit  \n",
       "0            NaN                        NaN  \n",
       "1            NaN                        NaN  \n",
       "2            NaN                        NaN  \n",
       "3            NaN                        NaN  \n",
       "4            NaN                        NaN  \n",
       "\n",
       "[5 rows x 111 columns]"
      ]
     },
     "execution_count": 2,
     "metadata": {},
     "output_type": "execute_result"
    }
   ],
   "source": [
    "import pandas as pd\n",
    "import numpy as np\n",
    "import seaborn as sns\n",
    "import matplotlib.pyplot as plt\n",
    "loan_data = pd.read_csv('https://s3.us-east-2.amazonaws.com/upgraddocs/loan.csv')\n",
    "loan_data.head()"
   ]
  },
  {
   "cell_type": "markdown",
   "metadata": {},
   "source": [
    " "
   ]
  },
  {
   "cell_type": "markdown",
   "metadata": {},
   "source": [
    " "
   ]
  },
  {
   "cell_type": "markdown",
   "metadata": {},
   "source": [
    " "
   ]
  },
  {
   "cell_type": "markdown",
   "metadata": {},
   "source": [
    "### Data understanding:"
   ]
  },
  {
   "cell_type": "code",
   "execution_count": 3,
   "metadata": {},
   "outputs": [
    {
     "data": {
      "text/plain": [
       "(39717, 111)"
      ]
     },
     "execution_count": 3,
     "metadata": {},
     "output_type": "execute_result"
    }
   ],
   "source": [
    "# No.of rows, columns\n",
    "loan_data.shape"
   ]
  },
  {
   "cell_type": "code",
   "execution_count": 4,
   "metadata": {},
   "outputs": [
    {
     "name": "stdout",
     "output_type": "stream",
     "text": [
      "<class 'pandas.core.frame.DataFrame'>\n",
      "RangeIndex: 39717 entries, 0 to 39716\n",
      "Data columns (total 111 columns):\n",
      "id                                39717 non-null int64\n",
      "member_id                         39717 non-null int64\n",
      "loan_amnt                         39717 non-null int64\n",
      "funded_amnt                       39717 non-null int64\n",
      "funded_amnt_inv                   39717 non-null float64\n",
      "term                              39717 non-null object\n",
      "int_rate                          39717 non-null object\n",
      "installment                       39717 non-null float64\n",
      "grade                             39717 non-null object\n",
      "sub_grade                         39717 non-null object\n",
      "emp_title                         37258 non-null object\n",
      "emp_length                        38642 non-null object\n",
      "home_ownership                    39717 non-null object\n",
      "annual_inc                        39717 non-null float64\n",
      "verification_status               39717 non-null object\n",
      "issue_d                           39717 non-null object\n",
      "loan_status                       39717 non-null object\n",
      "pymnt_plan                        39717 non-null object\n",
      "url                               39717 non-null object\n",
      "desc                              26777 non-null object\n",
      "purpose                           39717 non-null object\n",
      "title                             39706 non-null object\n",
      "zip_code                          39717 non-null object\n",
      "addr_state                        39717 non-null object\n",
      "dti                               39717 non-null float64\n",
      "delinq_2yrs                       39717 non-null int64\n",
      "earliest_cr_line                  39717 non-null object\n",
      "inq_last_6mths                    39717 non-null int64\n",
      "mths_since_last_delinq            14035 non-null float64\n",
      "mths_since_last_record            2786 non-null float64\n",
      "open_acc                          39717 non-null int64\n",
      "pub_rec                           39717 non-null int64\n",
      "revol_bal                         39717 non-null int64\n",
      "revol_util                        39667 non-null object\n",
      "total_acc                         39717 non-null int64\n",
      "initial_list_status               39717 non-null object\n",
      "out_prncp                         39717 non-null float64\n",
      "out_prncp_inv                     39717 non-null float64\n",
      "total_pymnt                       39717 non-null float64\n",
      "total_pymnt_inv                   39717 non-null float64\n",
      "total_rec_prncp                   39717 non-null float64\n",
      "total_rec_int                     39717 non-null float64\n",
      "total_rec_late_fee                39717 non-null float64\n",
      "recoveries                        39717 non-null float64\n",
      "collection_recovery_fee           39717 non-null float64\n",
      "last_pymnt_d                      39646 non-null object\n",
      "last_pymnt_amnt                   39717 non-null float64\n",
      "next_pymnt_d                      1140 non-null object\n",
      "last_credit_pull_d                39715 non-null object\n",
      "collections_12_mths_ex_med        39661 non-null float64\n",
      "mths_since_last_major_derog       0 non-null float64\n",
      "policy_code                       39717 non-null int64\n",
      "application_type                  39717 non-null object\n",
      "annual_inc_joint                  0 non-null float64\n",
      "dti_joint                         0 non-null float64\n",
      "verification_status_joint         0 non-null float64\n",
      "acc_now_delinq                    39717 non-null int64\n",
      "tot_coll_amt                      0 non-null float64\n",
      "tot_cur_bal                       0 non-null float64\n",
      "open_acc_6m                       0 non-null float64\n",
      "open_il_6m                        0 non-null float64\n",
      "open_il_12m                       0 non-null float64\n",
      "open_il_24m                       0 non-null float64\n",
      "mths_since_rcnt_il                0 non-null float64\n",
      "total_bal_il                      0 non-null float64\n",
      "il_util                           0 non-null float64\n",
      "open_rv_12m                       0 non-null float64\n",
      "open_rv_24m                       0 non-null float64\n",
      "max_bal_bc                        0 non-null float64\n",
      "all_util                          0 non-null float64\n",
      "total_rev_hi_lim                  0 non-null float64\n",
      "inq_fi                            0 non-null float64\n",
      "total_cu_tl                       0 non-null float64\n",
      "inq_last_12m                      0 non-null float64\n",
      "acc_open_past_24mths              0 non-null float64\n",
      "avg_cur_bal                       0 non-null float64\n",
      "bc_open_to_buy                    0 non-null float64\n",
      "bc_util                           0 non-null float64\n",
      "chargeoff_within_12_mths          39661 non-null float64\n",
      "delinq_amnt                       39717 non-null int64\n",
      "mo_sin_old_il_acct                0 non-null float64\n",
      "mo_sin_old_rev_tl_op              0 non-null float64\n",
      "mo_sin_rcnt_rev_tl_op             0 non-null float64\n",
      "mo_sin_rcnt_tl                    0 non-null float64\n",
      "mort_acc                          0 non-null float64\n",
      "mths_since_recent_bc              0 non-null float64\n",
      "mths_since_recent_bc_dlq          0 non-null float64\n",
      "mths_since_recent_inq             0 non-null float64\n",
      "mths_since_recent_revol_delinq    0 non-null float64\n",
      "num_accts_ever_120_pd             0 non-null float64\n",
      "num_actv_bc_tl                    0 non-null float64\n",
      "num_actv_rev_tl                   0 non-null float64\n",
      "num_bc_sats                       0 non-null float64\n",
      "num_bc_tl                         0 non-null float64\n",
      "num_il_tl                         0 non-null float64\n",
      "num_op_rev_tl                     0 non-null float64\n",
      "num_rev_accts                     0 non-null float64\n",
      "num_rev_tl_bal_gt_0               0 non-null float64\n",
      "num_sats                          0 non-null float64\n",
      "num_tl_120dpd_2m                  0 non-null float64\n",
      "num_tl_30dpd                      0 non-null float64\n",
      "num_tl_90g_dpd_24m                0 non-null float64\n",
      "num_tl_op_past_12m                0 non-null float64\n",
      "pct_tl_nvr_dlq                    0 non-null float64\n",
      "percent_bc_gt_75                  0 non-null float64\n",
      "pub_rec_bankruptcies              39020 non-null float64\n",
      "tax_liens                         39678 non-null float64\n",
      "tot_hi_cred_lim                   0 non-null float64\n",
      "total_bal_ex_mort                 0 non-null float64\n",
      "total_bc_limit                    0 non-null float64\n",
      "total_il_high_credit_limit        0 non-null float64\n",
      "dtypes: float64(74), int64(13), object(24)\n",
      "memory usage: 33.6+ MB\n"
     ]
    }
   ],
   "source": [
    "# fetch if there are any null columns that are present in the \n",
    "loan_data.info(verbose=True, null_counts=True)\n",
    "# ===> there are 54 columns in which values are null and can be dropped."
   ]
  },
  {
   "cell_type": "code",
   "execution_count": 5,
   "metadata": {},
   "outputs": [
    {
     "data": {
      "text/plain": [
       "id                                  NaN\n",
       "member_id                           NaN\n",
       "loan_amnt                           NaN\n",
       "funded_amnt                         NaN\n",
       "funded_amnt_inv                     NaN\n",
       "term                                  2\n",
       "int_rate                            371\n",
       "installment                         NaN\n",
       "grade                                 7\n",
       "sub_grade                            35\n",
       "emp_title                         28820\n",
       "emp_length                           11\n",
       "home_ownership                        5\n",
       "annual_inc                          NaN\n",
       "verification_status                   3\n",
       "issue_d                              55\n",
       "loan_status                           3\n",
       "pymnt_plan                            1\n",
       "url                               39717\n",
       "desc                              26527\n",
       "purpose                              14\n",
       "title                             19615\n",
       "zip_code                            823\n",
       "addr_state                           50\n",
       "dti                                 NaN\n",
       "delinq_2yrs                         NaN\n",
       "earliest_cr_line                    526\n",
       "inq_last_6mths                      NaN\n",
       "mths_since_last_delinq              NaN\n",
       "mths_since_last_record              NaN\n",
       "                                  ...  \n",
       "mo_sin_old_rev_tl_op                NaN\n",
       "mo_sin_rcnt_rev_tl_op               NaN\n",
       "mo_sin_rcnt_tl                      NaN\n",
       "mort_acc                            NaN\n",
       "mths_since_recent_bc                NaN\n",
       "mths_since_recent_bc_dlq            NaN\n",
       "mths_since_recent_inq               NaN\n",
       "mths_since_recent_revol_delinq      NaN\n",
       "num_accts_ever_120_pd               NaN\n",
       "num_actv_bc_tl                      NaN\n",
       "num_actv_rev_tl                     NaN\n",
       "num_bc_sats                         NaN\n",
       "num_bc_tl                           NaN\n",
       "num_il_tl                           NaN\n",
       "num_op_rev_tl                       NaN\n",
       "num_rev_accts                       NaN\n",
       "num_rev_tl_bal_gt_0                 NaN\n",
       "num_sats                            NaN\n",
       "num_tl_120dpd_2m                    NaN\n",
       "num_tl_30dpd                        NaN\n",
       "num_tl_90g_dpd_24m                  NaN\n",
       "num_tl_op_past_12m                  NaN\n",
       "pct_tl_nvr_dlq                      NaN\n",
       "percent_bc_gt_75                    NaN\n",
       "pub_rec_bankruptcies                NaN\n",
       "tax_liens                           NaN\n",
       "tot_hi_cred_lim                     NaN\n",
       "total_bal_ex_mort                   NaN\n",
       "total_bc_limit                      NaN\n",
       "total_il_high_credit_limit          NaN\n",
       "Name: unique, Length: 111, dtype: object"
      ]
     },
     "execution_count": 5,
     "metadata": {},
     "output_type": "execute_result"
    }
   ],
   "source": [
    "# ===> Fetch unique columns in each columns\n",
    "# ===> if we have columns with same value then we can rollout that columns\n",
    "loan_data.describe(include='all').loc['unique', :]"
   ]
  },
  {
   "cell_type": "code",
   "execution_count": 7,
   "metadata": {},
   "outputs": [
    {
     "data": {
      "text/plain": [
       "array([ 0., nan])"
      ]
     },
     "execution_count": 7,
     "metadata": {},
     "output_type": "execute_result"
    }
   ],
   "source": [
    "#  analyse the column collections_12_mths_ex_med which has only two values \n",
    "# there only two values in the column collections_12_mths_ex_med which is 0 and NAN\n",
    "loan_data['collections_12_mths_ex_med'].unique()"
   ]
  },
  {
   "cell_type": "code",
   "execution_count": 8,
   "metadata": {},
   "outputs": [
    {
     "data": {
      "text/plain": [
       "array([1])"
      ]
     },
     "execution_count": 8,
     "metadata": {},
     "output_type": "execute_result"
    }
   ],
   "source": [
    "# ===> Policy has only one value\n",
    "loan_data['policy_code'].unique()\n",
    "# ===> It has only one value and correlation with other variables will be always 1 so we can remove it. "
   ]
  },
  {
   "cell_type": "code",
   "execution_count": 10,
   "metadata": {},
   "outputs": [
    {
     "data": {
      "text/plain": [
       "array([nan])"
      ]
     },
     "execution_count": 10,
     "metadata": {},
     "output_type": "execute_result"
    }
   ],
   "source": [
    "# ===> dti_joint has only one value\n",
    "loan_data['dti_joint'].unique()\n",
    "# ===> It has only one value and correlation with other variables will be always 1 so we can remove it. "
   ]
  },
  {
   "cell_type": "code",
   "execution_count": 11,
   "metadata": {},
   "outputs": [
    {
     "data": {
      "text/plain": [
       "array([' 36 months', ' 60 months'], dtype=object)"
      ]
     },
     "execution_count": 11,
     "metadata": {},
     "output_type": "execute_result"
    }
   ],
   "source": [
    "# ===> Term has two values 36 months, 60 months\n",
    "loan_data['term'].unique()"
   ]
  },
  {
   "cell_type": "code",
   "execution_count": 13,
   "metadata": {},
   "outputs": [
    {
     "data": {
      "text/plain": [
       "array(['n'], dtype=object)"
      ]
     },
     "execution_count": 13,
     "metadata": {},
     "output_type": "execute_result"
    }
   ],
   "source": [
    "loan_data['pymnt_plan'].unique()\n",
    "# ===> It has only one value and correlation with other variables will be always 1 so we can remove it. "
   ]
  },
  {
   "cell_type": "code",
   "execution_count": 14,
   "metadata": {},
   "outputs": [
    {
     "data": {
      "text/plain": [
       "array(['f'], dtype=object)"
      ]
     },
     "execution_count": 14,
     "metadata": {},
     "output_type": "execute_result"
    }
   ],
   "source": [
    "loan_data['initial_list_status'].unique()\n",
    "# ===> It has only one value and correlation with other variables will be always 1 so we can remove it. "
   ]
  },
  {
   "cell_type": "code",
   "execution_count": 15,
   "metadata": {},
   "outputs": [
    {
     "data": {
      "text/html": [
       "<div>\n",
       "<style scoped>\n",
       "    .dataframe tbody tr th:only-of-type {\n",
       "        vertical-align: middle;\n",
       "    }\n",
       "\n",
       "    .dataframe tbody tr th {\n",
       "        vertical-align: top;\n",
       "    }\n",
       "\n",
       "    .dataframe thead th {\n",
       "        text-align: right;\n",
       "    }\n",
       "</style>\n",
       "<table border=\"1\" class=\"dataframe\">\n",
       "  <thead>\n",
       "    <tr style=\"text-align: right;\">\n",
       "      <th></th>\n",
       "      <th>id</th>\n",
       "      <th>member_id</th>\n",
       "      <th>loan_amnt</th>\n",
       "      <th>funded_amnt</th>\n",
       "      <th>funded_amnt_inv</th>\n",
       "      <th>installment</th>\n",
       "      <th>annual_inc</th>\n",
       "      <th>dti</th>\n",
       "      <th>delinq_2yrs</th>\n",
       "      <th>inq_last_6mths</th>\n",
       "      <th>...</th>\n",
       "      <th>num_tl_90g_dpd_24m</th>\n",
       "      <th>num_tl_op_past_12m</th>\n",
       "      <th>pct_tl_nvr_dlq</th>\n",
       "      <th>percent_bc_gt_75</th>\n",
       "      <th>pub_rec_bankruptcies</th>\n",
       "      <th>tax_liens</th>\n",
       "      <th>tot_hi_cred_lim</th>\n",
       "      <th>total_bal_ex_mort</th>\n",
       "      <th>total_bc_limit</th>\n",
       "      <th>total_il_high_credit_limit</th>\n",
       "    </tr>\n",
       "  </thead>\n",
       "  <tbody>\n",
       "    <tr>\n",
       "      <th>count</th>\n",
       "      <td>3.971700e+04</td>\n",
       "      <td>3.971700e+04</td>\n",
       "      <td>39717.000000</td>\n",
       "      <td>39717.000000</td>\n",
       "      <td>39717.000000</td>\n",
       "      <td>39717.000000</td>\n",
       "      <td>3.971700e+04</td>\n",
       "      <td>39717.000000</td>\n",
       "      <td>39717.000000</td>\n",
       "      <td>39717.000000</td>\n",
       "      <td>...</td>\n",
       "      <td>0.0</td>\n",
       "      <td>0.0</td>\n",
       "      <td>0.0</td>\n",
       "      <td>0.0</td>\n",
       "      <td>39020.000000</td>\n",
       "      <td>39678.0</td>\n",
       "      <td>0.0</td>\n",
       "      <td>0.0</td>\n",
       "      <td>0.0</td>\n",
       "      <td>0.0</td>\n",
       "    </tr>\n",
       "    <tr>\n",
       "      <th>mean</th>\n",
       "      <td>6.831319e+05</td>\n",
       "      <td>8.504636e+05</td>\n",
       "      <td>11219.443815</td>\n",
       "      <td>10947.713196</td>\n",
       "      <td>10397.448868</td>\n",
       "      <td>324.561922</td>\n",
       "      <td>6.896893e+04</td>\n",
       "      <td>13.315130</td>\n",
       "      <td>0.146512</td>\n",
       "      <td>0.869200</td>\n",
       "      <td>...</td>\n",
       "      <td>NaN</td>\n",
       "      <td>NaN</td>\n",
       "      <td>NaN</td>\n",
       "      <td>NaN</td>\n",
       "      <td>0.043260</td>\n",
       "      <td>0.0</td>\n",
       "      <td>NaN</td>\n",
       "      <td>NaN</td>\n",
       "      <td>NaN</td>\n",
       "      <td>NaN</td>\n",
       "    </tr>\n",
       "    <tr>\n",
       "      <th>std</th>\n",
       "      <td>2.106941e+05</td>\n",
       "      <td>2.656783e+05</td>\n",
       "      <td>7456.670694</td>\n",
       "      <td>7187.238670</td>\n",
       "      <td>7128.450439</td>\n",
       "      <td>208.874874</td>\n",
       "      <td>6.379377e+04</td>\n",
       "      <td>6.678594</td>\n",
       "      <td>0.491812</td>\n",
       "      <td>1.070219</td>\n",
       "      <td>...</td>\n",
       "      <td>NaN</td>\n",
       "      <td>NaN</td>\n",
       "      <td>NaN</td>\n",
       "      <td>NaN</td>\n",
       "      <td>0.204324</td>\n",
       "      <td>0.0</td>\n",
       "      <td>NaN</td>\n",
       "      <td>NaN</td>\n",
       "      <td>NaN</td>\n",
       "      <td>NaN</td>\n",
       "    </tr>\n",
       "    <tr>\n",
       "      <th>min</th>\n",
       "      <td>5.473400e+04</td>\n",
       "      <td>7.069900e+04</td>\n",
       "      <td>500.000000</td>\n",
       "      <td>500.000000</td>\n",
       "      <td>0.000000</td>\n",
       "      <td>15.690000</td>\n",
       "      <td>4.000000e+03</td>\n",
       "      <td>0.000000</td>\n",
       "      <td>0.000000</td>\n",
       "      <td>0.000000</td>\n",
       "      <td>...</td>\n",
       "      <td>NaN</td>\n",
       "      <td>NaN</td>\n",
       "      <td>NaN</td>\n",
       "      <td>NaN</td>\n",
       "      <td>0.000000</td>\n",
       "      <td>0.0</td>\n",
       "      <td>NaN</td>\n",
       "      <td>NaN</td>\n",
       "      <td>NaN</td>\n",
       "      <td>NaN</td>\n",
       "    </tr>\n",
       "    <tr>\n",
       "      <th>25%</th>\n",
       "      <td>5.162210e+05</td>\n",
       "      <td>6.667800e+05</td>\n",
       "      <td>5500.000000</td>\n",
       "      <td>5400.000000</td>\n",
       "      <td>5000.000000</td>\n",
       "      <td>167.020000</td>\n",
       "      <td>4.040400e+04</td>\n",
       "      <td>8.170000</td>\n",
       "      <td>0.000000</td>\n",
       "      <td>0.000000</td>\n",
       "      <td>...</td>\n",
       "      <td>NaN</td>\n",
       "      <td>NaN</td>\n",
       "      <td>NaN</td>\n",
       "      <td>NaN</td>\n",
       "      <td>0.000000</td>\n",
       "      <td>0.0</td>\n",
       "      <td>NaN</td>\n",
       "      <td>NaN</td>\n",
       "      <td>NaN</td>\n",
       "      <td>NaN</td>\n",
       "    </tr>\n",
       "    <tr>\n",
       "      <th>50%</th>\n",
       "      <td>6.656650e+05</td>\n",
       "      <td>8.508120e+05</td>\n",
       "      <td>10000.000000</td>\n",
       "      <td>9600.000000</td>\n",
       "      <td>8975.000000</td>\n",
       "      <td>280.220000</td>\n",
       "      <td>5.900000e+04</td>\n",
       "      <td>13.400000</td>\n",
       "      <td>0.000000</td>\n",
       "      <td>1.000000</td>\n",
       "      <td>...</td>\n",
       "      <td>NaN</td>\n",
       "      <td>NaN</td>\n",
       "      <td>NaN</td>\n",
       "      <td>NaN</td>\n",
       "      <td>0.000000</td>\n",
       "      <td>0.0</td>\n",
       "      <td>NaN</td>\n",
       "      <td>NaN</td>\n",
       "      <td>NaN</td>\n",
       "      <td>NaN</td>\n",
       "    </tr>\n",
       "    <tr>\n",
       "      <th>75%</th>\n",
       "      <td>8.377550e+05</td>\n",
       "      <td>1.047339e+06</td>\n",
       "      <td>15000.000000</td>\n",
       "      <td>15000.000000</td>\n",
       "      <td>14400.000000</td>\n",
       "      <td>430.780000</td>\n",
       "      <td>8.230000e+04</td>\n",
       "      <td>18.600000</td>\n",
       "      <td>0.000000</td>\n",
       "      <td>1.000000</td>\n",
       "      <td>...</td>\n",
       "      <td>NaN</td>\n",
       "      <td>NaN</td>\n",
       "      <td>NaN</td>\n",
       "      <td>NaN</td>\n",
       "      <td>0.000000</td>\n",
       "      <td>0.0</td>\n",
       "      <td>NaN</td>\n",
       "      <td>NaN</td>\n",
       "      <td>NaN</td>\n",
       "      <td>NaN</td>\n",
       "    </tr>\n",
       "    <tr>\n",
       "      <th>max</th>\n",
       "      <td>1.077501e+06</td>\n",
       "      <td>1.314167e+06</td>\n",
       "      <td>35000.000000</td>\n",
       "      <td>35000.000000</td>\n",
       "      <td>35000.000000</td>\n",
       "      <td>1305.190000</td>\n",
       "      <td>6.000000e+06</td>\n",
       "      <td>29.990000</td>\n",
       "      <td>11.000000</td>\n",
       "      <td>8.000000</td>\n",
       "      <td>...</td>\n",
       "      <td>NaN</td>\n",
       "      <td>NaN</td>\n",
       "      <td>NaN</td>\n",
       "      <td>NaN</td>\n",
       "      <td>2.000000</td>\n",
       "      <td>0.0</td>\n",
       "      <td>NaN</td>\n",
       "      <td>NaN</td>\n",
       "      <td>NaN</td>\n",
       "      <td>NaN</td>\n",
       "    </tr>\n",
       "  </tbody>\n",
       "</table>\n",
       "<p>8 rows × 87 columns</p>\n",
       "</div>"
      ],
      "text/plain": [
       "                 id     member_id     loan_amnt   funded_amnt  \\\n",
       "count  3.971700e+04  3.971700e+04  39717.000000  39717.000000   \n",
       "mean   6.831319e+05  8.504636e+05  11219.443815  10947.713196   \n",
       "std    2.106941e+05  2.656783e+05   7456.670694   7187.238670   \n",
       "min    5.473400e+04  7.069900e+04    500.000000    500.000000   \n",
       "25%    5.162210e+05  6.667800e+05   5500.000000   5400.000000   \n",
       "50%    6.656650e+05  8.508120e+05  10000.000000   9600.000000   \n",
       "75%    8.377550e+05  1.047339e+06  15000.000000  15000.000000   \n",
       "max    1.077501e+06  1.314167e+06  35000.000000  35000.000000   \n",
       "\n",
       "       funded_amnt_inv   installment    annual_inc           dti  \\\n",
       "count     39717.000000  39717.000000  3.971700e+04  39717.000000   \n",
       "mean      10397.448868    324.561922  6.896893e+04     13.315130   \n",
       "std        7128.450439    208.874874  6.379377e+04      6.678594   \n",
       "min           0.000000     15.690000  4.000000e+03      0.000000   \n",
       "25%        5000.000000    167.020000  4.040400e+04      8.170000   \n",
       "50%        8975.000000    280.220000  5.900000e+04     13.400000   \n",
       "75%       14400.000000    430.780000  8.230000e+04     18.600000   \n",
       "max       35000.000000   1305.190000  6.000000e+06     29.990000   \n",
       "\n",
       "        delinq_2yrs  inq_last_6mths             ...              \\\n",
       "count  39717.000000    39717.000000             ...               \n",
       "mean       0.146512        0.869200             ...               \n",
       "std        0.491812        1.070219             ...               \n",
       "min        0.000000        0.000000             ...               \n",
       "25%        0.000000        0.000000             ...               \n",
       "50%        0.000000        1.000000             ...               \n",
       "75%        0.000000        1.000000             ...               \n",
       "max       11.000000        8.000000             ...               \n",
       "\n",
       "       num_tl_90g_dpd_24m  num_tl_op_past_12m  pct_tl_nvr_dlq  \\\n",
       "count                 0.0                 0.0             0.0   \n",
       "mean                  NaN                 NaN             NaN   \n",
       "std                   NaN                 NaN             NaN   \n",
       "min                   NaN                 NaN             NaN   \n",
       "25%                   NaN                 NaN             NaN   \n",
       "50%                   NaN                 NaN             NaN   \n",
       "75%                   NaN                 NaN             NaN   \n",
       "max                   NaN                 NaN             NaN   \n",
       "\n",
       "       percent_bc_gt_75  pub_rec_bankruptcies  tax_liens  tot_hi_cred_lim  \\\n",
       "count               0.0          39020.000000    39678.0              0.0   \n",
       "mean                NaN              0.043260        0.0              NaN   \n",
       "std                 NaN              0.204324        0.0              NaN   \n",
       "min                 NaN              0.000000        0.0              NaN   \n",
       "25%                 NaN              0.000000        0.0              NaN   \n",
       "50%                 NaN              0.000000        0.0              NaN   \n",
       "75%                 NaN              0.000000        0.0              NaN   \n",
       "max                 NaN              2.000000        0.0              NaN   \n",
       "\n",
       "       total_bal_ex_mort  total_bc_limit  total_il_high_credit_limit  \n",
       "count                0.0             0.0                         0.0  \n",
       "mean                 NaN             NaN                         NaN  \n",
       "std                  NaN             NaN                         NaN  \n",
       "min                  NaN             NaN                         NaN  \n",
       "25%                  NaN             NaN                         NaN  \n",
       "50%                  NaN             NaN                         NaN  \n",
       "75%                  NaN             NaN                         NaN  \n",
       "max                  NaN             NaN                         NaN  \n",
       "\n",
       "[8 rows x 87 columns]"
      ]
     },
     "execution_count": 15,
     "metadata": {},
     "output_type": "execute_result"
    }
   ],
   "source": [
    "loan_data.describe()"
   ]
  },
  {
   "cell_type": "code",
   "execution_count": 16,
   "metadata": {},
   "outputs": [
    {
     "data": {
      "text/plain": [
       "count    39717.000000\n",
       "mean     11219.443815\n",
       "std       7456.670694\n",
       "min        500.000000\n",
       "25%       5500.000000\n",
       "50%      10000.000000\n",
       "75%      15000.000000\n",
       "max      35000.000000\n",
       "Name: loan_amnt, dtype: float64"
      ]
     },
     "execution_count": 16,
     "metadata": {},
     "output_type": "execute_result"
    }
   ],
   "source": [
    "loan_data['loan_amnt'].describe()"
   ]
  },
  {
   "cell_type": "markdown",
   "metadata": {},
   "source": [
    "#### Loan amount is distributed and we can't have any outliers as it's cash releated. "
   ]
  },
  {
   "cell_type": "code",
   "execution_count": 19,
   "metadata": {},
   "outputs": [
    {
     "data": {
      "text/plain": [
       "count    39717.000000\n",
       "mean     10947.713196\n",
       "std       7187.238670\n",
       "min        500.000000\n",
       "25%       5400.000000\n",
       "50%       9600.000000\n",
       "75%      15000.000000\n",
       "max      35000.000000\n",
       "Name: funded_amnt, dtype: float64"
      ]
     },
     "execution_count": 19,
     "metadata": {},
     "output_type": "execute_result"
    }
   ],
   "source": [
    "loan_data['funded_amnt'].describe()"
   ]
  },
  {
   "cell_type": "markdown",
   "metadata": {},
   "source": [
    "#### Funded amount is distributed and we can't have any outliers as it's money releated. "
   ]
  },
  {
   "cell_type": "code",
   "execution_count": 21,
   "metadata": {},
   "outputs": [
    {
     "data": {
      "text/plain": [
       "count      39717\n",
       "unique       371\n",
       "top       10.99%\n",
       "freq         956\n",
       "Name: int_rate, dtype: object"
      ]
     },
     "execution_count": 21,
     "metadata": {},
     "output_type": "execute_result"
    }
   ],
   "source": [
    "loan_data['int_rate'].describe()\n",
    "# ===> interest rate is in string and it has % postfix so it can be removed and converted to string"
   ]
  },
  {
   "cell_type": "code",
   "execution_count": 23,
   "metadata": {},
   "outputs": [
    {
     "data": {
      "text/plain": [
       "array(['f'], dtype=object)"
      ]
     },
     "execution_count": 23,
     "metadata": {},
     "output_type": "execute_result"
    }
   ],
   "source": [
    "loan_data['initial_list_status'].unique()\n",
    "# ===> It has only one value and correlation with other variables will be always 1 so we can remove it. "
   ]
  },
  {
   "cell_type": "code",
   "execution_count": 24,
   "metadata": {},
   "outputs": [
    {
     "data": {
      "text/plain": [
       "array(['Fully Paid', 'Charged Off', 'Current'], dtype=object)"
      ]
     },
     "execution_count": 24,
     "metadata": {},
     "output_type": "execute_result"
    }
   ],
   "source": [
    "loan_data['loan_status'].unique()\n",
    "# ===> Loan status 3 values Fully Paid, Charged Off, Current\n",
    "# ===> Charged off is defaulted custoemrs"
   ]
  },
  {
   "cell_type": "markdown",
   "metadata": {},
   "source": [
    " "
   ]
  },
  {
   "cell_type": "markdown",
   "metadata": {},
   "source": [
    " "
   ]
  },
  {
   "cell_type": "markdown",
   "metadata": {},
   "source": [
    "### Data cleaning:"
   ]
  },
  {
   "cell_type": "markdown",
   "metadata": {},
   "source": [
    " "
   ]
  },
  {
   "cell_type": "markdown",
   "metadata": {},
   "source": [
    "**Remove all null columns**"
   ]
  },
  {
   "cell_type": "code",
   "execution_count": 25,
   "metadata": {},
   "outputs": [
    {
     "data": {
      "text/plain": [
       "(39717, 57)"
      ]
     },
     "execution_count": 25,
     "metadata": {},
     "output_type": "execute_result"
    }
   ],
   "source": [
    "loan_data.dropna(how='all', inplace=True, axis='columns')\n",
    "loan_data.shape"
   ]
  },
  {
   "cell_type": "markdown",
   "metadata": {},
   "source": [
    "**Drop columns where there is only one value**"
   ]
  },
  {
   "cell_type": "code",
   "execution_count": 26,
   "metadata": {},
   "outputs": [
    {
     "data": {
      "text/plain": [
       "(39717, 54)"
      ]
     },
     "execution_count": 26,
     "metadata": {},
     "output_type": "execute_result"
    }
   ],
   "source": [
    "#======> remove the columns where there is only one value... it's correlation is always 1\n",
    "loan_data.drop(columns=['policy_code', 'application_type', 'initial_list_status'], inplace=True)\n",
    "loan_data.shape"
   ]
  },
  {
   "cell_type": "code",
   "execution_count": 27,
   "metadata": {},
   "outputs": [
    {
     "name": "stdout",
     "output_type": "stream",
     "text": [
      "[ 0. nan]\n"
     ]
    },
    {
     "data": {
      "text/plain": [
       "(39717, 52)"
      ]
     },
     "execution_count": 27,
     "metadata": {},
     "output_type": "execute_result"
    }
   ],
   "source": [
    "# ===> Remove columns where there is only 0/NAN \n",
    "print(loan_data.tax_liens.unique())\n",
    "loan_data.drop(columns=['tax_liens', 'chargeoff_within_12_mths'], inplace=True)\n",
    "loan_data.shape"
   ]
  },
  {
   "cell_type": "code",
   "execution_count": 28,
   "metadata": {},
   "outputs": [
    {
     "name": "stdout",
     "output_type": "stream",
     "text": [
      "[ 0. nan]\n"
     ]
    },
    {
     "data": {
      "text/plain": [
       "(39717, 51)"
      ]
     },
     "execution_count": 28,
     "metadata": {},
     "output_type": "execute_result"
    }
   ],
   "source": [
    "print(loan_data.collections_12_mths_ex_med.unique())\n",
    "loan_data.drop(columns=['collections_12_mths_ex_med'], inplace=True)\n",
    "loan_data.shape"
   ]
  },
  {
   "cell_type": "markdown",
   "metadata": {},
   "source": [
    "##### Add column with defaulted who are charged off with 1/0"
   ]
  },
  {
   "cell_type": "code",
   "execution_count": 29,
   "metadata": {},
   "outputs": [
    {
     "data": {
      "text/html": [
       "<div>\n",
       "<style scoped>\n",
       "    .dataframe tbody tr th:only-of-type {\n",
       "        vertical-align: middle;\n",
       "    }\n",
       "\n",
       "    .dataframe tbody tr th {\n",
       "        vertical-align: top;\n",
       "    }\n",
       "\n",
       "    .dataframe thead th {\n",
       "        text-align: right;\n",
       "    }\n",
       "</style>\n",
       "<table border=\"1\" class=\"dataframe\">\n",
       "  <thead>\n",
       "    <tr style=\"text-align: right;\">\n",
       "      <th></th>\n",
       "      <th>id</th>\n",
       "      <th>member_id</th>\n",
       "      <th>loan_amnt</th>\n",
       "      <th>funded_amnt</th>\n",
       "      <th>funded_amnt_inv</th>\n",
       "      <th>term</th>\n",
       "      <th>int_rate</th>\n",
       "      <th>installment</th>\n",
       "      <th>grade</th>\n",
       "      <th>sub_grade</th>\n",
       "      <th>...</th>\n",
       "      <th>recoveries</th>\n",
       "      <th>collection_recovery_fee</th>\n",
       "      <th>last_pymnt_d</th>\n",
       "      <th>last_pymnt_amnt</th>\n",
       "      <th>next_pymnt_d</th>\n",
       "      <th>last_credit_pull_d</th>\n",
       "      <th>acc_now_delinq</th>\n",
       "      <th>delinq_amnt</th>\n",
       "      <th>pub_rec_bankruptcies</th>\n",
       "      <th>defaulted</th>\n",
       "    </tr>\n",
       "  </thead>\n",
       "  <tbody>\n",
       "    <tr>\n",
       "      <th>0</th>\n",
       "      <td>1077501</td>\n",
       "      <td>1296599</td>\n",
       "      <td>5000</td>\n",
       "      <td>5000</td>\n",
       "      <td>4975.0</td>\n",
       "      <td>36 months</td>\n",
       "      <td>10.65%</td>\n",
       "      <td>162.87</td>\n",
       "      <td>B</td>\n",
       "      <td>B2</td>\n",
       "      <td>...</td>\n",
       "      <td>0.00</td>\n",
       "      <td>0.00</td>\n",
       "      <td>Jan-15</td>\n",
       "      <td>171.62</td>\n",
       "      <td>NaN</td>\n",
       "      <td>May-16</td>\n",
       "      <td>0</td>\n",
       "      <td>0</td>\n",
       "      <td>0.0</td>\n",
       "      <td>0</td>\n",
       "    </tr>\n",
       "    <tr>\n",
       "      <th>1</th>\n",
       "      <td>1077430</td>\n",
       "      <td>1314167</td>\n",
       "      <td>2500</td>\n",
       "      <td>2500</td>\n",
       "      <td>2500.0</td>\n",
       "      <td>60 months</td>\n",
       "      <td>15.27%</td>\n",
       "      <td>59.83</td>\n",
       "      <td>C</td>\n",
       "      <td>C4</td>\n",
       "      <td>...</td>\n",
       "      <td>117.08</td>\n",
       "      <td>1.11</td>\n",
       "      <td>Apr-13</td>\n",
       "      <td>119.66</td>\n",
       "      <td>NaN</td>\n",
       "      <td>Sep-13</td>\n",
       "      <td>0</td>\n",
       "      <td>0</td>\n",
       "      <td>0.0</td>\n",
       "      <td>1</td>\n",
       "    </tr>\n",
       "    <tr>\n",
       "      <th>2</th>\n",
       "      <td>1077175</td>\n",
       "      <td>1313524</td>\n",
       "      <td>2400</td>\n",
       "      <td>2400</td>\n",
       "      <td>2400.0</td>\n",
       "      <td>36 months</td>\n",
       "      <td>15.96%</td>\n",
       "      <td>84.33</td>\n",
       "      <td>C</td>\n",
       "      <td>C5</td>\n",
       "      <td>...</td>\n",
       "      <td>0.00</td>\n",
       "      <td>0.00</td>\n",
       "      <td>Jun-14</td>\n",
       "      <td>649.91</td>\n",
       "      <td>NaN</td>\n",
       "      <td>May-16</td>\n",
       "      <td>0</td>\n",
       "      <td>0</td>\n",
       "      <td>0.0</td>\n",
       "      <td>0</td>\n",
       "    </tr>\n",
       "    <tr>\n",
       "      <th>3</th>\n",
       "      <td>1076863</td>\n",
       "      <td>1277178</td>\n",
       "      <td>10000</td>\n",
       "      <td>10000</td>\n",
       "      <td>10000.0</td>\n",
       "      <td>36 months</td>\n",
       "      <td>13.49%</td>\n",
       "      <td>339.31</td>\n",
       "      <td>C</td>\n",
       "      <td>C1</td>\n",
       "      <td>...</td>\n",
       "      <td>0.00</td>\n",
       "      <td>0.00</td>\n",
       "      <td>Jan-15</td>\n",
       "      <td>357.48</td>\n",
       "      <td>NaN</td>\n",
       "      <td>Apr-16</td>\n",
       "      <td>0</td>\n",
       "      <td>0</td>\n",
       "      <td>0.0</td>\n",
       "      <td>0</td>\n",
       "    </tr>\n",
       "    <tr>\n",
       "      <th>4</th>\n",
       "      <td>1075358</td>\n",
       "      <td>1311748</td>\n",
       "      <td>3000</td>\n",
       "      <td>3000</td>\n",
       "      <td>3000.0</td>\n",
       "      <td>60 months</td>\n",
       "      <td>12.69%</td>\n",
       "      <td>67.79</td>\n",
       "      <td>B</td>\n",
       "      <td>B5</td>\n",
       "      <td>...</td>\n",
       "      <td>0.00</td>\n",
       "      <td>0.00</td>\n",
       "      <td>May-16</td>\n",
       "      <td>67.79</td>\n",
       "      <td>Jun-16</td>\n",
       "      <td>May-16</td>\n",
       "      <td>0</td>\n",
       "      <td>0</td>\n",
       "      <td>0.0</td>\n",
       "      <td>0</td>\n",
       "    </tr>\n",
       "  </tbody>\n",
       "</table>\n",
       "<p>5 rows × 52 columns</p>\n",
       "</div>"
      ],
      "text/plain": [
       "        id  member_id  loan_amnt  funded_amnt  funded_amnt_inv        term  \\\n",
       "0  1077501    1296599       5000         5000           4975.0   36 months   \n",
       "1  1077430    1314167       2500         2500           2500.0   60 months   \n",
       "2  1077175    1313524       2400         2400           2400.0   36 months   \n",
       "3  1076863    1277178      10000        10000          10000.0   36 months   \n",
       "4  1075358    1311748       3000         3000           3000.0   60 months   \n",
       "\n",
       "  int_rate  installment grade sub_grade    ...    recoveries  \\\n",
       "0   10.65%       162.87     B        B2    ...          0.00   \n",
       "1   15.27%        59.83     C        C4    ...        117.08   \n",
       "2   15.96%        84.33     C        C5    ...          0.00   \n",
       "3   13.49%       339.31     C        C1    ...          0.00   \n",
       "4   12.69%        67.79     B        B5    ...          0.00   \n",
       "\n",
       "  collection_recovery_fee last_pymnt_d  last_pymnt_amnt next_pymnt_d  \\\n",
       "0                    0.00       Jan-15           171.62          NaN   \n",
       "1                    1.11       Apr-13           119.66          NaN   \n",
       "2                    0.00       Jun-14           649.91          NaN   \n",
       "3                    0.00       Jan-15           357.48          NaN   \n",
       "4                    0.00       May-16            67.79       Jun-16   \n",
       "\n",
       "  last_credit_pull_d acc_now_delinq delinq_amnt pub_rec_bankruptcies defaulted  \n",
       "0             May-16              0           0                  0.0         0  \n",
       "1             Sep-13              0           0                  0.0         1  \n",
       "2             May-16              0           0                  0.0         0  \n",
       "3             Apr-16              0           0                  0.0         0  \n",
       "4             May-16              0           0                  0.0         0  \n",
       "\n",
       "[5 rows x 52 columns]"
      ]
     },
     "execution_count": 29,
     "metadata": {},
     "output_type": "execute_result"
    }
   ],
   "source": [
    "loan_data['defaulted'] = loan_data['loan_status'].apply(lambda x: 1 if x == 'Charged Off' else 0)\n",
    "loan_data.head()"
   ]
  },
  {
   "cell_type": "markdown",
   "metadata": {},
   "source": [
    "**Check if there are any columns with most of them null values which can be deleted**"
   ]
  },
  {
   "cell_type": "code",
   "execution_count": 30,
   "metadata": {},
   "outputs": [
    {
     "data": {
      "text/html": [
       "<div>\n",
       "<style scoped>\n",
       "    .dataframe tbody tr th:only-of-type {\n",
       "        vertical-align: middle;\n",
       "    }\n",
       "\n",
       "    .dataframe tbody tr th {\n",
       "        vertical-align: top;\n",
       "    }\n",
       "\n",
       "    .dataframe thead th {\n",
       "        text-align: right;\n",
       "    }\n",
       "</style>\n",
       "<table border=\"1\" class=\"dataframe\">\n",
       "  <thead>\n",
       "    <tr style=\"text-align: right;\">\n",
       "      <th></th>\n",
       "      <th>Total</th>\n",
       "      <th>Percent</th>\n",
       "    </tr>\n",
       "  </thead>\n",
       "  <tbody>\n",
       "    <tr>\n",
       "      <th>next_pymnt_d</th>\n",
       "      <td>38577</td>\n",
       "      <td>0.971297</td>\n",
       "    </tr>\n",
       "    <tr>\n",
       "      <th>mths_since_last_record</th>\n",
       "      <td>36931</td>\n",
       "      <td>0.929854</td>\n",
       "    </tr>\n",
       "    <tr>\n",
       "      <th>mths_since_last_delinq</th>\n",
       "      <td>25682</td>\n",
       "      <td>0.646625</td>\n",
       "    </tr>\n",
       "    <tr>\n",
       "      <th>desc</th>\n",
       "      <td>12940</td>\n",
       "      <td>0.325805</td>\n",
       "    </tr>\n",
       "    <tr>\n",
       "      <th>emp_title</th>\n",
       "      <td>2459</td>\n",
       "      <td>0.061913</td>\n",
       "    </tr>\n",
       "    <tr>\n",
       "      <th>emp_length</th>\n",
       "      <td>1075</td>\n",
       "      <td>0.027066</td>\n",
       "    </tr>\n",
       "    <tr>\n",
       "      <th>pub_rec_bankruptcies</th>\n",
       "      <td>697</td>\n",
       "      <td>0.017549</td>\n",
       "    </tr>\n",
       "    <tr>\n",
       "      <th>last_pymnt_d</th>\n",
       "      <td>71</td>\n",
       "      <td>0.001788</td>\n",
       "    </tr>\n",
       "    <tr>\n",
       "      <th>revol_util</th>\n",
       "      <td>50</td>\n",
       "      <td>0.001259</td>\n",
       "    </tr>\n",
       "    <tr>\n",
       "      <th>title</th>\n",
       "      <td>11</td>\n",
       "      <td>0.000277</td>\n",
       "    </tr>\n",
       "    <tr>\n",
       "      <th>last_credit_pull_d</th>\n",
       "      <td>2</td>\n",
       "      <td>0.000050</td>\n",
       "    </tr>\n",
       "    <tr>\n",
       "      <th>annual_inc</th>\n",
       "      <td>0</td>\n",
       "      <td>0.000000</td>\n",
       "    </tr>\n",
       "    <tr>\n",
       "      <th>url</th>\n",
       "      <td>0</td>\n",
       "      <td>0.000000</td>\n",
       "    </tr>\n",
       "    <tr>\n",
       "      <th>loan_status</th>\n",
       "      <td>0</td>\n",
       "      <td>0.000000</td>\n",
       "    </tr>\n",
       "    <tr>\n",
       "      <th>issue_d</th>\n",
       "      <td>0</td>\n",
       "      <td>0.000000</td>\n",
       "    </tr>\n",
       "    <tr>\n",
       "      <th>verification_status</th>\n",
       "      <td>0</td>\n",
       "      <td>0.000000</td>\n",
       "    </tr>\n",
       "    <tr>\n",
       "      <th>pymnt_plan</th>\n",
       "      <td>0</td>\n",
       "      <td>0.000000</td>\n",
       "    </tr>\n",
       "    <tr>\n",
       "      <th>defaulted</th>\n",
       "      <td>0</td>\n",
       "      <td>0.000000</td>\n",
       "    </tr>\n",
       "    <tr>\n",
       "      <th>home_ownership</th>\n",
       "      <td>0</td>\n",
       "      <td>0.000000</td>\n",
       "    </tr>\n",
       "    <tr>\n",
       "      <th>sub_grade</th>\n",
       "      <td>0</td>\n",
       "      <td>0.000000</td>\n",
       "    </tr>\n",
       "  </tbody>\n",
       "</table>\n",
       "</div>"
      ],
      "text/plain": [
       "                        Total   Percent\n",
       "next_pymnt_d            38577  0.971297\n",
       "mths_since_last_record  36931  0.929854\n",
       "mths_since_last_delinq  25682  0.646625\n",
       "desc                    12940  0.325805\n",
       "emp_title                2459  0.061913\n",
       "emp_length               1075  0.027066\n",
       "pub_rec_bankruptcies      697  0.017549\n",
       "last_pymnt_d               71  0.001788\n",
       "revol_util                 50  0.001259\n",
       "title                      11  0.000277\n",
       "last_credit_pull_d          2  0.000050\n",
       "annual_inc                  0  0.000000\n",
       "url                         0  0.000000\n",
       "loan_status                 0  0.000000\n",
       "issue_d                     0  0.000000\n",
       "verification_status         0  0.000000\n",
       "pymnt_plan                  0  0.000000\n",
       "defaulted                   0  0.000000\n",
       "home_ownership              0  0.000000\n",
       "sub_grade                   0  0.000000"
      ]
     },
     "execution_count": 30,
     "metadata": {},
     "output_type": "execute_result"
    }
   ],
   "source": [
    "total = loan_data.isnull().sum().sort_values(ascending=False)\n",
    "percent = (loan_data.isnull().sum()/loan_data.isnull().count()).sort_values(ascending=False)\n",
    "missing_data = pd.concat([total, percent], axis=1, keys=['Total', 'Percent'])\n",
    "missing_data.head(20)"
   ]
  },
  {
   "cell_type": "code",
   "execution_count": 31,
   "metadata": {},
   "outputs": [
    {
     "data": {
      "text/plain": [
       "(39717, 49)"
      ]
     },
     "execution_count": 31,
     "metadata": {},
     "output_type": "execute_result"
    }
   ],
   "source": [
    "# There are 3 columns with most of them are null values which shown above can be removed.\n",
    "loan_data.drop(columns=['next_pymnt_d', 'mths_since_last_record', 'mths_since_last_delinq'], inplace=True)\n",
    "loan_data.shape"
   ]
  },
  {
   "cell_type": "markdown",
   "metadata": {},
   "source": [
    "**Print meta about each columns which can be removed if there are any outliers**"
   ]
  },
  {
   "cell_type": "code",
   "execution_count": 33,
   "metadata": {},
   "outputs": [
    {
     "name": "stdout",
     "output_type": "stream",
     "text": [
      "id\n",
      "-----------\n",
      "count    3.971700e+04\n",
      "mean     6.831319e+05\n",
      "std      2.106941e+05\n",
      "min      5.473400e+04\n",
      "25%      5.162210e+05\n",
      "50%      6.656650e+05\n",
      "75%      8.377550e+05\n",
      "max      1.077501e+06\n",
      "Name: id, dtype: float64\n",
      "-----------\n",
      "member_id\n",
      "-----------\n",
      "count    3.971700e+04\n",
      "mean     8.504636e+05\n",
      "std      2.656783e+05\n",
      "min      7.069900e+04\n",
      "25%      6.667800e+05\n",
      "50%      8.508120e+05\n",
      "75%      1.047339e+06\n",
      "max      1.314167e+06\n",
      "Name: member_id, dtype: float64\n",
      "-----------\n",
      "loan_amnt\n",
      "-----------\n",
      "count    39717.000000\n",
      "mean     11219.443815\n",
      "std       7456.670694\n",
      "min        500.000000\n",
      "25%       5500.000000\n",
      "50%      10000.000000\n",
      "75%      15000.000000\n",
      "max      35000.000000\n",
      "Name: loan_amnt, dtype: float64\n",
      "-----------\n",
      "funded_amnt\n",
      "-----------\n",
      "count    39717.000000\n",
      "mean     10947.713196\n",
      "std       7187.238670\n",
      "min        500.000000\n",
      "25%       5400.000000\n",
      "50%       9600.000000\n",
      "75%      15000.000000\n",
      "max      35000.000000\n",
      "Name: funded_amnt, dtype: float64\n",
      "-----------\n",
      "funded_amnt_inv\n",
      "-----------\n",
      "count    39717.000000\n",
      "mean     10397.448868\n",
      "std       7128.450439\n",
      "min          0.000000\n",
      "25%       5000.000000\n",
      "50%       8975.000000\n",
      "75%      14400.000000\n",
      "max      35000.000000\n",
      "Name: funded_amnt_inv, dtype: float64\n",
      "-----------\n",
      "term\n",
      "-----------\n",
      "count          39717\n",
      "unique             2\n",
      "top        36 months\n",
      "freq           29096\n",
      "Name: term, dtype: object\n",
      "-----------\n",
      "int_rate\n",
      "-----------\n",
      "count      39717\n",
      "unique       371\n",
      "top       10.99%\n",
      "freq         956\n",
      "Name: int_rate, dtype: object\n",
      "-----------\n",
      "installment\n",
      "-----------\n",
      "count    39717.000000\n",
      "mean       324.561922\n",
      "std        208.874874\n",
      "min         15.690000\n",
      "25%        167.020000\n",
      "50%        280.220000\n",
      "75%        430.780000\n",
      "max       1305.190000\n",
      "Name: installment, dtype: float64\n",
      "-----------\n",
      "grade\n",
      "-----------\n",
      "count     39717\n",
      "unique        7\n",
      "top           B\n",
      "freq      12020\n",
      "Name: grade, dtype: object\n",
      "-----------\n",
      "sub_grade\n",
      "-----------\n",
      "count     39717\n",
      "unique       35\n",
      "top          B3\n",
      "freq       2917\n",
      "Name: sub_grade, dtype: object\n",
      "-----------\n",
      "emp_title\n",
      "-----------\n",
      "count       37258\n",
      "unique      28820\n",
      "top       US Army\n",
      "freq          134\n",
      "Name: emp_title, dtype: object\n",
      "-----------\n",
      "emp_length\n",
      "-----------\n",
      "count         38642\n",
      "unique           11\n",
      "top       10+ years\n",
      "freq           8879\n",
      "Name: emp_length, dtype: object\n",
      "-----------\n",
      "home_ownership\n",
      "-----------\n",
      "count     39717\n",
      "unique        5\n",
      "top        RENT\n",
      "freq      18899\n",
      "Name: home_ownership, dtype: object\n",
      "-----------\n",
      "annual_inc\n",
      "-----------\n",
      "count    3.971700e+04\n",
      "mean     6.896893e+04\n",
      "std      6.379377e+04\n",
      "min      4.000000e+03\n",
      "25%      4.040400e+04\n",
      "50%      5.900000e+04\n",
      "75%      8.230000e+04\n",
      "max      6.000000e+06\n",
      "Name: annual_inc, dtype: float64\n",
      "-----------\n",
      "verification_status\n",
      "-----------\n",
      "count            39717\n",
      "unique               3\n",
      "top       Not Verified\n",
      "freq             16921\n",
      "Name: verification_status, dtype: object\n",
      "-----------\n",
      "issue_d\n",
      "-----------\n",
      "count      39717\n",
      "unique        55\n",
      "top       Dec-11\n",
      "freq        2260\n",
      "Name: issue_d, dtype: object\n",
      "-----------\n",
      "loan_status\n",
      "-----------\n",
      "count          39717\n",
      "unique             3\n",
      "top       Fully Paid\n",
      "freq           32950\n",
      "Name: loan_status, dtype: object\n",
      "-----------\n",
      "pymnt_plan\n",
      "-----------\n",
      "count     39717\n",
      "unique        1\n",
      "top           n\n",
      "freq      39717\n",
      "Name: pymnt_plan, dtype: object\n",
      "-----------\n",
      "url\n",
      "-----------\n",
      "count                                                 39717\n",
      "unique                                                39717\n",
      "top       https://lendingclub.com/browse/loanDetail.acti...\n",
      "freq                                                      1\n",
      "Name: url, dtype: object\n",
      "-----------\n",
      "desc\n",
      "-----------\n",
      "count     26777\n",
      "unique    26527\n",
      "top            \n",
      "freq        210\n",
      "Name: desc, dtype: object\n",
      "-----------\n",
      "purpose\n",
      "-----------\n",
      "count                  39717\n",
      "unique                    14\n",
      "top       debt_consolidation\n",
      "freq                   18641\n",
      "Name: purpose, dtype: object\n",
      "-----------\n",
      "title\n",
      "-----------\n",
      "count                  39706\n",
      "unique                 19615\n",
      "top       Debt Consolidation\n",
      "freq                    2184\n",
      "Name: title, dtype: object\n",
      "-----------\n",
      "zip_code\n",
      "-----------\n",
      "count     39717\n",
      "unique      823\n",
      "top       100xx\n",
      "freq        597\n",
      "Name: zip_code, dtype: object\n",
      "-----------\n",
      "addr_state\n",
      "-----------\n",
      "count     39717\n",
      "unique       50\n",
      "top          CA\n",
      "freq       7099\n",
      "Name: addr_state, dtype: object\n",
      "-----------\n",
      "dti\n",
      "-----------\n",
      "count    39717.000000\n",
      "mean        13.315130\n",
      "std          6.678594\n",
      "min          0.000000\n",
      "25%          8.170000\n",
      "50%         13.400000\n",
      "75%         18.600000\n",
      "max         29.990000\n",
      "Name: dti, dtype: float64\n",
      "-----------\n",
      "delinq_2yrs\n",
      "-----------\n",
      "count    39717.000000\n",
      "mean         0.146512\n",
      "std          0.491812\n",
      "min          0.000000\n",
      "25%          0.000000\n",
      "50%          0.000000\n",
      "75%          0.000000\n",
      "max         11.000000\n",
      "Name: delinq_2yrs, dtype: float64\n",
      "-----------\n",
      "earliest_cr_line\n",
      "-----------\n",
      "count      39717\n",
      "unique       526\n",
      "top       Nov-98\n",
      "freq         370\n",
      "Name: earliest_cr_line, dtype: object\n",
      "-----------\n",
      "inq_last_6mths\n",
      "-----------\n",
      "count    39717.000000\n",
      "mean         0.869200\n",
      "std          1.070219\n",
      "min          0.000000\n",
      "25%          0.000000\n",
      "50%          1.000000\n",
      "75%          1.000000\n",
      "max          8.000000\n",
      "Name: inq_last_6mths, dtype: float64\n",
      "-----------\n",
      "open_acc\n",
      "-----------\n",
      "count    39717.000000\n",
      "mean         9.294408\n",
      "std          4.400282\n",
      "min          2.000000\n",
      "25%          6.000000\n",
      "50%          9.000000\n",
      "75%         12.000000\n",
      "max         44.000000\n",
      "Name: open_acc, dtype: float64\n",
      "-----------\n",
      "pub_rec\n",
      "-----------\n",
      "count    39717.000000\n",
      "mean         0.055065\n",
      "std          0.237200\n",
      "min          0.000000\n",
      "25%          0.000000\n",
      "50%          0.000000\n",
      "75%          0.000000\n",
      "max          4.000000\n",
      "Name: pub_rec, dtype: float64\n",
      "-----------\n",
      "revol_bal\n",
      "-----------\n",
      "count     39717.000000\n",
      "mean      13382.528086\n",
      "std       15885.016641\n",
      "min           0.000000\n",
      "25%        3703.000000\n",
      "50%        8850.000000\n",
      "75%       17058.000000\n",
      "max      149588.000000\n",
      "Name: revol_bal, dtype: float64\n",
      "-----------\n",
      "revol_util\n",
      "-----------\n",
      "count     39667\n",
      "unique     1089\n",
      "top          0%\n",
      "freq        977\n",
      "Name: revol_util, dtype: object\n",
      "-----------\n",
      "total_acc\n",
      "-----------\n",
      "count    39717.000000\n",
      "mean        22.088828\n",
      "std         11.401709\n",
      "min          2.000000\n",
      "25%         13.000000\n",
      "50%         20.000000\n",
      "75%         29.000000\n",
      "max         90.000000\n",
      "Name: total_acc, dtype: float64\n",
      "-----------\n",
      "out_prncp\n",
      "-----------\n",
      "count    39717.000000\n",
      "mean        51.227887\n",
      "std        375.172839\n",
      "min          0.000000\n",
      "25%          0.000000\n",
      "50%          0.000000\n",
      "75%          0.000000\n",
      "max       6311.470000\n",
      "Name: out_prncp, dtype: float64\n",
      "-----------\n",
      "out_prncp_inv\n",
      "-----------\n",
      "count    39717.000000\n",
      "mean        50.989768\n",
      "std        373.824457\n",
      "min          0.000000\n",
      "25%          0.000000\n",
      "50%          0.000000\n",
      "75%          0.000000\n",
      "max       6307.370000\n",
      "Name: out_prncp_inv, dtype: float64\n",
      "-----------\n",
      "total_pymnt\n",
      "-----------\n",
      "count    39717.000000\n",
      "mean     12153.596544\n",
      "std       9042.040766\n",
      "min          0.000000\n",
      "25%       5576.930000\n",
      "50%       9899.640319\n",
      "75%      16534.433040\n",
      "max      58563.679930\n",
      "Name: total_pymnt, dtype: float64\n",
      "-----------\n",
      "total_pymnt_inv\n",
      "-----------\n",
      "count    39717.000000\n",
      "mean     11567.149118\n",
      "std       8942.672613\n",
      "min          0.000000\n",
      "25%       5112.310000\n",
      "50%       9287.150000\n",
      "75%      15798.810000\n",
      "max      58563.680000\n",
      "Name: total_pymnt_inv, dtype: float64\n",
      "-----------\n",
      "total_rec_prncp\n",
      "-----------\n",
      "count    39717.000000\n",
      "mean      9793.348813\n",
      "std       7065.522127\n",
      "min          0.000000\n",
      "25%       4600.000000\n",
      "50%       8000.000000\n",
      "75%      13653.260000\n",
      "max      35000.020000\n",
      "Name: total_rec_prncp, dtype: float64\n",
      "-----------\n",
      "total_rec_int\n",
      "-----------\n",
      "count    39717.000000\n",
      "mean      2263.663172\n",
      "std       2608.111964\n",
      "min          0.000000\n",
      "25%        662.180000\n",
      "50%       1348.910000\n",
      "75%       2833.400000\n",
      "max      23563.680000\n",
      "Name: total_rec_int, dtype: float64\n",
      "-----------\n",
      "total_rec_late_fee\n",
      "-----------\n",
      "count    39717.000000\n",
      "mean         1.363015\n",
      "std          7.289979\n",
      "min          0.000000\n",
      "25%          0.000000\n",
      "50%          0.000000\n",
      "75%          0.000000\n",
      "max        180.200000\n",
      "Name: total_rec_late_fee, dtype: float64\n",
      "-----------\n",
      "recoveries\n",
      "-----------\n",
      "count    39717.000000\n",
      "mean        95.221624\n",
      "std        688.744771\n",
      "min          0.000000\n",
      "25%          0.000000\n",
      "50%          0.000000\n",
      "75%          0.000000\n",
      "max      29623.350000\n",
      "Name: recoveries, dtype: float64\n",
      "-----------\n",
      "collection_recovery_fee\n",
      "-----------\n",
      "count    39717.000000\n",
      "mean        12.406112\n",
      "std        148.671593\n",
      "min          0.000000\n",
      "25%          0.000000\n",
      "50%          0.000000\n",
      "75%          0.000000\n",
      "max       7002.190000\n",
      "Name: collection_recovery_fee, dtype: float64\n",
      "-----------\n",
      "last_pymnt_d\n",
      "-----------\n",
      "count      39646\n",
      "unique       101\n",
      "top       May-16\n",
      "freq        1256\n",
      "Name: last_pymnt_d, dtype: object\n",
      "-----------\n",
      "last_pymnt_amnt\n",
      "-----------\n",
      "count    39717.000000\n",
      "mean      2678.826162\n",
      "std       4447.136012\n",
      "min          0.000000\n",
      "25%        218.680000\n",
      "50%        546.140000\n",
      "75%       3293.160000\n",
      "max      36115.200000\n",
      "Name: last_pymnt_amnt, dtype: float64\n",
      "-----------\n",
      "last_credit_pull_d\n",
      "-----------\n"
     ]
    },
    {
     "name": "stdout",
     "output_type": "stream",
     "text": [
      "count      39715\n",
      "unique       106\n",
      "top       May-16\n",
      "freq       10308\n",
      "Name: last_credit_pull_d, dtype: object\n",
      "-----------\n",
      "acc_now_delinq\n",
      "-----------\n",
      "count    39717.0\n",
      "mean         0.0\n",
      "std          0.0\n",
      "min          0.0\n",
      "25%          0.0\n",
      "50%          0.0\n",
      "75%          0.0\n",
      "max          0.0\n",
      "Name: acc_now_delinq, dtype: float64\n",
      "-----------\n",
      "delinq_amnt\n",
      "-----------\n",
      "count    39717.0\n",
      "mean         0.0\n",
      "std          0.0\n",
      "min          0.0\n",
      "25%          0.0\n",
      "50%          0.0\n",
      "75%          0.0\n",
      "max          0.0\n",
      "Name: delinq_amnt, dtype: float64\n",
      "-----------\n",
      "pub_rec_bankruptcies\n",
      "-----------\n",
      "count    39020.000000\n",
      "mean         0.043260\n",
      "std          0.204324\n",
      "min          0.000000\n",
      "25%          0.000000\n",
      "50%          0.000000\n",
      "75%          0.000000\n",
      "max          2.000000\n",
      "Name: pub_rec_bankruptcies, dtype: float64\n",
      "-----------\n",
      "defaulted\n",
      "-----------\n",
      "count    39717.000000\n",
      "mean         0.141677\n",
      "std          0.348723\n",
      "min          0.000000\n",
      "25%          0.000000\n",
      "50%          0.000000\n",
      "75%          0.000000\n",
      "max          1.000000\n",
      "Name: defaulted, dtype: float64\n",
      "-----------\n"
     ]
    }
   ],
   "source": [
    "\n",
    "for k in loan_data:\n",
    "    print(k)\n",
    "    print('-----------')\n",
    "    print(loan_data[k].describe())\n",
    "    print('-----------')"
   ]
  },
  {
   "cell_type": "code",
   "execution_count": 34,
   "metadata": {},
   "outputs": [
    {
     "name": "stdout",
     "output_type": "stream",
     "text": [
      "[0]\n"
     ]
    },
    {
     "data": {
      "text/plain": [
       "(39717, 47)"
      ]
     },
     "execution_count": 34,
     "metadata": {},
     "output_type": "execute_result"
    }
   ],
   "source": [
    "# ====> From the above analysis we can get that there are columns with simply \"0\" as the value and can't have any effect\n",
    "# ====> Can be removed from the dataset\n",
    "print(loan_data['delinq_amnt'].unique())\n",
    "loan_data.drop(columns=['acc_now_delinq'], inplace=True)\n",
    "loan_data.drop(columns=['delinq_amnt'], inplace=True)\n",
    "loan_data.shape"
   ]
  },
  {
   "cell_type": "code",
   "execution_count": 35,
   "metadata": {},
   "outputs": [
    {
     "data": {
      "text/plain": [
       "Index(['id', 'member_id', 'loan_amnt', 'funded_amnt', 'funded_amnt_inv',\n",
       "       'term', 'int_rate', 'installment', 'grade', 'sub_grade', 'emp_title',\n",
       "       'emp_length', 'home_ownership', 'annual_inc', 'verification_status',\n",
       "       'issue_d', 'loan_status', 'pymnt_plan', 'url', 'desc', 'purpose',\n",
       "       'title', 'zip_code', 'addr_state', 'dti', 'delinq_2yrs',\n",
       "       'earliest_cr_line', 'inq_last_6mths', 'open_acc', 'pub_rec',\n",
       "       'revol_bal', 'revol_util', 'total_acc', 'out_prncp', 'out_prncp_inv',\n",
       "       'total_pymnt', 'total_pymnt_inv', 'total_rec_prncp', 'total_rec_int',\n",
       "       'total_rec_late_fee', 'recoveries', 'collection_recovery_fee',\n",
       "       'last_pymnt_d', 'last_pymnt_amnt', 'last_credit_pull_d',\n",
       "       'pub_rec_bankruptcies', 'defaulted'],\n",
       "      dtype='object')"
      ]
     },
     "execution_count": 35,
     "metadata": {},
     "output_type": "execute_result"
    }
   ],
   "source": [
    "# ====> Remove columns\n",
    "loan_data.columns"
   ]
  },
  {
   "cell_type": "markdown",
   "metadata": {},
   "source": [
    "  "
   ]
  },
  {
   "cell_type": "markdown",
   "metadata": {},
   "source": [
    "   "
   ]
  },
  {
   "cell_type": "markdown",
   "metadata": {},
   "source": [
    "### Data analysis"
   ]
  },
  {
   "cell_type": "code",
   "execution_count": 36,
   "metadata": {},
   "outputs": [
    {
     "data": {
      "text/plain": [
       "<matplotlib.axes._subplots.AxesSubplot at 0x1a22cf79b0>"
      ]
     },
     "execution_count": 36,
     "metadata": {},
     "output_type": "execute_result"
    },
    {
     "data": {
      "image/png": "[encoded data removed]",
      "text/plain": [
       "<Figure size 432x288 with 1 Axes>"
      ]
     },
     "metadata": {
      "needs_background": "light"
     },
     "output_type": "display_data"
    }
   ],
   "source": [
    "# ===> Defaulted vs FullyPaid/Currently paying customers \n",
    "loan_data.groupby('defaulted')['defaulted'].count().plot.bar()"
   ]
  },
  {
   "cell_type": "code",
   "execution_count": 37,
   "metadata": {},
   "outputs": [
    {
     "data": {
      "text/plain": [
       "count    39717.000000\n",
       "mean         0.141677\n",
       "std          0.348723\n",
       "min          0.000000\n",
       "25%          0.000000\n",
       "50%          0.000000\n",
       "75%          0.000000\n",
       "max          1.000000\n",
       "Name: defaulted, dtype: float64"
      ]
     },
     "execution_count": 37,
     "metadata": {},
     "output_type": "execute_result"
    }
   ],
   "source": [
    "loan_data['defaulted'].describe()"
   ]
  },
  {
   "cell_type": "markdown",
   "metadata": {},
   "source": [
    "#### Defaulted vs Grades bivariant for analysis:"
   ]
  },
  {
   "cell_type": "code",
   "execution_count": 49,
   "metadata": {},
   "outputs": [
    {
     "name": "stderr",
     "output_type": "stream",
     "text": [
      "/anaconda3/lib/python3.7/site-packages/scipy/stats/stats.py:1713: FutureWarning: Using a non-tuple sequence for multidimensional indexing is deprecated; use `arr[tuple(seq)]` instead of `arr[seq]`. In the future this will be interpreted as an array index, `arr[np.array(seq)]`, which will result either in an error or a different result.\n",
      "  return np.add.reduce(sorted[indexer] * weights, axis=axis) / sumval\n"
     ]
    },
    {
     "data": {
      "image/png": "[encoded data removed]",
      "text/plain": [
       "<Figure size 864x576 with 1 Axes>"
      ]
     },
     "metadata": {
      "needs_background": "light"
     },
     "output_type": "display_data"
    }
   ],
   "source": [
    "plt.figure(figsize=(12, 8))\n",
    "order_grades = loan_data.groupby([\"grade\"])['defaulted'].aggregate(np.mean).reset_index().sort_values('defaulted')\n",
    "sns.barplot(data=loan_data, y='defaulted', x='grade', order=order_grades['grade'])\n",
    "plt.show()\n"
   ]
  },
  {
   "cell_type": "markdown",
   "metadata": {},
   "source": [
    "\n",
    "* **Percentage of Defaulters are drwan above per grade**\n",
    "* **High percentage of defaulters are in G with the order following from low as A, B, C, D, E, F, G with G being the highest**\n"
   ]
  },
  {
   "cell_type": "markdown",
   "metadata": {},
   "source": [
    "#### Defaulted vs Sub grades bivariant for analysis:"
   ]
  },
  {
   "cell_type": "code",
   "execution_count": 46,
   "metadata": {},
   "outputs": [
    {
     "data": {
      "image/png": "[encoded data removed]",
      "text/plain": [
       "<Figure size 864x576 with 1 Axes>"
      ]
     },
     "metadata": {
      "needs_background": "light"
     },
     "output_type": "display_data"
    }
   ],
   "source": [
    "plt.figure(figsize=(12, 8))\n",
    "order_sub_grades = loan_data.groupby([\"sub_grade\"])['defaulted'].aggregate(np.mean).reset_index().sort_values('defaulted')\n",
    "sns.barplot(data=loan_data, y='defaulted', x='sub_grade', order=order_sub_grades['sub_grade'])\n",
    "plt.show()"
   ]
  },
  {
   "cell_type": "markdown",
   "metadata": {},
   "source": [
    "\n",
    "* **Percentage of Defaulters are drwan above per grade**\n",
    "* **High percentage of defaulters are in F & G subgroups**\n"
   ]
  },
  {
   "cell_type": "markdown",
   "metadata": {},
   "source": [
    "#### Defaulted vs Purpose of loan"
   ]
  },
  {
   "cell_type": "code",
   "execution_count": 57,
   "metadata": {},
   "outputs": [
    {
     "data": {
      "image/png": "[encoded data removed]",
      "text/plain": [
       "<Figure size 1800x576 with 1 Axes>"
      ]
     },
     "metadata": {
      "needs_background": "light"
     },
     "output_type": "display_data"
    },
    {
     "data": {
      "image/png": "[encoded data removed]",
      "text/plain": [
       "<Figure size 1800x576 with 1 Axes>"
      ]
     },
     "metadata": {
      "needs_background": "light"
     },
     "output_type": "display_data"
    }
   ],
   "source": [
    "plt.figure(figsize=(25, 8))\n",
    "order_business = loan_data.groupby('purpose').defaulted.aggregate(np.mean).reset_index().sort_values('defaulted')\n",
    "sns.barplot(data=loan_data, y='defaulted', x='purpose', order=order_business['purpose'])\n",
    "plt.show()\n",
    "\n",
    "plt.figure(figsize=(25, 8))\n",
    "sns.countplot(data=loan_data, x='purpose', order=order_business['purpose'])\n",
    "plt.show()"
   ]
  },
  {
   "cell_type": "markdown",
   "metadata": {},
   "source": [
    "* If you see the trend of the defaulters there are more people from educational, renewable energy & small business people present\n",
    "* And with the reason as Other there is a huge no.of people and there is a high chanse of rejecting the loan if it's from the other purpose"
   ]
  },
  {
   "cell_type": "markdown",
   "metadata": {},
   "source": [
    "#### Add year for the issue date to see if there are any relation with the year. "
   ]
  },
  {
   "cell_type": "code",
   "execution_count": 58,
   "metadata": {},
   "outputs": [],
   "source": [
    "loan_data.issue_d = pd.to_datetime(loan_data['issue_d'], format='%b-%y')\n",
    "loan_data.loc[:, 'issue_year'] = loan_data.issue_d.dt.year"
   ]
  },
  {
   "cell_type": "code",
   "execution_count": 59,
   "metadata": {},
   "outputs": [
    {
     "data": {
      "image/png": "[encoded data removed]",
      "text/plain": [
       "<Figure size 720x720 with 1 Axes>"
      ]
     },
     "metadata": {
      "needs_background": "light"
     },
     "output_type": "display_data"
    }
   ],
   "source": [
    "plt.figure(figsize=(10, 10))\n",
    "sns.barplot(data=loan_data, y='defaulted', x='issue_year')\n",
    "plt.show()"
   ]
  },
  {
   "cell_type": "markdown",
   "metadata": {},
   "source": [
    "#### Extract proper percentage of interest from the string and remove %"
   ]
  },
  {
   "cell_type": "code",
   "execution_count": 60,
   "metadata": {},
   "outputs": [
    {
     "data": {
      "text/plain": [
       "0    10.65\n",
       "1    15.27\n",
       "2    15.96\n",
       "3    13.49\n",
       "4    12.69\n",
       "Name: int_rate, dtype: object"
      ]
     },
     "execution_count": 60,
     "metadata": {},
     "output_type": "execute_result"
    }
   ],
   "source": [
    "loan_data.int_rate.replace('%', '', inplace=True, regex=True)\n",
    "loan_data.int_rate.astype('float64')\n",
    "loan_data.int_rate.head()"
   ]
  },
  {
   "cell_type": "code",
   "execution_count": null,
   "metadata": {},
   "outputs": [],
   "source": []
  }
 ],
 "metadata": {
  "kernelspec": {
   "display_name": "Python 3",
   "language": "python",
   "name": "python3"
  },
  "language_info": {
   "codemirror_mode": {
    "name": "ipython",
    "version": 3
   },
   "file_extension": ".py",
   "mimetype": "text/x-python",
   "name": "python",
   "nbconvert_exporter": "python",
   "pygments_lexer": "ipython3",
   "version": "3.7.1"
  }
 },
 "nbformat": 4,
 "nbformat_minor": 2
}
